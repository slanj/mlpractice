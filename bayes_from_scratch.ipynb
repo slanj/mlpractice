{
 "cells": [
  {
   "cell_type": "markdown",
   "metadata": {
    "colab_type": "text",
    "id": "4iFnm8Q4eiTi"
   },
   "source": [
    "# Regression and Bayes from scratch"
   ]
  },
  {
   "cell_type": "markdown",
   "metadata": {
    "colab_type": "text",
    "id": "D6bDeqbsemZb"
   },
   "source": [
    "## Task 1\n",
    "Take one of the datasets [here](https://archive.ics.uci.edu/ml/datasets.html?format=&task=reg&att=&area=&numAtt=&numIns=&type=&sort=nameUp&view=table)\n",
    "\n",
    "* Build regression model on it.\n",
    "* Evaluate quality\n",
    "* Provide solution as a Jupyter Notebook"
   ]
  },
  {
   "cell_type": "markdown",
   "metadata": {
    "colab_type": "text",
    "id": "VQhCiuOkevYM"
   },
   "source": [
    "### Prepare data"
   ]
  },
  {
   "cell_type": "code",
   "execution_count": 0,
   "metadata": {
    "colab": {
     "base_uri": "https://localhost:8080/",
     "height": 128
    },
    "colab_type": "code",
    "collapsed": false,
    "id": "Ls5X5wYpZ0cf",
    "outputId": "be36ae9c-2fcc-4078-feb8-f87987e56fb0"
   },
   "outputs": [
    {
     "name": "stdout",
     "output_type": "stream",
     "text": [
      "Go to this URL in a browser: https://accounts.google.com/o/oauth2/auth?client_id=947318989803-6bn6qk8qdgf4n4g3pfee6491hc0brc4i.apps.googleusercontent.com&redirect_uri=urn%3Aietf%3Awg%3Aoauth%3A2.0%3Aoob&scope=email%20https%3A%2F%2Fwww.googleapis.com%2Fauth%2Fdocs.test%20https%3A%2F%2Fwww.googleapis.com%2Fauth%2Fdrive%20https%3A%2F%2Fwww.googleapis.com%2Fauth%2Fdrive.photos.readonly%20https%3A%2F%2Fwww.googleapis.com%2Fauth%2Fpeopleapi.readonly&response_type=code\n",
      "\n",
      "Enter your authorization code:\n",
      "··········\n",
      "Mounted at /content/drive/\n"
     ]
    }
   ],
   "source": [
    "from google.colab import drive\n",
    "drive.mount('/content/drive/')"
   ]
  },
  {
   "cell_type": "code",
   "execution_count": 0,
   "metadata": {
    "colab": {},
    "colab_type": "code",
    "collapsed": true,
    "id": "YosM7uwzpPGL"
   },
   "outputs": [],
   "source": [
    "import os\n",
    "os.chdir(\"/content/drive/My Drive/AI/homework4\")"
   ]
  },
  {
   "cell_type": "code",
   "execution_count": 0,
   "metadata": {
    "colab": {},
    "colab_type": "code",
    "collapsed": true,
    "id": "cDcATPgNpRN2"
   },
   "outputs": [],
   "source": [
    "import pandas as pd\n",
    "import numpy as np\n",
    "from matplotlib import pyplot as plt\n",
    "from sklearn import preprocessing"
   ]
  },
  {
   "cell_type": "markdown",
   "metadata": {
    "colab_type": "text",
    "id": "MZJwEErdq6b6"
   },
   "source": [
    "**Dataset Description**\n",
    "\n",
    "Bike-sharing rental process is highly correlated to the environmental and seasonal settings. For instance, weather conditions,\n",
    "precipitation, day of week, season, hour of the day, etc. can affect the rental behaviors. The core data set is related to  \n",
    "the two-year historical log corresponding to years 2011 and 2012 from Capital Bikeshare system, Washington D.C., USA which is \n",
    "publicly available in http://capitalbikeshare.com/system-data. We aggregated the data on two hourly and daily basis and then \n",
    "extracted and added the corresponding weather and seasonal information. Weather information are extracted from http://www.freemeteo.com. \n",
    "\n",
    "**Dataset characteristics**\n",
    "\n",
    "Both hour.csv and day.csv have the following fields, except hr which is not available in day.csv\n",
    "\t\n",
    "\t- instant: record index\n",
    "\t- dteday : date\n",
    "\t- season : season (1:springer, 2:summer, 3:fall, 4:winter)\n",
    "\t- yr : year (0: 2011, 1:2012)\n",
    "\t- mnth : month ( 1 to 12)\n",
    "\t- hr : hour (0 to 23)\n",
    "\t- holiday : weather day is holiday or not (extracted from http://dchr.dc.gov/page/holiday-schedule)\n",
    "\t- weekday : day of the week\n",
    "\t- workingday : if day is neither weekend nor holiday is 1, otherwise is 0.\n",
    "\t+ weathersit : \n",
    "\t\t- 1: Clear, Few clouds, Partly cloudy, Partly cloudy\n",
    "\t\t- 2: Mist + Cloudy, Mist + Broken clouds, Mist + Few clouds, Mist\n",
    "\t\t- 3: Light Snow, Light Rain + Thunderstorm + Scattered clouds, Light Rain + Scattered clouds\n",
    "\t\t- 4: Heavy Rain + Ice Pallets + Thunderstorm + Mist, Snow + Fog\n",
    "\t- temp : Normalized temperature in Celsius. The values are divided to 41 (max)\n",
    "\t- atemp: Normalized feeling temperature in Celsius. The values are divided to 50 (max)\n",
    "\t- hum: Normalized humidity. The values are divided to 100 (max)\n",
    "\t- windspeed: Normalized wind speed. The values are divided to 67 (max)\n",
    "\t- casual: count of casual users\n",
    "\t- registered: count of registered users\n",
    "\t- cnt: count of total rental bikes including both casual and registered"
   ]
  },
  {
   "cell_type": "code",
   "execution_count": 0,
   "metadata": {
    "colab": {
     "base_uri": "https://localhost:8080/",
     "height": 35
    },
    "colab_type": "code",
    "collapsed": false,
    "id": "N7xrAxn0pV4m",
    "outputId": "77b92b8a-61e4-47ff-c974-94f085fdee8a"
   },
   "outputs": [
    {
     "name": "stdout",
     "output_type": "stream",
     "text": [
      "(731, 16)\n"
     ]
    }
   ],
   "source": [
    "bikes = pd.read_csv('bikes.csv')\n",
    "bikes.dropna(inplace=True)\n",
    "print(bikes.shape)"
   ]
  },
  {
   "cell_type": "code",
   "execution_count": 0,
   "metadata": {
    "colab": {
     "base_uri": "https://localhost:8080/",
     "height": 206
    },
    "colab_type": "code",
    "collapsed": false,
    "id": "2_NKySRnpgIq",
    "outputId": "7d4bd4f9-f6c6-45f2-e899-1ef8c2facef8"
   },
   "outputs": [
    {
     "data": {
      "text/html": [
       "<div>\n",
       "<style scoped>\n",
       "    .dataframe tbody tr th:only-of-type {\n",
       "        vertical-align: middle;\n",
       "    }\n",
       "\n",
       "    .dataframe tbody tr th {\n",
       "        vertical-align: top;\n",
       "    }\n",
       "\n",
       "    .dataframe thead th {\n",
       "        text-align: right;\n",
       "    }\n",
       "</style>\n",
       "<table border=\"1\" class=\"dataframe\">\n",
       "  <thead>\n",
       "    <tr style=\"text-align: right;\">\n",
       "      <th></th>\n",
       "      <th>instant</th>\n",
       "      <th>dteday</th>\n",
       "      <th>season</th>\n",
       "      <th>yr</th>\n",
       "      <th>mnth</th>\n",
       "      <th>holiday</th>\n",
       "      <th>weekday</th>\n",
       "      <th>workingday</th>\n",
       "      <th>weathersit</th>\n",
       "      <th>temp</th>\n",
       "      <th>atemp</th>\n",
       "      <th>hum</th>\n",
       "      <th>windspeed</th>\n",
       "      <th>casual</th>\n",
       "      <th>registered</th>\n",
       "      <th>cnt</th>\n",
       "    </tr>\n",
       "  </thead>\n",
       "  <tbody>\n",
       "    <tr>\n",
       "      <th>0</th>\n",
       "      <td>1</td>\n",
       "      <td>2011-01-01</td>\n",
       "      <td>1</td>\n",
       "      <td>0</td>\n",
       "      <td>1</td>\n",
       "      <td>0</td>\n",
       "      <td>6</td>\n",
       "      <td>0</td>\n",
       "      <td>2</td>\n",
       "      <td>0.344167</td>\n",
       "      <td>0.363625</td>\n",
       "      <td>0.805833</td>\n",
       "      <td>0.160446</td>\n",
       "      <td>331</td>\n",
       "      <td>654</td>\n",
       "      <td>985</td>\n",
       "    </tr>\n",
       "    <tr>\n",
       "      <th>1</th>\n",
       "      <td>2</td>\n",
       "      <td>2011-01-02</td>\n",
       "      <td>1</td>\n",
       "      <td>0</td>\n",
       "      <td>1</td>\n",
       "      <td>0</td>\n",
       "      <td>0</td>\n",
       "      <td>0</td>\n",
       "      <td>2</td>\n",
       "      <td>0.363478</td>\n",
       "      <td>0.353739</td>\n",
       "      <td>0.696087</td>\n",
       "      <td>0.248539</td>\n",
       "      <td>131</td>\n",
       "      <td>670</td>\n",
       "      <td>801</td>\n",
       "    </tr>\n",
       "    <tr>\n",
       "      <th>2</th>\n",
       "      <td>3</td>\n",
       "      <td>2011-01-03</td>\n",
       "      <td>1</td>\n",
       "      <td>0</td>\n",
       "      <td>1</td>\n",
       "      <td>0</td>\n",
       "      <td>1</td>\n",
       "      <td>1</td>\n",
       "      <td>1</td>\n",
       "      <td>0.196364</td>\n",
       "      <td>0.189405</td>\n",
       "      <td>0.437273</td>\n",
       "      <td>0.248309</td>\n",
       "      <td>120</td>\n",
       "      <td>1229</td>\n",
       "      <td>1349</td>\n",
       "    </tr>\n",
       "    <tr>\n",
       "      <th>3</th>\n",
       "      <td>4</td>\n",
       "      <td>2011-01-04</td>\n",
       "      <td>1</td>\n",
       "      <td>0</td>\n",
       "      <td>1</td>\n",
       "      <td>0</td>\n",
       "      <td>2</td>\n",
       "      <td>1</td>\n",
       "      <td>1</td>\n",
       "      <td>0.200000</td>\n",
       "      <td>0.212122</td>\n",
       "      <td>0.590435</td>\n",
       "      <td>0.160296</td>\n",
       "      <td>108</td>\n",
       "      <td>1454</td>\n",
       "      <td>1562</td>\n",
       "    </tr>\n",
       "    <tr>\n",
       "      <th>4</th>\n",
       "      <td>5</td>\n",
       "      <td>2011-01-05</td>\n",
       "      <td>1</td>\n",
       "      <td>0</td>\n",
       "      <td>1</td>\n",
       "      <td>0</td>\n",
       "      <td>3</td>\n",
       "      <td>1</td>\n",
       "      <td>1</td>\n",
       "      <td>0.226957</td>\n",
       "      <td>0.229270</td>\n",
       "      <td>0.436957</td>\n",
       "      <td>0.186900</td>\n",
       "      <td>82</td>\n",
       "      <td>1518</td>\n",
       "      <td>1600</td>\n",
       "    </tr>\n",
       "  </tbody>\n",
       "</table>\n",
       "</div>"
      ],
      "text/plain": [
       "   instant      dteday  season  yr  mnth  holiday  weekday  workingday  \\\n",
       "0        1  2011-01-01       1   0     1        0        6           0   \n",
       "1        2  2011-01-02       1   0     1        0        0           0   \n",
       "2        3  2011-01-03       1   0     1        0        1           1   \n",
       "3        4  2011-01-04       1   0     1        0        2           1   \n",
       "4        5  2011-01-05       1   0     1        0        3           1   \n",
       "\n",
       "   weathersit      temp     atemp       hum  windspeed  casual  registered  \\\n",
       "0           2  0.344167  0.363625  0.805833   0.160446     331         654   \n",
       "1           2  0.363478  0.353739  0.696087   0.248539     131         670   \n",
       "2           1  0.196364  0.189405  0.437273   0.248309     120        1229   \n",
       "3           1  0.200000  0.212122  0.590435   0.160296     108        1454   \n",
       "4           1  0.226957  0.229270  0.436957   0.186900      82        1518   \n",
       "\n",
       "    cnt  \n",
       "0   985  \n",
       "1   801  \n",
       "2  1349  \n",
       "3  1562  \n",
       "4  1600  "
      ]
     },
     "execution_count": 5,
     "metadata": {
      "tags": []
     },
     "output_type": "execute_result"
    }
   ],
   "source": [
    "bikes.head()"
   ]
  },
  {
   "cell_type": "code",
   "execution_count": 0,
   "metadata": {
    "colab": {
     "base_uri": "https://localhost:8080/",
     "height": 379
    },
    "colab_type": "code",
    "collapsed": false,
    "id": "qxZgD1MXph7j",
    "outputId": "fdabb24c-3904-4688-dfef-5371f7db9931"
   },
   "outputs": [
    {
     "data": {
      "text/plain": [
       "<matplotlib.axes._subplots.AxesSubplot at 0x7f21979fb390>"
      ]
     },
     "execution_count": 6,
     "metadata": {
      "tags": []
     },
     "output_type": "execute_result"
    },
    {
     "data": {
      "image/png": "[encoded data removed]",
      "text/plain": [
       "<matplotlib.figure.Figure at 0x7f21979fbe80>"
      ]
     },
     "metadata": {
      "tags": []
     },
     "output_type": "display_data"
    }
   ],
   "source": [
    "bikes.plot(x=\"temp\", y ='cnt', kind = \"scatter\")"
   ]
  },
  {
   "cell_type": "code",
   "execution_count": 0,
   "metadata": {
    "colab": {
     "base_uri": "https://localhost:8080/",
     "height": 347
    },
    "colab_type": "code",
    "collapsed": false,
    "id": "W4VqcUe1p0K5",
    "outputId": "3c48a89e-5f2d-48aa-dfa3-f30cb471522b"
   },
   "outputs": [
    {
     "data": {
      "image/png": "[encoded data removed]",
      "text/plain": [
       "<matplotlib.figure.Figure at 0x7f0210a76cf8>"
      ]
     },
     "metadata": {
      "tags": []
     },
     "output_type": "display_data"
    }
   ],
   "source": [
    "plt.hist(bikes['temp'], 50);"
   ]
  },
  {
   "cell_type": "markdown",
   "metadata": {
    "colab_type": "text",
    "id": "vXkIEPxDxuxT"
   },
   "source": [
    "### Finding best features"
   ]
  },
  {
   "cell_type": "code",
   "execution_count": 0,
   "metadata": {
    "colab": {
     "base_uri": "https://localhost:8080/",
     "height": 326
    },
    "colab_type": "code",
    "collapsed": false,
    "id": "aWmD6PaKxvcn",
    "outputId": "6afd4a5e-7e64-4da1-b040-95a89bc63263"
   },
   "outputs": [
    {
     "name": "stdout",
     "output_type": "stream",
     "text": [
      "Index(['season', 'yr', 'mnth', 'holiday', 'weekday', 'workingday',\n",
      "       'weathersit', 'temp', 'atemp', 'hum', 'windspeed', 'casual',\n",
      "       'registered'],\n",
      "      dtype='object')\n"
     ]
    },
    {
     "data": {
      "text/plain": [
       "[('registered', 0.9455169158090357),\n",
       " ('casual', 0.6728044333386833),\n",
       " ('atemp', 0.631065699849181),\n",
       " ('temp', 0.6274940090334918),\n",
       " ('yr', 0.5667097078680865),\n",
       " ('season', 0.4061003707986365),\n",
       " ('mnth', 0.27997711221927124),\n",
       " ('weekday', 0.06744341241063045),\n",
       " ('workingday', 0.061156063060520655),\n",
       " ('holiday', -0.06834771589248408),\n",
       " ('hum', -0.1006585621371552),\n",
       " ('windspeed', -0.23454499742166993),\n",
       " ('weathersit', -0.2973912388346637)]"
      ]
     },
     "execution_count": 7,
     "metadata": {
      "tags": []
     },
     "output_type": "execute_result"
    }
   ],
   "source": [
    "# Finding features with best correlation with result\n",
    "\n",
    "bikes_x = bikes.columns[2:-1]\n",
    "bikes_y = bikes.columns[-1]\n",
    "print(bikes_x)\n",
    "correlations = {}\n",
    "\n",
    "for column in bikes_x:\n",
    "  correlations[column] = bikes[column].corr(bikes[bikes_y])\n",
    "sorted_correlations = sorted(correlations.items(), key=lambda x: x[1], reverse=True)\n",
    "sorted_correlations"
   ]
  },
  {
   "cell_type": "markdown",
   "metadata": {
    "colab_type": "text",
    "id": "t7L0ZwdVv2BG"
   },
   "source": [
    "### Building regression model"
   ]
  },
  {
   "cell_type": "code",
   "execution_count": 0,
   "metadata": {
    "colab": {
     "base_uri": "https://localhost:8080/",
     "height": 35
    },
    "colab_type": "code",
    "collapsed": false,
    "id": "7fbFgfwws3fa",
    "outputId": "1c52d2b9-d20a-45ca-abfc-a605aed920da"
   },
   "outputs": [
    {
     "name": "stdout",
     "output_type": "stream",
     "text": [
      "(583, 16) (148, 16)\n"
     ]
    }
   ],
   "source": [
    "# train-test split\n",
    "\n",
    "msk = np.random.rand(len(bikes)) < 0.8\n",
    "train = bikes[msk]\n",
    "test = bikes[~msk]\n",
    "print(train.shape, test.shape)\n",
    "\n",
    "X_train = np.asanyarray(train['atemp'])\n",
    "Y_train = np.asanyarray(train['cnt'])\n",
    "X_test = np.asanyarray(test['atemp'])\n",
    "Y_test = np.asanyarray(test['cnt'])\n"
   ]
  },
  {
   "cell_type": "code",
   "execution_count": 0,
   "metadata": {
    "colab": {
     "base_uri": "https://localhost:8080/",
     "height": 35
    },
    "colab_type": "code",
    "collapsed": false,
    "id": "DrnfO42XuUDF",
    "outputId": "aaf294e5-995c-4edd-8319-d35f31d75418"
   },
   "outputs": [
    {
     "name": "stdout",
     "output_type": "stream",
     "text": [
      "7227.184299725206 1071.2283252325424\n"
     ]
    }
   ],
   "source": [
    "# initializing our inputs and outputs\n",
    "X = X_train\n",
    "Y = Y_train\n",
    "\n",
    "# mean of our inputs and outputs\n",
    "x_mean = np.mean(X)\n",
    "y_mean = np.mean(Y)\n",
    "#total number of values\n",
    "n = len(X)\n",
    "# using the formula to calculate the b1 and b0\n",
    "numerator = 0\n",
    "denominator = 0\n",
    "for i in range(n):\n",
    "    numerator += (X[i] - x_mean) * (Y[i] - y_mean)\n",
    "    denominator += (X[i] - x_mean) ** 2\n",
    "\n",
    "b1 = numerator / denominator\n",
    "b0 = y_mean - (b1 * x_mean)\n",
    "\n",
    "print(b1, b0)"
   ]
  },
  {
   "cell_type": "code",
   "execution_count": 0,
   "metadata": {
    "colab": {
     "base_uri": "https://localhost:8080/",
     "height": 361
    },
    "colab_type": "code",
    "collapsed": false,
    "id": "8f3sRhKZuaFj",
    "outputId": "f61cb298-644c-46c1-a09b-71b411400bb5"
   },
   "outputs": [
    {
     "data": {
      "image/png": "[encoded data removed]",
      "text/plain": [
       "<matplotlib.figure.Figure at 0x7f020e1ead68>"
      ]
     },
     "metadata": {
      "tags": []
     },
     "output_type": "display_data"
    }
   ],
   "source": [
    "#plotting values \n",
    "x_max = np.max(X)\n",
    "x_min = np.min(X)\n",
    "#calculating line values of x and y\n",
    "x = np.linspace(x_min, x_max, 609)\n",
    "y = b0 + b1 * x\n",
    "#plotting line \n",
    "plt.plot(x, y, color='#00ff00', label='Linear Regression')\n",
    "#plot the data point\n",
    "plt.scatter(X, Y, color='#ff0000', label='Train Data')\n",
    "plt.scatter(X_test, Y_test, color='#0000ff', label='Test Data')\n",
    "# x-axis label\n",
    "plt.xlabel('X')\n",
    "#y-axis label\n",
    "plt.ylabel('Y')\n",
    "plt.legend()\n",
    "plt.show()"
   ]
  },
  {
   "cell_type": "code",
   "execution_count": 0,
   "metadata": {
    "colab": {
     "base_uri": "https://localhost:8080/",
     "height": 90
    },
    "colab_type": "code",
    "collapsed": false,
    "id": "NgiTJHFfw7Jr",
    "outputId": "bd3cb463-f8cd-4d70-95a5-1e7bbdf32597"
   },
   "outputs": [
    {
     "name": "stdout",
     "output_type": "stream",
     "text": [
      "Mean absolute error for multiple regression: 1248.17\n",
      "Residual sum of squares (MSE) for multiple regression: 2286147.16\n",
      "Sklearn MSE: 2286147.16\n",
      "R2-score for multiple regression: 0.41\n"
     ]
    }
   ],
   "source": [
    "# Estimate model quality\n",
    "\n",
    "from sklearn.metrics import r2_score\n",
    "from sklearn.metrics import mean_squared_error\n",
    "\n",
    "y_test_hat = b0 + b1 * X_test\n",
    "\n",
    "print(\"Mean absolute error for multiple regression: %.2f\" % np.mean(np.absolute(Y_test - y_test_hat)))\n",
    "print(\"Residual sum of squares (MSE) for multiple regression: %.2f\" % np.mean((Y_test - y_test_hat) ** 2))\n",
    "print(\"Sklearn MSE: %.2f\" % mean_squared_error(Y_test, y_test_hat))\n",
    "print(\"R2-score for multiple regression: %.2f\" % r2_score(Y_test, y_test_hat))"
   ]
  },
  {
   "cell_type": "markdown",
   "metadata": {
    "colab_type": "text",
    "id": "l5ooJaiW0Nno"
   },
   "source": [
    "### Exclude outliers"
   ]
  },
  {
   "cell_type": "code",
   "execution_count": 0,
   "metadata": {
    "colab": {
     "base_uri": "https://localhost:8080/",
     "height": 379
    },
    "colab_type": "code",
    "collapsed": false,
    "id": "tr-CI2jD9tAX",
    "outputId": "30319f1f-749c-487f-a0d9-3eb1cf70f613"
   },
   "outputs": [
    {
     "name": "stdout",
     "output_type": "stream",
     "text": [
      "(714, 16)\n"
     ]
    },
    {
     "data": {
      "image/png": "[encoded data removed]",
      "text/plain": [
       "<matplotlib.figure.Figure at 0x7fcb4cab8160>"
      ]
     },
     "metadata": {
      "tags": []
     },
     "output_type": "display_data"
    }
   ],
   "source": [
    "bikes_good = bikes[bikes[\"atemp\"] < 0.78]\n",
    "bikes_good = bikes_good[np.abs(bikes_good.atemp-bikes_good.atemp.mean()) <= (2*bikes_good.atemp.std())]\n",
    "print(bikes_good.shape)\n",
    "bikes_good.plot(x=\"atemp\", y ='cnt', kind = \"scatter\");"
   ]
  },
  {
   "cell_type": "code",
   "execution_count": 0,
   "metadata": {
    "colab": {},
    "colab_type": "code",
    "collapsed": true,
    "id": "aTHlGZgxzaW9"
   },
   "outputs": [],
   "source": [
    "# bikes_good = bikes[np.abs(bikes.atemp-bikes.atemp.mean()) <= (2*bikes.atemp.std())]\n",
    "# # keep only the ones that are within +2 to -2 standard deviations in the column 'atemp'.\n",
    "# print(bikes_good.shape)\n",
    "# bikes_good.plot(x=\"atemp\", y ='cnt', kind = \"scatter\")\n",
    "\n",
    "# q = bikes[\"atemp\"].quantile(0.9)\n",
    "# bikes_good = bikes[bikes[\"atemp\"] < q]\n",
    "# print(bikes_good.shape)\n",
    "# bikes_good.plot(x=\"atemp\", y ='cnt', kind = \"scatter\")"
   ]
  },
  {
   "cell_type": "code",
   "execution_count": 0,
   "metadata": {
    "colab": {
     "base_uri": "https://localhost:8080/",
     "height": 53
    },
    "colab_type": "code",
    "collapsed": false,
    "id": "eIQv8nF20x1y",
    "outputId": "4de8282b-ba55-448a-fb5a-f6c32a894cb8"
   },
   "outputs": [
    {
     "name": "stdout",
     "output_type": "stream",
     "text": [
      "(554, 16) (160, 16)\n",
      "7368.26455286033 1030.1699893624586\n"
     ]
    }
   ],
   "source": [
    "# train-test split\n",
    "\n",
    "msk = np.random.rand(len(bikes_good)) < 0.8\n",
    "train2 = bikes_good[msk]\n",
    "test2 = bikes_good[~msk]\n",
    "print(train2.shape, test2.shape)\n",
    "\n",
    "X_train2 = np.asanyarray(train2['atemp'])\n",
    "Y_train2 = np.asanyarray(train2['cnt'])\n",
    "X_test2 = np.asanyarray(test2['atemp'])\n",
    "Y_test2 = np.asanyarray(test2['cnt'])\n",
    "\n",
    "# initializing our inputs and outputs\n",
    "\n",
    "X2 = X_train2\n",
    "Y2 = Y_train2\n",
    "\n",
    "# mean of our inputs and outputs\n",
    "x_mean = np.mean(X2)\n",
    "y_mean = np.mean(Y2)\n",
    "#total number of values\n",
    "n = len(X2)\n",
    "# using the formula to calculate the b1 and b0\n",
    "numerator = 0\n",
    "denominator = 0\n",
    "for i in range(n):\n",
    "    numerator += (X2[i] - x_mean) * (Y2[i] - y_mean)\n",
    "    denominator += (X2[i] - x_mean) ** 2\n",
    "\n",
    "b1 = numerator / denominator\n",
    "b0 = y_mean - (b1 * x_mean)\n",
    "\n",
    "print(b1, b0)"
   ]
  },
  {
   "cell_type": "code",
   "execution_count": 0,
   "metadata": {
    "colab": {
     "base_uri": "https://localhost:8080/",
     "height": 361
    },
    "colab_type": "code",
    "collapsed": false,
    "id": "vMD4b9NQ1gGM",
    "outputId": "4d6bd2bb-3d26-4752-b749-ae4244b72133"
   },
   "outputs": [
    {
     "data": {
      "image/png": "[encoded data removed]",
      "text/plain": [
       "<matplotlib.figure.Figure at 0x7fcb4c4d62b0>"
      ]
     },
     "metadata": {
      "tags": []
     },
     "output_type": "display_data"
    }
   ],
   "source": [
    "#plotting values \n",
    "x_max = np.max(X2)\n",
    "x_min = np.min(X2)\n",
    "#calculating line values of x and y\n",
    "x = np.linspace(x_min, x_max, 600)\n",
    "y = b0 + b1 * x\n",
    "#plotting line \n",
    "plt.plot(x, y, color='#00ff00', label='Linear Regression')\n",
    "#plot the data point\n",
    "plt.scatter(X2, Y2, color='#ff0000', label='Train Data')\n",
    "plt.scatter(X_test2, Y_test2, color='#0000ff', label='Test Data')\n",
    "# x-axis label\n",
    "plt.xlabel('X')\n",
    "#y-axis label\n",
    "plt.ylabel('Y')\n",
    "plt.legend()\n",
    "plt.show()"
   ]
  },
  {
   "cell_type": "code",
   "execution_count": 0,
   "metadata": {
    "colab": {
     "base_uri": "https://localhost:8080/",
     "height": 90
    },
    "colab_type": "code",
    "collapsed": false,
    "id": "Kj0JDwgl3XWa",
    "outputId": "441accc5-3bfe-4a78-ddee-dbc40de4d811"
   },
   "outputs": [
    {
     "name": "stdout",
     "output_type": "stream",
     "text": [
      "Mean absolute error for multiple regression: 1216.09\n",
      "Residual sum of squares (MSE) for multiple regression: 2151020.86\n",
      "Sklearn MSE: 2151020.86\n",
      "R2-score for multiple regression: 0.50\n"
     ]
    }
   ],
   "source": [
    "y_test_hat = b0 + b1 * X_test2\n",
    "\n",
    "print(\"Mean absolute error for multiple regression: %.2f\" % np.mean(np.absolute(Y_test2 - y_test_hat)))\n",
    "print(\"Residual sum of squares (MSE) for multiple regression: %.2f\" % np.mean((Y_test2 - y_test_hat) ** 2))\n",
    "print(\"Sklearn MSE: %.2f\" % mean_squared_error(Y_test2, y_test_hat))\n",
    "print(\"R2-score for multiple regression: %.2f\" % r2_score(Y_test2, y_test_hat))"
   ]
  },
  {
   "cell_type": "markdown",
   "metadata": {
    "colab_type": "text",
    "id": "GB6zJPjrVG9j"
   },
   "source": [
    "### Building Polynomial Regression"
   ]
  },
  {
   "cell_type": "code",
   "execution_count": 0,
   "metadata": {
    "colab": {
     "base_uri": "https://localhost:8080/",
     "height": 361
    },
    "colab_type": "code",
    "collapsed": false,
    "id": "ygfQ8odI3qDv",
    "outputId": "a97ebb90-5724-442e-a0ac-8402f6d3de9f"
   },
   "outputs": [
    {
     "data": {
      "image/png": "[encoded data removed]",
      "text/plain": [
       "<matplotlib.figure.Figure at 0x7fcb4d760438>"
      ]
     },
     "metadata": {
      "tags": []
     },
     "output_type": "display_data"
    }
   ],
   "source": [
    "poly = np.polyfit(X_train2, Y_train2, 4)\n",
    "X_test2 = sorted(X_test2)\n",
    "y_poly_hat = np.polyval(poly, X_test2)\n",
    "\n",
    "plt.plot(X_test2, y_poly_hat, label='Linear Model, Polynomial Degree = 3', color='#00ff00')\n",
    "\n",
    "#plot the data point\n",
    "plt.scatter(X_train2, Y_train2, color='#ff0000', label='Train Data')\n",
    "plt.scatter(X_test2, Y_test2, color='#0000ff', label='Test Data')\n",
    "# x-axis label\n",
    "plt.xlabel('X')\n",
    "#y-axis label\n",
    "plt.ylabel('Y')\n",
    "plt.legend()\n",
    "plt.show()\n"
   ]
  },
  {
   "cell_type": "code",
   "execution_count": 0,
   "metadata": {
    "colab": {
     "base_uri": "https://localhost:8080/",
     "height": 90
    },
    "colab_type": "code",
    "collapsed": false,
    "id": "n8mdSEYCXKGf",
    "outputId": "d3dc9182-d916-4290-a28c-6f43d581c2fd"
   },
   "outputs": [
    {
     "name": "stdout",
     "output_type": "stream",
     "text": [
      "Mean absolute error for multiple regression: 1169.71\n",
      "Residual sum of squares (MSE) for multiple regression: 2099833.77\n",
      "Sklearn MSE: 2099833.77\n",
      "R2-score for multiple regression: 0.51\n"
     ]
    }
   ],
   "source": [
    "print(\"Mean absolute error for multiple regression: %.2f\" % np.mean(np.absolute(Y_test2 - y_poly_hat)))\n",
    "print(\"Residual sum of squares (MSE) for multiple regression: %.2f\" % np.mean((Y_test2 - y_poly_hat) ** 2))\n",
    "print(\"Sklearn MSE: %.2f\" % mean_squared_error(Y_test2, y_poly_hat))\n",
    "print(\"R2-score for multiple regression: %.2f\" % r2_score(Y_test2, y_poly_hat))"
   ]
  },
  {
   "cell_type": "code",
   "execution_count": 0,
   "metadata": {
    "colab": {
     "base_uri": "https://localhost:8080/",
     "height": 398
    },
    "colab_type": "code",
    "collapsed": false,
    "id": "pYw0uOkGehzs",
    "outputId": "3adcb7ab-82e8-4a0e-c4e0-66856e1203cc"
   },
   "outputs": [
    {
     "name": "stderr",
     "output_type": "stream",
     "text": [
      "/usr/local/lib/python3.6/dist-packages/ipykernel_launcher.py:10: RankWarning: Polyfit may be poorly conditioned\n",
      "  # Remove the CWD from sys.path while we load stuff.\n"
     ]
    },
    {
     "data": {
      "image/png": "[encoded data removed]",
      "text/plain": [
       "<matplotlib.figure.Figure at 0x7fcb4c5832b0>"
      ]
     },
     "metadata": {
      "tags": []
     },
     "output_type": "display_data"
    }
   ],
   "source": [
    "# Finding best polynomial degree\n",
    "\n",
    "def rSquared(observed, predicted):\n",
    "    error = ((predicted - observed)**2).sum()\n",
    "    meanError = error/len(observed)\n",
    "    return 1 - (meanError/np.var(observed))\n",
    "\n",
    "def genFits(xVals, yVals, degrees):\n",
    "    models = []\n",
    "    for d in degrees:\n",
    "        model = np.polyfit(xVals, yVals, d)\n",
    "        models.append(model)\n",
    "    return models\n",
    "\n",
    "def testFits(models, degrees, xVals, yVals, xTrain, yTrain, title):\n",
    "    plt.plot(xTrain, yTrain, 'o', label = 'Data')\n",
    "    for i in range(len(models)):\n",
    "        estYVals = np.polyval(models[i], xVals)\n",
    "        error = rSquared(yVals, estYVals)\n",
    "        plt.plot(xVals, estYVals,\n",
    "                   label = 'Fit of degree '\\\n",
    "                   + str(degrees[i])\\\n",
    "                   + ', R2 = ' + str(round(error, 5)))\n",
    "    plt.legend(loc = 'best')\n",
    "    plt.title(title)\n",
    "    plt.show()\n",
    "    \n",
    "degrees = (2, 4, 8, 16)\n",
    "models = genFits(X_train2, Y_train2, degrees)\n",
    "testFits(models, degrees, X_test2, Y_test2, X_train2, Y_train2, 'Bikes and weather')"
   ]
  },
  {
   "cell_type": "markdown",
   "metadata": {
    "colab_type": "text",
    "id": "mQl3nLQJFigL"
   },
   "source": [
    "## TASK 2\n",
    "\n",
    "Implement a naive Bayes classifier FROM SCRATCH (no ml libs or fuctions) for text genre classification. Training data can be downloaded from [cloud](https://drive.google.com/open?id=1r3KdeQHlxn-XDKRtISZzbvojq9s7cq_R) \n",
    "\n",
    "NOTES:\n",
    "1. Take well-represented 5-7 categorites\n",
    "2. If final result is not good, try to exclude a category that is not well separatible from others (try to understand how to do this)\n",
    "3. Provide the answer as a Jupyter notebook that can perform model training and also porvides an interface function \n",
    " *def predict(text)* that returns a document genre and a dictionary with probabilities for all genres met in training set"
   ]
  },
  {
   "cell_type": "markdown",
   "metadata": {
    "colab_type": "text",
    "id": "wNV4R0OKG9rs"
   },
   "source": [
    "### Prepare data"
   ]
  },
  {
   "cell_type": "code",
   "execution_count": 0,
   "metadata": {
    "colab": {},
    "colab_type": "code",
    "collapsed": true,
    "id": "mwv5MN7GG-_G"
   },
   "outputs": [],
   "source": [
    "# !unzip ./homework4/*.zip\n",
    "# !find ./ENGLISH/. -name '*.ZIP' -execdir unzip '{}' ';'"
   ]
  },
  {
   "cell_type": "code",
   "execution_count": 0,
   "metadata": {
    "colab": {},
    "colab_type": "code",
    "collapsed": true,
    "id": "VrrLMqjvHRMK"
   },
   "outputs": [],
   "source": [
    "genres = ['ADVENTUR', 'DETECT', 'FANTAST', 'JOURNAL', 'TALES']"
   ]
  },
  {
   "cell_type": "code",
   "execution_count": 0,
   "metadata": {
    "colab": {
     "base_uri": "https://localhost:8080/",
     "height": 3015
    },
    "colab_type": "code",
    "collapsed": false,
    "id": "YoBBTjBmf6tO",
    "outputId": "47f43e0e-80af-4638-829a-0ecd16bb5dbd"
   },
   "outputs": [
    {
     "name": "stdout",
     "output_type": "stream",
     "text": [
      "ENGLISH/ADVENTUR/CLOVIS.TXT\n",
      "ENGLISH/ADVENTUR/CALLWILD.TXT\n",
      "ENGLISH/ADVENTUR/JUSTDAV.TXT\n",
      "ENGLISH/ADVENTUR/CANSUCH.TXT\n",
      "ENGLISH/ADVENTUR/FIRE.TXT\n",
      "ENGLISH/ADVENTUR/DOUGLASS.TXT\n",
      "ENGLISH/ADVENTUR/MOBYDICK.TXT\n",
      "ENGLISH/ADVENTUR/EIGHTY_D.TXT\n",
      "ENGLISH/ADVENTUR/CAROLCHR.TXT\n",
      "ENGLISH/ADVENTUR/OPION.TXT\n",
      "ENGLISH/ADVENTUR/DOUGL2.TXT\n",
      "ENGLISH/ADVENTUR/ALEXBR.TXT\n",
      "ENGLISH/ADVENTUR/HFINN.TXT\n",
      "ENGLISH/ADVENTUR/IVANHOE.TXT\n",
      "ENGLISH/ADVENTUR/PUDDN.TXT\n",
      "ENGLISH/ADVENTUR/SAWY2.TXT\n",
      "ENGLISH/ADVENTUR/SAWY3.TXT\n",
      "ENGLISH/ADVENTUR/SAWY1.TXT\n",
      "ENGLISH/ADVENTUR/TARZ1.TXT\n",
      "ENGLISH/ADVENTUR/TARZ2.TXT\n",
      "ENGLISH/ADVENTUR/TARZ3.TXT\n",
      "ENGLISH/ADVENTUR/TARZ4.TXT\n",
      "ENGLISH/ADVENTUR/TARZ5.TXT\n",
      "ENGLISH/ADVENTUR/LORD_JIM.TXT\n",
      "ENGLISH/ADVENTUR/SHARERXT.TXT\n",
      "ENGLISH/ADVENTUR/2CITY.TXT\n",
      "ENGLISH/ADVENTUR/BADAM10.TXT\n",
      "ENGLISH/ADVENTUR/FRDAM10.TXT\n",
      "ENGLISH/ADVENTUR/GLDNA10.TXT\n",
      "ENGLISH/ADVENTUR/ISLNI10.TXT\n",
      "ENGLISH/ADVENTUR/JBARL10.TXT\n",
      "ENGLISH/ADVENTUR/LMISS11.TXT\n",
      "ENGLISH/ADVENTUR/MRMEN10.TXT\n",
      "ENGLISH/ADVENTUR/POLST10.TXT\n",
      "ENGLISH/ADVENTUR/RFENG10.TXT\n",
      "ENGLISH/ADVENTUR/STIVE10.TXT\n",
      "ENGLISH/ADVENTUR/STRKM10.TXT\n",
      "ENGLISH/ADVENTUR/TMUCK10.TXT\n",
      "ENGLISH/ADVENTUR/WARPRYER.TXT\n",
      "ENGLISH/DETECT/COCKOO.TXT\n",
      "ENGLISH/DETECT/VALLEY.TXT\n",
      "ENGLISH/DETECT/MEMOIRSX.TXT\n",
      "ENGLISH/DETECT/LASTBOWX.TXT\n",
      "ENGLISH/DETECT/HOUNDXDY.TXT\n",
      "ENGLISH/DETECT/CASEBOOK.TXT\n",
      "ENGLISH/DETECT/SIGNFOUR.TXT\n",
      "ENGLISH/DETECT/STUDYXDY.TXT\n",
      "ENGLISH/DETECT/INFRB10.TXT\n",
      "ENGLISH/DETECT/WIFRB10.TXT\n",
      "ENGLISH/DETECT/MURDER.TXT\n",
      "ENGLISH/DETECT/CONDOYLE.TXT\n",
      "ENGLISH/DETECT/Dead Mens Money.TXT\n",
      "ENGLISH/DETECT/The Mysterious Affair at Styles by Agatha Christie.TXT\n",
      "ENGLISH/DETECT/The Orange-Yellow Diamond.TXT\n",
      "ENGLISH/DETECT/The Return of Sherlock Holmes.TXT\n",
      "ENGLISH/DETECT/The Rayner-Slade Amalgamation.TXT\n",
      "ENGLISH/DETECT/The Middle of Things.TXT\n",
      "ENGLISH/DETECT/The Paradise Mystery.TXT\n",
      "ENGLISH/DETECT/The Middle Temple Murder.TXT\n",
      "ENGLISH/DETECT/The Secret Adversary by Agatha Christie.TXT\n",
      "ENGLISH/DETECT/The Works of Edgar Allan Poe — Volume 1.TXT\n",
      "ENGLISH/DETECT/The Works of Edgar Allan Poe — Volume 2.TXT\n",
      "ENGLISH/FANTAST/UNINVITE.TXT\n",
      "ENGLISH/FANTAST/TREKFILE.TXT\n",
      "ENGLISH/FANTAST/STIH-WK.TXT\n",
      "ENGLISH/FANTAST/CYBERSLA.TXT\n",
      "ENGLISH/FANTAST/BEOPROL.TXT\n",
      "ENGLISH/FANTAST/J_MNEM.TXT\n",
      "ENGLISH/FANTAST/ANDROID1.TXT\n",
      "ENGLISH/FANTAST/HITCH2.TXT\n",
      "ENGLISH/FANTAST/HITCH1.TXT\n",
      "ENGLISH/FANTAST/HITCH3.TXT\n",
      "ENGLISH/FANTAST/HITCH4.TXT\n",
      "ENGLISH/FANTAST/INVISMAN.TXT\n",
      "ENGLISH/FANTAST/JEKYLL.TXT\n",
      "ENGLISH/FANTAST/SLEEPY.TXT\n",
      "ENGLISH/FANTAST/TIMEMACH.TXT\n",
      "ENGLISH/FANTAST/BARBARIA.TXT\n",
      "ENGLISH/FANTAST/SEAGULL.TXT\n",
      "ENGLISH/FANTAST/BEOWULF.TXT\n",
      "ENGLISH/FANTAST/JASON.TXT\n",
      "ENGLISH/FANTAST/TOLERANC.TXT\n",
      "ENGLISH/FANTAST/EVIL.TXT\n",
      "ENGLISH/FANTAST/OCTOBER.TXT\n",
      "ENGLISH/FANTAST/MORGANA.TXT\n",
      "ENGLISH/FANTAST/THUNDER.TXT\n",
      "ENGLISH/FANTAST/LEAPYEAR.TXT\n",
      "ENGLISH/FANTAST/STORY74K.TXT\n",
      "ENGLISH/FANTAST/GUARD.TXT\n",
      "ENGLISH/FANTAST/BUTWORM.TXT\n",
      "ENGLISH/FANTAST/TIMEAMBE.TXT\n",
      "ENGLISH/FANTAST/MEMORIA.TXT\n",
      "ENGLISH/FANTAST/DEARDIAR.TXT\n",
      "ENGLISH/FANTAST/EUROPA.TXT\n",
      "ENGLISH/FANTAST/LONESOUL.TXT\n",
      "ENGLISH/FANTAST/AFTLIFE.TXT\n",
      "ENGLISH/FANTAST/EMPLANET.TXT\n",
      "ENGLISH/FANTAST/CHCKMATE.TXT\n",
      "ENGLISH/FANTAST/NECRFILE.TXT\n",
      "ENGLISH/FANTAST/PROGRO.TXT\n",
      "ENGLISH/FANTAST/HUNTING.TXT\n",
      "ENGLISH/FANTAST/HITCH5.TXT\n",
      "ENGLISH/FANTAST/CHOCKY.TXT\n",
      "ENGLISH/FANTAST/WARWORLD.TXT\n",
      "ENGLISH/FANTAST/ERSATZ.TXT\n",
      "ENGLISH/FANTAST/RATSNAKE.TXT\n",
      "ENGLISH/FANTAST/VAN_GOGH.TXT\n",
      "ENGLISH/FANTAST/KNOCK.TXT\n",
      "ENGLISH/FANTAST/FRANKENS.TXT\n",
      "ENGLISH/FANTAST/GMARS.TXT\n",
      "ENGLISH/FANTAST/MONSTMEN.TXT\n",
      "ENGLISH/FANTAST/MOONEAR.TXT\n",
      "ENGLISH/FANTAST/TERMC.TXT\n",
      "ENGLISH/FANTAST/WMARS.TXT\n",
      "ENGLISH/FANTAST/YANKE.TXT\n",
      "ENGLISH/FANTAST/FLATLAND.TXT\n",
      "ENGLISH/FANTAST/DRACULA.TXT\n",
      "ENGLISH/FANTAST/LOSTWORL.TXT\n",
      "ENGLISH/FANTAST/OUTSIDE.TXT\n",
      "ENGLISH/FANTAST/NEUROMAN.TXT\n",
      "ENGLISH/FANTAST/SEANCE.TXT\n",
      "ENGLISH/FANTAST/LONEWOLF.TXT\n",
      "ENGLISH/FANTAST/CRACKER.TXT\n",
      "ENGLISH/FANTAST/STARWAR5.TXT\n",
      "ENGLISH/FANTAST/STARWAR4.TXT\n",
      "ENGLISH/FANTAST/STARWAR6.TXT\n",
      "ENGLISH/FANTAST/STARWAR1.TXT\n",
      "ENGLISH/FANTAST/OLDUVAI.TXT\n",
      "ENGLISH/FANTAST/EYE.TXT\n",
      "ENGLISH/FANTAST/STARTR.TXT\n",
      "ENGLISH/FANTAST/FORGFUT.TXT\n",
      "ENGLISH/FANTAST/DRDAY10.TXT\n",
      "ENGLISH/FANTAST/MMARS.TXT\n",
      "ENGLISH/FANTAST/PMARS.TXT\n",
      "ENGLISH/FANTAST/WWILL10.TXT\n",
      "ENGLISH/FANTAST/LORDDUNS.TXT\n",
      "ENGLISH/FANTAST/STEFAN.TXT\n",
      "ENGLISH/JOURNAL/INQ-08.TXT\n",
      "ENGLISH/JOURNAL/ANSIBLE.TXT\n",
      "ENGLISH/JOURNAL/DRAGON_Z.TXT\n",
      "ENGLISH/JOURNAL/DELREY.TXT\n",
      "ENGLISH/JOURNAL/FSF1-11.TXT\n",
      "ENGLISH/JOURNAL/NTM_18.TXT\n",
      "ENGLISH/JOURNAL/PHRACK47.TXT\n",
      "ENGLISH/JOURNAL/QUANTA17.TXT\n",
      "ENGLISH/TALES/FGOOSE.TXT\n",
      "ENGLISH/TALES/EMPEROR3.TXT\n",
      "ENGLISH/TALES/SNARK.TXT\n",
      "ENGLISH/TALES/ALICE.TXT\n",
      "ENGLISH/TALES/LGLASS.TXT\n",
      "ENGLISH/TALES/ALADDIN.TXT\n",
      "ENGLISH/TALES/OZ_LAND.TXT\n",
      "ENGLISH/TALES/ANNE_GRE.TXT\n",
      "ENGLISH/TALES/ISLAND.TXT\n",
      "ENGLISH/TALES/LOTR.TXT\n",
      "ENGLISH/TALES/HOBBIT.TXT\n",
      "ENGLISH/TALES/MARTIAN.TXT\n",
      "ENGLISH/TALES/AESOP.TXT\n",
      "ENGLISH/TALES/AVONLEA.TXT\n",
      "ENGLISH/TALES/GRIMM.TXT\n",
      "ENGLISH/TALES/FBRLS10.TXT\n",
      "ENGLISH/TALES/JNGLB10.TXT\n",
      "ENGLISH/TALES/LADDI10.TXT\n",
      "ENGLISH/TALES/SIOUX10.TXT\n",
      "ENGLISH/TALES/RHINO.TXT\n"
     ]
    }
   ],
   "source": [
    "import glob\n",
    "path = 'ENGLISH/'\n",
    "texts = {}\n",
    "\n",
    "for genre in genres:\n",
    "  texts[genre] = {}\n",
    "  inpath = path + genre\n",
    "  for filename in glob.glob(os.path.join(inpath, '*.TXT')):    \n",
    "    try:\n",
    "      with open(filename, 'r', encoding='utf-8') as f:      \n",
    "        texts[genre][filename.split('/')[-1]] = ''.join(f.readlines())\n",
    "      print(filename)\n",
    "    except:      \n",
    "      with open(filename, 'r', encoding='latin-1') as f:      \n",
    "        texts[genre][filename.split('/')[-1]] = ''.join(f.readlines())\n",
    "      print(filename)"
   ]
  },
  {
   "cell_type": "code",
   "execution_count": 0,
   "metadata": {
    "colab": {
     "base_uri": "https://localhost:8080/",
     "height": 144
    },
    "colab_type": "code",
    "collapsed": false,
    "id": "hXk0EAywGbCM",
    "outputId": "215a615c-457e-4b7d-d6f3-78f524922dbf"
   },
   "outputs": [
    {
     "name": "stdout",
     "output_type": "stream",
     "text": [
      "ADVENTUR : 39\n",
      "DETECT : 23\n",
      "FANTAST : 75\n",
      "JOURNAL : 8\n",
      "TALES : 20\n",
      "-----\n",
      "Total : 165\n"
     ]
    }
   ],
   "source": [
    "tcount = 0\n",
    "for genre in texts:\n",
    "  print(genre + \" : \" + str(len(texts[genre])))\n",
    "  tcount += len(texts[genre])\n",
    "print('-----')\n",
    "print('Total :', str(tcount))"
   ]
  },
  {
   "cell_type": "code",
   "execution_count": 0,
   "metadata": {
    "colab": {
     "base_uri": "https://localhost:8080/",
     "height": 344
    },
    "colab_type": "code",
    "collapsed": false,
    "id": "eOCvW8-PCkSo",
    "outputId": "4d78b8e8-e9d2-45b2-fc28-a90ef0563a81"
   },
   "outputs": [
    {
     "name": "stdout",
     "output_type": "stream",
     "text": [
      "Train texts:\n",
      "ADVENTUR : 31\n",
      "DETECT : 18\n",
      "FANTAST : 60\n",
      "JOURNAL : 6\n",
      "TALES : 16\n",
      "-----\n",
      "Total : 131\n",
      "\n",
      "\n",
      "Test texts:\n",
      "ADVENTUR : 8\n",
      "DETECT : 5\n",
      "FANTAST : 15\n",
      "JOURNAL : 2\n",
      "TALES : 4\n",
      "-----\n",
      "Total : 34\n"
     ]
    }
   ],
   "source": [
    "# Split texts to train and test subsets\n",
    "\n",
    "import random\n",
    "\n",
    "train_texts = {}\n",
    "test_texts = {}\n",
    "train_num = 0\n",
    "\n",
    "\n",
    "for genre in texts:\n",
    "  train_texts[genre] = {}\n",
    "  test_texts[genre] = {}\n",
    "  train_num = int(len(texts[genre])*0.8)\n",
    "  train_sample = random.sample(texts[genre].keys(), train_num)\n",
    "  for text in texts[genre]:\n",
    "    if text in train_sample:\n",
    "      train_texts[genre][text] = texts[genre][text]\n",
    "    else:\n",
    "      test_texts[genre][text] = texts[genre][text]\n",
    "\n",
    "      \n",
    "print('Train texts:')      \n",
    "tcount = 0\n",
    "for genre in train_texts:\n",
    "  print(genre + \" : \" + str(len(train_texts[genre])))\n",
    "  tcount += len(train_texts[genre])\n",
    "print('-----')\n",
    "print('Total :', str(tcount))  \n",
    "\n",
    "print('\\n')    \n",
    "\n",
    "print('Test texts:')      \n",
    "tcount = 0\n",
    "for genre in test_texts:\n",
    "  print(genre + \" : \" + str(len(test_texts[genre])))\n",
    "  tcount += len(test_texts[genre])\n",
    "print('-----')\n",
    "print('Total :', str(tcount))  "
   ]
  },
  {
   "cell_type": "markdown",
   "metadata": {
    "colab_type": "text",
    "id": "oSSpNybjZmb3"
   },
   "source": [
    "### Calculate Priors"
   ]
  },
  {
   "cell_type": "code",
   "execution_count": 0,
   "metadata": {
    "colab": {
     "base_uri": "https://localhost:8080/",
     "height": 108
    },
    "colab_type": "code",
    "collapsed": false,
    "id": "smFGy6epGeOo",
    "outputId": "6d401c14-c5a8-42aa-9019-c285c0d19849"
   },
   "outputs": [
    {
     "data": {
      "text/plain": [
       "{'ADVENTUR': 0.13720112151348496,\n",
       " 'DETECT': -0.39086630868701167,\n",
       " 'FANTAST': 0.7911275889201491,\n",
       " 'JOURNAL': -1.4469189829363254,\n",
       " 'TALES': -0.5306282510621704}"
      ]
     },
     "execution_count": 32,
     "metadata": {
      "tags": []
     },
     "output_type": "execute_result"
    }
   ],
   "source": [
    "import math\n",
    "\n",
    "p_genres = {}\n",
    "for genre in genres:  \n",
    "  p_genres[genre] = math.log((len(texts[genre])) / tcount)\n",
    "p_genres"
   ]
  },
  {
   "cell_type": "code",
   "execution_count": 0,
   "metadata": {
    "colab": {
     "base_uri": "https://localhost:8080/",
     "height": 35
    },
    "colab_type": "code",
    "collapsed": false,
    "id": "DkZwzrJv_4pk",
    "outputId": "376296d0-f1ab-4b7e-832f-a2555201b89f"
   },
   "outputs": [
    {
     "data": {
      "text/plain": [
       "-0.6759065198095777"
      ]
     },
     "execution_count": 86,
     "metadata": {
      "tags": []
     },
     "output_type": "execute_result"
    }
   ],
   "source": []
  },
  {
   "cell_type": "markdown",
   "metadata": {
    "colab_type": "text",
    "id": "KU9jV6DRbhMv"
   },
   "source": [
    "### Calculate Likelihood"
   ]
  },
  {
   "cell_type": "code",
   "execution_count": 0,
   "metadata": {
    "colab": {
     "base_uri": "https://localhost:8080/",
     "height": 144
    },
    "colab_type": "code",
    "collapsed": false,
    "id": "FZxH3dQpOYGf",
    "outputId": "ffb51fbc-d17b-4634-b48c-e65314f56e46"
   },
   "outputs": [
    {
     "name": "stdout",
     "output_type": "stream",
     "text": [
      "[nltk_data] Downloading package wordnet to /root/nltk_data...\n",
      "[nltk_data]   Unzipping corpora/wordnet.zip.\n",
      "[nltk_data] Downloading package averaged_perceptron_tagger to\n",
      "[nltk_data]     /root/nltk_data...\n",
      "[nltk_data]   Unzipping taggers/averaged_perceptron_tagger.zip.\n",
      "[nltk_data] Downloading package stopwords to /root/nltk_data...\n",
      "[nltk_data]   Unzipping corpora/stopwords.zip.\n"
     ]
    }
   ],
   "source": [
    "from bs4 import BeautifulSoup\n",
    "import nltk\n",
    "nltk.download('wordnet')\n",
    "nltk.download('averaged_perceptron_tagger')\n",
    "nltk.download('stopwords')\n",
    "from nltk.stem import WordNetLemmatizer\n",
    "import re\n",
    "from nltk.tag import pos_tag\n",
    "# from nltk.tokenize import word_tokenize\n",
    "from nltk.corpus import stopwords\n",
    "stopWords = set(stopwords.words('english'))\n",
    "\n",
    "def lemmatize_all(sentence):\n",
    "    wnl = WordNetLemmatizer()\n",
    "    for word, tag in pos_tag(sentence):\n",
    "        if tag.startswith(\"NN\"):\n",
    "            yield wnl.lemmatize(word, pos='n')\n",
    "        elif tag.startswith('VB'):\n",
    "            yield wnl.lemmatize(word, pos='v')\n",
    "        elif tag.startswith('JJ'):\n",
    "            yield wnl.lemmatize(word, pos='a')\n",
    "        else:\n",
    "            yield word\n",
    "  \n",
    "def clean_text_lemma(text, lemma=True): \n",
    "    ''' \n",
    "    Utility function to clean text by removing links, special characters \n",
    "    using simple regex statements. Also converting words to lemmas.\n",
    "    '''    \n",
    "    text = BeautifulSoup(text, 'html.parser').get_text()    \n",
    "    stripped_text = re.sub(\"(@[A-Za-z0-9_]+)|([^0-9A-Za-z \\t])|(\\w+:\\/\\/\\S+)|(RT\\s)\", \" \", text).lower().split()\n",
    "    lemma_text = lemmatize_all(stripped_text)\n",
    "    filtered_text = [word for word in lemma_text if word not in stopWords]\n",
    "    join_text = ' '.join(filtered_text)\n",
    "    return join_text"
   ]
  },
  {
   "cell_type": "code",
   "execution_count": 0,
   "metadata": {
    "colab": {},
    "colab_type": "code",
    "collapsed": true,
    "id": "h6MMGiIFc57F"
   },
   "outputs": [],
   "source": [
    "def make_bag(text):\n",
    "  bag = {}\n",
    "  max_count = 0\n",
    "  words = text.split()\n",
    "  \n",
    "  for word in words:      \n",
    "    if word in bag:\n",
    "      bag[word] += 1\n",
    "    else:\n",
    "      bag[word] = 1\n",
    "  \n",
    "  for word in bag:\n",
    "    if bag[word] > max_count:\n",
    "      max_count = bag[word]\n",
    "  \n",
    "  #for word in bag:\n",
    "  #  bag[word] = (float(bag[word]) / len(words)) * 100\n",
    "  \n",
    "  for word in bag:\n",
    "    bag[word] = (float(bag[word]) / max_count) * 100\n",
    "  \n",
    "  return bag"
   ]
  },
  {
   "cell_type": "code",
   "execution_count": 0,
   "metadata": {
    "colab": {},
    "colab_type": "code",
    "collapsed": true,
    "id": "8feKn-g3b6UN"
   },
   "outputs": [],
   "source": [
    "# Clean train text and count words per text\n",
    "\n",
    "p_word = {}\n",
    "for genre in train_texts:\n",
    "  p_word[genre] = {}\n",
    "  for text in train_texts[genre]:    \n",
    "    train_texts[genre][text] = clean_text_lemma(train_texts[genre][text])\n",
    "    p_word[genre][text] = make_bag(train_texts[genre][text])    \n",
    "    print(text)"
   ]
  },
  {
   "cell_type": "code",
   "execution_count": 0,
   "metadata": {
    "colab": {},
    "colab_type": "code",
    "collapsed": true,
    "id": "AIliPGxEZrht"
   },
   "outputs": [],
   "source": [
    "#texts[\"FANTAST\"]['EMPLANET.TXT']"
   ]
  },
  {
   "cell_type": "code",
   "execution_count": 0,
   "metadata": {
    "colab": {},
    "colab_type": "code",
    "collapsed": true,
    "id": "y8N-hQ71ac0_"
   },
   "outputs": [],
   "source": [
    "# bag_planet = make_bag(texts[\"FANTAST\"]['EMPLANET.TXT'])\n",
    "# bag_planet"
   ]
  },
  {
   "cell_type": "code",
   "execution_count": 0,
   "metadata": {
    "colab": {},
    "colab_type": "code",
    "collapsed": true,
    "id": "EUU72VJvdMUb"
   },
   "outputs": [],
   "source": [
    "# Save bag of words to file to use it again\n",
    "import pickle\n",
    "\n",
    "def save_obj(obj, name):\n",
    "    with open('obj/'+ name + '.pkl', 'wb') as f:\n",
    "        pickle.dump(obj, f, pickle.HIGHEST_PROTOCOL)\n",
    "\n",
    "def load_obj(name):\n",
    "    with open('obj/' + name + '.pkl', 'rb') as f:\n",
    "        return pickle.load(f)\n",
    "      "
   ]
  },
  {
   "cell_type": "code",
   "execution_count": 0,
   "metadata": {
    "colab": {
     "base_uri": "https://localhost:8080/",
     "height": 35
    },
    "colab_type": "code",
    "collapsed": false,
    "id": "7a7VRazvVgRB",
    "outputId": "a88c1058-3eb9-4683-b9fe-4f7189c01242"
   },
   "outputs": [
    {
     "data": {
      "text/plain": [
       "18"
      ]
     },
     "execution_count": 12,
     "metadata": {
      "tags": []
     },
     "output_type": "execute_result"
    }
   ],
   "source": [
    "#save_obj(p_word, \"bagofwords5\")\n",
    "p_word = load_obj(\"bagofwords5\")\n",
    "\n",
    "len(p_word['DETECT'])"
   ]
  },
  {
   "cell_type": "code",
   "execution_count": 0,
   "metadata": {
    "colab": {},
    "colab_type": "code",
    "collapsed": true,
    "id": "s8GBAWGqIMj7"
   },
   "outputs": [],
   "source": []
  },
  {
   "cell_type": "code",
   "execution_count": 0,
   "metadata": {
    "colab": {
     "base_uri": "https://localhost:8080/",
     "height": 108
    },
    "colab_type": "code",
    "collapsed": false,
    "id": "-kdXUnp1edmt",
    "outputId": "421c6033-ec71-4b84-f076-4cf31bdba37d"
   },
   "outputs": [
    {
     "name": "stdout",
     "output_type": "stream",
     "text": [
      "31\n",
      "18\n",
      "60\n",
      "6\n",
      "16\n"
     ]
    }
   ],
   "source": [
    "# Gather mean and variance per word per genre\n",
    "\n",
    "p_word_stat = {}\n",
    "all_words = set()\n",
    "\n",
    "for genre in p_word:  \n",
    "  p_word_stat[genre] = {}\n",
    "  \n",
    "  for text in p_word[genre]:   \n",
    "    for word in p_word[genre][text]:\n",
    "      all_words.add(word)\n",
    "      \n",
    "      if word in p_word_stat[genre]:\n",
    "        p_word_stat[genre][word]['values'] = np.append(p_word_stat[genre][word]['values'], p_word[genre][text][word])\n",
    "      else:\n",
    "        p_word_stat[genre][word] = {}\n",
    "        p_word_stat[genre][word]['values'] = np.array([p_word[genre][text][word]])\n",
    "        \n",
    "  for word in p_word_stat[genre]:\n",
    "    if len(p_word_stat[genre][word]['values']) < len(p_word[genre]):      \n",
    "      dif = len(p_word[genre]) - len(p_word_stat[genre][word]['values'])      \n",
    "      p_word_stat[genre][word]['values'] = np.pad(p_word_stat[genre][word]['values'], (0,dif), 'constant')\n",
    "    \n",
    "    p_word_stat[genre][word]['mean'] = p_word_stat[genre][word]['values'].mean()\n",
    "    p_word_stat[genre][word]['var'] = p_word_stat[genre][word]['values'].var()\n",
    "    p_word_stat[genre][word]['std'] = p_word_stat[genre][word]['values'].std()\n",
    "  \n",
    "  print(len(p_word[genre]))"
   ]
  },
  {
   "cell_type": "code",
   "execution_count": 0,
   "metadata": {
    "colab": {
     "base_uri": "https://localhost:8080/",
     "height": 144
    },
    "colab_type": "code",
    "collapsed": false,
    "id": "uBkuwzggzEoY",
    "outputId": "f3df34f7-f2f1-434c-ae82-ed6f9500b44c"
   },
   "outputs": [
    {
     "name": "stdout",
     "output_type": "stream",
     "text": [
      "Number of words per genre\n",
      "\n",
      "ADVENTUR  :  33929\n",
      "DETECT  :  24706\n",
      "FANTAST  :  45532\n",
      "JOURNAL  :  37932\n",
      "TALES  :  16272\n"
     ]
    }
   ],
   "source": [
    "print('Number of words per genre\\n')\n",
    "\n",
    "for genre in p_word_stat:\n",
    "  print(genre, \" : \", len(p_word_stat[genre]))"
   ]
  },
  {
   "cell_type": "code",
   "execution_count": 0,
   "metadata": {
    "colab": {
     "base_uri": "https://localhost:8080/",
     "height": 53
    },
    "colab_type": "code",
    "collapsed": false,
    "id": "nN75VMY7Gp8c",
    "outputId": "f83c1974-9d3e-4068-92ca-cecad50df3e2"
   },
   "outputs": [
    {
     "name": "stdout",
     "output_type": "stream",
     "text": [
      "Total number of words:\n",
      "81968\n"
     ]
    }
   ],
   "source": [
    "print(\"Total number of words:\")\n",
    "all_len = len(all_words)\n",
    "print(all_len)\n"
   ]
  },
  {
   "cell_type": "code",
   "execution_count": 0,
   "metadata": {
    "colab": {
     "base_uri": "https://localhost:8080/",
     "height": 90
    },
    "colab_type": "code",
    "collapsed": false,
    "id": "VCTGNGIq6pIX",
    "outputId": "522ab71d-239f-4bd0-b797-513be3240858"
   },
   "outputs": [
    {
     "name": "stdout",
     "output_type": "stream",
     "text": [
      "Sherlock mean: 5.67049678816878088838\n",
      "[ 2.43902439  9.10569106  9.97304582  5.51724138 11.76470588 19.91869919\n",
      "  9.18836141  0.47732697  0.          0.          0.          0.\n",
      "  0.          0.          0.          0.          0.          0.        ]\n"
     ]
    }
   ],
   "source": [
    "v = p_word_stat[\"DETECT\"][\"sherlock\"]['std']\n",
    "\n",
    "print(\"Sherlock mean: {0:8.20f}\".format(v))\n",
    "print(p_word_stat[\"DETECT\"][\"sherlock\"]['values'])"
   ]
  },
  {
   "cell_type": "code",
   "execution_count": 0,
   "metadata": {
    "colab": {
     "base_uri": "https://localhost:8080/",
     "height": 290
    },
    "colab_type": "code",
    "collapsed": false,
    "id": "oLx11ZoEmXo7",
    "outputId": "708729ee-fa93-43d2-f1e9-5ae28a559352"
   },
   "outputs": [
    {
     "name": "stdout",
     "output_type": "stream",
     "text": [
      "obi\n",
      "{'values': array([0.22172949, 0.32520325, 0.26954178, 0.17241379, 0.1020929 ,\n",
      "       0.        , 0.        , 0.        , 0.        , 0.        ,\n",
      "       0.        , 0.        , 0.        , 0.        , 0.        ,\n",
      "       0.        , 0.        , 0.        ]), 'mean': 0.06061006770427873, 'var': 0.011199940231871604, 'std': 0.1058297700643425}\n",
      "doyle\n",
      "{'values': array([0.22172949, 0.32520325, 0.53908356, 0.51724138, 0.34602076,\n",
      "       0.40650407, 1.12302195, 0.        , 0.        , 0.        ,\n",
      "       0.        , 0.        , 0.        , 0.        , 0.        ,\n",
      "       0.        , 0.        , 0.        ]), 'mean': 0.19326691419874012, 'var': 0.08816040382246365, 'std': 0.29691817698225154}\n",
      "valley\n",
      "{'values': array([11.0864745 ,  0.32520325,  2.84552846,  2.22222222,  3.16488004,\n",
      "        0.1305483 ,  0.10493179,  0.38961039,  0.6103764 ,  0.50890585,\n",
      "        7.37864078,  0.        ,  0.        ,  0.        ,  0.        ,\n",
      "        0.        ,  0.        ,  0.        ]), 'mean': 1.5981845547887121, 'var': 8.630427101581512, 'std': 2.9377588569488666}\n"
     ]
    }
   ],
   "source": [
    "count = 3\n",
    "for item in p_word_stat['DETECT']:\n",
    "  print(item)\n",
    "  print(p_word_stat['DETECT'][item])\n",
    "  count -= 1\n",
    "  if count == 0:\n",
    "    break"
   ]
  },
  {
   "cell_type": "code",
   "execution_count": 0,
   "metadata": {
    "colab": {
     "base_uri": "https://localhost:8080/",
     "height": 35
    },
    "colab_type": "code",
    "collapsed": false,
    "id": "FibiMpZqw4Fc",
    "outputId": "4e5dc699-b381-4282-c859-84ee7909b0c8"
   },
   "outputs": [
    {
     "data": {
      "text/plain": [
       "2.2250738585072014e-308"
      ]
     },
     "execution_count": 99,
     "metadata": {
      "tags": []
     },
     "output_type": "execute_result"
    }
   ],
   "source": [
    "import sys\n",
    "fmin = sys.float_info.min\n",
    "fmin\n"
   ]
  },
  {
   "cell_type": "code",
   "execution_count": 0,
   "metadata": {
    "colab": {},
    "colab_type": "code",
    "collapsed": true,
    "id": "hBl-qSdOndNc"
   },
   "outputs": [],
   "source": [
    "import math\n",
    "\n",
    "def calculateProbability(x, mean, stdev):\n",
    "  exponent = math.exp(-(math.pow(x-mean,2)/(2*math.pow(stdev,2))))\n",
    "  return (1 / (math.sqrt(2*math.pi) * stdev)) * exponent\n",
    "\n",
    "\n",
    "def naive_product(text_bag, class_stats):\n",
    "  naive_p = 1\n",
    "  for word in text_bag:\n",
    "    try:\n",
    "      p = calculateProbability(text_bag[word], class_stats[word]['mean'], class_stats[word]['std'])\n",
    "      p = math.log(p)\n",
    "    except:\n",
    "      p = math.log(2.2250738585072014e-250)\n",
    "      \n",
    "    if not p == 0.0:      \n",
    "      naive_p += p      \n",
    "    else:\n",
    "      naive_p += math.log(2.2250738585072014e-250)\n",
    "      #print(naive_p)\n",
    "  return naive_p\n",
    "      "
   ]
  },
  {
   "cell_type": "code",
   "execution_count": 0,
   "metadata": {
    "colab": {},
    "colab_type": "code",
    "collapsed": true,
    "id": "7nmf3Ylcllb_"
   },
   "outputs": [],
   "source": [
    "def predict(text, priors=p_genres, classes=genres, word_stats=p_word_stat, short=False):\n",
    "  predictions = {}\n",
    "  text_lemma = clean_text_lemma(text)\n",
    "  text_bag = make_bag(text_lemma)  \n",
    "  \n",
    "  for genre in classes:\n",
    "    prediction = priors[genre] + naive_product(text_bag, word_stats[genre])\n",
    "    predictions[genre] = prediction\n",
    "  sorted_predictions = sorted(predictions.items(), key=lambda x: x[1], reverse=True)\n",
    "  if short == True:\n",
    "    return sorted_predictions[0][0]\n",
    "  else:\n",
    "    return sorted_predictions "
   ]
  },
  {
   "cell_type": "code",
   "execution_count": 0,
   "metadata": {
    "colab": {
     "base_uri": "https://localhost:8080/",
     "height": 108
    },
    "colab_type": "code",
    "collapsed": false,
    "id": "KSvgCB9yFdyF",
    "outputId": "f0a5e12f-e769-4d3e-d117-921507bd026a"
   },
   "outputs": [
    {
     "data": {
      "text/plain": [
       "[('DETECT', -74908.99095707077),\n",
       " ('FANTAST', -82940.88325451959),\n",
       " ('TALES', -87843.43001024672),\n",
       " ('ADVENTUR', -91815.62102402758),\n",
       " ('JOURNAL', -105875.95655661015)]"
      ]
     },
     "execution_count": 35,
     "metadata": {
      "tags": []
     },
     "output_type": "execute_result"
    }
   ],
   "source": [
    "alice = ''.join(open('alice.txt', 'r').readlines())\n",
    "\n",
    "predicted_genre = predict(alice)\n",
    "predicted_genre"
   ]
  },
  {
   "cell_type": "code",
   "execution_count": 0,
   "metadata": {
    "colab": {
     "base_uri": "https://localhost:8080/",
     "height": 108
    },
    "colab_type": "code",
    "collapsed": false,
    "id": "dDhwMVrMlL7q",
    "outputId": "197796e6-7406-4d32-8c56-4bdb1c114b53"
   },
   "outputs": [
    {
     "data": {
      "text/plain": [
       "[('DETECT', -3000.090694569574),\n",
       " ('JOURNAL', -3173.382427199093),\n",
       " ('FANTAST', -3868.5447572460243),\n",
       " ('ADVENTUR', -4026.711821415011),\n",
       " ('TALES', -4184.214898251618)]"
      ]
     },
     "execution_count": 36,
     "metadata": {
      "tags": []
     },
     "output_type": "execute_result"
    }
   ],
   "source": [
    "sherlock = \"Sherlock was surprised by this murder. Watson, we need to discuss the story of this victim's murder. I know who is the killer!\"\n",
    "\n",
    "predicted_genre = predict(sherlock)\n",
    "predicted_genre"
   ]
  },
  {
   "cell_type": "code",
   "execution_count": 0,
   "metadata": {
    "colab": {
     "base_uri": "https://localhost:8080/",
     "height": 108
    },
    "colab_type": "code",
    "collapsed": false,
    "id": "Wg8AtK7QGxcP",
    "outputId": "9a1ec88a-9a25-476d-8b7c-a9726ab08e11"
   },
   "outputs": [
    {
     "data": {
      "text/plain": [
       "[('FANTAST', -4143.873308735331),\n",
       " ('JOURNAL', -5672.778164760763),\n",
       " ('TALES', -5952.422561728007),\n",
       " ('ADVENTUR', -6415.458681361486),\n",
       " ('DETECT', -6826.844709901755)]"
      ]
     },
     "execution_count": 28,
     "metadata": {
      "tags": []
     },
     "output_type": "execute_result"
    }
   ],
   "source": [
    "cosmos = \"Jedi Luke showed to Yoda his new lightsaber and Dart Vader arrives. Princess Leia, help us!\"\n",
    "predicted_genre = predict(cosmos)\n",
    "predicted_genre"
   ]
  },
  {
   "cell_type": "code",
   "execution_count": 0,
   "metadata": {
    "colab": {
     "base_uri": "https://localhost:8080/",
     "height": 35
    },
    "colab_type": "code",
    "collapsed": false,
    "id": "VZvQ-P31lsB_",
    "outputId": "17137950-78b9-4d91-eaed-40cde069b10f"
   },
   "outputs": [
    {
     "data": {
      "text/plain": [
       "-8967.973666908447"
      ]
     },
     "execution_count": 31,
     "metadata": {
      "tags": []
     },
     "output_type": "execute_result"
    }
   ],
   "source": [
    "text_lemma = clean_text_lemma(alice)\n",
    "text_bag = make_bag(text_lemma)\n",
    "naive_product(text_bag, p_word_stat['DETECT'])"
   ]
  },
  {
   "cell_type": "markdown",
   "metadata": {
    "colab_type": "text",
    "id": "Q-qyRZdGV60T"
   },
   "source": [
    "### Estimate model"
   ]
  },
  {
   "cell_type": "code",
   "execution_count": 0,
   "metadata": {
    "colab": {
     "base_uri": "https://localhost:8080/",
     "height": 746
    },
    "colab_type": "code",
    "collapsed": false,
    "id": "Q9YoAbZMIEKL",
    "outputId": "6ad13c80-67a2-4267-ea5c-33c1a35f7de4"
   },
   "outputs": [
    {
     "name": "stdout",
     "output_type": "stream",
     "text": [
      "Predict ADVENTUR\n",
      "[('ADVENTUR', -7350.291547038683), ('FANTAST', -199610.93035125398), ('DETECT', -286241.0249147931), ('JOURNAL', -291960.0442172962), ('TALES', -365499.0467528624)]\n",
      "[('ADVENTUR', -12589.896702852891), ('FANTAST', -248460.177213426), ('DETECT', -327186.698595024), ('JOURNAL', -401209.87793600117), ('TALES', -563313.9930240097)]\n",
      "[('ADVENTUR', -6783.856783406289), ('FANTAST', -123411.23906952041), ('DETECT', -153839.84263882908), ('JOURNAL', -227363.85448479574), ('TALES', -290774.89811315754)]\n",
      "[('ADVENTUR', -13894.494968005654), ('FANTAST', -330398.3762626964), ('DETECT', -417573.4230665772), ('JOURNAL', -486177.7683475163), ('TALES', -595650.6568867869)]\n",
      "[('ADVENTUR', -12768.275505931899), ('FANTAST', -175890.1076072102), ('DETECT', -234377.60009002817), ('JOURNAL', -279896.2631909328), ('TALES', -349071.03703744954)]\n",
      "[('ADVENTUR', -16458.786890915075), ('FANTAST', -401335.0164325448), ('DETECT', -502349.22320811154), ('JOURNAL', -543116.2316149888), ('TALES', -781394.2208841159)]\n",
      "[('ADVENTUR', -7833.865359707971), ('FANTAST', -189485.53953557828), ('DETECT', -357933.23013253417), ('JOURNAL', -374958.97049339657), ('TALES', -700521.7633467253)]\n",
      "[('ADVENTUR', -25822.604085927716), ('FANTAST', -766367.9189110779), ('DETECT', -991425.3723248689), ('JOURNAL', -1184613.5197487755), ('TALES', -1743438.2866240388)]\n",
      "Predict DETECT\n",
      "[('FANTAST', -167107.22447786792), ('JOURNAL', -189735.19030434563), ('ADVENTUR', -255032.00894091665), ('DETECT', -273195.99359606113), ('TALES', -379363.72569311026)]\n",
      "[('DETECT', -12906.070226696344), ('ADVENTUR', -285929.767098466), ('FANTAST', -345047.8255651301), ('JOURNAL', -547372.428917169), ('TALES', -772186.2578840642)]\n",
      "[('DETECT', -48700.68391556374), ('ADVENTUR', -325926.2729076931), ('FANTAST', -342844.2742333465), ('JOURNAL', -519313.62775505864), ('TALES', -975222.4008733076)]\n",
      "[('DETECT', -5446.381093052539), ('FANTAST', -222692.35833299975), ('ADVENTUR', -226141.47342151025), ('JOURNAL', -316379.17202238215), ('TALES', -627242.3319981277)]\n",
      "[('DETECT', -4107.376526609692), ('ADVENTUR', -217612.29292191556), ('FANTAST', -227265.27854494724), ('JOURNAL', -313636.9341761043), ('TALES', -569099.6523958037)]\n",
      "Predict FANTAST\n",
      "[('FANTAST', -5859.884727488599), ('JOURNAL', -69903.38372417784), ('ADVENTUR', -73570.14898716995), ('DETECT', -89868.82174714036), ('TALES', -100085.61238750702)]\n",
      "[('FANTAST', -56585.600428499645), ('JOURNAL', -993848.4451750905), ('ADVENTUR', -1190468.630979825), ('DETECT', -1249478.5784848577), ('TALES', -1496173.1618737052)]\n",
      "[('FANTAST', -22022.382432364604), ('ADVENTUR', -325936.59157536004), ('JOURNAL', -331537.0178706128), ('DETECT', -385696.4098923573), ('TALES', -413441.628278693)]\n",
      "[('FANTAST', -17965.36401138125), ('JOURNAL', -234020.60554565937), ('ADVENTUR', -279293.36406176153), ('DETECT', -322115.79455722176), ('TALES', -364546.44059258874)]\n",
      "[('FANTAST', -18722.117664507343), ('JOURNAL', -369339.33090837655), ('ADVENTUR', -438054.41318617866), ('DETECT', -563576.58415968), ('TALES', -833799.5370625074)]\n",
      "[('FANTAST', -7275.495279184621), ('ADVENTUR', -81777.66287632084), ('JOURNAL', -92405.79856767291), ('DETECT', -103787.45719229782), ('TALES', -131330.23465206847)]\n",
      "[('FANTAST', -4580.985469752756), ('JOURNAL', -56030.200073605956), ('ADVENTUR', -66415.81528019835), ('DETECT', -75556.18540620082), ('TALES', -80454.17891578592)]\n",
      "[('FANTAST', -7088.5516971601155), ('JOURNAL', -102460.23048991246), ('ADVENTUR', -110235.34283885715), ('DETECT', -119875.05111919456), ('TALES', -133829.20186226905)]\n",
      "[('FANTAST', -5281.018739120808), ('JOURNAL', -65461.136789740944), ('ADVENTUR', -67022.09973602812), ('DETECT', -80853.2237856018), ('TALES', -83245.65441091564)]\n",
      "[('FANTAST', -5615.955503842345), ('ADVENTUR', -70759.52399175496), ('JOURNAL', -72614.54409313019), ('DETECT', -78415.36426870241), ('TALES', -101036.0736486019)]\n",
      "[('FANTAST', -19979.69934349658), ('ADVENTUR', -162949.49400486855), ('DETECT', -327623.641351111), ('JOURNAL', -389567.8478196143), ('TALES', -648357.2003295879)]\n",
      "[('FANTAST', -7079.178016984937), ('ADVENTUR', -71979.86860579843), ('DETECT', -93512.39755761926), ('JOURNAL', -103027.11763183125), ('TALES', -135957.26526860325)]\n",
      "[('FANTAST', -31582.202922510653), ('JOURNAL', -476134.4587690228), ('ADVENTUR', -590496.1737225434), ('DETECT', -708856.7382828878), ('TALES', -921151.7323514958)]\n",
      "[('FANTAST', -72635.38958891555), ('JOURNAL', -1191646.1492371806), ('ADVENTUR', -1618545.716717654), ('DETECT', -1873825.1429976574), ('TALES', -2549168.508265706)]\n",
      "[('FANTAST', -38518.96967626873), ('ADVENTUR', -297429.4828117529), ('DETECT', -522014.71158496354), ('JOURNAL', -629258.0246442184), ('TALES', -819604.2649833509)]\n",
      "Predict JOURNAL\n",
      "[('JOURNAL', -492540.7599294438), ('FANTAST', -568466.6806003927), ('ADVENTUR', -791775.0791988352), ('DETECT', -873662.8019673609), ('TALES', -1106832.4953127378)]\n",
      "[('JOURNAL', -4408.913381748753), ('FANTAST', -392485.3370129403), ('ADVENTUR', -533085.1192580028), ('DETECT', -566445.6938473019), ('TALES', -668546.7110053659)]\n",
      "Predict TALES\n",
      "[('ADVENTUR', -102524.38635096331), ('FANTAST', -104654.30690759495), ('DETECT', -168154.34804979208), ('JOURNAL', -193222.44164094672), ('TALES', -253932.45730304782)]\n",
      "[('FANTAST', -47576.91331812538), ('JOURNAL', -60248.26228899287), ('ADVENTUR', -68228.4251262669), ('DETECT', -78139.99465721028), ('TALES', -78768.02064080293)]\n",
      "[('TALES', -10843.132599755088), ('ADVENTUR', -172514.84318815745), ('FANTAST', -200532.08656204626), ('DETECT', -304999.2390180903), ('JOURNAL', -346977.8414826397)]\n",
      "[('TALES', -8608.029998823316), ('ADVENTUR', -100635.28669481314), ('FANTAST', -130084.4316221178), ('JOURNAL', -201886.45392816424), ('DETECT', -209862.07057386107)]\n"
     ]
    }
   ],
   "source": [
    "df = pd.DataFrame(columns=['labels', 'predicted', 'correct'])\n",
    "\n",
    "total = 0\n",
    "guessed = 0\n",
    "predicted = ''\n",
    "for genre in test_texts:\n",
    "  print(\"Predict\", genre)\n",
    "  for text in test_texts[genre]:\n",
    "    total += 1\n",
    "    prediction = predict(test_texts[genre][text])\n",
    "    predicted = prediction[0][0]\n",
    "    df = df.append({'labels': genre, 'predicted': predicted, 'correct': genre==predicted}, ignore_index=True)\n",
    "    print(prediction)\n",
    "    if predicted == genre:\n",
    "      guessed += 1    "
   ]
  },
  {
   "cell_type": "code",
   "execution_count": 0,
   "metadata": {
    "colab": {
     "base_uri": "https://localhost:8080/",
     "height": 35
    },
    "colab_type": "code",
    "collapsed": false,
    "id": "OU8lKV5gWo8b",
    "outputId": "d1094f52-b522-4533-c4c2-0adda4c3e15e"
   },
   "outputs": [
    {
     "name": "stdout",
     "output_type": "stream",
     "text": [
      "Model accuracy:     0.91\n"
     ]
    }
   ],
   "source": [
    "print(\"Model accuracy:\", \"{0:8.2f}\".format(guessed / total))"
   ]
  },
  {
   "cell_type": "code",
   "execution_count": 0,
   "metadata": {
    "colab": {
     "base_uri": "https://localhost:8080/",
     "height": 206
    },
    "colab_type": "code",
    "collapsed": false,
    "id": "XcqQNWu1aMC7",
    "outputId": "ab04a609-fbde-4516-e64c-6165baaa5d70"
   },
   "outputs": [
    {
     "data": {
      "text/html": [
       "<div>\n",
       "<style scoped>\n",
       "    .dataframe tbody tr th:only-of-type {\n",
       "        vertical-align: middle;\n",
       "    }\n",
       "\n",
       "    .dataframe tbody tr th {\n",
       "        vertical-align: top;\n",
       "    }\n",
       "\n",
       "    .dataframe thead th {\n",
       "        text-align: right;\n",
       "    }\n",
       "</style>\n",
       "<table border=\"1\" class=\"dataframe\">\n",
       "  <thead>\n",
       "    <tr style=\"text-align: right;\">\n",
       "      <th></th>\n",
       "      <th>labels</th>\n",
       "      <th>predicted</th>\n",
       "      <th>correct</th>\n",
       "    </tr>\n",
       "  </thead>\n",
       "  <tbody>\n",
       "    <tr>\n",
       "      <th>0</th>\n",
       "      <td>ADVENTUR</td>\n",
       "      <td>ADVENTUR</td>\n",
       "      <td>True</td>\n",
       "    </tr>\n",
       "    <tr>\n",
       "      <th>1</th>\n",
       "      <td>ADVENTUR</td>\n",
       "      <td>ADVENTUR</td>\n",
       "      <td>True</td>\n",
       "    </tr>\n",
       "    <tr>\n",
       "      <th>2</th>\n",
       "      <td>ADVENTUR</td>\n",
       "      <td>ADVENTUR</td>\n",
       "      <td>True</td>\n",
       "    </tr>\n",
       "    <tr>\n",
       "      <th>3</th>\n",
       "      <td>ADVENTUR</td>\n",
       "      <td>ADVENTUR</td>\n",
       "      <td>True</td>\n",
       "    </tr>\n",
       "    <tr>\n",
       "      <th>4</th>\n",
       "      <td>ADVENTUR</td>\n",
       "      <td>ADVENTUR</td>\n",
       "      <td>True</td>\n",
       "    </tr>\n",
       "  </tbody>\n",
       "</table>\n",
       "</div>"
      ],
      "text/plain": [
       "     labels predicted correct\n",
       "0  ADVENTUR  ADVENTUR    True\n",
       "1  ADVENTUR  ADVENTUR    True\n",
       "2  ADVENTUR  ADVENTUR    True\n",
       "3  ADVENTUR  ADVENTUR    True\n",
       "4  ADVENTUR  ADVENTUR    True"
      ]
     },
     "execution_count": 40,
     "metadata": {
      "tags": []
     },
     "output_type": "execute_result"
    }
   ],
   "source": [
    "df.head()"
   ]
  },
  {
   "cell_type": "code",
   "execution_count": 0,
   "metadata": {
    "colab": {
     "base_uri": "https://localhost:8080/",
     "height": 380
    },
    "colab_type": "code",
    "collapsed": false,
    "id": "fWNYiZdAQZLm",
    "outputId": "b8c6e300-8193-473d-a4a6-d9d4ae4a0cfe"
   },
   "outputs": [
    {
     "name": "stdout",
     "output_type": "stream",
     "text": [
      "Homemade Report:\n",
      "F1 for ADVENTUR 0.94\n",
      "F1 for DETECT 0.89\n",
      "F1 for FANTAST 0.94\n",
      "F1 for JOURNAL 1.0\n",
      "F1 for TALES 0.67\n",
      "Total: 0.89\n",
      "\n",
      "\n",
      "Sklearn Report:\n",
      "             precision    recall  f1-score   support\n",
      "\n",
      "   ADVENTUR       0.89      1.00      0.94         8\n",
      "     DETECT       1.00      0.80      0.89         5\n",
      "    FANTAST       0.88      1.00      0.94        15\n",
      "    JOURNAL       1.00      1.00      1.00         2\n",
      "      TALES       1.00      0.50      0.67         4\n",
      "\n",
      "avg / total       0.92      0.91      0.90        34\n",
      "\n"
     ]
    }
   ],
   "source": [
    "from sklearn.metrics import f1_score\n",
    "from sklearn.metrics import classification_report, confusion_matrix\n",
    "\n",
    "def find_f1(label):\n",
    "  true_positives = len(df[(df['correct'] == True) & (df['labels'] == label)])  \n",
    "  false_negatives = len(df[(df['correct'] == False) & (df['labels'] == label)])  \n",
    "  false_positives = len(df[(df['correct'] == False) & (df['predicted'] == label)])\n",
    "                           \n",
    "  precision = true_positives / (true_positives + false_positives)  \n",
    "  recall = true_positives / (true_positives + false_negatives)  \n",
    "  f1 = 2 * ((precision*recall) / (precision + recall))\n",
    "  return f1\n",
    "\n",
    "print('Homemade Report:')\n",
    "f1_total = 0\n",
    "for genre in genres:\n",
    "  f1 = round(find_f1(genre), 2)\n",
    "  print('F1 for {0}'.format(genre), f1)\n",
    "  f1_total += f1\n",
    "print('Total:', round(f1_total/len(genres), 2))\n",
    "  \n",
    "  \n",
    "print('\\n')\n",
    "print('Sklearn Report:')\n",
    "print(classification_report(df['labels'], df['predicted']))"
   ]
  },
  {
   "cell_type": "code",
   "execution_count": 0,
   "metadata": {
    "colab": {
     "base_uri": "https://localhost:8080/",
     "height": 108
    },
    "colab_type": "code",
    "collapsed": false,
    "id": "3SgsiCtgSBfY",
    "outputId": "461534b9-a893-427b-be31-54e78582522b"
   },
   "outputs": [
    {
     "name": "stdout",
     "output_type": "stream",
     "text": [
      "[[ 8  0  0  0  0]\n",
      " [ 0  4  1  0  0]\n",
      " [ 0  0 15  0  0]\n",
      " [ 0  0  0  2  0]\n",
      " [ 1  0  1  0  2]]\n"
     ]
    }
   ],
   "source": [
    "cnf_matrix = confusion_matrix(df['labels'], df['predicted'], labels=genres)\n",
    "print(cnf_matrix)"
   ]
  },
  {
   "cell_type": "code",
   "execution_count": 0,
   "metadata": {
    "colab": {},
    "colab_type": "code",
    "collapsed": true,
    "id": "syvY-SzJXUmL"
   },
   "outputs": [],
   "source": [
    "import itertools\n",
    "%matplotlib inline\n",
    "from matplotlib import pyplot as plt\n",
    "\t\n",
    "def plot_confusion_matrix(cm, classes,\n",
    "                          normalize=False,\n",
    "                          title='Confusion matrix',\n",
    "                          cmap=plt.cm.Blues):\n",
    "    \"\"\"\n",
    "    This function prints and plots the confusion matrix.\n",
    "    Normalization can be applied by setting `normalize=True`.\n",
    "    \"\"\"\n",
    "    if normalize:\n",
    "        cm = cm.astype('float') / cm.sum(axis=1)[:, np.newaxis]\n",
    "        print(\"Normalized confusion matrix\")\n",
    "    else:\n",
    "        print('Confusion matrix, without normalization')    \n",
    "\n",
    "    plt.imshow(cm, interpolation='nearest', cmap=cmap)\n",
    "    plt.title(title)\n",
    "    plt.colorbar()\n",
    "    tick_marks = np.arange(len(classes))\n",
    "    plt.xticks(tick_marks, classes, rotation=45)\n",
    "    plt.yticks(tick_marks, classes)\n",
    "\n",
    "    fmt = '.2f' if normalize else 'd'\n",
    "    thresh = cm.max() / 2.\n",
    "    for i, j in itertools.product(range(cm.shape[0]), range(cm.shape[1])):\n",
    "        plt.text(j, i, format(cm[i, j], fmt),\n",
    "                 horizontalalignment=\"center\",\n",
    "                 color=\"white\" if cm[i, j] > thresh else \"black\")\n",
    "\n",
    "    plt.tight_layout()\n",
    "    plt.ylabel('True label')\n",
    "    plt.xlabel('Predicted label')"
   ]
  },
  {
   "cell_type": "code",
   "execution_count": 0,
   "metadata": {
    "colab": {
     "base_uri": "https://localhost:8080/",
     "height": 329
    },
    "colab_type": "code",
    "collapsed": false,
    "id": "PxxTfXssXhrl",
    "outputId": "194810e4-47e7-47a3-dba0-ec9e166c1452"
   },
   "outputs": [
    {
     "name": "stdout",
     "output_type": "stream",
     "text": [
      "Confusion matrix, without normalization\n"
     ]
    },
    {
     "data": {
      "image/png": "[encoded data removed]",
      "text/plain": [
       "<matplotlib.figure.Figure at 0x7fbde7489048>"
      ]
     },
     "metadata": {
      "tags": []
     },
     "output_type": "display_data"
    }
   ],
   "source": [
    "# Plot non-normalized confusion matrix\n",
    "plt.figure()\n",
    "plot_confusion_matrix(cnf_matrix, classes=genres, normalize=False,  title='Confusion matrix')"
   ]
  },
  {
   "cell_type": "markdown",
   "metadata": {
    "colab_type": "text",
    "id": "P_wT2tplCIBz"
   },
   "source": [
    "### Predict genre of twits"
   ]
  },
  {
   "cell_type": "code",
   "execution_count": 0,
   "metadata": {
    "colab": {},
    "colab_type": "code",
    "collapsed": true,
    "id": "L_vr7sXwXpC2"
   },
   "outputs": [],
   "source": [
    "utwits = pd.read_csv(\"../c_ukraine.tsv\", sep='\\t')"
   ]
  },
  {
   "cell_type": "code",
   "execution_count": 0,
   "metadata": {
    "colab": {
     "base_uri": "https://localhost:8080/",
     "height": 206
    },
    "colab_type": "code",
    "collapsed": false,
    "id": "wv3_hWUgCcfA",
    "outputId": "8a95e0b0-ed78-4374-c877-5597b7e62bbc"
   },
   "outputs": [
    {
     "data": {
      "text/html": [
       "<div>\n",
       "<style scoped>\n",
       "    .dataframe tbody tr th:only-of-type {\n",
       "        vertical-align: middle;\n",
       "    }\n",
       "\n",
       "    .dataframe tbody tr th {\n",
       "        vertical-align: top;\n",
       "    }\n",
       "\n",
       "    .dataframe thead th {\n",
       "        text-align: right;\n",
       "    }\n",
       "</style>\n",
       "<table border=\"1\" class=\"dataframe\">\n",
       "  <thead>\n",
       "    <tr style=\"text-align: right;\">\n",
       "      <th></th>\n",
       "      <th>text</th>\n",
       "      <th>src</th>\n",
       "      <th>user_location</th>\n",
       "      <th>country</th>\n",
       "      <th>created_at</th>\n",
       "    </tr>\n",
       "  </thead>\n",
       "  <tbody>\n",
       "    <tr>\n",
       "      <th>0</th>\n",
       "      <td>RT @MrSandy_P: @ottocrat On the first skim rea...</td>\n",
       "      <td>twitter</td>\n",
       "      <td>riding a unicorn on the moon</td>\n",
       "      <td>NaN</td>\n",
       "      <td>1540984571</td>\n",
       "    </tr>\n",
       "    <tr>\n",
       "      <th>1</th>\n",
       "      <td>RT @ottocrat: I wonder what the result would h...</td>\n",
       "      <td>twitter</td>\n",
       "      <td>riding a unicorn on the moon</td>\n",
       "      <td>NaN</td>\n",
       "      <td>1540984573</td>\n",
       "    </tr>\n",
       "    <tr>\n",
       "      <th>2</th>\n",
       "      <td>RT @SwedenUN: #Russia’s aggression against #Uk...</td>\n",
       "      <td>twitter</td>\n",
       "      <td>Toronto, Ontario</td>\n",
       "      <td>NaN</td>\n",
       "      <td>1540984577</td>\n",
       "    </tr>\n",
       "    <tr>\n",
       "      <th>3</th>\n",
       "      <td>RT @tccandler: NICK BATEMAN (Canada), LAY (Chi...</td>\n",
       "      <td>twitter</td>\n",
       "      <td>NaN</td>\n",
       "      <td>NaN</td>\n",
       "      <td>1540984586</td>\n",
       "    </tr>\n",
       "    <tr>\n",
       "      <th>4</th>\n",
       "      <td>@tccandler @_MELOVIN_ I vote for #Melovin @_ME...</td>\n",
       "      <td>twitter</td>\n",
       "      <td>Kijów, LA, Odessa, Warszawa</td>\n",
       "      <td>NaN</td>\n",
       "      <td>1540984640</td>\n",
       "    </tr>\n",
       "  </tbody>\n",
       "</table>\n",
       "</div>"
      ],
      "text/plain": [
       "                                                text      src  \\\n",
       "0  RT @MrSandy_P: @ottocrat On the first skim rea...  twitter   \n",
       "1  RT @ottocrat: I wonder what the result would h...  twitter   \n",
       "2  RT @SwedenUN: #Russia’s aggression against #Uk...  twitter   \n",
       "3  RT @tccandler: NICK BATEMAN (Canada), LAY (Chi...  twitter   \n",
       "4  @tccandler @_MELOVIN_ I vote for #Melovin @_ME...  twitter   \n",
       "\n",
       "                  user_location country  created_at  \n",
       "0  riding a unicorn on the moon     NaN  1540984571  \n",
       "1  riding a unicorn on the moon     NaN  1540984573  \n",
       "2              Toronto, Ontario     NaN  1540984577  \n",
       "3                           NaN     NaN  1540984586  \n",
       "4   Kijów, LA, Odessa, Warszawa     NaN  1540984640  "
      ]
     },
     "execution_count": 46,
     "metadata": {
      "tags": []
     },
     "output_type": "execute_result"
    }
   ],
   "source": [
    "utwits.head()"
   ]
  },
  {
   "cell_type": "code",
   "execution_count": 0,
   "metadata": {
    "colab": {},
    "colab_type": "code",
    "collapsed": true,
    "id": "W1NIbDTaCftO"
   },
   "outputs": [],
   "source": [
    "utwits['genre'] = utwits['text'].apply(lambda x: predict(x, short=True))"
   ]
  },
  {
   "cell_type": "code",
   "execution_count": 0,
   "metadata": {
    "colab": {
     "base_uri": "https://localhost:8080/",
     "height": 206
    },
    "colab_type": "code",
    "collapsed": false,
    "id": "Hi2djq6VC_JB",
    "outputId": "680e3e56-a201-4d5b-c3c2-a309b6702be1"
   },
   "outputs": [
    {
     "data": {
      "text/html": [
       "<div>\n",
       "<style scoped>\n",
       "    .dataframe tbody tr th:only-of-type {\n",
       "        vertical-align: middle;\n",
       "    }\n",
       "\n",
       "    .dataframe tbody tr th {\n",
       "        vertical-align: top;\n",
       "    }\n",
       "\n",
       "    .dataframe thead th {\n",
       "        text-align: right;\n",
       "    }\n",
       "</style>\n",
       "<table border=\"1\" class=\"dataframe\">\n",
       "  <thead>\n",
       "    <tr style=\"text-align: right;\">\n",
       "      <th></th>\n",
       "      <th>text</th>\n",
       "      <th>src</th>\n",
       "      <th>user_location</th>\n",
       "      <th>country</th>\n",
       "      <th>created_at</th>\n",
       "      <th>genre</th>\n",
       "    </tr>\n",
       "  </thead>\n",
       "  <tbody>\n",
       "    <tr>\n",
       "      <th>0</th>\n",
       "      <td>RT @MrSandy_P: @ottocrat On the first skim rea...</td>\n",
       "      <td>twitter</td>\n",
       "      <td>riding a unicorn on the moon</td>\n",
       "      <td>NaN</td>\n",
       "      <td>1540984571</td>\n",
       "      <td>FANTAST</td>\n",
       "    </tr>\n",
       "    <tr>\n",
       "      <th>1</th>\n",
       "      <td>RT @ottocrat: I wonder what the result would h...</td>\n",
       "      <td>twitter</td>\n",
       "      <td>riding a unicorn on the moon</td>\n",
       "      <td>NaN</td>\n",
       "      <td>1540984573</td>\n",
       "      <td>FANTAST</td>\n",
       "    </tr>\n",
       "    <tr>\n",
       "      <th>2</th>\n",
       "      <td>RT @SwedenUN: #Russia’s aggression against #Uk...</td>\n",
       "      <td>twitter</td>\n",
       "      <td>Toronto, Ontario</td>\n",
       "      <td>NaN</td>\n",
       "      <td>1540984577</td>\n",
       "      <td>JOURNAL</td>\n",
       "    </tr>\n",
       "    <tr>\n",
       "      <th>3</th>\n",
       "      <td>RT @tccandler: NICK BATEMAN (Canada), LAY (Chi...</td>\n",
       "      <td>twitter</td>\n",
       "      <td>NaN</td>\n",
       "      <td>NaN</td>\n",
       "      <td>1540984586</td>\n",
       "      <td>JOURNAL</td>\n",
       "    </tr>\n",
       "    <tr>\n",
       "      <th>4</th>\n",
       "      <td>@tccandler @_MELOVIN_ I vote for #Melovin @_ME...</td>\n",
       "      <td>twitter</td>\n",
       "      <td>Kijów, LA, Odessa, Warszawa</td>\n",
       "      <td>NaN</td>\n",
       "      <td>1540984640</td>\n",
       "      <td>JOURNAL</td>\n",
       "    </tr>\n",
       "  </tbody>\n",
       "</table>\n",
       "</div>"
      ],
      "text/plain": [
       "                                                text      src  \\\n",
       "0  RT @MrSandy_P: @ottocrat On the first skim rea...  twitter   \n",
       "1  RT @ottocrat: I wonder what the result would h...  twitter   \n",
       "2  RT @SwedenUN: #Russia’s aggression against #Uk...  twitter   \n",
       "3  RT @tccandler: NICK BATEMAN (Canada), LAY (Chi...  twitter   \n",
       "4  @tccandler @_MELOVIN_ I vote for #Melovin @_ME...  twitter   \n",
       "\n",
       "                  user_location country  created_at    genre  \n",
       "0  riding a unicorn on the moon     NaN  1540984571  FANTAST  \n",
       "1  riding a unicorn on the moon     NaN  1540984573  FANTAST  \n",
       "2              Toronto, Ontario     NaN  1540984577  JOURNAL  \n",
       "3                           NaN     NaN  1540984586  JOURNAL  \n",
       "4   Kijów, LA, Odessa, Warszawa     NaN  1540984640  JOURNAL  "
      ]
     },
     "execution_count": 50,
     "metadata": {
      "tags": []
     },
     "output_type": "execute_result"
    }
   ],
   "source": [
    "utwits.head()"
   ]
  },
  {
   "cell_type": "code",
   "execution_count": 0,
   "metadata": {
    "colab": {
     "base_uri": "https://localhost:8080/",
     "height": 126
    },
    "colab_type": "code",
    "collapsed": false,
    "id": "9qA6WROjDJG-",
    "outputId": "70d0031a-2db3-49a2-9cc8-a4f21c38c1d8"
   },
   "outputs": [
    {
     "data": {
      "text/plain": [
       "FANTAST     1898\n",
       "JOURNAL     1329\n",
       "ADVENTUR     491\n",
       "TALES        333\n",
       "DETECT        41\n",
       "Name: genre, dtype: int64"
      ]
     },
     "execution_count": 51,
     "metadata": {
      "tags": []
     },
     "output_type": "execute_result"
    }
   ],
   "source": [
    "utwits['genre'].value_counts()"
   ]
  },
  {
   "cell_type": "code",
   "execution_count": 0,
   "metadata": {
    "colab": {
     "base_uri": "https://localhost:8080/",
     "height": 328
    },
    "colab_type": "code",
    "collapsed": false,
    "id": "vEDKtlX4Dc91",
    "outputId": "7acff935-8f21-479a-ad0f-a4bf2f1d3002"
   },
   "outputs": [
    {
     "data": {
      "text/plain": [
       "<matplotlib.axes._subplots.AxesSubplot at 0x7f265555d7f0>"
      ]
     },
     "execution_count": 56,
     "metadata": {
      "tags": []
     },
     "output_type": "execute_result"
    },
    {
     "data": {
      "image/png": "[encoded data removed]",
      "text/plain": [
       "<matplotlib.figure.Figure at 0x7f2652613668>"
      ]
     },
     "metadata": {
      "tags": []
     },
     "output_type": "display_data"
    }
   ],
   "source": [
    "utwits['genre'].value_counts().plot(kind=\"bar\")"
   ]
  },
  {
   "cell_type": "code",
   "execution_count": 0,
   "metadata": {
    "colab": {},
    "colab_type": "code",
    "collapsed": true,
    "id": "U2Pf2v3PDqMw"
   },
   "outputs": [],
   "source": [
    "itwits = pd.read_csv('../twitbase2.tsv', sep='\\t')"
   ]
  },
  {
   "cell_type": "code",
   "execution_count": 0,
   "metadata": {
    "colab": {
     "base_uri": "https://localhost:8080/",
     "height": 206
    },
    "colab_type": "code",
    "collapsed": false,
    "id": "raaFlHpOEbGx",
    "outputId": "96c0c872-0967-4c92-bab8-03751dc8c0a7"
   },
   "outputs": [
    {
     "data": {
      "text/html": [
       "<div>\n",
       "<style scoped>\n",
       "    .dataframe tbody tr th:only-of-type {\n",
       "        vertical-align: middle;\n",
       "    }\n",
       "\n",
       "    .dataframe tbody tr th {\n",
       "        vertical-align: top;\n",
       "    }\n",
       "\n",
       "    .dataframe thead th {\n",
       "        text-align: right;\n",
       "    }\n",
       "</style>\n",
       "<table border=\"1\" class=\"dataframe\">\n",
       "  <thead>\n",
       "    <tr style=\"text-align: right;\">\n",
       "      <th></th>\n",
       "      <th>text</th>\n",
       "      <th>src</th>\n",
       "      <th>coordinates</th>\n",
       "      <th>place</th>\n",
       "      <th>created_at</th>\n",
       "    </tr>\n",
       "  </thead>\n",
       "  <tbody>\n",
       "    <tr>\n",
       "      <th>0</th>\n",
       "      <td>RT @europecoinEUORG: \"cloudy\" perspective FINA...</td>\n",
       "      <td>twitter</td>\n",
       "      <td>NaN</td>\n",
       "      <td>NaN</td>\n",
       "      <td>1540335991</td>\n",
       "    </tr>\n",
       "    <tr>\n",
       "      <th>1</th>\n",
       "      <td>RT @moonemotion: #5G will move massive amounts...</td>\n",
       "      <td>twitter</td>\n",
       "      <td>NaN</td>\n",
       "      <td>NaN</td>\n",
       "      <td>1540335991</td>\n",
       "    </tr>\n",
       "    <tr>\n",
       "      <th>2</th>\n",
       "      <td>RT @udacity: Hours left to apply for the @PyTo...</td>\n",
       "      <td>twitter</td>\n",
       "      <td>NaN</td>\n",
       "      <td>NaN</td>\n",
       "      <td>1540335996</td>\n",
       "    </tr>\n",
       "    <tr>\n",
       "      <th>3</th>\n",
       "      <td>RT @MikeQuindazzi: #AI and #IoT the most relev...</td>\n",
       "      <td>twitter</td>\n",
       "      <td>NaN</td>\n",
       "      <td>NaN</td>\n",
       "      <td>1540335997</td>\n",
       "    </tr>\n",
       "    <tr>\n",
       "      <th>4</th>\n",
       "      <td>RT @rajat_shrimal: This futuristic bus is 100%...</td>\n",
       "      <td>twitter</td>\n",
       "      <td>NaN</td>\n",
       "      <td>NaN</td>\n",
       "      <td>1540335998</td>\n",
       "    </tr>\n",
       "  </tbody>\n",
       "</table>\n",
       "</div>"
      ],
      "text/plain": [
       "                                                text      src coordinates  \\\n",
       "0  RT @europecoinEUORG: \"cloudy\" perspective FINA...  twitter         NaN   \n",
       "1  RT @moonemotion: #5G will move massive amounts...  twitter         NaN   \n",
       "2  RT @udacity: Hours left to apply for the @PyTo...  twitter         NaN   \n",
       "3  RT @MikeQuindazzi: #AI and #IoT the most relev...  twitter         NaN   \n",
       "4  RT @rajat_shrimal: This futuristic bus is 100%...  twitter         NaN   \n",
       "\n",
       "  place  created_at  \n",
       "0   NaN  1540335991  \n",
       "1   NaN  1540335991  \n",
       "2   NaN  1540335996  \n",
       "3   NaN  1540335997  \n",
       "4   NaN  1540335998  "
      ]
     },
     "execution_count": 58,
     "metadata": {
      "tags": []
     },
     "output_type": "execute_result"
    }
   ],
   "source": [
    "itwits.head()"
   ]
  },
  {
   "cell_type": "code",
   "execution_count": 0,
   "metadata": {
    "colab": {},
    "colab_type": "code",
    "collapsed": true,
    "id": "IhVW42IhEdQL"
   },
   "outputs": [],
   "source": [
    "itwits['genre'] = itwits['text'].apply(lambda x: predict(x, short=True))"
   ]
  },
  {
   "cell_type": "code",
   "execution_count": 0,
   "metadata": {
    "colab": {
     "base_uri": "https://localhost:8080/",
     "height": 206
    },
    "colab_type": "code",
    "collapsed": false,
    "id": "cg_uFlvGEjGY",
    "outputId": "a25be68a-1370-4c79-8219-f9caac6852bf"
   },
   "outputs": [
    {
     "data": {
      "text/html": [
       "<div>\n",
       "<style scoped>\n",
       "    .dataframe tbody tr th:only-of-type {\n",
       "        vertical-align: middle;\n",
       "    }\n",
       "\n",
       "    .dataframe tbody tr th {\n",
       "        vertical-align: top;\n",
       "    }\n",
       "\n",
       "    .dataframe thead th {\n",
       "        text-align: right;\n",
       "    }\n",
       "</style>\n",
       "<table border=\"1\" class=\"dataframe\">\n",
       "  <thead>\n",
       "    <tr style=\"text-align: right;\">\n",
       "      <th></th>\n",
       "      <th>text</th>\n",
       "      <th>src</th>\n",
       "      <th>coordinates</th>\n",
       "      <th>place</th>\n",
       "      <th>created_at</th>\n",
       "      <th>genre</th>\n",
       "    </tr>\n",
       "  </thead>\n",
       "  <tbody>\n",
       "    <tr>\n",
       "      <th>0</th>\n",
       "      <td>RT @europecoinEUORG: \"cloudy\" perspective FINA...</td>\n",
       "      <td>twitter</td>\n",
       "      <td>NaN</td>\n",
       "      <td>NaN</td>\n",
       "      <td>1540335991</td>\n",
       "      <td>ADVENTUR</td>\n",
       "    </tr>\n",
       "    <tr>\n",
       "      <th>1</th>\n",
       "      <td>RT @moonemotion: #5G will move massive amounts...</td>\n",
       "      <td>twitter</td>\n",
       "      <td>NaN</td>\n",
       "      <td>NaN</td>\n",
       "      <td>1540335991</td>\n",
       "      <td>FANTAST</td>\n",
       "    </tr>\n",
       "    <tr>\n",
       "      <th>2</th>\n",
       "      <td>RT @udacity: Hours left to apply for the @PyTo...</td>\n",
       "      <td>twitter</td>\n",
       "      <td>NaN</td>\n",
       "      <td>NaN</td>\n",
       "      <td>1540335996</td>\n",
       "      <td>JOURNAL</td>\n",
       "    </tr>\n",
       "    <tr>\n",
       "      <th>3</th>\n",
       "      <td>RT @MikeQuindazzi: #AI and #IoT the most relev...</td>\n",
       "      <td>twitter</td>\n",
       "      <td>NaN</td>\n",
       "      <td>NaN</td>\n",
       "      <td>1540335997</td>\n",
       "      <td>JOURNAL</td>\n",
       "    </tr>\n",
       "    <tr>\n",
       "      <th>4</th>\n",
       "      <td>RT @rajat_shrimal: This futuristic bus is 100%...</td>\n",
       "      <td>twitter</td>\n",
       "      <td>NaN</td>\n",
       "      <td>NaN</td>\n",
       "      <td>1540335998</td>\n",
       "      <td>JOURNAL</td>\n",
       "    </tr>\n",
       "  </tbody>\n",
       "</table>\n",
       "</div>"
      ],
      "text/plain": [
       "                                                text      src coordinates  \\\n",
       "0  RT @europecoinEUORG: \"cloudy\" perspective FINA...  twitter         NaN   \n",
       "1  RT @moonemotion: #5G will move massive amounts...  twitter         NaN   \n",
       "2  RT @udacity: Hours left to apply for the @PyTo...  twitter         NaN   \n",
       "3  RT @MikeQuindazzi: #AI and #IoT the most relev...  twitter         NaN   \n",
       "4  RT @rajat_shrimal: This futuristic bus is 100%...  twitter         NaN   \n",
       "\n",
       "  place  created_at     genre  \n",
       "0   NaN  1540335991  ADVENTUR  \n",
       "1   NaN  1540335991   FANTAST  \n",
       "2   NaN  1540335996   JOURNAL  \n",
       "3   NaN  1540335997   JOURNAL  \n",
       "4   NaN  1540335998   JOURNAL  "
      ]
     },
     "execution_count": 60,
     "metadata": {
      "tags": []
     },
     "output_type": "execute_result"
    }
   ],
   "source": [
    "itwits.head()"
   ]
  },
  {
   "cell_type": "code",
   "execution_count": 0,
   "metadata": {
    "colab": {
     "base_uri": "https://localhost:8080/",
     "height": 328
    },
    "colab_type": "code",
    "collapsed": false,
    "id": "Fq1Gud9SEr-U",
    "outputId": "ddd1150c-6893-4e33-b85f-e9acf66c9a02"
   },
   "outputs": [
    {
     "data": {
      "text/plain": [
       "<matplotlib.axes._subplots.AxesSubplot at 0x7f26524fe2b0>"
      ]
     },
     "execution_count": 61,
     "metadata": {
      "tags": []
     },
     "output_type": "execute_result"
    },
    {
     "data": {
      "image/png": "[encoded data removed]",
      "text/plain": [
       "<matplotlib.figure.Figure at 0x7f2651fbecc0>"
      ]
     },
     "metadata": {
      "tags": []
     },
     "output_type": "display_data"
    }
   ],
   "source": [
    "itwits['genre'].value_counts().plot(kind=\"bar\")"
   ]
  },
  {
   "cell_type": "code",
   "execution_count": 0,
   "metadata": {
    "colab": {},
    "colab_type": "code",
    "collapsed": true,
    "id": "rvRB7vRNEwnL"
   },
   "outputs": [],
   "source": []
  }
 ],
 "metadata": {
  "colab": {
   "collapsed_sections": [],
   "name": "homework42.ipynb",
   "provenance": [],
   "version": "0.3.2"
  },
  "kernelspec": {
   "display_name": "Python 3",
   "language": "python",
   "name": "python3"
  },
  "language_info": {
   "codemirror_mode": {
    "name": "ipython",
    "version": 3
   },
   "file_extension": ".py",
   "mimetype": "text/x-python",
   "name": "python",
   "nbconvert_exporter": "python",
   "pygments_lexer": "ipython3",
   "version": "3.6.5"
  }
 },
 "nbformat": 4,
 "nbformat_minor": 0
}
