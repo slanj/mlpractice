{
 "cells": [
  {
   "cell_type": "markdown",
   "metadata": {
    "colab_type": "text",
    "id": "G4G0YF1uFEq-"
   },
   "source": [
    "## Task1 Probability & Statistics\n",
    "You have a textual dataset (Tweets). Pick 3 words pair. Intuitively they should be \n",
    "\n",
    "* **Independent** (Sky and apple) \n",
    "* **Have weak dependency** (mine and business)\n",
    "* **Have Strong Dependency** (Weapon and War)\n",
    "\n",
    "Find absolute probability for each word in your corpus <br>\n",
    "Find probability of Word given it’s pair <br>\n",
    "Find pair probability given it’s word <br>\n",
    "Make a conclusion on pair dependencies\n",
    "\n",
    "Compute pearson correlation coefficient on word and pair frequencies in corpus chunks*\n"
   ]
  },
  {
   "cell_type": "markdown",
   "metadata": {
    "colab_type": "text",
    "id": "Op2wdhvveddj"
   },
   "source": [
    "### Load DataFrame and clean text"
   ]
  },
  {
   "cell_type": "code",
   "execution_count": 1,
   "metadata": {
    "colab": {
     "base_uri": "https://localhost:8080/",
     "height": 124
    },
    "colab_type": "code",
    "collapsed": false,
    "executionInfo": {
     "elapsed": 36724,
     "status": "ok",
     "timestamp": 1542371203454,
     "user": {
      "displayName": "slanjr",
      "photoUrl": "https://lh5.googleusercontent.com/-R7DC5NrwdJk/AAAAAAAAAAI/AAAAAAAABZM/JtucoIb6TZM/s64/photo.jpg",
      "userId": "13306556798502122992"
     },
     "user_tz": -120
    },
    "id": "nPXhDZlWEWOF",
    "outputId": "cb55cb75-e0a5-4e7a-fa9e-30d5af687a05"
   },
   "outputs": [
    {
     "name": "stdout",
     "output_type": "stream",
     "text": [
      "Go to this URL in a browser: https://accounts.google.com/o/oauth2/auth?client_id=947318989803-6bn6qk8qdgf4n4g3pfee6491hc0brc4i.apps.googleusercontent.com&redirect_uri=urn%3Aietf%3Awg%3Aoauth%3A2.0%3Aoob&scope=email%20https%3A%2F%2Fwww.googleapis.com%2Fauth%2Fdocs.test%20https%3A%2F%2Fwww.googleapis.com%2Fauth%2Fdrive%20https%3A%2F%2Fwww.googleapis.com%2Fauth%2Fdrive.photos.readonly%20https%3A%2F%2Fwww.googleapis.com%2Fauth%2Fpeopleapi.readonly&response_type=code\n",
      "\n",
      "Enter your authorization code:\n",
      "··········\n",
      "Mounted at /content/drive/\n"
     ]
    }
   ],
   "source": [
    "from google.colab import drive\n",
    "drive.mount('/content/drive/')"
   ]
  },
  {
   "cell_type": "code",
   "execution_count": 0,
   "metadata": {
    "colab": {},
    "colab_type": "code",
    "collapsed": true,
    "id": "ameIPve9FhvZ"
   },
   "outputs": [],
   "source": [
    "import os\n",
    "os.chdir(\"/content/drive/My Drive/AI\")"
   ]
  },
  {
   "cell_type": "code",
   "execution_count": 0,
   "metadata": {
    "colab": {},
    "colab_type": "code",
    "collapsed": true,
    "id": "cm_AuHb9F70N"
   },
   "outputs": [],
   "source": [
    "import re\n",
    "from datetime import datetime\n",
    "import numpy as np\n",
    "import pandas as pd"
   ]
  },
  {
   "cell_type": "code",
   "execution_count": 0,
   "metadata": {
    "colab": {},
    "colab_type": "code",
    "collapsed": true,
    "id": "d0ifL959HG4f"
   },
   "outputs": [],
   "source": [
    "df = pd.read_csv('twitbase2.tsv', sep ='\\t')"
   ]
  },
  {
   "cell_type": "code",
   "execution_count": 0,
   "metadata": {
    "colab": {},
    "colab_type": "code",
    "collapsed": true,
    "id": "SZu9BS-7Hzok"
   },
   "outputs": [],
   "source": [
    "df[\"created_at\"] = df[\"created_at\"].apply(datetime.fromtimestamp)"
   ]
  },
  {
   "cell_type": "code",
   "execution_count": 6,
   "metadata": {
    "colab": {
     "base_uri": "https://localhost:8080/",
     "height": 363
    },
    "colab_type": "code",
    "collapsed": false,
    "executionInfo": {
     "elapsed": 571,
     "status": "ok",
     "timestamp": 1542371224859,
     "user": {
      "displayName": "slanjr",
      "photoUrl": "https://lh5.googleusercontent.com/-R7DC5NrwdJk/AAAAAAAAAAI/AAAAAAAABZM/JtucoIb6TZM/s64/photo.jpg",
      "userId": "13306556798502122992"
     },
     "user_tz": -120
    },
    "id": "eWl1pGBnHqGz",
    "outputId": "0a3d32e3-5c26-42e6-8b6c-71b6b94f858a"
   },
   "outputs": [
    {
     "data": {
      "text/html": [
       "<div>\n",
       "<style scoped>\n",
       "    .dataframe tbody tr th:only-of-type {\n",
       "        vertical-align: middle;\n",
       "    }\n",
       "\n",
       "    .dataframe tbody tr th {\n",
       "        vertical-align: top;\n",
       "    }\n",
       "\n",
       "    .dataframe thead th {\n",
       "        text-align: right;\n",
       "    }\n",
       "</style>\n",
       "<table border=\"1\" class=\"dataframe\">\n",
       "  <thead>\n",
       "    <tr style=\"text-align: right;\">\n",
       "      <th></th>\n",
       "      <th>text</th>\n",
       "      <th>src</th>\n",
       "      <th>coordinates</th>\n",
       "      <th>place</th>\n",
       "      <th>created_at</th>\n",
       "    </tr>\n",
       "  </thead>\n",
       "  <tbody>\n",
       "    <tr>\n",
       "      <th>0</th>\n",
       "      <td>RT @europecoinEUORG: \"cloudy\" perspective FINA...</td>\n",
       "      <td>twitter</td>\n",
       "      <td>NaN</td>\n",
       "      <td>NaN</td>\n",
       "      <td>2018-10-23 23:06:31</td>\n",
       "    </tr>\n",
       "    <tr>\n",
       "      <th>1</th>\n",
       "      <td>RT @moonemotion: #5G will move massive amounts...</td>\n",
       "      <td>twitter</td>\n",
       "      <td>NaN</td>\n",
       "      <td>NaN</td>\n",
       "      <td>2018-10-23 23:06:31</td>\n",
       "    </tr>\n",
       "    <tr>\n",
       "      <th>2</th>\n",
       "      <td>RT @udacity: Hours left to apply for the @PyTo...</td>\n",
       "      <td>twitter</td>\n",
       "      <td>NaN</td>\n",
       "      <td>NaN</td>\n",
       "      <td>2018-10-23 23:06:36</td>\n",
       "    </tr>\n",
       "    <tr>\n",
       "      <th>3</th>\n",
       "      <td>RT @MikeQuindazzi: #AI and #IoT the most relev...</td>\n",
       "      <td>twitter</td>\n",
       "      <td>NaN</td>\n",
       "      <td>NaN</td>\n",
       "      <td>2018-10-23 23:06:37</td>\n",
       "    </tr>\n",
       "    <tr>\n",
       "      <th>4</th>\n",
       "      <td>RT @rajat_shrimal: This futuristic bus is 100%...</td>\n",
       "      <td>twitter</td>\n",
       "      <td>NaN</td>\n",
       "      <td>NaN</td>\n",
       "      <td>2018-10-23 23:06:38</td>\n",
       "    </tr>\n",
       "    <tr>\n",
       "      <th>5</th>\n",
       "      <td>RT @TamaraMcCleary: #Industry40 is set to have...</td>\n",
       "      <td>twitter</td>\n",
       "      <td>NaN</td>\n",
       "      <td>NaN</td>\n",
       "      <td>2018-10-23 23:06:38</td>\n",
       "    </tr>\n",
       "    <tr>\n",
       "      <th>6</th>\n",
       "      <td>RT @MikeQuindazzi: 20+ years of US #VentureCap...</td>\n",
       "      <td>twitter</td>\n",
       "      <td>NaN</td>\n",
       "      <td>NaN</td>\n",
       "      <td>2018-10-23 23:06:45</td>\n",
       "    </tr>\n",
       "    <tr>\n",
       "      <th>7</th>\n",
       "      <td>The latest The Explore Communications Daily! h...</td>\n",
       "      <td>twitter</td>\n",
       "      <td>NaN</td>\n",
       "      <td>NaN</td>\n",
       "      <td>2018-10-23 23:06:46</td>\n",
       "    </tr>\n",
       "    <tr>\n",
       "      <th>8</th>\n",
       "      <td>RT @MikeQuindazzi: #ArtificialIntelligence met...</td>\n",
       "      <td>twitter</td>\n",
       "      <td>NaN</td>\n",
       "      <td>NaN</td>\n",
       "      <td>2018-10-23 23:06:48</td>\n",
       "    </tr>\n",
       "    <tr>\n",
       "      <th>9</th>\n",
       "      <td>Blurring Lines: AI and ML in Marketing and Adv...</td>\n",
       "      <td>twitter</td>\n",
       "      <td>NaN</td>\n",
       "      <td>NaN</td>\n",
       "      <td>2018-10-23 23:06:49</td>\n",
       "    </tr>\n",
       "  </tbody>\n",
       "</table>\n",
       "</div>"
      ],
      "text/plain": [
       "                                                text      src coordinates  \\\n",
       "0  RT @europecoinEUORG: \"cloudy\" perspective FINA...  twitter         NaN   \n",
       "1  RT @moonemotion: #5G will move massive amounts...  twitter         NaN   \n",
       "2  RT @udacity: Hours left to apply for the @PyTo...  twitter         NaN   \n",
       "3  RT @MikeQuindazzi: #AI and #IoT the most relev...  twitter         NaN   \n",
       "4  RT @rajat_shrimal: This futuristic bus is 100%...  twitter         NaN   \n",
       "5  RT @TamaraMcCleary: #Industry40 is set to have...  twitter         NaN   \n",
       "6  RT @MikeQuindazzi: 20+ years of US #VentureCap...  twitter         NaN   \n",
       "7  The latest The Explore Communications Daily! h...  twitter         NaN   \n",
       "8  RT @MikeQuindazzi: #ArtificialIntelligence met...  twitter         NaN   \n",
       "9  Blurring Lines: AI and ML in Marketing and Adv...  twitter         NaN   \n",
       "\n",
       "  place          created_at  \n",
       "0   NaN 2018-10-23 23:06:31  \n",
       "1   NaN 2018-10-23 23:06:31  \n",
       "2   NaN 2018-10-23 23:06:36  \n",
       "3   NaN 2018-10-23 23:06:37  \n",
       "4   NaN 2018-10-23 23:06:38  \n",
       "5   NaN 2018-10-23 23:06:38  \n",
       "6   NaN 2018-10-23 23:06:45  \n",
       "7   NaN 2018-10-23 23:06:46  \n",
       "8   NaN 2018-10-23 23:06:48  \n",
       "9   NaN 2018-10-23 23:06:49  "
      ]
     },
     "execution_count": 6,
     "metadata": {
      "tags": []
     },
     "output_type": "execute_result"
    }
   ],
   "source": [
    "df.head(10)"
   ]
  },
  {
   "cell_type": "code",
   "execution_count": 7,
   "metadata": {
    "colab": {
     "base_uri": "https://localhost:8080/",
     "height": 34
    },
    "colab_type": "code",
    "collapsed": false,
    "executionInfo": {
     "elapsed": 736,
     "status": "ok",
     "timestamp": 1542371227495,
     "user": {
      "displayName": "slanjr",
      "photoUrl": "https://lh5.googleusercontent.com/-R7DC5NrwdJk/AAAAAAAAAAI/AAAAAAAABZM/JtucoIb6TZM/s64/photo.jpg",
      "userId": "13306556798502122992"
     },
     "user_tz": -120
    },
    "id": "7A2jCUPOHsh9",
    "outputId": "58803962-d937-4535-98dc-2bf823ea99a9"
   },
   "outputs": [
    {
     "data": {
      "text/plain": [
       "(15580, 5)"
      ]
     },
     "execution_count": 7,
     "metadata": {
      "tags": []
     },
     "output_type": "execute_result"
    }
   ],
   "source": [
    "df.shape"
   ]
  },
  {
   "cell_type": "code",
   "execution_count": 8,
   "metadata": {
    "colab": {
     "base_uri": "https://localhost:8080/",
     "height": 52
    },
    "colab_type": "code",
    "collapsed": false,
    "executionInfo": {
     "elapsed": 1759,
     "status": "ok",
     "timestamp": 1542371230191,
     "user": {
      "displayName": "slanjr",
      "photoUrl": "https://lh5.googleusercontent.com/-R7DC5NrwdJk/AAAAAAAAAAI/AAAAAAAABZM/JtucoIb6TZM/s64/photo.jpg",
      "userId": "13306556798502122992"
     },
     "user_tz": -120
    },
    "id": "D9aVEb7qIEiA",
    "outputId": "1fdfb2f0-3303-4be1-80be-1d97c7907590"
   },
   "outputs": [
    {
     "name": "stdout",
     "output_type": "stream",
     "text": [
      "[nltk_data] Downloading package wordnet to /root/nltk_data...\n",
      "[nltk_data]   Unzipping corpora/wordnet.zip.\n"
     ]
    }
   ],
   "source": [
    "from bs4 import BeautifulSoup\n",
    "import nltk\n",
    "nltk.download('wordnet')\n",
    "from nltk.stem import WordNetLemmatizer\n",
    "\n",
    "def clean_text_lemma(text): \n",
    "    ''' \n",
    "    Utility function to clean tweet text by removing links, special characters \n",
    "    using simple regex statements. Also converting words to lemmas.\n",
    "    '''\n",
    "    wordnet_lemmatizer = WordNetLemmatizer()\n",
    "    text = BeautifulSoup(text, 'html.parser').get_text()    \n",
    "    stripped_text = re.sub(\"(@[A-Za-z0-9_]+)|([^0-9A-Za-z \\t])|(\\w+:\\/\\/\\S+)|(RT\\s)\", \" \", text).lower().split()\n",
    "    lemma_text = [wordnet_lemmatizer.lemmatize(word) for word in stripped_text]\n",
    "    join_text = ' '.join(lemma_text)\n",
    "    return join_text"
   ]
  },
  {
   "cell_type": "code",
   "execution_count": 0,
   "metadata": {
    "colab": {},
    "colab_type": "code",
    "collapsed": true,
    "id": "-lh-P5s2ITCa"
   },
   "outputs": [],
   "source": [
    "df[\"text_stripped\"] = df[\"text\"].apply(clean_text_lemma)"
   ]
  },
  {
   "cell_type": "code",
   "execution_count": 0,
   "metadata": {
    "colab": {},
    "colab_type": "code",
    "collapsed": true,
    "id": "AO0pTWSbIi2K"
   },
   "outputs": [],
   "source": [
    "del(df['coordinates'])\n",
    "del(df['place'])\n",
    "del(df['src'])\n",
    "del(df['text'])"
   ]
  },
  {
   "cell_type": "code",
   "execution_count": 0,
   "metadata": {
    "colab": {},
    "colab_type": "code",
    "collapsed": true,
    "id": "0MiF0blnlHzC"
   },
   "outputs": [],
   "source": []
  },
  {
   "cell_type": "markdown",
   "metadata": {
    "colab_type": "text",
    "id": "l55DlvgQfcD3"
   },
   "source": [
    "### Finding conditional probability for words pair ('ai', 'machinelearning') per chunk"
   ]
  },
  {
   "cell_type": "code",
   "execution_count": 0,
   "metadata": {
    "colab": {},
    "colab_type": "code",
    "collapsed": true,
    "id": "tPLNkrX5IvM2"
   },
   "outputs": [],
   "source": [
    "def word_count(text, word='[\\s]ai[\\s]'):\n",
    "  count = len(re.findall(word, text))\n",
    "  return count"
   ]
  },
  {
   "cell_type": "code",
   "execution_count": 0,
   "metadata": {
    "colab": {},
    "colab_type": "code",
    "collapsed": true,
    "id": "vCOedN_EKW6F"
   },
   "outputs": [],
   "source": [
    "df['text_len'] = [len(t.split()) for t in df.text_stripped]"
   ]
  },
  {
   "cell_type": "code",
   "execution_count": 0,
   "metadata": {
    "colab": {},
    "colab_type": "code",
    "collapsed": true,
    "id": "Wh8lSHdYKEyU"
   },
   "outputs": [],
   "source": [
    "df['w1_count'] = df['text_stripped'].apply(lambda x: word_count(x, word=r'(\\b)ai(\\b)'))\n",
    "df['w2_count'] = df['text_stripped'].apply(lambda x: word_count(x, word=r'machinelearning'))"
   ]
  },
  {
   "cell_type": "code",
   "execution_count": 14,
   "metadata": {
    "colab": {
     "base_uri": "https://localhost:8080/",
     "height": 363
    },
    "colab_type": "code",
    "collapsed": false,
    "executionInfo": {
     "elapsed": 857,
     "status": "ok",
     "timestamp": 1542371258485,
     "user": {
      "displayName": "slanjr",
      "photoUrl": "https://lh5.googleusercontent.com/-R7DC5NrwdJk/AAAAAAAAAAI/AAAAAAAABZM/JtucoIb6TZM/s64/photo.jpg",
      "userId": "13306556798502122992"
     },
     "user_tz": -120
    },
    "id": "RHZq0huTZTBx",
    "outputId": "bf746524-b815-44ab-e2b3-8c8ab3549c17"
   },
   "outputs": [
    {
     "data": {
      "text/html": [
       "<div>\n",
       "<style scoped>\n",
       "    .dataframe tbody tr th:only-of-type {\n",
       "        vertical-align: middle;\n",
       "    }\n",
       "\n",
       "    .dataframe tbody tr th {\n",
       "        vertical-align: top;\n",
       "    }\n",
       "\n",
       "    .dataframe thead th {\n",
       "        text-align: right;\n",
       "    }\n",
       "</style>\n",
       "<table border=\"1\" class=\"dataframe\">\n",
       "  <thead>\n",
       "    <tr style=\"text-align: right;\">\n",
       "      <th></th>\n",
       "      <th>created_at</th>\n",
       "      <th>text_stripped</th>\n",
       "      <th>text_len</th>\n",
       "      <th>w1_count</th>\n",
       "      <th>w2_count</th>\n",
       "      <th>count_w1_w2</th>\n",
       "    </tr>\n",
       "  </thead>\n",
       "  <tbody>\n",
       "    <tr>\n",
       "      <th>0</th>\n",
       "      <td>2018-10-23 23:06:31</td>\n",
       "      <td>cloudy perspective financecloud api device cry...</td>\n",
       "      <td>14</td>\n",
       "      <td>0</td>\n",
       "      <td>0</td>\n",
       "      <td>[0, 0]</td>\n",
       "    </tr>\n",
       "    <tr>\n",
       "      <th>1</th>\n",
       "      <td>2018-10-23 23:06:31</td>\n",
       "      <td>5g will move massive amount of data transforma...</td>\n",
       "      <td>19</td>\n",
       "      <td>0</td>\n",
       "      <td>0</td>\n",
       "      <td>[0, 0]</td>\n",
       "    </tr>\n",
       "    <tr>\n",
       "      <th>2</th>\n",
       "      <td>2018-10-23 23:06:36</td>\n",
       "      <td>hour left to apply for the scholarship challen...</td>\n",
       "      <td>12</td>\n",
       "      <td>1</td>\n",
       "      <td>0</td>\n",
       "      <td>[1, 0]</td>\n",
       "    </tr>\n",
       "    <tr>\n",
       "      <th>3</th>\n",
       "      <td>2018-10-23 23:06:37</td>\n",
       "      <td>ai and iot the most relevant emergingtech in i...</td>\n",
       "      <td>16</td>\n",
       "      <td>2</td>\n",
       "      <td>0</td>\n",
       "      <td>[2, 0]</td>\n",
       "    </tr>\n",
       "    <tr>\n",
       "      <th>4</th>\n",
       "      <td>2018-10-23 23:06:38</td>\n",
       "      <td>this futuristic bus is 100 driverless and full...</td>\n",
       "      <td>13</td>\n",
       "      <td>0</td>\n",
       "      <td>0</td>\n",
       "      <td>[0, 0]</td>\n",
       "    </tr>\n",
       "    <tr>\n",
       "      <th>5</th>\n",
       "      <td>2018-10-23 23:06:38</td>\n",
       "      <td>industry40 is set to have a significant impact...</td>\n",
       "      <td>14</td>\n",
       "      <td>0</td>\n",
       "      <td>0</td>\n",
       "      <td>[0, 0]</td>\n",
       "    </tr>\n",
       "    <tr>\n",
       "      <th>6</th>\n",
       "      <td>2018-10-23 23:06:45</td>\n",
       "      <td>20 year of u venturecapital funding trend by i...</td>\n",
       "      <td>15</td>\n",
       "      <td>1</td>\n",
       "      <td>0</td>\n",
       "      <td>[1, 0]</td>\n",
       "    </tr>\n",
       "    <tr>\n",
       "      <th>7</th>\n",
       "      <td>2018-10-23 23:06:46</td>\n",
       "      <td>the latest the explore communication daily tha...</td>\n",
       "      <td>10</td>\n",
       "      <td>1</td>\n",
       "      <td>0</td>\n",
       "      <td>[1, 0]</td>\n",
       "    </tr>\n",
       "    <tr>\n",
       "      <th>8</th>\n",
       "      <td>2018-10-23 23:06:48</td>\n",
       "      <td>artificialintelligence method a shared in rece...</td>\n",
       "      <td>11</td>\n",
       "      <td>1</td>\n",
       "      <td>0</td>\n",
       "      <td>[1, 0]</td>\n",
       "    </tr>\n",
       "    <tr>\n",
       "      <th>9</th>\n",
       "      <td>2018-10-23 23:06:49</td>\n",
       "      <td>blurring line ai and ml in marketing and adver...</td>\n",
       "      <td>12</td>\n",
       "      <td>2</td>\n",
       "      <td>0</td>\n",
       "      <td>[2, 0]</td>\n",
       "    </tr>\n",
       "  </tbody>\n",
       "</table>\n",
       "</div>"
      ],
      "text/plain": [
       "           created_at                                      text_stripped  \\\n",
       "0 2018-10-23 23:06:31  cloudy perspective financecloud api device cry...   \n",
       "1 2018-10-23 23:06:31  5g will move massive amount of data transforma...   \n",
       "2 2018-10-23 23:06:36  hour left to apply for the scholarship challen...   \n",
       "3 2018-10-23 23:06:37  ai and iot the most relevant emergingtech in i...   \n",
       "4 2018-10-23 23:06:38  this futuristic bus is 100 driverless and full...   \n",
       "5 2018-10-23 23:06:38  industry40 is set to have a significant impact...   \n",
       "6 2018-10-23 23:06:45  20 year of u venturecapital funding trend by i...   \n",
       "7 2018-10-23 23:06:46  the latest the explore communication daily tha...   \n",
       "8 2018-10-23 23:06:48  artificialintelligence method a shared in rece...   \n",
       "9 2018-10-23 23:06:49  blurring line ai and ml in marketing and adver...   \n",
       "\n",
       "   text_len  w1_count  w2_count count_w1_w2  \n",
       "0        14         0         0      [0, 0]  \n",
       "1        19         0         0      [0, 0]  \n",
       "2        12         1         0      [1, 0]  \n",
       "3        16         2         0      [2, 0]  \n",
       "4        13         0         0      [0, 0]  \n",
       "5        14         0         0      [0, 0]  \n",
       "6        15         1         0      [1, 0]  \n",
       "7        10         1         0      [1, 0]  \n",
       "8        11         1         0      [1, 0]  \n",
       "9        12         2         0      [2, 0]  "
      ]
     },
     "execution_count": 14,
     "metadata": {
      "tags": []
     },
     "output_type": "execute_result"
    }
   ],
   "source": [
    "df['count_w1_w2'] = df['w1_count'].apply(lambda x: [x]) + df['w2_count'].apply(lambda x: [x])\n",
    "df.head(10)"
   ]
  },
  {
   "cell_type": "code",
   "execution_count": 0,
   "metadata": {
    "colab": {},
    "colab_type": "code",
    "collapsed": true,
    "id": "pgAzvPUrOLvD"
   },
   "outputs": [],
   "source": [
    "probability = lambda x: len(x[x > 0]) / len(x)\n",
    "probability.__name__ = \"probability\"\n",
    "\n",
    "c_probability = lambda x: len(x[x.apply(lambda row:row[0]) > 0][x.apply(lambda row:row[1]) > 0]) / len(x[x.apply(lambda row:row[0]) > 0])\n",
    "c_probability.__name__ = \"word2 from word1 probability\"\n",
    "\n",
    "c_inv_probability = lambda x: len(x[x.apply(lambda row:row[1]) > 0][x.apply(lambda row:row[0]) > 0]) / len(x[x.apply(lambda row:row[1]) > 0])\n",
    "c_inv_probability.__name__ = \"word1 from word2 probability\"\n"
   ]
  },
  {
   "cell_type": "code",
   "execution_count": 16,
   "metadata": {
    "colab": {
     "base_uri": "https://localhost:8080/",
     "height": 614
    },
    "colab_type": "code",
    "collapsed": false,
    "executionInfo": {
     "elapsed": 947,
     "status": "ok",
     "timestamp": 1542371267707,
     "user": {
      "displayName": "slanjr",
      "photoUrl": "https://lh5.googleusercontent.com/-R7DC5NrwdJk/AAAAAAAAAAI/AAAAAAAABZM/JtucoIb6TZM/s64/photo.jpg",
      "userId": "13306556798502122992"
     },
     "user_tz": -120
    },
    "id": "MKWfL-JBE1dA",
    "outputId": "ad179aa5-2012-489d-9a6f-7a4d3d6072da"
   },
   "outputs": [
    {
     "data": {
      "text/html": [
       "<div>\n",
       "<style scoped>\n",
       "    .dataframe tbody tr th:only-of-type {\n",
       "        vertical-align: middle;\n",
       "    }\n",
       "\n",
       "    .dataframe tbody tr th {\n",
       "        vertical-align: top;\n",
       "    }\n",
       "\n",
       "    .dataframe thead tr th {\n",
       "        text-align: left;\n",
       "    }\n",
       "</style>\n",
       "<table border=\"1\" class=\"dataframe\">\n",
       "  <thead>\n",
       "    <tr>\n",
       "      <th></th>\n",
       "      <th colspan=\"12\" halign=\"left\">ai ml statistics by chunk</th>\n",
       "    </tr>\n",
       "    <tr>\n",
       "      <th></th>\n",
       "      <th colspan=\"4\" halign=\"left\">w1_count</th>\n",
       "      <th colspan=\"4\" halign=\"left\">w2_count</th>\n",
       "      <th colspan=\"4\" halign=\"left\">text_len</th>\n",
       "    </tr>\n",
       "    <tr>\n",
       "      <th></th>\n",
       "      <th>sum</th>\n",
       "      <th>mean</th>\n",
       "      <th>max</th>\n",
       "      <th>probability</th>\n",
       "      <th>sum</th>\n",
       "      <th>mean</th>\n",
       "      <th>max</th>\n",
       "      <th>probability</th>\n",
       "      <th>sum</th>\n",
       "      <th>mean</th>\n",
       "      <th>max</th>\n",
       "      <th>probability</th>\n",
       "    </tr>\n",
       "  </thead>\n",
       "  <tbody>\n",
       "    <tr>\n",
       "      <th>0</th>\n",
       "      <td>598</td>\n",
       "      <td>0.598000</td>\n",
       "      <td>3</td>\n",
       "      <td>0.539000</td>\n",
       "      <td>107</td>\n",
       "      <td>0.107</td>\n",
       "      <td>1</td>\n",
       "      <td>0.107</td>\n",
       "      <td>14895</td>\n",
       "      <td>14.895000</td>\n",
       "      <td>29</td>\n",
       "      <td>1.000000</td>\n",
       "    </tr>\n",
       "    <tr>\n",
       "      <th>1</th>\n",
       "      <td>658</td>\n",
       "      <td>0.658000</td>\n",
       "      <td>3</td>\n",
       "      <td>0.582000</td>\n",
       "      <td>100</td>\n",
       "      <td>0.100</td>\n",
       "      <td>1</td>\n",
       "      <td>0.100</td>\n",
       "      <td>14638</td>\n",
       "      <td>14.638000</td>\n",
       "      <td>25</td>\n",
       "      <td>1.000000</td>\n",
       "    </tr>\n",
       "    <tr>\n",
       "      <th>2</th>\n",
       "      <td>680</td>\n",
       "      <td>0.680000</td>\n",
       "      <td>3</td>\n",
       "      <td>0.585000</td>\n",
       "      <td>110</td>\n",
       "      <td>0.110</td>\n",
       "      <td>1</td>\n",
       "      <td>0.110</td>\n",
       "      <td>15109</td>\n",
       "      <td>15.109000</td>\n",
       "      <td>29</td>\n",
       "      <td>1.000000</td>\n",
       "    </tr>\n",
       "    <tr>\n",
       "      <th>3</th>\n",
       "      <td>597</td>\n",
       "      <td>0.597000</td>\n",
       "      <td>3</td>\n",
       "      <td>0.531000</td>\n",
       "      <td>59</td>\n",
       "      <td>0.059</td>\n",
       "      <td>1</td>\n",
       "      <td>0.059</td>\n",
       "      <td>14923</td>\n",
       "      <td>14.923000</td>\n",
       "      <td>29</td>\n",
       "      <td>1.000000</td>\n",
       "    </tr>\n",
       "    <tr>\n",
       "      <th>4</th>\n",
       "      <td>640</td>\n",
       "      <td>0.640000</td>\n",
       "      <td>3</td>\n",
       "      <td>0.568000</td>\n",
       "      <td>103</td>\n",
       "      <td>0.103</td>\n",
       "      <td>1</td>\n",
       "      <td>0.103</td>\n",
       "      <td>14389</td>\n",
       "      <td>14.389000</td>\n",
       "      <td>29</td>\n",
       "      <td>0.998000</td>\n",
       "    </tr>\n",
       "    <tr>\n",
       "      <th>5</th>\n",
       "      <td>679</td>\n",
       "      <td>0.679000</td>\n",
       "      <td>3</td>\n",
       "      <td>0.607000</td>\n",
       "      <td>95</td>\n",
       "      <td>0.095</td>\n",
       "      <td>1</td>\n",
       "      <td>0.095</td>\n",
       "      <td>14594</td>\n",
       "      <td>14.594000</td>\n",
       "      <td>29</td>\n",
       "      <td>0.998000</td>\n",
       "    </tr>\n",
       "    <tr>\n",
       "      <th>6</th>\n",
       "      <td>673</td>\n",
       "      <td>0.673000</td>\n",
       "      <td>2</td>\n",
       "      <td>0.596000</td>\n",
       "      <td>79</td>\n",
       "      <td>0.079</td>\n",
       "      <td>1</td>\n",
       "      <td>0.079</td>\n",
       "      <td>14743</td>\n",
       "      <td>14.743000</td>\n",
       "      <td>28</td>\n",
       "      <td>0.997000</td>\n",
       "    </tr>\n",
       "    <tr>\n",
       "      <th>7</th>\n",
       "      <td>606</td>\n",
       "      <td>0.606000</td>\n",
       "      <td>3</td>\n",
       "      <td>0.558000</td>\n",
       "      <td>100</td>\n",
       "      <td>0.100</td>\n",
       "      <td>1</td>\n",
       "      <td>0.100</td>\n",
       "      <td>14563</td>\n",
       "      <td>14.563000</td>\n",
       "      <td>27</td>\n",
       "      <td>0.995000</td>\n",
       "    </tr>\n",
       "    <tr>\n",
       "      <th>8</th>\n",
       "      <td>629</td>\n",
       "      <td>0.629000</td>\n",
       "      <td>2</td>\n",
       "      <td>0.586000</td>\n",
       "      <td>111</td>\n",
       "      <td>0.111</td>\n",
       "      <td>1</td>\n",
       "      <td>0.111</td>\n",
       "      <td>14753</td>\n",
       "      <td>14.753000</td>\n",
       "      <td>29</td>\n",
       "      <td>0.997000</td>\n",
       "    </tr>\n",
       "    <tr>\n",
       "      <th>9</th>\n",
       "      <td>627</td>\n",
       "      <td>0.627000</td>\n",
       "      <td>2</td>\n",
       "      <td>0.583000</td>\n",
       "      <td>117</td>\n",
       "      <td>0.117</td>\n",
       "      <td>1</td>\n",
       "      <td>0.117</td>\n",
       "      <td>14944</td>\n",
       "      <td>14.944000</td>\n",
       "      <td>28</td>\n",
       "      <td>0.999000</td>\n",
       "    </tr>\n",
       "    <tr>\n",
       "      <th>10</th>\n",
       "      <td>618</td>\n",
       "      <td>0.618000</td>\n",
       "      <td>2</td>\n",
       "      <td>0.576000</td>\n",
       "      <td>74</td>\n",
       "      <td>0.074</td>\n",
       "      <td>1</td>\n",
       "      <td>0.074</td>\n",
       "      <td>15054</td>\n",
       "      <td>15.054000</td>\n",
       "      <td>29</td>\n",
       "      <td>1.000000</td>\n",
       "    </tr>\n",
       "    <tr>\n",
       "      <th>11</th>\n",
       "      <td>686</td>\n",
       "      <td>0.686000</td>\n",
       "      <td>3</td>\n",
       "      <td>0.634000</td>\n",
       "      <td>94</td>\n",
       "      <td>0.094</td>\n",
       "      <td>2</td>\n",
       "      <td>0.093</td>\n",
       "      <td>15166</td>\n",
       "      <td>15.166000</td>\n",
       "      <td>29</td>\n",
       "      <td>0.998000</td>\n",
       "    </tr>\n",
       "    <tr>\n",
       "      <th>12</th>\n",
       "      <td>653</td>\n",
       "      <td>0.653000</td>\n",
       "      <td>3</td>\n",
       "      <td>0.589000</td>\n",
       "      <td>69</td>\n",
       "      <td>0.069</td>\n",
       "      <td>1</td>\n",
       "      <td>0.069</td>\n",
       "      <td>15151</td>\n",
       "      <td>15.151000</td>\n",
       "      <td>26</td>\n",
       "      <td>1.000000</td>\n",
       "    </tr>\n",
       "    <tr>\n",
       "      <th>13</th>\n",
       "      <td>652</td>\n",
       "      <td>0.652000</td>\n",
       "      <td>3</td>\n",
       "      <td>0.587000</td>\n",
       "      <td>59</td>\n",
       "      <td>0.059</td>\n",
       "      <td>1</td>\n",
       "      <td>0.059</td>\n",
       "      <td>15046</td>\n",
       "      <td>15.046000</td>\n",
       "      <td>26</td>\n",
       "      <td>0.999000</td>\n",
       "    </tr>\n",
       "    <tr>\n",
       "      <th>14</th>\n",
       "      <td>631</td>\n",
       "      <td>0.631000</td>\n",
       "      <td>3</td>\n",
       "      <td>0.571000</td>\n",
       "      <td>119</td>\n",
       "      <td>0.119</td>\n",
       "      <td>1</td>\n",
       "      <td>0.119</td>\n",
       "      <td>15128</td>\n",
       "      <td>15.128000</td>\n",
       "      <td>27</td>\n",
       "      <td>0.997000</td>\n",
       "    </tr>\n",
       "    <tr>\n",
       "      <th>15</th>\n",
       "      <td>358</td>\n",
       "      <td>0.617241</td>\n",
       "      <td>3</td>\n",
       "      <td>0.577586</td>\n",
       "      <td>58</td>\n",
       "      <td>0.100</td>\n",
       "      <td>1</td>\n",
       "      <td>0.100</td>\n",
       "      <td>8709</td>\n",
       "      <td>15.015517</td>\n",
       "      <td>26</td>\n",
       "      <td>0.994828</td>\n",
       "    </tr>\n",
       "  </tbody>\n",
       "</table>\n",
       "</div>"
      ],
      "text/plain": [
       "   ai ml statistics by chunk                                                \\\n",
       "                    w1_count                           w2_count              \n",
       "                         sum      mean max probability      sum   mean max   \n",
       "0                        598  0.598000   3    0.539000      107  0.107   1   \n",
       "1                        658  0.658000   3    0.582000      100  0.100   1   \n",
       "2                        680  0.680000   3    0.585000      110  0.110   1   \n",
       "3                        597  0.597000   3    0.531000       59  0.059   1   \n",
       "4                        640  0.640000   3    0.568000      103  0.103   1   \n",
       "5                        679  0.679000   3    0.607000       95  0.095   1   \n",
       "6                        673  0.673000   2    0.596000       79  0.079   1   \n",
       "7                        606  0.606000   3    0.558000      100  0.100   1   \n",
       "8                        629  0.629000   2    0.586000      111  0.111   1   \n",
       "9                        627  0.627000   2    0.583000      117  0.117   1   \n",
       "10                       618  0.618000   2    0.576000       74  0.074   1   \n",
       "11                       686  0.686000   3    0.634000       94  0.094   2   \n",
       "12                       653  0.653000   3    0.589000       69  0.069   1   \n",
       "13                       652  0.652000   3    0.587000       59  0.059   1   \n",
       "14                       631  0.631000   3    0.571000      119  0.119   1   \n",
       "15                       358  0.617241   3    0.577586       58  0.100   1   \n",
       "\n",
       "                                                    \n",
       "               text_len                             \n",
       "   probability      sum       mean max probability  \n",
       "0        0.107    14895  14.895000  29    1.000000  \n",
       "1        0.100    14638  14.638000  25    1.000000  \n",
       "2        0.110    15109  15.109000  29    1.000000  \n",
       "3        0.059    14923  14.923000  29    1.000000  \n",
       "4        0.103    14389  14.389000  29    0.998000  \n",
       "5        0.095    14594  14.594000  29    0.998000  \n",
       "6        0.079    14743  14.743000  28    0.997000  \n",
       "7        0.100    14563  14.563000  27    0.995000  \n",
       "8        0.111    14753  14.753000  29    0.997000  \n",
       "9        0.117    14944  14.944000  28    0.999000  \n",
       "10       0.074    15054  15.054000  29    1.000000  \n",
       "11       0.093    15166  15.166000  29    0.998000  \n",
       "12       0.069    15151  15.151000  26    1.000000  \n",
       "13       0.059    15046  15.046000  26    0.999000  \n",
       "14       0.119    15128  15.128000  27    0.997000  \n",
       "15       0.100     8709  15.015517  26    0.994828  "
      ]
     },
     "execution_count": 16,
     "metadata": {
      "tags": []
     },
     "output_type": "execute_result"
    }
   ],
   "source": [
    "df.groupby(lambda x: x//1000)[\"w1_count\", \"w2_count\", \"text_len\"].agg({'ai ml statistics by chunk': ['sum', 'mean', 'max', probability]})"
   ]
  },
  {
   "cell_type": "code",
   "execution_count": 17,
   "metadata": {
    "colab": {
     "base_uri": "https://localhost:8080/",
     "height": 635
    },
    "colab_type": "code",
    "collapsed": false,
    "executionInfo": {
     "elapsed": 1224,
     "status": "ok",
     "timestamp": 1542371273854,
     "user": {
      "displayName": "slanjr",
      "photoUrl": "https://lh5.googleusercontent.com/-R7DC5NrwdJk/AAAAAAAAAAI/AAAAAAAABZM/JtucoIb6TZM/s64/photo.jpg",
      "userId": "13306556798502122992"
     },
     "user_tz": -120
    },
    "id": "3Dv6WKTuiIg_",
    "outputId": "62533949-c58a-4ca7-fbb0-e72a17a550e7"
   },
   "outputs": [
    {
     "name": "stderr",
     "output_type": "stream",
     "text": [
      "/usr/local/lib/python3.6/dist-packages/ipykernel_launcher.py:1: FutureWarning: using a dict on a Series for aggregation\n",
      "is deprecated and will be removed in a future version\n",
      "  \"\"\"Entry point for launching an IPython kernel.\n"
     ]
    },
    {
     "data": {
      "text/html": [
       "<div>\n",
       "<style scoped>\n",
       "    .dataframe tbody tr th:only-of-type {\n",
       "        vertical-align: middle;\n",
       "    }\n",
       "\n",
       "    .dataframe tbody tr th {\n",
       "        vertical-align: top;\n",
       "    }\n",
       "\n",
       "    .dataframe thead tr th {\n",
       "        text-align: left;\n",
       "    }\n",
       "</style>\n",
       "<table border=\"1\" class=\"dataframe\">\n",
       "  <thead>\n",
       "    <tr>\n",
       "      <th></th>\n",
       "      <th colspan=\"2\" halign=\"left\">ai ml conditional probability</th>\n",
       "    </tr>\n",
       "    <tr>\n",
       "      <th></th>\n",
       "      <th>word2 from word1 probability</th>\n",
       "      <th>word1 from word2 probability</th>\n",
       "    </tr>\n",
       "  </thead>\n",
       "  <tbody>\n",
       "    <tr>\n",
       "      <th>0</th>\n",
       "      <td>0.153989</td>\n",
       "      <td>0.775701</td>\n",
       "    </tr>\n",
       "    <tr>\n",
       "      <th>1</th>\n",
       "      <td>0.135739</td>\n",
       "      <td>0.790000</td>\n",
       "    </tr>\n",
       "    <tr>\n",
       "      <th>2</th>\n",
       "      <td>0.167521</td>\n",
       "      <td>0.890909</td>\n",
       "    </tr>\n",
       "    <tr>\n",
       "      <th>3</th>\n",
       "      <td>0.077213</td>\n",
       "      <td>0.694915</td>\n",
       "    </tr>\n",
       "    <tr>\n",
       "      <th>4</th>\n",
       "      <td>0.125000</td>\n",
       "      <td>0.689320</td>\n",
       "    </tr>\n",
       "    <tr>\n",
       "      <th>5</th>\n",
       "      <td>0.112026</td>\n",
       "      <td>0.715789</td>\n",
       "    </tr>\n",
       "    <tr>\n",
       "      <th>6</th>\n",
       "      <td>0.082215</td>\n",
       "      <td>0.620253</td>\n",
       "    </tr>\n",
       "    <tr>\n",
       "      <th>7</th>\n",
       "      <td>0.118280</td>\n",
       "      <td>0.660000</td>\n",
       "    </tr>\n",
       "    <tr>\n",
       "      <th>8</th>\n",
       "      <td>0.138225</td>\n",
       "      <td>0.729730</td>\n",
       "    </tr>\n",
       "    <tr>\n",
       "      <th>9</th>\n",
       "      <td>0.145798</td>\n",
       "      <td>0.726496</td>\n",
       "    </tr>\n",
       "    <tr>\n",
       "      <th>10</th>\n",
       "      <td>0.098958</td>\n",
       "      <td>0.770270</td>\n",
       "    </tr>\n",
       "    <tr>\n",
       "      <th>11</th>\n",
       "      <td>0.110410</td>\n",
       "      <td>0.752688</td>\n",
       "    </tr>\n",
       "    <tr>\n",
       "      <th>12</th>\n",
       "      <td>0.084890</td>\n",
       "      <td>0.724638</td>\n",
       "    </tr>\n",
       "    <tr>\n",
       "      <th>13</th>\n",
       "      <td>0.074957</td>\n",
       "      <td>0.745763</td>\n",
       "    </tr>\n",
       "    <tr>\n",
       "      <th>14</th>\n",
       "      <td>0.154116</td>\n",
       "      <td>0.739496</td>\n",
       "    </tr>\n",
       "    <tr>\n",
       "      <th>15</th>\n",
       "      <td>0.152239</td>\n",
       "      <td>0.879310</td>\n",
       "    </tr>\n",
       "  </tbody>\n",
       "</table>\n",
       "</div>"
      ],
      "text/plain": [
       "   ai ml conditional probability                             \n",
       "    word2 from word1 probability word1 from word2 probability\n",
       "0                       0.153989                     0.775701\n",
       "1                       0.135739                     0.790000\n",
       "2                       0.167521                     0.890909\n",
       "3                       0.077213                     0.694915\n",
       "4                       0.125000                     0.689320\n",
       "5                       0.112026                     0.715789\n",
       "6                       0.082215                     0.620253\n",
       "7                       0.118280                     0.660000\n",
       "8                       0.138225                     0.729730\n",
       "9                       0.145798                     0.726496\n",
       "10                      0.098958                     0.770270\n",
       "11                      0.110410                     0.752688\n",
       "12                      0.084890                     0.724638\n",
       "13                      0.074957                     0.745763\n",
       "14                      0.154116                     0.739496\n",
       "15                      0.152239                     0.879310"
      ]
     },
     "execution_count": 17,
     "metadata": {
      "tags": []
     },
     "output_type": "execute_result"
    }
   ],
   "source": [
    "df.groupby(lambda x: x//1000)[\"count_w1_w2\"].agg({'ai ml conditional probability': [c_probability, c_inv_probability]})"
   ]
  },
  {
   "cell_type": "markdown",
   "metadata": {
    "colab_type": "text",
    "id": "QTMM2oEOiS-Z"
   },
   "source": [
    "### Finding conditional probability for words pair ('ai', 'machinelearning') for whole text"
   ]
  },
  {
   "cell_type": "code",
   "execution_count": 0,
   "metadata": {
    "colab": {},
    "colab_type": "code",
    "collapsed": true,
    "id": "78jo1MZULzgC"
   },
   "outputs": [],
   "source": [
    "all_words = ' '.join([words for words in df['text_stripped']])"
   ]
  },
  {
   "cell_type": "code",
   "execution_count": 0,
   "metadata": {
    "colab": {},
    "colab_type": "code",
    "collapsed": true,
    "id": "wncZo4MXMazQ"
   },
   "outputs": [],
   "source": [
    "all_text_len = len(all_words.split())"
   ]
  },
  {
   "cell_type": "code",
   "execution_count": 20,
   "metadata": {
    "colab": {
     "base_uri": "https://localhost:8080/",
     "height": 34
    },
    "colab_type": "code",
    "collapsed": false,
    "executionInfo": {
     "elapsed": 1127,
     "status": "ok",
     "timestamp": 1542371306376,
     "user": {
      "displayName": "slanjr",
      "photoUrl": "https://lh5.googleusercontent.com/-R7DC5NrwdJk/AAAAAAAAAAI/AAAAAAAABZM/JtucoIb6TZM/s64/photo.jpg",
      "userId": "13306556798502122992"
     },
     "user_tz": -120
    },
    "id": "OBXE0VdhMyNh",
    "outputId": "fa7be523-fad5-4b01-d23d-bdb64182ff98"
   },
   "outputs": [
    {
     "data": {
      "text/plain": [
       "231805"
      ]
     },
     "execution_count": 20,
     "metadata": {
      "tags": []
     },
     "output_type": "execute_result"
    }
   ],
   "source": [
    "all_text_len"
   ]
  },
  {
   "cell_type": "code",
   "execution_count": 21,
   "metadata": {
    "colab": {
     "base_uri": "https://localhost:8080/",
     "height": 34
    },
    "colab_type": "code",
    "collapsed": false,
    "executionInfo": {
     "elapsed": 735,
     "status": "ok",
     "timestamp": 1542371308203,
     "user": {
      "displayName": "slanjr",
      "photoUrl": "https://lh5.googleusercontent.com/-R7DC5NrwdJk/AAAAAAAAAAI/AAAAAAAABZM/JtucoIb6TZM/s64/photo.jpg",
      "userId": "13306556798502122992"
     },
     "user_tz": -120
    },
    "id": "GN5KakbbM0s6",
    "outputId": "68e3c87d-dbd8-424f-cb46-31473ea627bc"
   },
   "outputs": [
    {
     "data": {
      "text/plain": [
       "0.043074998382260955"
      ]
     },
     "execution_count": 21,
     "metadata": {
      "tags": []
     },
     "output_type": "execute_result"
    }
   ],
   "source": [
    "all_ai_count = len(re.findall(r'(\\b)ai(\\b)', all_words)) / float(all_text_len) \n",
    "all_ai_count"
   ]
  },
  {
   "cell_type": "code",
   "execution_count": 22,
   "metadata": {
    "colab": {
     "base_uri": "https://localhost:8080/",
     "height": 34
    },
    "colab_type": "code",
    "collapsed": false,
    "executionInfo": {
     "elapsed": 903,
     "status": "ok",
     "timestamp": 1542371310431,
     "user": {
      "displayName": "slanjr",
      "photoUrl": "https://lh5.googleusercontent.com/-R7DC5NrwdJk/AAAAAAAAAAI/AAAAAAAABZM/JtucoIb6TZM/s64/photo.jpg",
      "userId": "13306556798502122992"
     },
     "user_tz": -120
    },
    "id": "xQBvd9T-NOWt",
    "outputId": "1069eb38-95d2-4ea5-ae8f-f2b3e6e4f663"
   },
   "outputs": [
    {
     "data": {
      "text/plain": [
       "0.006272513535083368"
      ]
     },
     "execution_count": 22,
     "metadata": {
      "tags": []
     },
     "output_type": "execute_result"
    }
   ],
   "source": [
    "all_ml_count = len(re.findall('machinelearning', all_words)) / float(all_text_len)\n",
    "all_ml_count"
   ]
  },
  {
   "cell_type": "code",
   "execution_count": 23,
   "metadata": {
    "colab": {
     "base_uri": "https://localhost:8080/",
     "height": 34
    },
    "colab_type": "code",
    "collapsed": false,
    "executionInfo": {
     "elapsed": 1381,
     "status": "ok",
     "timestamp": 1542371312403,
     "user": {
      "displayName": "slanjr",
      "photoUrl": "https://lh5.googleusercontent.com/-R7DC5NrwdJk/AAAAAAAAAAI/AAAAAAAABZM/JtucoIb6TZM/s64/photo.jpg",
      "userId": "13306556798502122992"
     },
     "user_tz": -120
    },
    "id": "zD6lpiJeNh2n",
    "outputId": "a351bfcd-a5bc-402f-cf6a-42cc70b8ee52"
   },
   "outputs": [
    {
     "data": {
      "text/plain": [
       "0.5793966623876765"
      ]
     },
     "execution_count": 23,
     "metadata": {
      "tags": []
     },
     "output_type": "execute_result"
    }
   ],
   "source": [
    "ai_prob = len(df[df.w1_count > 0]) / len(df)\n",
    "ai_prob"
   ]
  },
  {
   "cell_type": "code",
   "execution_count": 24,
   "metadata": {
    "colab": {
     "base_uri": "https://localhost:8080/",
     "height": 34
    },
    "colab_type": "code",
    "collapsed": false,
    "executionInfo": {
     "elapsed": 1209,
     "status": "ok",
     "timestamp": 1542371315169,
     "user": {
      "displayName": "slanjr",
      "photoUrl": "https://lh5.googleusercontent.com/-R7DC5NrwdJk/AAAAAAAAAAI/AAAAAAAABZM/JtucoIb6TZM/s64/photo.jpg",
      "userId": "13306556798502122992"
     },
     "user_tz": -120
    },
    "id": "czOhDxKnPNuE",
    "outputId": "06483425-bc52-44d8-8443-f3a261934071"
   },
   "outputs": [
    {
     "data": {
      "text/plain": [
       "0.09326059050064185"
      ]
     },
     "execution_count": 24,
     "metadata": {
      "tags": []
     },
     "output_type": "execute_result"
    }
   ],
   "source": [
    "ml_prob = len(df[df.w2_count > 0]) / len(df)\n",
    "ml_prob"
   ]
  },
  {
   "cell_type": "code",
   "execution_count": 25,
   "metadata": {
    "colab": {
     "base_uri": "https://localhost:8080/",
     "height": 69
    },
    "colab_type": "code",
    "collapsed": false,
    "executionInfo": {
     "elapsed": 582,
     "status": "ok",
     "timestamp": 1542371316553,
     "user": {
      "displayName": "slanjr",
      "photoUrl": "https://lh5.googleusercontent.com/-R7DC5NrwdJk/AAAAAAAAAAI/AAAAAAAABZM/JtucoIb6TZM/s64/photo.jpg",
      "userId": "13306556798502122992"
     },
     "user_tz": -120
    },
    "id": "CxwSXJX5PhLL",
    "outputId": "180585be-0aad-4078-e48d-94f715b9acbe"
   },
   "outputs": [
    {
     "name": "stderr",
     "output_type": "stream",
     "text": [
      "/usr/local/lib/python3.6/dist-packages/ipykernel_launcher.py:1: UserWarning: Boolean Series key will be reindexed to match DataFrame index.\n",
      "  \"\"\"Entry point for launching an IPython kernel.\n"
     ]
    },
    {
     "data": {
      "text/plain": [
       "0.11975185554447768"
      ]
     },
     "execution_count": 25,
     "metadata": {
      "tags": []
     },
     "output_type": "execute_result"
    }
   ],
   "source": [
    "ml_from_ai_prob = len(df[df.w1_count > 0][df.w2_count > 0]) / len(df[df.w1_count > 0])\n",
    "ml_from_ai_prob"
   ]
  },
  {
   "cell_type": "code",
   "execution_count": 26,
   "metadata": {
    "colab": {
     "base_uri": "https://localhost:8080/",
     "height": 69
    },
    "colab_type": "code",
    "collapsed": false,
    "executionInfo": {
     "elapsed": 641,
     "status": "ok",
     "timestamp": 1542371318829,
     "user": {
      "displayName": "slanjr",
      "photoUrl": "https://lh5.googleusercontent.com/-R7DC5NrwdJk/AAAAAAAAAAI/AAAAAAAABZM/JtucoIb6TZM/s64/photo.jpg",
      "userId": "13306556798502122992"
     },
     "user_tz": -120
    },
    "id": "1qruwJJeQluW",
    "outputId": "4f4378b0-ad82-4a20-a651-6b3b98cef824"
   },
   "outputs": [
    {
     "name": "stderr",
     "output_type": "stream",
     "text": [
      "/usr/local/lib/python3.6/dist-packages/ipykernel_launcher.py:1: UserWarning: Boolean Series key will be reindexed to match DataFrame index.\n",
      "  \"\"\"Entry point for launching an IPython kernel.\n"
     ]
    },
    {
     "data": {
      "text/plain": [
       "0.7439779766001376"
      ]
     },
     "execution_count": 26,
     "metadata": {
      "tags": []
     },
     "output_type": "execute_result"
    }
   ],
   "source": [
    "ai_from_ml_prob = len(df[df.w2_count > 0][df.w1_count > 0]) / len(df[df.w2_count > 0])\n",
    "ai_from_ml_prob"
   ]
  },
  {
   "cell_type": "markdown",
   "metadata": {
    "colab_type": "text",
    "id": "6VbNHRWMkB7y"
   },
   "source": [
    "### Finding words pair ('ai', 'machinelearning') correlation per chunk"
   ]
  },
  {
   "cell_type": "code",
   "execution_count": 27,
   "metadata": {
    "colab": {
     "base_uri": "https://localhost:8080/",
     "height": 312
    },
    "colab_type": "code",
    "collapsed": false,
    "executionInfo": {
     "elapsed": 589,
     "status": "ok",
     "timestamp": 1542371322511,
     "user": {
      "displayName": "slanjr",
      "photoUrl": "https://lh5.googleusercontent.com/-R7DC5NrwdJk/AAAAAAAAAAI/AAAAAAAABZM/JtucoIb6TZM/s64/photo.jpg",
      "userId": "13306556798502122992"
     },
     "user_tz": -120
    },
    "id": "EFCFDakcRNtR",
    "outputId": "f474f516-5e50-452c-8789-6e01ac5fe19e"
   },
   "outputs": [
    {
     "data": {
      "text/plain": [
       "0     0.204850\n",
       "1     0.227881\n",
       "2     0.259411\n",
       "3     0.115113\n",
       "4     0.144830\n",
       "5     0.093248\n",
       "6     0.114156\n",
       "7     0.065288\n",
       "8     0.108049\n",
       "9     0.102225\n",
       "10    0.103094\n",
       "11    0.050258\n",
       "12    0.065330\n",
       "13    0.067340\n",
       "14    0.160264\n",
       "15    0.175015\n",
       "Name: w1_count, dtype: float64"
      ]
     },
     "execution_count": 27,
     "metadata": {
      "tags": []
     },
     "output_type": "execute_result"
    }
   ],
   "source": [
    "df.groupby(lambda x: x//1000)['w1_count'].corr(df['w2_count'])"
   ]
  },
  {
   "cell_type": "code",
   "execution_count": 28,
   "metadata": {
    "colab": {
     "base_uri": "https://localhost:8080/",
     "height": 312
    },
    "colab_type": "code",
    "collapsed": false,
    "executionInfo": {
     "elapsed": 1182,
     "status": "ok",
     "timestamp": 1542371326045,
     "user": {
      "displayName": "slanjr",
      "photoUrl": "https://lh5.googleusercontent.com/-R7DC5NrwdJk/AAAAAAAAAAI/AAAAAAAABZM/JtucoIb6TZM/s64/photo.jpg",
      "userId": "13306556798502122992"
     },
     "user_tz": -120
    },
    "id": "66FJImmIV3qC",
    "outputId": "0fc70bca-5889-44ee-d4e4-f39f7e3c8a80"
   },
   "outputs": [
    {
     "data": {
      "text/plain": [
       "0     0.189112\n",
       "1     0.193433\n",
       "2     0.247051\n",
       "3     0.104288\n",
       "4     0.124128\n",
       "5     0.086785\n",
       "6     0.082919\n",
       "7     0.067323\n",
       "8     0.105920\n",
       "9     0.103174\n",
       "10    0.105686\n",
       "11    0.060941\n",
       "12    0.069580\n",
       "13    0.072237\n",
       "14    0.147876\n",
       "15    0.186807\n",
       "Name: w1_count, dtype: float64"
      ]
     },
     "execution_count": 28,
     "metadata": {
      "tags": []
     },
     "output_type": "execute_result"
    }
   ],
   "source": [
    "df.groupby(lambda x: x//1000)['w1_count'].corr(df['w2_count'], method='kendall')"
   ]
  },
  {
   "cell_type": "code",
   "execution_count": 29,
   "metadata": {
    "colab": {
     "base_uri": "https://localhost:8080/",
     "height": 312
    },
    "colab_type": "code",
    "collapsed": false,
    "executionInfo": {
     "elapsed": 936,
     "status": "ok",
     "timestamp": 1542371329266,
     "user": {
      "displayName": "slanjr",
      "photoUrl": "https://lh5.googleusercontent.com/-R7DC5NrwdJk/AAAAAAAAAAI/AAAAAAAABZM/JtucoIb6TZM/s64/photo.jpg",
      "userId": "13306556798502122992"
     },
     "user_tz": -120
    },
    "id": "RDys-W1ZXRlI",
    "outputId": "b722c3e3-5130-4f79-8fef-c41b6c208f81"
   },
   "outputs": [
    {
     "data": {
      "text/plain": [
       "0     0.193691\n",
       "1     0.199129\n",
       "2     0.255645\n",
       "3     0.106959\n",
       "4     0.127633\n",
       "5     0.089242\n",
       "6     0.085411\n",
       "7     0.068669\n",
       "8     0.107899\n",
       "9     0.105141\n",
       "10    0.107622\n",
       "11    0.062214\n",
       "12    0.071344\n",
       "13    0.074110\n",
       "14    0.151501\n",
       "15    0.189959\n",
       "Name: w1_count, dtype: float64"
      ]
     },
     "execution_count": 29,
     "metadata": {
      "tags": []
     },
     "output_type": "execute_result"
    }
   ],
   "source": [
    "df.groupby(lambda x: x//1000)['w1_count'].corr(df['w2_count'], method='spearman')"
   ]
  },
  {
   "cell_type": "markdown",
   "metadata": {
    "colab_type": "text",
    "id": "0MLJVBXWkf11"
   },
   "source": [
    "### Finding conditional probability for words pair ('intelligence', 'blockchain') per chunk"
   ]
  },
  {
   "cell_type": "code",
   "execution_count": 0,
   "metadata": {
    "colab": {},
    "colab_type": "code",
    "collapsed": true,
    "id": "4kPGGk2mTrdd"
   },
   "outputs": [],
   "source": [
    "df['iot_count'] = df['text_stripped'].apply(lambda x: word_count(x, word=r'(\\b)intelligence(\\b)'))\n",
    "df['chain_count'] = df['text_stripped'].apply(lambda x: word_count(x, word=r'(\\b)blockchain(\\b)'))"
   ]
  },
  {
   "cell_type": "code",
   "execution_count": 31,
   "metadata": {
    "colab": {
     "base_uri": "https://localhost:8080/",
     "height": 363
    },
    "colab_type": "code",
    "collapsed": false,
    "executionInfo": {
     "elapsed": 916,
     "status": "ok",
     "timestamp": 1542371368730,
     "user": {
      "displayName": "slanjr",
      "photoUrl": "https://lh5.googleusercontent.com/-R7DC5NrwdJk/AAAAAAAAAAI/AAAAAAAABZM/JtucoIb6TZM/s64/photo.jpg",
      "userId": "13306556798502122992"
     },
     "user_tz": -120
    },
    "id": "K4lYDH4Pk2gV",
    "outputId": "82ed57c3-bc22-4546-e230-ce1d7ff0c529"
   },
   "outputs": [
    {
     "data": {
      "text/html": [
       "<div>\n",
       "<style scoped>\n",
       "    .dataframe tbody tr th:only-of-type {\n",
       "        vertical-align: middle;\n",
       "    }\n",
       "\n",
       "    .dataframe tbody tr th {\n",
       "        vertical-align: top;\n",
       "    }\n",
       "\n",
       "    .dataframe thead th {\n",
       "        text-align: right;\n",
       "    }\n",
       "</style>\n",
       "<table border=\"1\" class=\"dataframe\">\n",
       "  <thead>\n",
       "    <tr style=\"text-align: right;\">\n",
       "      <th></th>\n",
       "      <th>created_at</th>\n",
       "      <th>text_stripped</th>\n",
       "      <th>text_len</th>\n",
       "      <th>w1_count</th>\n",
       "      <th>w2_count</th>\n",
       "      <th>count_w1_w2</th>\n",
       "      <th>iot_count</th>\n",
       "      <th>chain_count</th>\n",
       "      <th>iot_chain</th>\n",
       "    </tr>\n",
       "  </thead>\n",
       "  <tbody>\n",
       "    <tr>\n",
       "      <th>0</th>\n",
       "      <td>2018-10-23 23:06:31</td>\n",
       "      <td>cloudy perspective financecloud api device cry...</td>\n",
       "      <td>14</td>\n",
       "      <td>0</td>\n",
       "      <td>0</td>\n",
       "      <td>[0, 0]</td>\n",
       "      <td>0</td>\n",
       "      <td>1</td>\n",
       "      <td>[0, 1]</td>\n",
       "    </tr>\n",
       "    <tr>\n",
       "      <th>1</th>\n",
       "      <td>2018-10-23 23:06:31</td>\n",
       "      <td>5g will move massive amount of data transforma...</td>\n",
       "      <td>19</td>\n",
       "      <td>0</td>\n",
       "      <td>0</td>\n",
       "      <td>[0, 0]</td>\n",
       "      <td>0</td>\n",
       "      <td>0</td>\n",
       "      <td>[0, 0]</td>\n",
       "    </tr>\n",
       "    <tr>\n",
       "      <th>2</th>\n",
       "      <td>2018-10-23 23:06:36</td>\n",
       "      <td>hour left to apply for the scholarship challen...</td>\n",
       "      <td>12</td>\n",
       "      <td>1</td>\n",
       "      <td>0</td>\n",
       "      <td>[1, 0]</td>\n",
       "      <td>0</td>\n",
       "      <td>0</td>\n",
       "      <td>[0, 0]</td>\n",
       "    </tr>\n",
       "    <tr>\n",
       "      <th>3</th>\n",
       "      <td>2018-10-23 23:06:37</td>\n",
       "      <td>ai and iot the most relevant emergingtech in i...</td>\n",
       "      <td>16</td>\n",
       "      <td>2</td>\n",
       "      <td>0</td>\n",
       "      <td>[2, 0]</td>\n",
       "      <td>0</td>\n",
       "      <td>0</td>\n",
       "      <td>[0, 0]</td>\n",
       "    </tr>\n",
       "    <tr>\n",
       "      <th>4</th>\n",
       "      <td>2018-10-23 23:06:38</td>\n",
       "      <td>this futuristic bus is 100 driverless and full...</td>\n",
       "      <td>13</td>\n",
       "      <td>0</td>\n",
       "      <td>0</td>\n",
       "      <td>[0, 0]</td>\n",
       "      <td>0</td>\n",
       "      <td>0</td>\n",
       "      <td>[0, 0]</td>\n",
       "    </tr>\n",
       "    <tr>\n",
       "      <th>5</th>\n",
       "      <td>2018-10-23 23:06:38</td>\n",
       "      <td>industry40 is set to have a significant impact...</td>\n",
       "      <td>14</td>\n",
       "      <td>0</td>\n",
       "      <td>0</td>\n",
       "      <td>[0, 0]</td>\n",
       "      <td>0</td>\n",
       "      <td>0</td>\n",
       "      <td>[0, 0]</td>\n",
       "    </tr>\n",
       "    <tr>\n",
       "      <th>6</th>\n",
       "      <td>2018-10-23 23:06:45</td>\n",
       "      <td>20 year of u venturecapital funding trend by i...</td>\n",
       "      <td>15</td>\n",
       "      <td>1</td>\n",
       "      <td>0</td>\n",
       "      <td>[1, 0]</td>\n",
       "      <td>0</td>\n",
       "      <td>0</td>\n",
       "      <td>[0, 0]</td>\n",
       "    </tr>\n",
       "    <tr>\n",
       "      <th>7</th>\n",
       "      <td>2018-10-23 23:06:46</td>\n",
       "      <td>the latest the explore communication daily tha...</td>\n",
       "      <td>10</td>\n",
       "      <td>1</td>\n",
       "      <td>0</td>\n",
       "      <td>[1, 0]</td>\n",
       "      <td>0</td>\n",
       "      <td>0</td>\n",
       "      <td>[0, 0]</td>\n",
       "    </tr>\n",
       "    <tr>\n",
       "      <th>8</th>\n",
       "      <td>2018-10-23 23:06:48</td>\n",
       "      <td>artificialintelligence method a shared in rece...</td>\n",
       "      <td>11</td>\n",
       "      <td>1</td>\n",
       "      <td>0</td>\n",
       "      <td>[1, 0]</td>\n",
       "      <td>0</td>\n",
       "      <td>0</td>\n",
       "      <td>[0, 0]</td>\n",
       "    </tr>\n",
       "    <tr>\n",
       "      <th>9</th>\n",
       "      <td>2018-10-23 23:06:49</td>\n",
       "      <td>blurring line ai and ml in marketing and adver...</td>\n",
       "      <td>12</td>\n",
       "      <td>2</td>\n",
       "      <td>0</td>\n",
       "      <td>[2, 0]</td>\n",
       "      <td>0</td>\n",
       "      <td>0</td>\n",
       "      <td>[0, 0]</td>\n",
       "    </tr>\n",
       "  </tbody>\n",
       "</table>\n",
       "</div>"
      ],
      "text/plain": [
       "           created_at                                      text_stripped  \\\n",
       "0 2018-10-23 23:06:31  cloudy perspective financecloud api device cry...   \n",
       "1 2018-10-23 23:06:31  5g will move massive amount of data transforma...   \n",
       "2 2018-10-23 23:06:36  hour left to apply for the scholarship challen...   \n",
       "3 2018-10-23 23:06:37  ai and iot the most relevant emergingtech in i...   \n",
       "4 2018-10-23 23:06:38  this futuristic bus is 100 driverless and full...   \n",
       "5 2018-10-23 23:06:38  industry40 is set to have a significant impact...   \n",
       "6 2018-10-23 23:06:45  20 year of u venturecapital funding trend by i...   \n",
       "7 2018-10-23 23:06:46  the latest the explore communication daily tha...   \n",
       "8 2018-10-23 23:06:48  artificialintelligence method a shared in rece...   \n",
       "9 2018-10-23 23:06:49  blurring line ai and ml in marketing and adver...   \n",
       "\n",
       "   text_len  w1_count  w2_count count_w1_w2  iot_count  chain_count iot_chain  \n",
       "0        14         0         0      [0, 0]          0            1    [0, 1]  \n",
       "1        19         0         0      [0, 0]          0            0    [0, 0]  \n",
       "2        12         1         0      [1, 0]          0            0    [0, 0]  \n",
       "3        16         2         0      [2, 0]          0            0    [0, 0]  \n",
       "4        13         0         0      [0, 0]          0            0    [0, 0]  \n",
       "5        14         0         0      [0, 0]          0            0    [0, 0]  \n",
       "6        15         1         0      [1, 0]          0            0    [0, 0]  \n",
       "7        10         1         0      [1, 0]          0            0    [0, 0]  \n",
       "8        11         1         0      [1, 0]          0            0    [0, 0]  \n",
       "9        12         2         0      [2, 0]          0            0    [0, 0]  "
      ]
     },
     "execution_count": 31,
     "metadata": {
      "tags": []
     },
     "output_type": "execute_result"
    }
   ],
   "source": [
    "df['iot_chain'] = df['iot_count'].apply(lambda x: [x]) + df['chain_count'].apply(lambda x: [x])\n",
    "df.head(10)"
   ]
  },
  {
   "cell_type": "code",
   "execution_count": 33,
   "metadata": {
    "colab": {
     "base_uri": "https://localhost:8080/",
     "height": 614
    },
    "colab_type": "code",
    "collapsed": false,
    "executionInfo": {
     "elapsed": 602,
     "status": "ok",
     "timestamp": 1542371403382,
     "user": {
      "displayName": "slanjr",
      "photoUrl": "https://lh5.googleusercontent.com/-R7DC5NrwdJk/AAAAAAAAAAI/AAAAAAAABZM/JtucoIb6TZM/s64/photo.jpg",
      "userId": "13306556798502122992"
     },
     "user_tz": -120
    },
    "id": "F_dA2yvGlCek",
    "outputId": "bd40b2d4-e3b5-4890-d599-6d6fd891b856"
   },
   "outputs": [
    {
     "data": {
      "text/html": [
       "<div>\n",
       "<style scoped>\n",
       "    .dataframe tbody tr th:only-of-type {\n",
       "        vertical-align: middle;\n",
       "    }\n",
       "\n",
       "    .dataframe tbody tr th {\n",
       "        vertical-align: top;\n",
       "    }\n",
       "\n",
       "    .dataframe thead tr th {\n",
       "        text-align: left;\n",
       "    }\n",
       "</style>\n",
       "<table border=\"1\" class=\"dataframe\">\n",
       "  <thead>\n",
       "    <tr>\n",
       "      <th></th>\n",
       "      <th colspan=\"8\" halign=\"left\">iot blockchain statistics by chunk</th>\n",
       "    </tr>\n",
       "    <tr>\n",
       "      <th></th>\n",
       "      <th colspan=\"4\" halign=\"left\">iot_count</th>\n",
       "      <th colspan=\"4\" halign=\"left\">chain_count</th>\n",
       "    </tr>\n",
       "    <tr>\n",
       "      <th></th>\n",
       "      <th>sum</th>\n",
       "      <th>mean</th>\n",
       "      <th>max</th>\n",
       "      <th>probability</th>\n",
       "      <th>sum</th>\n",
       "      <th>mean</th>\n",
       "      <th>max</th>\n",
       "      <th>probability</th>\n",
       "    </tr>\n",
       "  </thead>\n",
       "  <tbody>\n",
       "    <tr>\n",
       "      <th>0</th>\n",
       "      <td>46</td>\n",
       "      <td>0.04600</td>\n",
       "      <td>1</td>\n",
       "      <td>0.04600</td>\n",
       "      <td>95</td>\n",
       "      <td>0.095000</td>\n",
       "      <td>2</td>\n",
       "      <td>0.093000</td>\n",
       "    </tr>\n",
       "    <tr>\n",
       "      <th>1</th>\n",
       "      <td>68</td>\n",
       "      <td>0.06800</td>\n",
       "      <td>1</td>\n",
       "      <td>0.06800</td>\n",
       "      <td>65</td>\n",
       "      <td>0.065000</td>\n",
       "      <td>2</td>\n",
       "      <td>0.061000</td>\n",
       "    </tr>\n",
       "    <tr>\n",
       "      <th>2</th>\n",
       "      <td>64</td>\n",
       "      <td>0.06400</td>\n",
       "      <td>1</td>\n",
       "      <td>0.06400</td>\n",
       "      <td>50</td>\n",
       "      <td>0.050000</td>\n",
       "      <td>2</td>\n",
       "      <td>0.047000</td>\n",
       "    </tr>\n",
       "    <tr>\n",
       "      <th>3</th>\n",
       "      <td>59</td>\n",
       "      <td>0.05900</td>\n",
       "      <td>2</td>\n",
       "      <td>0.05800</td>\n",
       "      <td>52</td>\n",
       "      <td>0.052000</td>\n",
       "      <td>2</td>\n",
       "      <td>0.048000</td>\n",
       "    </tr>\n",
       "    <tr>\n",
       "      <th>4</th>\n",
       "      <td>49</td>\n",
       "      <td>0.04900</td>\n",
       "      <td>2</td>\n",
       "      <td>0.04700</td>\n",
       "      <td>60</td>\n",
       "      <td>0.060000</td>\n",
       "      <td>2</td>\n",
       "      <td>0.049000</td>\n",
       "    </tr>\n",
       "    <tr>\n",
       "      <th>5</th>\n",
       "      <td>65</td>\n",
       "      <td>0.06500</td>\n",
       "      <td>2</td>\n",
       "      <td>0.06400</td>\n",
       "      <td>46</td>\n",
       "      <td>0.046000</td>\n",
       "      <td>2</td>\n",
       "      <td>0.041000</td>\n",
       "    </tr>\n",
       "    <tr>\n",
       "      <th>6</th>\n",
       "      <td>83</td>\n",
       "      <td>0.08300</td>\n",
       "      <td>1</td>\n",
       "      <td>0.08300</td>\n",
       "      <td>79</td>\n",
       "      <td>0.079000</td>\n",
       "      <td>1</td>\n",
       "      <td>0.079000</td>\n",
       "    </tr>\n",
       "    <tr>\n",
       "      <th>7</th>\n",
       "      <td>53</td>\n",
       "      <td>0.05300</td>\n",
       "      <td>2</td>\n",
       "      <td>0.05200</td>\n",
       "      <td>43</td>\n",
       "      <td>0.043000</td>\n",
       "      <td>2</td>\n",
       "      <td>0.036000</td>\n",
       "    </tr>\n",
       "    <tr>\n",
       "      <th>8</th>\n",
       "      <td>113</td>\n",
       "      <td>0.11300</td>\n",
       "      <td>1</td>\n",
       "      <td>0.11300</td>\n",
       "      <td>48</td>\n",
       "      <td>0.048000</td>\n",
       "      <td>2</td>\n",
       "      <td>0.044000</td>\n",
       "    </tr>\n",
       "    <tr>\n",
       "      <th>9</th>\n",
       "      <td>118</td>\n",
       "      <td>0.11800</td>\n",
       "      <td>1</td>\n",
       "      <td>0.11800</td>\n",
       "      <td>61</td>\n",
       "      <td>0.061000</td>\n",
       "      <td>2</td>\n",
       "      <td>0.056000</td>\n",
       "    </tr>\n",
       "    <tr>\n",
       "      <th>10</th>\n",
       "      <td>56</td>\n",
       "      <td>0.05600</td>\n",
       "      <td>1</td>\n",
       "      <td>0.05600</td>\n",
       "      <td>39</td>\n",
       "      <td>0.039000</td>\n",
       "      <td>2</td>\n",
       "      <td>0.035000</td>\n",
       "    </tr>\n",
       "    <tr>\n",
       "      <th>11</th>\n",
       "      <td>66</td>\n",
       "      <td>0.06600</td>\n",
       "      <td>1</td>\n",
       "      <td>0.06600</td>\n",
       "      <td>42</td>\n",
       "      <td>0.042000</td>\n",
       "      <td>2</td>\n",
       "      <td>0.041000</td>\n",
       "    </tr>\n",
       "    <tr>\n",
       "      <th>12</th>\n",
       "      <td>59</td>\n",
       "      <td>0.05900</td>\n",
       "      <td>2</td>\n",
       "      <td>0.05700</td>\n",
       "      <td>42</td>\n",
       "      <td>0.042000</td>\n",
       "      <td>2</td>\n",
       "      <td>0.040000</td>\n",
       "    </tr>\n",
       "    <tr>\n",
       "      <th>13</th>\n",
       "      <td>70</td>\n",
       "      <td>0.07000</td>\n",
       "      <td>2</td>\n",
       "      <td>0.06900</td>\n",
       "      <td>46</td>\n",
       "      <td>0.046000</td>\n",
       "      <td>2</td>\n",
       "      <td>0.043000</td>\n",
       "    </tr>\n",
       "    <tr>\n",
       "      <th>14</th>\n",
       "      <td>97</td>\n",
       "      <td>0.09700</td>\n",
       "      <td>1</td>\n",
       "      <td>0.09700</td>\n",
       "      <td>62</td>\n",
       "      <td>0.062000</td>\n",
       "      <td>2</td>\n",
       "      <td>0.059000</td>\n",
       "    </tr>\n",
       "    <tr>\n",
       "      <th>15</th>\n",
       "      <td>41</td>\n",
       "      <td>0.07069</td>\n",
       "      <td>1</td>\n",
       "      <td>0.07069</td>\n",
       "      <td>18</td>\n",
       "      <td>0.031034</td>\n",
       "      <td>2</td>\n",
       "      <td>0.027586</td>\n",
       "    </tr>\n",
       "  </tbody>\n",
       "</table>\n",
       "</div>"
      ],
      "text/plain": [
       "   iot blockchain statistics by chunk                                       \\\n",
       "                            iot_count                          chain_count   \n",
       "                                  sum     mean max probability         sum   \n",
       "0                                  46  0.04600   1     0.04600          95   \n",
       "1                                  68  0.06800   1     0.06800          65   \n",
       "2                                  64  0.06400   1     0.06400          50   \n",
       "3                                  59  0.05900   2     0.05800          52   \n",
       "4                                  49  0.04900   2     0.04700          60   \n",
       "5                                  65  0.06500   2     0.06400          46   \n",
       "6                                  83  0.08300   1     0.08300          79   \n",
       "7                                  53  0.05300   2     0.05200          43   \n",
       "8                                 113  0.11300   1     0.11300          48   \n",
       "9                                 118  0.11800   1     0.11800          61   \n",
       "10                                 56  0.05600   1     0.05600          39   \n",
       "11                                 66  0.06600   1     0.06600          42   \n",
       "12                                 59  0.05900   2     0.05700          42   \n",
       "13                                 70  0.07000   2     0.06900          46   \n",
       "14                                 97  0.09700   1     0.09700          62   \n",
       "15                                 41  0.07069   1     0.07069          18   \n",
       "\n",
       "                              \n",
       "                              \n",
       "        mean max probability  \n",
       "0   0.095000   2    0.093000  \n",
       "1   0.065000   2    0.061000  \n",
       "2   0.050000   2    0.047000  \n",
       "3   0.052000   2    0.048000  \n",
       "4   0.060000   2    0.049000  \n",
       "5   0.046000   2    0.041000  \n",
       "6   0.079000   1    0.079000  \n",
       "7   0.043000   2    0.036000  \n",
       "8   0.048000   2    0.044000  \n",
       "9   0.061000   2    0.056000  \n",
       "10  0.039000   2    0.035000  \n",
       "11  0.042000   2    0.041000  \n",
       "12  0.042000   2    0.040000  \n",
       "13  0.046000   2    0.043000  \n",
       "14  0.062000   2    0.059000  \n",
       "15  0.031034   2    0.027586  "
      ]
     },
     "execution_count": 33,
     "metadata": {
      "tags": []
     },
     "output_type": "execute_result"
    }
   ],
   "source": [
    "df.groupby(lambda x: x//1000)[\"iot_count\", \"chain_count\"].agg({'iot blockchain statistics by chunk': ['sum', 'mean', 'max', probability]})"
   ]
  },
  {
   "cell_type": "code",
   "execution_count": 34,
   "metadata": {
    "colab": {
     "base_uri": "https://localhost:8080/",
     "height": 635
    },
    "colab_type": "code",
    "collapsed": false,
    "executionInfo": {
     "elapsed": 711,
     "status": "ok",
     "timestamp": 1542371435924,
     "user": {
      "displayName": "slanjr",
      "photoUrl": "https://lh5.googleusercontent.com/-R7DC5NrwdJk/AAAAAAAAAAI/AAAAAAAABZM/JtucoIb6TZM/s64/photo.jpg",
      "userId": "13306556798502122992"
     },
     "user_tz": -120
    },
    "id": "k68JrQk6lVdG",
    "outputId": "7c6222c1-0d64-4fc7-fd2b-79836705f1d0"
   },
   "outputs": [
    {
     "name": "stderr",
     "output_type": "stream",
     "text": [
      "/usr/local/lib/python3.6/dist-packages/ipykernel_launcher.py:1: FutureWarning: using a dict on a Series for aggregation\n",
      "is deprecated and will be removed in a future version\n",
      "  \"\"\"Entry point for launching an IPython kernel.\n"
     ]
    },
    {
     "data": {
      "text/html": [
       "<div>\n",
       "<style scoped>\n",
       "    .dataframe tbody tr th:only-of-type {\n",
       "        vertical-align: middle;\n",
       "    }\n",
       "\n",
       "    .dataframe tbody tr th {\n",
       "        vertical-align: top;\n",
       "    }\n",
       "\n",
       "    .dataframe thead tr th {\n",
       "        text-align: left;\n",
       "    }\n",
       "</style>\n",
       "<table border=\"1\" class=\"dataframe\">\n",
       "  <thead>\n",
       "    <tr>\n",
       "      <th></th>\n",
       "      <th colspan=\"2\" halign=\"left\">iot blockchain conditional probability</th>\n",
       "    </tr>\n",
       "    <tr>\n",
       "      <th></th>\n",
       "      <th>word2 from word1 probability</th>\n",
       "      <th>word1 from word2 probability</th>\n",
       "    </tr>\n",
       "  </thead>\n",
       "  <tbody>\n",
       "    <tr>\n",
       "      <th>0</th>\n",
       "      <td>0.021739</td>\n",
       "      <td>0.010753</td>\n",
       "    </tr>\n",
       "    <tr>\n",
       "      <th>1</th>\n",
       "      <td>0.000000</td>\n",
       "      <td>0.000000</td>\n",
       "    </tr>\n",
       "    <tr>\n",
       "      <th>2</th>\n",
       "      <td>0.046875</td>\n",
       "      <td>0.063830</td>\n",
       "    </tr>\n",
       "    <tr>\n",
       "      <th>3</th>\n",
       "      <td>0.017241</td>\n",
       "      <td>0.020833</td>\n",
       "    </tr>\n",
       "    <tr>\n",
       "      <th>4</th>\n",
       "      <td>0.000000</td>\n",
       "      <td>0.000000</td>\n",
       "    </tr>\n",
       "    <tr>\n",
       "      <th>5</th>\n",
       "      <td>0.015625</td>\n",
       "      <td>0.024390</td>\n",
       "    </tr>\n",
       "    <tr>\n",
       "      <th>6</th>\n",
       "      <td>0.108434</td>\n",
       "      <td>0.113924</td>\n",
       "    </tr>\n",
       "    <tr>\n",
       "      <th>7</th>\n",
       "      <td>0.000000</td>\n",
       "      <td>0.000000</td>\n",
       "    </tr>\n",
       "    <tr>\n",
       "      <th>8</th>\n",
       "      <td>0.044248</td>\n",
       "      <td>0.113636</td>\n",
       "    </tr>\n",
       "    <tr>\n",
       "      <th>9</th>\n",
       "      <td>0.008475</td>\n",
       "      <td>0.017857</td>\n",
       "    </tr>\n",
       "    <tr>\n",
       "      <th>10</th>\n",
       "      <td>0.017857</td>\n",
       "      <td>0.028571</td>\n",
       "    </tr>\n",
       "    <tr>\n",
       "      <th>11</th>\n",
       "      <td>0.000000</td>\n",
       "      <td>0.000000</td>\n",
       "    </tr>\n",
       "    <tr>\n",
       "      <th>12</th>\n",
       "      <td>0.000000</td>\n",
       "      <td>0.000000</td>\n",
       "    </tr>\n",
       "    <tr>\n",
       "      <th>13</th>\n",
       "      <td>0.000000</td>\n",
       "      <td>0.000000</td>\n",
       "    </tr>\n",
       "    <tr>\n",
       "      <th>14</th>\n",
       "      <td>0.000000</td>\n",
       "      <td>0.000000</td>\n",
       "    </tr>\n",
       "    <tr>\n",
       "      <th>15</th>\n",
       "      <td>0.000000</td>\n",
       "      <td>0.000000</td>\n",
       "    </tr>\n",
       "  </tbody>\n",
       "</table>\n",
       "</div>"
      ],
      "text/plain": [
       "   iot blockchain conditional probability                             \n",
       "             word2 from word1 probability word1 from word2 probability\n",
       "0                                0.021739                     0.010753\n",
       "1                                0.000000                     0.000000\n",
       "2                                0.046875                     0.063830\n",
       "3                                0.017241                     0.020833\n",
       "4                                0.000000                     0.000000\n",
       "5                                0.015625                     0.024390\n",
       "6                                0.108434                     0.113924\n",
       "7                                0.000000                     0.000000\n",
       "8                                0.044248                     0.113636\n",
       "9                                0.008475                     0.017857\n",
       "10                               0.017857                     0.028571\n",
       "11                               0.000000                     0.000000\n",
       "12                               0.000000                     0.000000\n",
       "13                               0.000000                     0.000000\n",
       "14                               0.000000                     0.000000\n",
       "15                               0.000000                     0.000000"
      ]
     },
     "execution_count": 34,
     "metadata": {
      "tags": []
     },
     "output_type": "execute_result"
    }
   ],
   "source": [
    "df.groupby(lambda x: x//1000)[\"iot_chain\"].agg({'iot blockchain conditional probability': [c_probability, c_inv_probability]})"
   ]
  },
  {
   "cell_type": "markdown",
   "metadata": {
    "colab_type": "text",
    "id": "hhPnKm0YmqYG"
   },
   "source": [
    "### Finding words pair ('iot', 'blockchain') correlation per chunk"
   ]
  },
  {
   "cell_type": "code",
   "execution_count": 35,
   "metadata": {
    "colab": {
     "base_uri": "https://localhost:8080/",
     "height": 312
    },
    "colab_type": "code",
    "collapsed": false,
    "executionInfo": {
     "elapsed": 637,
     "status": "ok",
     "timestamp": 1542371442551,
     "user": {
      "displayName": "slanjr",
      "photoUrl": "https://lh5.googleusercontent.com/-R7DC5NrwdJk/AAAAAAAAAAI/AAAAAAAABZM/JtucoIb6TZM/s64/photo.jpg",
      "userId": "13306556798502122992"
     },
     "user_tz": -120
    },
    "id": "jfx3d5Xqmc7X",
    "outputId": "bb6cd016-6d76-452e-fbf2-6f7996e915f4"
   },
   "outputs": [
    {
     "data": {
      "text/plain": [
       "0    -0.053631\n",
       "1    -0.066949\n",
       "2    -0.003533\n",
       "3    -0.036023\n",
       "4    -0.046679\n",
       "5    -0.034216\n",
       "6     0.032829\n",
       "7    -0.042479\n",
       "8    -0.005780\n",
       "9    -0.074069\n",
       "10   -0.003753\n",
       "11   -0.054326\n",
       "12   -0.048293\n",
       "13   -0.055656\n",
       "14   -0.080226\n",
       "15   -0.044517\n",
       "Name: iot_count, dtype: float64"
      ]
     },
     "execution_count": 35,
     "metadata": {
      "tags": []
     },
     "output_type": "execute_result"
    }
   ],
   "source": [
    "df.groupby(lambda x: x//1000)['iot_count'].corr(df['chain_count'])"
   ]
  },
  {
   "cell_type": "markdown",
   "metadata": {
    "colab_type": "text",
    "id": "3NMGD_lZnAPF"
   },
   "source": [
    "### Finding conditional probability for words pair ('innovation', 'trump') per chunk"
   ]
  },
  {
   "cell_type": "code",
   "execution_count": 0,
   "metadata": {
    "colab": {},
    "colab_type": "code",
    "collapsed": true,
    "id": "IL7RWVhcm1_C"
   },
   "outputs": [],
   "source": [
    "df['inno_count'] = df['text_stripped'].apply(lambda x: word_count(x, word=r'(\\b)innovation(\\b)'))\n",
    "df['trump_count'] = df['text_stripped'].apply(lambda x: word_count(x, word=r'(\\s)trump(\\b)'))\n",
    "df['inno_trump'] = df['iot_count'].apply(lambda x: [x]) + df['chain_count'].apply(lambda x: [x])"
   ]
  },
  {
   "cell_type": "code",
   "execution_count": 37,
   "metadata": {
    "colab": {
     "base_uri": "https://localhost:8080/",
     "height": 614
    },
    "colab_type": "code",
    "collapsed": false,
    "executionInfo": {
     "elapsed": 609,
     "status": "ok",
     "timestamp": 1542371447881,
     "user": {
      "displayName": "slanjr",
      "photoUrl": "https://lh5.googleusercontent.com/-R7DC5NrwdJk/AAAAAAAAAAI/AAAAAAAABZM/JtucoIb6TZM/s64/photo.jpg",
      "userId": "13306556798502122992"
     },
     "user_tz": -120
    },
    "id": "wgiVQBfNpqvp",
    "outputId": "a387aca1-edf0-4b2f-9f6c-37087f1aa094"
   },
   "outputs": [
    {
     "data": {
      "text/html": [
       "<div>\n",
       "<style scoped>\n",
       "    .dataframe tbody tr th:only-of-type {\n",
       "        vertical-align: middle;\n",
       "    }\n",
       "\n",
       "    .dataframe tbody tr th {\n",
       "        vertical-align: top;\n",
       "    }\n",
       "\n",
       "    .dataframe thead tr th {\n",
       "        text-align: left;\n",
       "    }\n",
       "</style>\n",
       "<table border=\"1\" class=\"dataframe\">\n",
       "  <thead>\n",
       "    <tr>\n",
       "      <th></th>\n",
       "      <th colspan=\"8\" halign=\"left\">innovation trump statistics by chunk</th>\n",
       "    </tr>\n",
       "    <tr>\n",
       "      <th></th>\n",
       "      <th colspan=\"4\" halign=\"left\">inno_count</th>\n",
       "      <th colspan=\"4\" halign=\"left\">trump_count</th>\n",
       "    </tr>\n",
       "    <tr>\n",
       "      <th></th>\n",
       "      <th>sum</th>\n",
       "      <th>mean</th>\n",
       "      <th>max</th>\n",
       "      <th>probability</th>\n",
       "      <th>sum</th>\n",
       "      <th>mean</th>\n",
       "      <th>max</th>\n",
       "      <th>probability</th>\n",
       "    </tr>\n",
       "  </thead>\n",
       "  <tbody>\n",
       "    <tr>\n",
       "      <th>0</th>\n",
       "      <td>50</td>\n",
       "      <td>0.050000</td>\n",
       "      <td>2</td>\n",
       "      <td>0.049000</td>\n",
       "      <td>0</td>\n",
       "      <td>0.000</td>\n",
       "      <td>0</td>\n",
       "      <td>0.000</td>\n",
       "    </tr>\n",
       "    <tr>\n",
       "      <th>1</th>\n",
       "      <td>20</td>\n",
       "      <td>0.020000</td>\n",
       "      <td>1</td>\n",
       "      <td>0.020000</td>\n",
       "      <td>0</td>\n",
       "      <td>0.000</td>\n",
       "      <td>0</td>\n",
       "      <td>0.000</td>\n",
       "    </tr>\n",
       "    <tr>\n",
       "      <th>2</th>\n",
       "      <td>31</td>\n",
       "      <td>0.031000</td>\n",
       "      <td>2</td>\n",
       "      <td>0.027000</td>\n",
       "      <td>0</td>\n",
       "      <td>0.000</td>\n",
       "      <td>0</td>\n",
       "      <td>0.000</td>\n",
       "    </tr>\n",
       "    <tr>\n",
       "      <th>3</th>\n",
       "      <td>48</td>\n",
       "      <td>0.048000</td>\n",
       "      <td>1</td>\n",
       "      <td>0.048000</td>\n",
       "      <td>1</td>\n",
       "      <td>0.001</td>\n",
       "      <td>1</td>\n",
       "      <td>0.001</td>\n",
       "    </tr>\n",
       "    <tr>\n",
       "      <th>4</th>\n",
       "      <td>33</td>\n",
       "      <td>0.033000</td>\n",
       "      <td>2</td>\n",
       "      <td>0.032000</td>\n",
       "      <td>0</td>\n",
       "      <td>0.000</td>\n",
       "      <td>0</td>\n",
       "      <td>0.000</td>\n",
       "    </tr>\n",
       "    <tr>\n",
       "      <th>5</th>\n",
       "      <td>30</td>\n",
       "      <td>0.030000</td>\n",
       "      <td>1</td>\n",
       "      <td>0.030000</td>\n",
       "      <td>1</td>\n",
       "      <td>0.001</td>\n",
       "      <td>1</td>\n",
       "      <td>0.001</td>\n",
       "    </tr>\n",
       "    <tr>\n",
       "      <th>6</th>\n",
       "      <td>27</td>\n",
       "      <td>0.027000</td>\n",
       "      <td>1</td>\n",
       "      <td>0.027000</td>\n",
       "      <td>0</td>\n",
       "      <td>0.000</td>\n",
       "      <td>0</td>\n",
       "      <td>0.000</td>\n",
       "    </tr>\n",
       "    <tr>\n",
       "      <th>7</th>\n",
       "      <td>48</td>\n",
       "      <td>0.048000</td>\n",
       "      <td>1</td>\n",
       "      <td>0.048000</td>\n",
       "      <td>0</td>\n",
       "      <td>0.000</td>\n",
       "      <td>0</td>\n",
       "      <td>0.000</td>\n",
       "    </tr>\n",
       "    <tr>\n",
       "      <th>8</th>\n",
       "      <td>53</td>\n",
       "      <td>0.053000</td>\n",
       "      <td>2</td>\n",
       "      <td>0.052000</td>\n",
       "      <td>0</td>\n",
       "      <td>0.000</td>\n",
       "      <td>0</td>\n",
       "      <td>0.000</td>\n",
       "    </tr>\n",
       "    <tr>\n",
       "      <th>9</th>\n",
       "      <td>25</td>\n",
       "      <td>0.025000</td>\n",
       "      <td>2</td>\n",
       "      <td>0.024000</td>\n",
       "      <td>0</td>\n",
       "      <td>0.000</td>\n",
       "      <td>0</td>\n",
       "      <td>0.000</td>\n",
       "    </tr>\n",
       "    <tr>\n",
       "      <th>10</th>\n",
       "      <td>27</td>\n",
       "      <td>0.027000</td>\n",
       "      <td>1</td>\n",
       "      <td>0.027000</td>\n",
       "      <td>0</td>\n",
       "      <td>0.000</td>\n",
       "      <td>0</td>\n",
       "      <td>0.000</td>\n",
       "    </tr>\n",
       "    <tr>\n",
       "      <th>11</th>\n",
       "      <td>17</td>\n",
       "      <td>0.017000</td>\n",
       "      <td>1</td>\n",
       "      <td>0.017000</td>\n",
       "      <td>2</td>\n",
       "      <td>0.002</td>\n",
       "      <td>1</td>\n",
       "      <td>0.002</td>\n",
       "    </tr>\n",
       "    <tr>\n",
       "      <th>12</th>\n",
       "      <td>20</td>\n",
       "      <td>0.020000</td>\n",
       "      <td>1</td>\n",
       "      <td>0.020000</td>\n",
       "      <td>0</td>\n",
       "      <td>0.000</td>\n",
       "      <td>0</td>\n",
       "      <td>0.000</td>\n",
       "    </tr>\n",
       "    <tr>\n",
       "      <th>13</th>\n",
       "      <td>21</td>\n",
       "      <td>0.021000</td>\n",
       "      <td>1</td>\n",
       "      <td>0.021000</td>\n",
       "      <td>0</td>\n",
       "      <td>0.000</td>\n",
       "      <td>0</td>\n",
       "      <td>0.000</td>\n",
       "    </tr>\n",
       "    <tr>\n",
       "      <th>14</th>\n",
       "      <td>24</td>\n",
       "      <td>0.024000</td>\n",
       "      <td>2</td>\n",
       "      <td>0.023000</td>\n",
       "      <td>0</td>\n",
       "      <td>0.000</td>\n",
       "      <td>0</td>\n",
       "      <td>0.000</td>\n",
       "    </tr>\n",
       "    <tr>\n",
       "      <th>15</th>\n",
       "      <td>18</td>\n",
       "      <td>0.031034</td>\n",
       "      <td>1</td>\n",
       "      <td>0.031034</td>\n",
       "      <td>0</td>\n",
       "      <td>0.000</td>\n",
       "      <td>0</td>\n",
       "      <td>0.000</td>\n",
       "    </tr>\n",
       "  </tbody>\n",
       "</table>\n",
       "</div>"
      ],
      "text/plain": [
       "   innovation trump statistics by chunk                                        \\\n",
       "                             inno_count                           trump_count   \n",
       "                                    sum      mean max probability         sum   \n",
       "0                                    50  0.050000   2    0.049000           0   \n",
       "1                                    20  0.020000   1    0.020000           0   \n",
       "2                                    31  0.031000   2    0.027000           0   \n",
       "3                                    48  0.048000   1    0.048000           1   \n",
       "4                                    33  0.033000   2    0.032000           0   \n",
       "5                                    30  0.030000   1    0.030000           1   \n",
       "6                                    27  0.027000   1    0.027000           0   \n",
       "7                                    48  0.048000   1    0.048000           0   \n",
       "8                                    53  0.053000   2    0.052000           0   \n",
       "9                                    25  0.025000   2    0.024000           0   \n",
       "10                                   27  0.027000   1    0.027000           0   \n",
       "11                                   17  0.017000   1    0.017000           2   \n",
       "12                                   20  0.020000   1    0.020000           0   \n",
       "13                                   21  0.021000   1    0.021000           0   \n",
       "14                                   24  0.024000   2    0.023000           0   \n",
       "15                                   18  0.031034   1    0.031034           0   \n",
       "\n",
       "                           \n",
       "                           \n",
       "     mean max probability  \n",
       "0   0.000   0       0.000  \n",
       "1   0.000   0       0.000  \n",
       "2   0.000   0       0.000  \n",
       "3   0.001   1       0.001  \n",
       "4   0.000   0       0.000  \n",
       "5   0.001   1       0.001  \n",
       "6   0.000   0       0.000  \n",
       "7   0.000   0       0.000  \n",
       "8   0.000   0       0.000  \n",
       "9   0.000   0       0.000  \n",
       "10  0.000   0       0.000  \n",
       "11  0.002   1       0.002  \n",
       "12  0.000   0       0.000  \n",
       "13  0.000   0       0.000  \n",
       "14  0.000   0       0.000  \n",
       "15  0.000   0       0.000  "
      ]
     },
     "execution_count": 37,
     "metadata": {
      "tags": []
     },
     "output_type": "execute_result"
    }
   ],
   "source": [
    "df.groupby(lambda x: x//1000)[\"inno_count\", \"trump_count\"].agg({'innovation trump statistics by chunk': ['sum', 'mean', 'max', probability]})"
   ]
  },
  {
   "cell_type": "code",
   "execution_count": 38,
   "metadata": {
    "colab": {
     "base_uri": "https://localhost:8080/",
     "height": 635
    },
    "colab_type": "code",
    "collapsed": false,
    "executionInfo": {
     "elapsed": 965,
     "status": "ok",
     "timestamp": 1542371451144,
     "user": {
      "displayName": "slanjr",
      "photoUrl": "https://lh5.googleusercontent.com/-R7DC5NrwdJk/AAAAAAAAAAI/AAAAAAAABZM/JtucoIb6TZM/s64/photo.jpg",
      "userId": "13306556798502122992"
     },
     "user_tz": -120
    },
    "id": "m3xKHe6AqcUo",
    "outputId": "02580591-28e6-4103-b3f3-6dfcdf2a3660"
   },
   "outputs": [
    {
     "name": "stderr",
     "output_type": "stream",
     "text": [
      "/usr/local/lib/python3.6/dist-packages/ipykernel_launcher.py:1: FutureWarning: using a dict on a Series for aggregation\n",
      "is deprecated and will be removed in a future version\n",
      "  \"\"\"Entry point for launching an IPython kernel.\n"
     ]
    },
    {
     "data": {
      "text/html": [
       "<div>\n",
       "<style scoped>\n",
       "    .dataframe tbody tr th:only-of-type {\n",
       "        vertical-align: middle;\n",
       "    }\n",
       "\n",
       "    .dataframe tbody tr th {\n",
       "        vertical-align: top;\n",
       "    }\n",
       "\n",
       "    .dataframe thead tr th {\n",
       "        text-align: left;\n",
       "    }\n",
       "</style>\n",
       "<table border=\"1\" class=\"dataframe\">\n",
       "  <thead>\n",
       "    <tr>\n",
       "      <th></th>\n",
       "      <th colspan=\"2\" halign=\"left\">innovation trump conditional probability</th>\n",
       "    </tr>\n",
       "    <tr>\n",
       "      <th></th>\n",
       "      <th>word2 from word1 probability</th>\n",
       "      <th>word1 from word2 probability</th>\n",
       "    </tr>\n",
       "  </thead>\n",
       "  <tbody>\n",
       "    <tr>\n",
       "      <th>0</th>\n",
       "      <td>0.021739</td>\n",
       "      <td>0.010753</td>\n",
       "    </tr>\n",
       "    <tr>\n",
       "      <th>1</th>\n",
       "      <td>0.000000</td>\n",
       "      <td>0.000000</td>\n",
       "    </tr>\n",
       "    <tr>\n",
       "      <th>2</th>\n",
       "      <td>0.046875</td>\n",
       "      <td>0.063830</td>\n",
       "    </tr>\n",
       "    <tr>\n",
       "      <th>3</th>\n",
       "      <td>0.017241</td>\n",
       "      <td>0.020833</td>\n",
       "    </tr>\n",
       "    <tr>\n",
       "      <th>4</th>\n",
       "      <td>0.000000</td>\n",
       "      <td>0.000000</td>\n",
       "    </tr>\n",
       "    <tr>\n",
       "      <th>5</th>\n",
       "      <td>0.015625</td>\n",
       "      <td>0.024390</td>\n",
       "    </tr>\n",
       "    <tr>\n",
       "      <th>6</th>\n",
       "      <td>0.108434</td>\n",
       "      <td>0.113924</td>\n",
       "    </tr>\n",
       "    <tr>\n",
       "      <th>7</th>\n",
       "      <td>0.000000</td>\n",
       "      <td>0.000000</td>\n",
       "    </tr>\n",
       "    <tr>\n",
       "      <th>8</th>\n",
       "      <td>0.044248</td>\n",
       "      <td>0.113636</td>\n",
       "    </tr>\n",
       "    <tr>\n",
       "      <th>9</th>\n",
       "      <td>0.008475</td>\n",
       "      <td>0.017857</td>\n",
       "    </tr>\n",
       "    <tr>\n",
       "      <th>10</th>\n",
       "      <td>0.017857</td>\n",
       "      <td>0.028571</td>\n",
       "    </tr>\n",
       "    <tr>\n",
       "      <th>11</th>\n",
       "      <td>0.000000</td>\n",
       "      <td>0.000000</td>\n",
       "    </tr>\n",
       "    <tr>\n",
       "      <th>12</th>\n",
       "      <td>0.000000</td>\n",
       "      <td>0.000000</td>\n",
       "    </tr>\n",
       "    <tr>\n",
       "      <th>13</th>\n",
       "      <td>0.000000</td>\n",
       "      <td>0.000000</td>\n",
       "    </tr>\n",
       "    <tr>\n",
       "      <th>14</th>\n",
       "      <td>0.000000</td>\n",
       "      <td>0.000000</td>\n",
       "    </tr>\n",
       "    <tr>\n",
       "      <th>15</th>\n",
       "      <td>0.000000</td>\n",
       "      <td>0.000000</td>\n",
       "    </tr>\n",
       "  </tbody>\n",
       "</table>\n",
       "</div>"
      ],
      "text/plain": [
       "   innovation trump conditional probability                             \n",
       "               word2 from word1 probability word1 from word2 probability\n",
       "0                                  0.021739                     0.010753\n",
       "1                                  0.000000                     0.000000\n",
       "2                                  0.046875                     0.063830\n",
       "3                                  0.017241                     0.020833\n",
       "4                                  0.000000                     0.000000\n",
       "5                                  0.015625                     0.024390\n",
       "6                                  0.108434                     0.113924\n",
       "7                                  0.000000                     0.000000\n",
       "8                                  0.044248                     0.113636\n",
       "9                                  0.008475                     0.017857\n",
       "10                                 0.017857                     0.028571\n",
       "11                                 0.000000                     0.000000\n",
       "12                                 0.000000                     0.000000\n",
       "13                                 0.000000                     0.000000\n",
       "14                                 0.000000                     0.000000\n",
       "15                                 0.000000                     0.000000"
      ]
     },
     "execution_count": 38,
     "metadata": {
      "tags": []
     },
     "output_type": "execute_result"
    }
   ],
   "source": [
    "df.groupby(lambda x: x//1000)[\"iot_chain\"].agg({'innovation trump conditional probability': [c_probability, c_inv_probability]})"
   ]
  },
  {
   "cell_type": "markdown",
   "metadata": {
    "colab_type": "text",
    "id": "BegT3soHq42p"
   },
   "source": [
    "### Finding words pair ('innovation', 'trump') correlation per chunk"
   ]
  },
  {
   "cell_type": "code",
   "execution_count": 39,
   "metadata": {
    "colab": {
     "base_uri": "https://localhost:8080/",
     "height": 312
    },
    "colab_type": "code",
    "collapsed": false,
    "executionInfo": {
     "elapsed": 918,
     "status": "ok",
     "timestamp": 1542371460664,
     "user": {
      "displayName": "slanjr",
      "photoUrl": "https://lh5.googleusercontent.com/-R7DC5NrwdJk/AAAAAAAAAAI/AAAAAAAABZM/JtucoIb6TZM/s64/photo.jpg",
      "userId": "13306556798502122992"
     },
     "user_tz": -120
    },
    "id": "tQC47WNhqpcQ",
    "outputId": "dbea0005-b855-42b3-cab2-e2d165b3ee26"
   },
   "outputs": [
    {
     "data": {
      "text/plain": [
       "0    -0.053631\n",
       "1    -0.066949\n",
       "2    -0.003533\n",
       "3    -0.036023\n",
       "4    -0.046679\n",
       "5    -0.034216\n",
       "6     0.032829\n",
       "7    -0.042479\n",
       "8    -0.005780\n",
       "9    -0.074069\n",
       "10   -0.003753\n",
       "11   -0.054326\n",
       "12   -0.048293\n",
       "13   -0.055656\n",
       "14   -0.080226\n",
       "15   -0.044517\n",
       "Name: iot_count, dtype: float64"
      ]
     },
     "execution_count": 39,
     "metadata": {
      "tags": []
     },
     "output_type": "execute_result"
    }
   ],
   "source": [
    "df.groupby(lambda x: x//1000)['iot_count'].corr(df['chain_count'])"
   ]
  },
  {
   "cell_type": "markdown",
   "metadata": {
    "colab_type": "text",
    "id": "DQ3q-xFLY1i5"
   },
   "source": [
    "### Finding correlation between all words per chunks (counting words per chunks rather than per twits)"
   ]
  },
  {
   "cell_type": "code",
   "execution_count": 40,
   "metadata": {
    "colab": {
     "base_uri": "https://localhost:8080/",
     "height": 169
    },
    "colab_type": "code",
    "collapsed": false,
    "executionInfo": {
     "elapsed": 929,
     "status": "ok",
     "timestamp": 1542371464000,
     "user": {
      "displayName": "slanjr",
      "photoUrl": "https://lh5.googleusercontent.com/-R7DC5NrwdJk/AAAAAAAAAAI/AAAAAAAABZM/JtucoIb6TZM/s64/photo.jpg",
      "userId": "13306556798502122992"
     },
     "user_tz": -120
    },
    "id": "VVI-U5zVXylE",
    "outputId": "036790e4-34dd-4236-a519-ecbde7444092"
   },
   "outputs": [
    {
     "data": {
      "text/html": [
       "<style  type=\"text/css\" >\n",
       "    #T_7f27a59e_e99b_11e8_8f52_0242ac1c0002row0_col0 {\n",
       "            background-color:  #b40426;\n",
       "        }    #T_7f27a59e_e99b_11e8_8f52_0242ac1c0002row0_col1 {\n",
       "            background-color:  #afcafc;\n",
       "        }    #T_7f27a59e_e99b_11e8_8f52_0242ac1c0002row0_col2 {\n",
       "            background-color:  #edd2c3;\n",
       "        }    #T_7f27a59e_e99b_11e8_8f52_0242ac1c0002row0_col3 {\n",
       "            background-color:  #9ebeff;\n",
       "        }    #T_7f27a59e_e99b_11e8_8f52_0242ac1c0002row0_col4 {\n",
       "            background-color:  #3b4cc0;\n",
       "        }    #T_7f27a59e_e99b_11e8_8f52_0242ac1c0002row0_col5 {\n",
       "            background-color:  #cdd9ec;\n",
       "        }    #T_7f27a59e_e99b_11e8_8f52_0242ac1c0002row1_col0 {\n",
       "            background-color:  #a3c2fe;\n",
       "        }    #T_7f27a59e_e99b_11e8_8f52_0242ac1c0002row1_col1 {\n",
       "            background-color:  #b40426;\n",
       "        }    #T_7f27a59e_e99b_11e8_8f52_0242ac1c0002row1_col2 {\n",
       "            background-color:  #e6d7cf;\n",
       "        }    #T_7f27a59e_e99b_11e8_8f52_0242ac1c0002row1_col3 {\n",
       "            background-color:  #f6bea4;\n",
       "        }    #T_7f27a59e_e99b_11e8_8f52_0242ac1c0002row1_col4 {\n",
       "            background-color:  #dfdbd9;\n",
       "        }    #T_7f27a59e_e99b_11e8_8f52_0242ac1c0002row1_col5 {\n",
       "            background-color:  #3b4cc0;\n",
       "        }    #T_7f27a59e_e99b_11e8_8f52_0242ac1c0002row2_col0 {\n",
       "            background-color:  #dbdcde;\n",
       "        }    #T_7f27a59e_e99b_11e8_8f52_0242ac1c0002row2_col1 {\n",
       "            background-color:  #d9dce1;\n",
       "        }    #T_7f27a59e_e99b_11e8_8f52_0242ac1c0002row2_col2 {\n",
       "            background-color:  #b40426;\n",
       "        }    #T_7f27a59e_e99b_11e8_8f52_0242ac1c0002row2_col3 {\n",
       "            background-color:  #c6d6f1;\n",
       "        }    #T_7f27a59e_e99b_11e8_8f52_0242ac1c0002row2_col4 {\n",
       "            background-color:  #3b4cc0;\n",
       "        }    #T_7f27a59e_e99b_11e8_8f52_0242ac1c0002row2_col5 {\n",
       "            background-color:  #6384eb;\n",
       "        }    #T_7f27a59e_e99b_11e8_8f52_0242ac1c0002row3_col0 {\n",
       "            background-color:  #85a8fc;\n",
       "        }    #T_7f27a59e_e99b_11e8_8f52_0242ac1c0002row3_col1 {\n",
       "            background-color:  #f5c2aa;\n",
       "        }    #T_7f27a59e_e99b_11e8_8f52_0242ac1c0002row3_col2 {\n",
       "            background-color:  #cfdaea;\n",
       "        }    #T_7f27a59e_e99b_11e8_8f52_0242ac1c0002row3_col3 {\n",
       "            background-color:  #b40426;\n",
       "        }    #T_7f27a59e_e99b_11e8_8f52_0242ac1c0002row3_col4 {\n",
       "            background-color:  #d2dbe8;\n",
       "        }    #T_7f27a59e_e99b_11e8_8f52_0242ac1c0002row3_col5 {\n",
       "            background-color:  #3b4cc0;\n",
       "        }    #T_7f27a59e_e99b_11e8_8f52_0242ac1c0002row4_col0 {\n",
       "            background-color:  #3b4cc0;\n",
       "        }    #T_7f27a59e_e99b_11e8_8f52_0242ac1c0002row4_col1 {\n",
       "            background-color:  #e5d8d1;\n",
       "        }    #T_7f27a59e_e99b_11e8_8f52_0242ac1c0002row4_col2 {\n",
       "            background-color:  #688aef;\n",
       "        }    #T_7f27a59e_e99b_11e8_8f52_0242ac1c0002row4_col3 {\n",
       "            background-color:  #dfdbd9;\n",
       "        }    #T_7f27a59e_e99b_11e8_8f52_0242ac1c0002row4_col4 {\n",
       "            background-color:  #b40426;\n",
       "        }    #T_7f27a59e_e99b_11e8_8f52_0242ac1c0002row4_col5 {\n",
       "            background-color:  #779af7;\n",
       "        }    #T_7f27a59e_e99b_11e8_8f52_0242ac1c0002row5_col0 {\n",
       "            background-color:  #c5d6f2;\n",
       "        }    #T_7f27a59e_e99b_11e8_8f52_0242ac1c0002row5_col1 {\n",
       "            background-color:  #3b4cc0;\n",
       "        }    #T_7f27a59e_e99b_11e8_8f52_0242ac1c0002row5_col2 {\n",
       "            background-color:  #82a6fb;\n",
       "        }    #T_7f27a59e_e99b_11e8_8f52_0242ac1c0002row5_col3 {\n",
       "            background-color:  #485fd1;\n",
       "        }    #T_7f27a59e_e99b_11e8_8f52_0242ac1c0002row5_col4 {\n",
       "            background-color:  #688aef;\n",
       "        }    #T_7f27a59e_e99b_11e8_8f52_0242ac1c0002row5_col5 {\n",
       "            background-color:  #b40426;\n",
       "        }</style>  \n",
       "<table id=\"T_7f27a59e_e99b_11e8_8f52_0242ac1c0002\" > \n",
       "<thead>    <tr> \n",
       "        <th class=\"blank level0\" ></th> \n",
       "        <th class=\"col_heading level0 col0\" >ai_count</th> \n",
       "        <th class=\"col_heading level0 col1\" >ml_count</th> \n",
       "        <th class=\"col_heading level0 col2\" >iot_count</th> \n",
       "        <th class=\"col_heading level0 col3\" >chain_count</th> \n",
       "        <th class=\"col_heading level0 col4\" >inno_count</th> \n",
       "        <th class=\"col_heading level0 col5\" >trump_count</th> \n",
       "    </tr></thead> \n",
       "<tbody>    <tr> \n",
       "        <th id=\"T_7f27a59e_e99b_11e8_8f52_0242ac1c0002level0_row0\" class=\"row_heading level0 row0\" >ai_count</th> \n",
       "        <td id=\"T_7f27a59e_e99b_11e8_8f52_0242ac1c0002row0_col0\" class=\"data row0 col0\" >1.0</td> \n",
       "        <td id=\"T_7f27a59e_e99b_11e8_8f52_0242ac1c0002row0_col1\" class=\"data row0 col1\" >0.13</td> \n",
       "        <td id=\"T_7f27a59e_e99b_11e8_8f52_0242ac1c0002row0_col2\" class=\"data row0 col2\" >0.42</td> \n",
       "        <td id=\"T_7f27a59e_e99b_11e8_8f52_0242ac1c0002row0_col3\" class=\"data row0 col3\" >0.066</td> \n",
       "        <td id=\"T_7f27a59e_e99b_11e8_8f52_0242ac1c0002row0_col4\" class=\"data row0 col4\" >-0.33</td> \n",
       "        <td id=\"T_7f27a59e_e99b_11e8_8f52_0242ac1c0002row0_col5\" class=\"data row0 col5\" >0.26</td> \n",
       "    </tr>    <tr> \n",
       "        <th id=\"T_7f27a59e_e99b_11e8_8f52_0242ac1c0002level0_row1\" class=\"row_heading level0 row1\" >ml_count</th> \n",
       "        <td id=\"T_7f27a59e_e99b_11e8_8f52_0242ac1c0002row1_col0\" class=\"data row1 col0\" >0.13</td> \n",
       "        <td id=\"T_7f27a59e_e99b_11e8_8f52_0242ac1c0002row1_col1\" class=\"data row1 col1\" >1.0</td> \n",
       "        <td id=\"T_7f27a59e_e99b_11e8_8f52_0242ac1c0002row1_col2\" class=\"data row1 col2\" >0.41</td> \n",
       "        <td id=\"T_7f27a59e_e99b_11e8_8f52_0242ac1c0002row1_col3\" class=\"data row1 col3\" >0.55</td> \n",
       "        <td id=\"T_7f27a59e_e99b_11e8_8f52_0242ac1c0002row1_col4\" class=\"data row1 col4\" >0.38</td> \n",
       "        <td id=\"T_7f27a59e_e99b_11e8_8f52_0242ac1c0002row1_col5\" class=\"data row1 col5\" >-0.27</td> \n",
       "    </tr>    <tr> \n",
       "        <th id=\"T_7f27a59e_e99b_11e8_8f52_0242ac1c0002level0_row2\" class=\"row_heading level0 row2\" >iot_count</th> \n",
       "        <td id=\"T_7f27a59e_e99b_11e8_8f52_0242ac1c0002row2_col0\" class=\"data row2 col0\" >0.42</td> \n",
       "        <td id=\"T_7f27a59e_e99b_11e8_8f52_0242ac1c0002row2_col1\" class=\"data row2 col1\" >0.41</td> \n",
       "        <td id=\"T_7f27a59e_e99b_11e8_8f52_0242ac1c0002row2_col2\" class=\"data row2 col2\" >1.0</td> \n",
       "        <td id=\"T_7f27a59e_e99b_11e8_8f52_0242ac1c0002row2_col3\" class=\"data row2 col3\" >0.34</td> \n",
       "        <td id=\"T_7f27a59e_e99b_11e8_8f52_0242ac1c0002row2_col4\" class=\"data row2 col4\" >-0.14</td> \n",
       "        <td id=\"T_7f27a59e_e99b_11e8_8f52_0242ac1c0002row2_col5\" class=\"data row2 col5\" >0.0097</td> \n",
       "    </tr>    <tr> \n",
       "        <th id=\"T_7f27a59e_e99b_11e8_8f52_0242ac1c0002level0_row3\" class=\"row_heading level0 row3\" >chain_count</th> \n",
       "        <td id=\"T_7f27a59e_e99b_11e8_8f52_0242ac1c0002row3_col0\" class=\"data row3 col0\" >0.066</td> \n",
       "        <td id=\"T_7f27a59e_e99b_11e8_8f52_0242ac1c0002row3_col1\" class=\"data row3 col1\" >0.55</td> \n",
       "        <td id=\"T_7f27a59e_e99b_11e8_8f52_0242ac1c0002row3_col2\" class=\"data row3 col2\" >0.34</td> \n",
       "        <td id=\"T_7f27a59e_e99b_11e8_8f52_0242ac1c0002row3_col3\" class=\"data row3 col3\" >1.0</td> \n",
       "        <td id=\"T_7f27a59e_e99b_11e8_8f52_0242ac1c0002row3_col4\" class=\"data row3 col4\" >0.34</td> \n",
       "        <td id=\"T_7f27a59e_e99b_11e8_8f52_0242ac1c0002row3_col5\" class=\"data row3 col5\" >-0.21</td> \n",
       "    </tr>    <tr> \n",
       "        <th id=\"T_7f27a59e_e99b_11e8_8f52_0242ac1c0002level0_row4\" class=\"row_heading level0 row4\" >inno_count</th> \n",
       "        <td id=\"T_7f27a59e_e99b_11e8_8f52_0242ac1c0002row4_col0\" class=\"data row4 col0\" >-0.33</td> \n",
       "        <td id=\"T_7f27a59e_e99b_11e8_8f52_0242ac1c0002row4_col1\" class=\"data row4 col1\" >0.38</td> \n",
       "        <td id=\"T_7f27a59e_e99b_11e8_8f52_0242ac1c0002row4_col2\" class=\"data row4 col2\" >-0.14</td> \n",
       "        <td id=\"T_7f27a59e_e99b_11e8_8f52_0242ac1c0002row4_col3\" class=\"data row4 col3\" >0.34</td> \n",
       "        <td id=\"T_7f27a59e_e99b_11e8_8f52_0242ac1c0002row4_col4\" class=\"data row4 col4\" >1.0</td> \n",
       "        <td id=\"T_7f27a59e_e99b_11e8_8f52_0242ac1c0002row4_col5\" class=\"data row4 col5\" >-0.081</td> \n",
       "    </tr>    <tr> \n",
       "        <th id=\"T_7f27a59e_e99b_11e8_8f52_0242ac1c0002level0_row5\" class=\"row_heading level0 row5\" >trump_count</th> \n",
       "        <td id=\"T_7f27a59e_e99b_11e8_8f52_0242ac1c0002row5_col0\" class=\"data row5 col0\" >0.26</td> \n",
       "        <td id=\"T_7f27a59e_e99b_11e8_8f52_0242ac1c0002row5_col1\" class=\"data row5 col1\" >-0.27</td> \n",
       "        <td id=\"T_7f27a59e_e99b_11e8_8f52_0242ac1c0002row5_col2\" class=\"data row5 col2\" >0.0097</td> \n",
       "        <td id=\"T_7f27a59e_e99b_11e8_8f52_0242ac1c0002row5_col3\" class=\"data row5 col3\" >-0.21</td> \n",
       "        <td id=\"T_7f27a59e_e99b_11e8_8f52_0242ac1c0002row5_col4\" class=\"data row5 col4\" >-0.081</td> \n",
       "        <td id=\"T_7f27a59e_e99b_11e8_8f52_0242ac1c0002row5_col5\" class=\"data row5 col5\" >1.0</td> \n",
       "    </tr></tbody> \n",
       "</table> "
      ],
      "text/plain": [
       "<pandas.io.formats.style.Styler at 0x7f8cd868c940>"
      ]
     },
     "execution_count": 40,
     "metadata": {
      "tags": []
     },
     "output_type": "execute_result"
    }
   ],
   "source": [
    "from matplotlib import pyplot as plt\n",
    "ch = df[['w1_count', 'w2_count', 'iot_count', 'chain_count', 'inno_count', 'trump_count']].groupby(lambda x: x//1000).sum()\n",
    "ch = ch.rename(columns={'w1_count': 'ai_count', 'w2_count': 'ml_count'})\n",
    "ch.corr(method='spearman').style.format(\"{:.2}\").background_gradient(cmap=plt.get_cmap('coolwarm'), axis=1)"
   ]
  },
  {
   "cell_type": "code",
   "execution_count": 41,
   "metadata": {
    "colab": {
     "base_uri": "https://localhost:8080/",
     "height": 169
    },
    "colab_type": "code",
    "collapsed": false,
    "executionInfo": {
     "elapsed": 762,
     "status": "ok",
     "timestamp": 1542371493492,
     "user": {
      "displayName": "slanjr",
      "photoUrl": "https://lh5.googleusercontent.com/-R7DC5NrwdJk/AAAAAAAAAAI/AAAAAAAABZM/JtucoIb6TZM/s64/photo.jpg",
      "userId": "13306556798502122992"
     },
     "user_tz": -120
    },
    "id": "4n_kKhrgeFWS",
    "outputId": "b4966b7c-03ca-4671-9925-820cc37902a6"
   },
   "outputs": [
    {
     "data": {
      "text/html": [
       "<style  type=\"text/css\" >\n",
       "    #T_90cf4298_e99b_11e8_8f52_0242ac1c0002row0_col0 {\n",
       "            background-color:  #b40426;\n",
       "        }    #T_90cf4298_e99b_11e8_8f52_0242ac1c0002row0_col1 {\n",
       "            background-color:  #b7cff9;\n",
       "        }    #T_90cf4298_e99b_11e8_8f52_0242ac1c0002row0_col2 {\n",
       "            background-color:  #a6c4fe;\n",
       "        }    #T_90cf4298_e99b_11e8_8f52_0242ac1c0002row0_col3 {\n",
       "            background-color:  #c5d6f2;\n",
       "        }    #T_90cf4298_e99b_11e8_8f52_0242ac1c0002row0_col4 {\n",
       "            background-color:  #3b4cc0;\n",
       "        }    #T_90cf4298_e99b_11e8_8f52_0242ac1c0002row0_col5 {\n",
       "            background-color:  #81a4fb;\n",
       "        }    #T_90cf4298_e99b_11e8_8f52_0242ac1c0002row1_col0 {\n",
       "            background-color:  #cedaeb;\n",
       "        }    #T_90cf4298_e99b_11e8_8f52_0242ac1c0002row1_col1 {\n",
       "            background-color:  #b40426;\n",
       "        }    #T_90cf4298_e99b_11e8_8f52_0242ac1c0002row1_col2 {\n",
       "            background-color:  #e7d7ce;\n",
       "        }    #T_90cf4298_e99b_11e8_8f52_0242ac1c0002row1_col3 {\n",
       "            background-color:  #e0dbd8;\n",
       "        }    #T_90cf4298_e99b_11e8_8f52_0242ac1c0002row1_col4 {\n",
       "            background-color:  #a9c6fd;\n",
       "        }    #T_90cf4298_e99b_11e8_8f52_0242ac1c0002row1_col5 {\n",
       "            background-color:  #3b4cc0;\n",
       "        }    #T_90cf4298_e99b_11e8_8f52_0242ac1c0002row2_col0 {\n",
       "            background-color:  #bfd3f6;\n",
       "        }    #T_90cf4298_e99b_11e8_8f52_0242ac1c0002row2_col1 {\n",
       "            background-color:  #e6d7cf;\n",
       "        }    #T_90cf4298_e99b_11e8_8f52_0242ac1c0002row2_col2 {\n",
       "            background-color:  #b40426;\n",
       "        }    #T_90cf4298_e99b_11e8_8f52_0242ac1c0002row2_col3 {\n",
       "            background-color:  #96b7ff;\n",
       "        }    #T_90cf4298_e99b_11e8_8f52_0242ac1c0002row2_col4 {\n",
       "            background-color:  #5d7ce6;\n",
       "        }    #T_90cf4298_e99b_11e8_8f52_0242ac1c0002row2_col5 {\n",
       "            background-color:  #3b4cc0;\n",
       "        }    #T_90cf4298_e99b_11e8_8f52_0242ac1c0002row3_col0 {\n",
       "            background-color:  #e1dad6;\n",
       "        }    #T_90cf4298_e99b_11e8_8f52_0242ac1c0002row3_col1 {\n",
       "            background-color:  #e9d5cb;\n",
       "        }    #T_90cf4298_e99b_11e8_8f52_0242ac1c0002row3_col2 {\n",
       "            background-color:  #a9c6fd;\n",
       "        }    #T_90cf4298_e99b_11e8_8f52_0242ac1c0002row3_col3 {\n",
       "            background-color:  #b40426;\n",
       "        }    #T_90cf4298_e99b_11e8_8f52_0242ac1c0002row3_col4 {\n",
       "            background-color:  #cad8ef;\n",
       "        }    #T_90cf4298_e99b_11e8_8f52_0242ac1c0002row3_col5 {\n",
       "            background-color:  #3b4cc0;\n",
       "        }    #T_90cf4298_e99b_11e8_8f52_0242ac1c0002row4_col0 {\n",
       "            background-color:  #5b7ae5;\n",
       "        }    #T_90cf4298_e99b_11e8_8f52_0242ac1c0002row4_col1 {\n",
       "            background-color:  #a6c4fe;\n",
       "        }    #T_90cf4298_e99b_11e8_8f52_0242ac1c0002row4_col2 {\n",
       "            background-color:  #5d7ce6;\n",
       "        }    #T_90cf4298_e99b_11e8_8f52_0242ac1c0002row4_col3 {\n",
       "            background-color:  #bad0f8;\n",
       "        }    #T_90cf4298_e99b_11e8_8f52_0242ac1c0002row4_col4 {\n",
       "            background-color:  #b40426;\n",
       "        }    #T_90cf4298_e99b_11e8_8f52_0242ac1c0002row4_col5 {\n",
       "            background-color:  #3b4cc0;\n",
       "        }    #T_90cf4298_e99b_11e8_8f52_0242ac1c0002row5_col0 {\n",
       "            background-color:  #b1cbfc;\n",
       "        }    #T_90cf4298_e99b_11e8_8f52_0242ac1c0002row5_col1 {\n",
       "            background-color:  #4f69d9;\n",
       "        }    #T_90cf4298_e99b_11e8_8f52_0242ac1c0002row5_col2 {\n",
       "            background-color:  #516ddb;\n",
       "        }    #T_90cf4298_e99b_11e8_8f52_0242ac1c0002row5_col3 {\n",
       "            background-color:  #3b4cc0;\n",
       "        }    #T_90cf4298_e99b_11e8_8f52_0242ac1c0002row5_col4 {\n",
       "            background-color:  #516ddb;\n",
       "        }    #T_90cf4298_e99b_11e8_8f52_0242ac1c0002row5_col5 {\n",
       "            background-color:  #b40426;\n",
       "        }</style>  \n",
       "<table id=\"T_90cf4298_e99b_11e8_8f52_0242ac1c0002\" > \n",
       "<thead>    <tr> \n",
       "        <th class=\"blank level0\" ></th> \n",
       "        <th class=\"col_heading level0 col0\" >ai_count</th> \n",
       "        <th class=\"col_heading level0 col1\" >ml_count</th> \n",
       "        <th class=\"col_heading level0 col2\" >iot_count</th> \n",
       "        <th class=\"col_heading level0 col3\" >chain_count</th> \n",
       "        <th class=\"col_heading level0 col4\" >inno_count</th> \n",
       "        <th class=\"col_heading level0 col5\" >trump_count</th> \n",
       "    </tr></thead> \n",
       "<tbody>    <tr> \n",
       "        <th id=\"T_90cf4298_e99b_11e8_8f52_0242ac1c0002level0_row0\" class=\"row_heading level0 row0\" >ai_count</th> \n",
       "        <td id=\"T_90cf4298_e99b_11e8_8f52_0242ac1c0002row0_col0\" class=\"data row0 col0\" >1.0</td> \n",
       "        <td id=\"T_90cf4298_e99b_11e8_8f52_0242ac1c0002row0_col1\" class=\"data row0 col1\" >0.38</td> \n",
       "        <td id=\"T_90cf4298_e99b_11e8_8f52_0242ac1c0002row0_col2\" class=\"data row0 col2\" >0.33</td> \n",
       "        <td id=\"T_90cf4298_e99b_11e8_8f52_0242ac1c0002row0_col3\" class=\"data row0 col3\" >0.42</td> \n",
       "        <td id=\"T_90cf4298_e99b_11e8_8f52_0242ac1c0002row0_col4\" class=\"data row0 col4\" >0.015</td> \n",
       "        <td id=\"T_90cf4298_e99b_11e8_8f52_0242ac1c0002row0_col5\" class=\"data row0 col5\" >0.23</td> \n",
       "    </tr>    <tr> \n",
       "        <th id=\"T_90cf4298_e99b_11e8_8f52_0242ac1c0002level0_row1\" class=\"row_heading level0 row1\" >ml_count</th> \n",
       "        <td id=\"T_90cf4298_e99b_11e8_8f52_0242ac1c0002row1_col0\" class=\"data row1 col0\" >0.38</td> \n",
       "        <td id=\"T_90cf4298_e99b_11e8_8f52_0242ac1c0002row1_col1\" class=\"data row1 col1\" >1.0</td> \n",
       "        <td id=\"T_90cf4298_e99b_11e8_8f52_0242ac1c0002row1_col2\" class=\"data row1 col2\" >0.49</td> \n",
       "        <td id=\"T_90cf4298_e99b_11e8_8f52_0242ac1c0002row1_col3\" class=\"data row1 col3\" >0.46</td> \n",
       "        <td id=\"T_90cf4298_e99b_11e8_8f52_0242ac1c0002row1_col4\" class=\"data row1 col4\" >0.25</td> \n",
       "        <td id=\"T_90cf4298_e99b_11e8_8f52_0242ac1c0002row1_col5\" class=\"data row1 col5\" >-0.12</td> \n",
       "    </tr>    <tr> \n",
       "        <th id=\"T_90cf4298_e99b_11e8_8f52_0242ac1c0002level0_row2\" class=\"row_heading level0 row2\" >iot_count</th> \n",
       "        <td id=\"T_90cf4298_e99b_11e8_8f52_0242ac1c0002row2_col0\" class=\"data row2 col0\" >0.33</td> \n",
       "        <td id=\"T_90cf4298_e99b_11e8_8f52_0242ac1c0002row2_col1\" class=\"data row2 col1\" >0.49</td> \n",
       "        <td id=\"T_90cf4298_e99b_11e8_8f52_0242ac1c0002row2_col2\" class=\"data row2 col2\" >1.0</td> \n",
       "        <td id=\"T_90cf4298_e99b_11e8_8f52_0242ac1c0002row2_col3\" class=\"data row2 col3\" >0.2</td> \n",
       "        <td id=\"T_90cf4298_e99b_11e8_8f52_0242ac1c0002row2_col4\" class=\"data row2 col4\" >0.018</td> \n",
       "        <td id=\"T_90cf4298_e99b_11e8_8f52_0242ac1c0002row2_col5\" class=\"data row2 col5\" >-0.11</td> \n",
       "    </tr>    <tr> \n",
       "        <th id=\"T_90cf4298_e99b_11e8_8f52_0242ac1c0002level0_row3\" class=\"row_heading level0 row3\" >chain_count</th> \n",
       "        <td id=\"T_90cf4298_e99b_11e8_8f52_0242ac1c0002row3_col0\" class=\"data row3 col0\" >0.42</td> \n",
       "        <td id=\"T_90cf4298_e99b_11e8_8f52_0242ac1c0002row3_col1\" class=\"data row3 col1\" >0.46</td> \n",
       "        <td id=\"T_90cf4298_e99b_11e8_8f52_0242ac1c0002row3_col2\" class=\"data row3 col2\" >0.2</td> \n",
       "        <td id=\"T_90cf4298_e99b_11e8_8f52_0242ac1c0002row3_col3\" class=\"data row3 col3\" >1.0</td> \n",
       "        <td id=\"T_90cf4298_e99b_11e8_8f52_0242ac1c0002row3_col4\" class=\"data row3 col4\" >0.32</td> \n",
       "        <td id=\"T_90cf4298_e99b_11e8_8f52_0242ac1c0002row3_col5\" class=\"data row3 col5\" >-0.2</td> \n",
       "    </tr>    <tr> \n",
       "        <th id=\"T_90cf4298_e99b_11e8_8f52_0242ac1c0002level0_row4\" class=\"row_heading level0 row4\" >inno_count</th> \n",
       "        <td id=\"T_90cf4298_e99b_11e8_8f52_0242ac1c0002row4_col0\" class=\"data row4 col0\" >0.015</td> \n",
       "        <td id=\"T_90cf4298_e99b_11e8_8f52_0242ac1c0002row4_col1\" class=\"data row4 col1\" >0.25</td> \n",
       "        <td id=\"T_90cf4298_e99b_11e8_8f52_0242ac1c0002row4_col2\" class=\"data row4 col2\" >0.018</td> \n",
       "        <td id=\"T_90cf4298_e99b_11e8_8f52_0242ac1c0002row4_col3\" class=\"data row4 col3\" >0.32</td> \n",
       "        <td id=\"T_90cf4298_e99b_11e8_8f52_0242ac1c0002row4_col4\" class=\"data row4 col4\" >1.0</td> \n",
       "        <td id=\"T_90cf4298_e99b_11e8_8f52_0242ac1c0002row4_col5\" class=\"data row4 col5\" >-0.1</td> \n",
       "    </tr>    <tr> \n",
       "        <th id=\"T_90cf4298_e99b_11e8_8f52_0242ac1c0002level0_row5\" class=\"row_heading level0 row5\" >trump_count</th> \n",
       "        <td id=\"T_90cf4298_e99b_11e8_8f52_0242ac1c0002row5_col0\" class=\"data row5 col0\" >0.23</td> \n",
       "        <td id=\"T_90cf4298_e99b_11e8_8f52_0242ac1c0002row5_col1\" class=\"data row5 col1\" >-0.12</td> \n",
       "        <td id=\"T_90cf4298_e99b_11e8_8f52_0242ac1c0002row5_col2\" class=\"data row5 col2\" >-0.11</td> \n",
       "        <td id=\"T_90cf4298_e99b_11e8_8f52_0242ac1c0002row5_col3\" class=\"data row5 col3\" >-0.2</td> \n",
       "        <td id=\"T_90cf4298_e99b_11e8_8f52_0242ac1c0002row5_col4\" class=\"data row5 col4\" >-0.1</td> \n",
       "        <td id=\"T_90cf4298_e99b_11e8_8f52_0242ac1c0002row5_col5\" class=\"data row5 col5\" >1.0</td> \n",
       "    </tr></tbody> \n",
       "</table> "
      ],
      "text/plain": [
       "<pandas.io.formats.style.Styler at 0x7f8cd8929828>"
      ]
     },
     "execution_count": 41,
     "metadata": {
      "tags": []
     },
     "output_type": "execute_result"
    }
   ],
   "source": [
    "ch.corr(method='pearson').style.format(\"{:.2}\").background_gradient(cmap=plt.get_cmap('coolwarm'), axis=1)"
   ]
  },
  {
   "cell_type": "markdown",
   "metadata": {
    "colab_type": "text",
    "id": "tE6_0cPHCU8n"
   },
   "source": [
    "Conclusion: Innovation and Trump have negative correlation"
   ]
  },
  {
   "cell_type": "markdown",
   "metadata": {
    "colab_type": "text",
    "id": "3BJ3MTXPri8-"
   },
   "source": [
    "## Task2 Probability & Statistics\n",
    "\n",
    "You have a Tweets dataset collected for certain period (any period is good, but 24 hours is the best).\n",
    "\n",
    "Draw messages frequency over the whole period\n",
    "\n",
    "Draw a diagram of distribution of word “iot” (or any other word up to your choice) frequency over the whole day. Don’t forget about normalization."
   ]
  },
  {
   "cell_type": "markdown",
   "metadata": {
    "colab_type": "text",
    "id": "z9x6orkgiSL2"
   },
   "source": [
    "### Group twits by hour and plot frequency"
   ]
  },
  {
   "cell_type": "code",
   "execution_count": 42,
   "metadata": {
    "colab": {
     "base_uri": "https://localhost:8080/",
     "height": 478
    },
    "colab_type": "code",
    "collapsed": false,
    "executionInfo": {
     "elapsed": 930,
     "status": "ok",
     "timestamp": 1542371502365,
     "user": {
      "displayName": "slanjr",
      "photoUrl": "https://lh5.googleusercontent.com/-R7DC5NrwdJk/AAAAAAAAAAI/AAAAAAAABZM/JtucoIb6TZM/s64/photo.jpg",
      "userId": "13306556798502122992"
     },
     "user_tz": -120
    },
    "id": "owVs3ol4qwdw",
    "outputId": "b2ac72cc-c773-4fb3-ec67-257ef0c1bd59"
   },
   "outputs": [
    {
     "name": "stderr",
     "output_type": "stream",
     "text": [
      "/usr/local/lib/python3.6/dist-packages/ipykernel_launcher.py:1: FutureWarning: using a dict on a Series for aggregation\n",
      "is deprecated and will be removed in a future version\n",
      "  \"\"\"Entry point for launching an IPython kernel.\n"
     ]
    },
    {
     "data": {
      "text/html": [
       "<div>\n",
       "<style scoped>\n",
       "    .dataframe tbody tr th:only-of-type {\n",
       "        vertical-align: middle;\n",
       "    }\n",
       "\n",
       "    .dataframe tbody tr th {\n",
       "        vertical-align: top;\n",
       "    }\n",
       "\n",
       "    .dataframe thead th {\n",
       "        text-align: right;\n",
       "    }\n",
       "</style>\n",
       "<table border=\"1\" class=\"dataframe\">\n",
       "  <thead>\n",
       "    <tr style=\"text-align: right;\">\n",
       "      <th></th>\n",
       "      <th>sum</th>\n",
       "      <th>count</th>\n",
       "    </tr>\n",
       "    <tr>\n",
       "      <th>created_at</th>\n",
       "      <th></th>\n",
       "      <th></th>\n",
       "    </tr>\n",
       "  </thead>\n",
       "  <tbody>\n",
       "    <tr>\n",
       "      <th>2018-10-23 23:00:00</th>\n",
       "      <td>83</td>\n",
       "      <td>1495</td>\n",
       "    </tr>\n",
       "    <tr>\n",
       "      <th>2018-10-24 00:00:00</th>\n",
       "      <td>78</td>\n",
       "      <td>1214</td>\n",
       "    </tr>\n",
       "    <tr>\n",
       "      <th>2018-10-24 01:00:00</th>\n",
       "      <td>7</td>\n",
       "      <td>111</td>\n",
       "    </tr>\n",
       "    <tr>\n",
       "      <th>2018-10-24 10:00:00</th>\n",
       "      <td>49</td>\n",
       "      <td>834</td>\n",
       "    </tr>\n",
       "    <tr>\n",
       "      <th>2018-10-24 11:00:00</th>\n",
       "      <td>153</td>\n",
       "      <td>2461</td>\n",
       "    </tr>\n",
       "    <tr>\n",
       "      <th>2018-10-24 12:00:00</th>\n",
       "      <td>165</td>\n",
       "      <td>2479</td>\n",
       "    </tr>\n",
       "    <tr>\n",
       "      <th>2018-10-24 13:00:00</th>\n",
       "      <td>211</td>\n",
       "      <td>1757</td>\n",
       "    </tr>\n",
       "    <tr>\n",
       "      <th>2018-10-24 20:00:00</th>\n",
       "      <td>17</td>\n",
       "      <td>423</td>\n",
       "    </tr>\n",
       "    <tr>\n",
       "      <th>2018-10-24 21:00:00</th>\n",
       "      <td>121</td>\n",
       "      <td>1834</td>\n",
       "    </tr>\n",
       "    <tr>\n",
       "      <th>2018-10-24 22:00:00</th>\n",
       "      <td>112</td>\n",
       "      <td>1646</td>\n",
       "    </tr>\n",
       "    <tr>\n",
       "      <th>2018-10-24 23:00:00</th>\n",
       "      <td>111</td>\n",
       "      <td>1326</td>\n",
       "    </tr>\n",
       "  </tbody>\n",
       "</table>\n",
       "</div>"
      ],
      "text/plain": [
       "                     sum  count\n",
       "created_at                     \n",
       "2018-10-23 23:00:00   83   1495\n",
       "2018-10-24 00:00:00   78   1214\n",
       "2018-10-24 01:00:00    7    111\n",
       "2018-10-24 10:00:00   49    834\n",
       "2018-10-24 11:00:00  153   2461\n",
       "2018-10-24 12:00:00  165   2479\n",
       "2018-10-24 13:00:00  211   1757\n",
       "2018-10-24 20:00:00   17    423\n",
       "2018-10-24 21:00:00  121   1834\n",
       "2018-10-24 22:00:00  112   1646\n",
       "2018-10-24 23:00:00  111   1326"
      ]
     },
     "execution_count": 42,
     "metadata": {
      "tags": []
     },
     "output_type": "execute_result"
    }
   ],
   "source": [
    "hour_twits = df[['iot_count', 'created_at']].groupby(pd.Grouper(key='created_at', freq=\"H\"))['iot_count'].agg({'iot and twits per hour': ['sum', 'count']})\n",
    "hour_twits = hour_twits['iot and twits per hour'].query('sum> 0')\n",
    "hour_twits"
   ]
  },
  {
   "cell_type": "code",
   "execution_count": 43,
   "metadata": {
    "colab": {
     "base_uri": "https://localhost:8080/",
     "height": 364
    },
    "colab_type": "code",
    "collapsed": false,
    "executionInfo": {
     "elapsed": 710,
     "status": "ok",
     "timestamp": 1542371505727,
     "user": {
      "displayName": "slanjr",
      "photoUrl": "https://lh5.googleusercontent.com/-R7DC5NrwdJk/AAAAAAAAAAI/AAAAAAAABZM/JtucoIb6TZM/s64/photo.jpg",
      "userId": "13306556798502122992"
     },
     "user_tz": -120
    },
    "id": "VqVCXrylyr6R",
    "outputId": "f2374449-b21e-4c9b-ea7a-0439adfca3d8"
   },
   "outputs": [
    {
     "data": {
      "text/plain": [
       "<matplotlib.axes._subplots.AxesSubplot at 0x7f8cd8594a90>"
      ]
     },
     "execution_count": 43,
     "metadata": {
      "tags": []
     },
     "output_type": "execute_result"
    },
    {
     "data": {
      "image/png": "[encoded data removed]",
      "text/plain": [
       "<matplotlib.figure.Figure at 0x7f8cd8929898>"
      ]
     },
     "metadata": {
      "tags": []
     },
     "output_type": "display_data"
    }
   ],
   "source": [
    "hour_twits.reset_index().plot(y='count', color='DarkBlue', label='Messages frequency')"
   ]
  },
  {
   "cell_type": "markdown",
   "metadata": {
    "colab_type": "text",
    "id": "TYczCvBXilBO"
   },
   "source": [
    "### Draw a diagram of distribution of word “iot” with normalization"
   ]
  },
  {
   "cell_type": "code",
   "execution_count": 44,
   "metadata": {
    "colab": {
     "base_uri": "https://localhost:8080/",
     "height": 426
    },
    "colab_type": "code",
    "collapsed": false,
    "executionInfo": {
     "elapsed": 601,
     "status": "ok",
     "timestamp": 1542371508724,
     "user": {
      "displayName": "slanjr",
      "photoUrl": "https://lh5.googleusercontent.com/-R7DC5NrwdJk/AAAAAAAAAAI/AAAAAAAABZM/JtucoIb6TZM/s64/photo.jpg",
      "userId": "13306556798502122992"
     },
     "user_tz": -120
    },
    "id": "6XjzGReXr1Po",
    "outputId": "d043c02c-a1f1-45cf-c6f8-19a8c360853c"
   },
   "outputs": [
    {
     "data": {
      "text/html": [
       "<div>\n",
       "<style scoped>\n",
       "    .dataframe tbody tr th:only-of-type {\n",
       "        vertical-align: middle;\n",
       "    }\n",
       "\n",
       "    .dataframe tbody tr th {\n",
       "        vertical-align: top;\n",
       "    }\n",
       "\n",
       "    .dataframe thead th {\n",
       "        text-align: right;\n",
       "    }\n",
       "</style>\n",
       "<table border=\"1\" class=\"dataframe\">\n",
       "  <thead>\n",
       "    <tr style=\"text-align: right;\">\n",
       "      <th></th>\n",
       "      <th>sum</th>\n",
       "      <th>count</th>\n",
       "      <th>iot_normal</th>\n",
       "    </tr>\n",
       "    <tr>\n",
       "      <th>created_at</th>\n",
       "      <th></th>\n",
       "      <th></th>\n",
       "      <th></th>\n",
       "    </tr>\n",
       "  </thead>\n",
       "  <tbody>\n",
       "    <tr>\n",
       "      <th>2018-10-23 23:00:00</th>\n",
       "      <td>83</td>\n",
       "      <td>1495</td>\n",
       "      <td>0.055518</td>\n",
       "    </tr>\n",
       "    <tr>\n",
       "      <th>2018-10-24 00:00:00</th>\n",
       "      <td>78</td>\n",
       "      <td>1214</td>\n",
       "      <td>0.064250</td>\n",
       "    </tr>\n",
       "    <tr>\n",
       "      <th>2018-10-24 01:00:00</th>\n",
       "      <td>7</td>\n",
       "      <td>111</td>\n",
       "      <td>0.063063</td>\n",
       "    </tr>\n",
       "    <tr>\n",
       "      <th>2018-10-24 10:00:00</th>\n",
       "      <td>49</td>\n",
       "      <td>834</td>\n",
       "      <td>0.058753</td>\n",
       "    </tr>\n",
       "    <tr>\n",
       "      <th>2018-10-24 11:00:00</th>\n",
       "      <td>153</td>\n",
       "      <td>2461</td>\n",
       "      <td>0.062170</td>\n",
       "    </tr>\n",
       "    <tr>\n",
       "      <th>2018-10-24 12:00:00</th>\n",
       "      <td>165</td>\n",
       "      <td>2479</td>\n",
       "      <td>0.066559</td>\n",
       "    </tr>\n",
       "    <tr>\n",
       "      <th>2018-10-24 13:00:00</th>\n",
       "      <td>211</td>\n",
       "      <td>1757</td>\n",
       "      <td>0.120091</td>\n",
       "    </tr>\n",
       "    <tr>\n",
       "      <th>2018-10-24 20:00:00</th>\n",
       "      <td>17</td>\n",
       "      <td>423</td>\n",
       "      <td>0.040189</td>\n",
       "    </tr>\n",
       "    <tr>\n",
       "      <th>2018-10-24 21:00:00</th>\n",
       "      <td>121</td>\n",
       "      <td>1834</td>\n",
       "      <td>0.065976</td>\n",
       "    </tr>\n",
       "    <tr>\n",
       "      <th>2018-10-24 22:00:00</th>\n",
       "      <td>112</td>\n",
       "      <td>1646</td>\n",
       "      <td>0.068044</td>\n",
       "    </tr>\n",
       "    <tr>\n",
       "      <th>2018-10-24 23:00:00</th>\n",
       "      <td>111</td>\n",
       "      <td>1326</td>\n",
       "      <td>0.083710</td>\n",
       "    </tr>\n",
       "  </tbody>\n",
       "</table>\n",
       "</div>"
      ],
      "text/plain": [
       "                     sum  count  iot_normal\n",
       "created_at                                 \n",
       "2018-10-23 23:00:00   83   1495    0.055518\n",
       "2018-10-24 00:00:00   78   1214    0.064250\n",
       "2018-10-24 01:00:00    7    111    0.063063\n",
       "2018-10-24 10:00:00   49    834    0.058753\n",
       "2018-10-24 11:00:00  153   2461    0.062170\n",
       "2018-10-24 12:00:00  165   2479    0.066559\n",
       "2018-10-24 13:00:00  211   1757    0.120091\n",
       "2018-10-24 20:00:00   17    423    0.040189\n",
       "2018-10-24 21:00:00  121   1834    0.065976\n",
       "2018-10-24 22:00:00  112   1646    0.068044\n",
       "2018-10-24 23:00:00  111   1326    0.083710"
      ]
     },
     "execution_count": 44,
     "metadata": {
      "tags": []
     },
     "output_type": "execute_result"
    }
   ],
   "source": [
    "hour_twits['iot_normal'] = hour_twits['sum'] / hour_twits['count'] \n",
    "hour_twits"
   ]
  },
  {
   "cell_type": "code",
   "execution_count": 45,
   "metadata": {
    "colab": {
     "base_uri": "https://localhost:8080/",
     "height": 426
    },
    "colab_type": "code",
    "collapsed": false,
    "executionInfo": {
     "elapsed": 1368,
     "status": "ok",
     "timestamp": 1542371512182,
     "user": {
      "displayName": "slanjr",
      "photoUrl": "https://lh5.googleusercontent.com/-R7DC5NrwdJk/AAAAAAAAAAI/AAAAAAAABZM/JtucoIb6TZM/s64/photo.jpg",
      "userId": "13306556798502122992"
     },
     "user_tz": -120
    },
    "id": "xK3ZPSQPDcEt",
    "outputId": "ebdf4d3c-f4e3-41a5-c9d4-4ad5e0ce5d6e"
   },
   "outputs": [
    {
     "data": {
      "text/html": [
       "<div>\n",
       "<style scoped>\n",
       "    .dataframe tbody tr th:only-of-type {\n",
       "        vertical-align: middle;\n",
       "    }\n",
       "\n",
       "    .dataframe tbody tr th {\n",
       "        vertical-align: top;\n",
       "    }\n",
       "\n",
       "    .dataframe thead th {\n",
       "        text-align: right;\n",
       "    }\n",
       "</style>\n",
       "<table border=\"1\" class=\"dataframe\">\n",
       "  <thead>\n",
       "    <tr style=\"text-align: right;\">\n",
       "      <th></th>\n",
       "      <th>sum</th>\n",
       "      <th>count</th>\n",
       "      <th>iot_normal</th>\n",
       "    </tr>\n",
       "    <tr>\n",
       "      <th>created_at</th>\n",
       "      <th></th>\n",
       "      <th></th>\n",
       "      <th></th>\n",
       "    </tr>\n",
       "  </thead>\n",
       "  <tbody>\n",
       "    <tr>\n",
       "      <th>2018-10-23 23:00:00</th>\n",
       "      <td>83</td>\n",
       "      <td>1495</td>\n",
       "      <td>-0.651732</td>\n",
       "    </tr>\n",
       "    <tr>\n",
       "      <th>2018-10-24 00:00:00</th>\n",
       "      <td>78</td>\n",
       "      <td>1214</td>\n",
       "      <td>-0.196860</td>\n",
       "    </tr>\n",
       "    <tr>\n",
       "      <th>2018-10-24 01:00:00</th>\n",
       "      <td>7</td>\n",
       "      <td>111</td>\n",
       "      <td>-0.258712</td>\n",
       "    </tr>\n",
       "    <tr>\n",
       "      <th>2018-10-24 10:00:00</th>\n",
       "      <td>49</td>\n",
       "      <td>834</td>\n",
       "      <td>-0.483234</td>\n",
       "    </tr>\n",
       "    <tr>\n",
       "      <th>2018-10-24 11:00:00</th>\n",
       "      <td>153</td>\n",
       "      <td>2461</td>\n",
       "      <td>-0.305242</td>\n",
       "    </tr>\n",
       "    <tr>\n",
       "      <th>2018-10-24 12:00:00</th>\n",
       "      <td>165</td>\n",
       "      <td>2479</td>\n",
       "      <td>-0.076595</td>\n",
       "    </tr>\n",
       "    <tr>\n",
       "      <th>2018-10-24 13:00:00</th>\n",
       "      <td>211</td>\n",
       "      <td>1757</td>\n",
       "      <td>2.712014</td>\n",
       "    </tr>\n",
       "    <tr>\n",
       "      <th>2018-10-24 20:00:00</th>\n",
       "      <td>17</td>\n",
       "      <td>423</td>\n",
       "      <td>-1.450271</td>\n",
       "    </tr>\n",
       "    <tr>\n",
       "      <th>2018-10-24 21:00:00</th>\n",
       "      <td>121</td>\n",
       "      <td>1834</td>\n",
       "      <td>-0.106970</td>\n",
       "    </tr>\n",
       "    <tr>\n",
       "      <th>2018-10-24 22:00:00</th>\n",
       "      <td>112</td>\n",
       "      <td>1646</td>\n",
       "      <td>0.000744</td>\n",
       "    </tr>\n",
       "    <tr>\n",
       "      <th>2018-10-24 23:00:00</th>\n",
       "      <td>111</td>\n",
       "      <td>1326</td>\n",
       "      <td>0.816858</td>\n",
       "    </tr>\n",
       "  </tbody>\n",
       "</table>\n",
       "</div>"
      ],
      "text/plain": [
       "                     sum  count  iot_normal\n",
       "created_at                                 \n",
       "2018-10-23 23:00:00   83   1495   -0.651732\n",
       "2018-10-24 00:00:00   78   1214   -0.196860\n",
       "2018-10-24 01:00:00    7    111   -0.258712\n",
       "2018-10-24 10:00:00   49    834   -0.483234\n",
       "2018-10-24 11:00:00  153   2461   -0.305242\n",
       "2018-10-24 12:00:00  165   2479   -0.076595\n",
       "2018-10-24 13:00:00  211   1757    2.712014\n",
       "2018-10-24 20:00:00   17    423   -1.450271\n",
       "2018-10-24 21:00:00  121   1834   -0.106970\n",
       "2018-10-24 22:00:00  112   1646    0.000744\n",
       "2018-10-24 23:00:00  111   1326    0.816858"
      ]
     },
     "execution_count": 45,
     "metadata": {
      "tags": []
     },
     "output_type": "execute_result"
    }
   ],
   "source": [
    "from sklearn import preprocessing\n",
    "hour_twits['iot_normal'] = preprocessing.scale(hour_twits['iot_normal'].astype('float64'))\n",
    "hour_twits"
   ]
  },
  {
   "cell_type": "code",
   "execution_count": 46,
   "metadata": {
    "colab": {
     "base_uri": "https://localhost:8080/",
     "height": 364
    },
    "colab_type": "code",
    "collapsed": false,
    "executionInfo": {
     "elapsed": 589,
     "status": "ok",
     "timestamp": 1542371515649,
     "user": {
      "displayName": "slanjr",
      "photoUrl": "https://lh5.googleusercontent.com/-R7DC5NrwdJk/AAAAAAAAAAI/AAAAAAAABZM/JtucoIb6TZM/s64/photo.jpg",
      "userId": "13306556798502122992"
     },
     "user_tz": -120
    },
    "id": "lCTqHYy-xYxJ",
    "outputId": "37ae1cb9-76b5-4218-8e5d-7fb10cc64850"
   },
   "outputs": [
    {
     "data": {
      "text/plain": [
       "<matplotlib.axes._subplots.AxesSubplot at 0x7f8cd88a2550>"
      ]
     },
     "execution_count": 46,
     "metadata": {
      "tags": []
     },
     "output_type": "execute_result"
    },
    {
     "data": {
      "image/png": "[encoded data removed]",
      "text/plain": [
       "<matplotlib.figure.Figure at 0x7f8cd85565f8>"
      ]
     },
     "metadata": {
      "tags": []
     },
     "output_type": "display_data"
    }
   ],
   "source": [
    "hour_twits.reset_index().plot(y='iot_normal', color='DarkBlue', label='iot frequency')"
   ]
  },
  {
   "cell_type": "markdown",
   "metadata": {
    "colab_type": "text",
    "id": "8GFv0qrpiqK6"
   },
   "source": [
    "## Using word2vec to analyze word relationships"
   ]
  },
  {
   "cell_type": "code",
   "execution_count": 47,
   "metadata": {
    "colab": {
     "base_uri": "https://localhost:8080/",
     "height": 52
    },
    "colab_type": "code",
    "collapsed": false,
    "executionInfo": {
     "elapsed": 996,
     "status": "ok",
     "timestamp": 1542371519766,
     "user": {
      "displayName": "slanjr",
      "photoUrl": "https://lh5.googleusercontent.com/-R7DC5NrwdJk/AAAAAAAAAAI/AAAAAAAABZM/JtucoIb6TZM/s64/photo.jpg",
      "userId": "13306556798502122992"
     },
     "user_tz": -120
    },
    "id": "MCCrrgfaoj8E",
    "outputId": "a6628263-a0d3-4f43-f1fe-05a2866bee60"
   },
   "outputs": [
    {
     "name": "stdout",
     "output_type": "stream",
     "text": [
      "[nltk_data] Downloading package stopwords to /root/nltk_data...\n",
      "[nltk_data]   Unzipping corpora/stopwords.zip.\n"
     ]
    }
   ],
   "source": [
    "from nltk.corpus import stopwords\n",
    "import nltk\n",
    "nltk.download('stopwords')\n",
    "stops = set(stopwords.words(\"english\")) \n",
    "stops = stops.union(['1', '2', '3', '4', '5', '6', '7', '8', '9', '0'])"
   ]
  },
  {
   "cell_type": "code",
   "execution_count": 0,
   "metadata": {
    "colab": {},
    "colab_type": "code",
    "collapsed": true,
    "id": "a079lcF-0SEf"
   },
   "outputs": [],
   "source": [
    "df['text_stripped'] = df['text_stripped'].apply(lambda x: x.split()).apply(lambda words: [w for w in words if not w in stops]).apply(lambda x: \" \".join(x))\n",
    "\n",
    "words_list = [twit for twit in df['text_stripped']]"
   ]
  },
  {
   "cell_type": "code",
   "execution_count": 49,
   "metadata": {
    "colab": {
     "base_uri": "https://localhost:8080/",
     "height": 191
    },
    "colab_type": "code",
    "collapsed": false,
    "executionInfo": {
     "elapsed": 576,
     "status": "ok",
     "timestamp": 1542371523809,
     "user": {
      "displayName": "slanjr",
      "photoUrl": "https://lh5.googleusercontent.com/-R7DC5NrwdJk/AAAAAAAAAAI/AAAAAAAABZM/JtucoIb6TZM/s64/photo.jpg",
      "userId": "13306556798502122992"
     },
     "user_tz": -120
    },
    "id": "vnbp0lyLjUEJ",
    "outputId": "0d4a0a25-b722-48a1-cff1-a2bb03756d5d"
   },
   "outputs": [
    {
     "data": {
      "text/plain": [
       "['tech improve make faster pilot dataanalytics vr smartinfrastructure ai solu',\n",
       " 'cloudy perspective financecloud api device crypto altcoins bitcoin bittrex erc btc blockchain altcoin cryp',\n",
       " 'effective content marketing tip startup socialmedia socialmediamarketing digi',\n",
       " 'artificial intelligence enterprise business waking ai',\n",
       " 'oh dear ai art wtaf',\n",
       " 'latest artificialintelligence today thanks',\n",
       " 'another nice post director product marketing matt bushell trend machine learning affectin',\n",
       " 'scripps tackle artificialintelligence ai tool best practice genomics health sensor http',\n",
       " 'robot spoke parliament robotics technology ai artificialintelligence via cc',\n",
       " 'transforming financial sector customer experience ai ai machinelearning deeplearning bigdata fintech']"
      ]
     },
     "execution_count": 49,
     "metadata": {
      "tags": []
     },
     "output_type": "execute_result"
    }
   ],
   "source": [
    "words_list[20:30]"
   ]
  },
  {
   "cell_type": "code",
   "execution_count": 0,
   "metadata": {
    "colab": {},
    "colab_type": "code",
    "collapsed": true,
    "id": "XpIUysuBknDU"
   },
   "outputs": [],
   "source": [
    "def build_corpus(data):\n",
    "    \"Creates a list of lists containing words from each sentence\"\n",
    "    corpus = []\n",
    "    for sentence in data:\n",
    "        word_list = sentence.split(\" \")\n",
    "        corpus.append(word_list)    \n",
    "           \n",
    "    return corpus\n",
    "\n",
    "corpus = build_corpus(words_list)"
   ]
  },
  {
   "cell_type": "code",
   "execution_count": 51,
   "metadata": {
    "colab": {
     "base_uri": "https://localhost:8080/",
     "height": 208
    },
    "colab_type": "code",
    "collapsed": false,
    "executionInfo": {
     "elapsed": 996,
     "status": "ok",
     "timestamp": 1542371529026,
     "user": {
      "displayName": "slanjr",
      "photoUrl": "https://lh5.googleusercontent.com/-R7DC5NrwdJk/AAAAAAAAAAI/AAAAAAAABZM/JtucoIb6TZM/s64/photo.jpg",
      "userId": "13306556798502122992"
     },
     "user_tz": -120
    },
    "id": "8v7ZObJZk2EM",
    "outputId": "361107f9-65f6-4568-c484-1aeea85183f9"
   },
   "outputs": [
    {
     "data": {
      "text/plain": [
       "['great',\n",
       " 'speaking',\n",
       " 'ceo',\n",
       " 'linda',\n",
       " 'hasenfratz',\n",
       " 'today',\n",
       " 'stay',\n",
       " 'tuned',\n",
       " 'spotlight',\n",
       " 'future',\n",
       " 'manufact']"
      ]
     },
     "execution_count": 51,
     "metadata": {
      "tags": []
     },
     "output_type": "execute_result"
    }
   ],
   "source": [
    "corpus[42]"
   ]
  },
  {
   "cell_type": "code",
   "execution_count": 0,
   "metadata": {
    "colab": {},
    "colab_type": "code",
    "collapsed": true,
    "id": "C-doq9mim1v0"
   },
   "outputs": [],
   "source": [
    "!pip install gensim\n",
    "!pip install adjustText"
   ]
  },
  {
   "cell_type": "code",
   "execution_count": 0,
   "metadata": {
    "colab": {},
    "colab_type": "code",
    "collapsed": true,
    "id": "dAgjiK9ak5CP"
   },
   "outputs": [],
   "source": [
    "from gensim.models import word2vec\n",
    "# run the model\n",
    "model = word2vec.Word2Vec(corpus, size=100, window=5, min_count=150, workers=4)"
   ]
  },
  {
   "cell_type": "code",
   "execution_count": 54,
   "metadata": {
    "colab": {
     "base_uri": "https://localhost:8080/",
     "height": 34
    },
    "colab_type": "code",
    "collapsed": false,
    "executionInfo": {
     "elapsed": 931,
     "status": "ok",
     "timestamp": 1542371606246,
     "user": {
      "displayName": "slanjr",
      "photoUrl": "https://lh5.googleusercontent.com/-R7DC5NrwdJk/AAAAAAAAAAI/AAAAAAAABZM/JtucoIb6TZM/s64/photo.jpg",
      "userId": "13306556798502122992"
     },
     "user_tz": -120
    },
    "id": "iYYj5Iqmmy0T",
    "outputId": "1be90c0c-e579-4cee-f7d6-9c1a3764d0e4"
   },
   "outputs": [
    {
     "data": {
      "text/plain": [
       "139"
      ]
     },
     "execution_count": 54,
     "metadata": {
      "tags": []
     },
     "output_type": "execute_result"
    }
   ],
   "source": [
    "len(model.wv.vocab)"
   ]
  },
  {
   "cell_type": "code",
   "execution_count": 0,
   "metadata": {
    "colab": {},
    "colab_type": "code",
    "collapsed": true,
    "id": "6Z9TYa6Ag0ze"
   },
   "outputs": [],
   "source": []
  },
  {
   "cell_type": "code",
   "execution_count": 56,
   "metadata": {
    "colab": {
     "base_uri": "https://localhost:8080/",
     "height": 34
    },
    "colab_type": "code",
    "collapsed": false,
    "executionInfo": {
     "elapsed": 949,
     "status": "ok",
     "timestamp": 1542371678958,
     "user": {
      "displayName": "slanjr",
      "photoUrl": "https://lh5.googleusercontent.com/-R7DC5NrwdJk/AAAAAAAAAAI/AAAAAAAABZM/JtucoIb6TZM/s64/photo.jpg",
      "userId": "13306556798502122992"
     },
     "user_tz": -120
    },
    "id": "ofTuM3Y7nGLr",
    "outputId": "c5ebf509-7955-4329-8f6b-5f10b33e615a"
   },
   "outputs": [
    {
     "data": {
      "text/plain": [
       "['crypto', 'bitcoin', 'blockchain', '5g', 'data']"
      ]
     },
     "execution_count": 56,
     "metadata": {
      "tags": []
     },
     "output_type": "execute_result"
    }
   ],
   "source": [
    "[x for x in model.wv.vocab][0:5]"
   ]
  },
  {
   "cell_type": "code",
   "execution_count": 57,
   "metadata": {
    "colab": {
     "base_uri": "https://localhost:8080/",
     "height": 280
    },
    "colab_type": "code",
    "collapsed": false,
    "executionInfo": {
     "elapsed": 624,
     "status": "ok",
     "timestamp": 1542371682303,
     "user": {
      "displayName": "slanjr",
      "photoUrl": "https://lh5.googleusercontent.com/-R7DC5NrwdJk/AAAAAAAAAAI/AAAAAAAABZM/JtucoIb6TZM/s64/photo.jpg",
      "userId": "13306556798502122992"
     },
     "user_tz": -120
    },
    "id": "FIodG6DInNnf",
    "outputId": "03ea1bb5-5b7f-4925-e956-91c15b1e9f58"
   },
   "outputs": [
    {
     "name": "stderr",
     "output_type": "stream",
     "text": [
      "/usr/local/lib/python3.6/dist-packages/ipykernel_launcher.py:1: DeprecationWarning: Call to deprecated `most_similar` (Method will be removed in 4.0.0, use self.wv.most_similar() instead).\n",
      "  \"\"\"Entry point for launching an IPython kernel.\n",
      "/usr/local/lib/python3.6/dist-packages/gensim/matutils.py:737: FutureWarning: Conversion of the second argument of issubdtype from `int` to `np.signedinteger` is deprecated. In future, it will be treated as `np.int64 == np.dtype(int).type`.\n",
      "  if np.issubdtype(vec.dtype, np.int):\n"
     ]
    },
    {
     "data": {
      "text/plain": [
       "[('could', 0.99),\n",
       " ('10', 0.97),\n",
       " ('futureofwork', 0.97),\n",
       " ('top', 0.96),\n",
       " ('china', 0.96),\n",
       " ('via', 0.96),\n",
       " ('innovation', 0.96),\n",
       " ('human', 0.95),\n",
       " ('next', 0.95),\n",
       " ('say', 0.95)]"
      ]
     },
     "execution_count": 57,
     "metadata": {
      "tags": []
     },
     "output_type": "execute_result"
    }
   ],
   "source": [
    "[(item[0],round(item[1],2)) for item in model.most_similar('work')]"
   ]
  },
  {
   "cell_type": "code",
   "execution_count": 59,
   "metadata": {
    "colab": {
     "base_uri": "https://localhost:8080/",
     "height": 918
    },
    "colab_type": "code",
    "collapsed": false,
    "executionInfo": {
     "elapsed": 5008,
     "status": "ok",
     "timestamp": 1542371880681,
     "user": {
      "displayName": "slanjr",
      "photoUrl": "https://lh5.googleusercontent.com/-R7DC5NrwdJk/AAAAAAAAAAI/AAAAAAAABZM/JtucoIb6TZM/s64/photo.jpg",
      "userId": "13306556798502122992"
     },
     "user_tz": -120
    },
    "id": "b6CDUDUDoReg",
    "outputId": "524e5f41-eb76-480b-a28b-8585c1eb75ac"
   },
   "outputs": [
    {
     "name": "stderr",
     "output_type": "stream",
     "text": [
      "/usr/local/lib/python3.6/dist-packages/ipykernel_launcher.py:14: DeprecationWarning: Call to deprecated `__getitem__` (Method will be removed in 4.0.0, use self.wv.__getitem__() instead).\n",
      "  \n"
     ]
    },
    {
     "data": {
      "image/png": "[encoded data removed]",
      "text/plain": [
       "<matplotlib.figure.Figure at 0x7f8cd422d550>"
      ]
     },
     "metadata": {
      "tags": []
     },
     "output_type": "display_data"
    }
   ],
   "source": [
    "# import the t-SNE library and matplotlib for plotting\n",
    "from sklearn.manifold import TSNE\n",
    "import matplotlib.pyplot as plt\n",
    "import random\n",
    "\n",
    "\n",
    "# define the function to compute the dimensionality reduction\n",
    "# and then produce the biplot\n",
    "def tsne_plot(model):\n",
    "    \"Creates a TSNE model and plots it\"\n",
    "    labels = []\n",
    "    tokens = []\n",
    "\n",
    "    for word in model.wv.vocab:\n",
    "        tokens.append(model[word])\n",
    "        labels.append(word)\n",
    "    \n",
    "    tsne_model = TSNE(perplexity=40, n_components=2, init='pca', n_iter=2500)\n",
    "    new_values = tsne_model.fit_transform(tokens)\n",
    "\n",
    "    x = []\n",
    "    y = []\n",
    "    for value in new_values:\n",
    "        x.append(value[0])\n",
    "        y.append(value[1])\n",
    "        \n",
    "    plt.figure(figsize=(15, 15)) \n",
    "    for i in range(len(x)):\n",
    "        plt.scatter(x[i],y[i])\n",
    "        if i % 2 == 0: \n",
    "          plt.annotate(labels[i],\n",
    "                       xy=(x[i], y[i]),\n",
    "                       xytext=(random.randint(0,10), random.randint(0,20)),\n",
    "                       textcoords='offset points',\n",
    "                       ha='right',\n",
    "                       va='bottom')       \n",
    "        else:\n",
    "          plt.annotate(labels[i],\n",
    "                       xy=(x[i], y[i]),\n",
    "                       xytext=(random.randint(0,10), random.randint(0,20)),\n",
    "                       textcoords='offset points',\n",
    "                       ha='left',\n",
    "                       va='bottom')     \n",
    "    plt.show()\n",
    "    \n",
    "# call the function on our dataset\n",
    "tsne_plot(model)\n"
   ]
  },
  {
   "cell_type": "markdown",
   "metadata": {
    "colab_type": "text",
    "id": "CB8uo2nChTKG"
   },
   "source": [
    "### Finding best correlation among all popular words"
   ]
  },
  {
   "cell_type": "code",
   "execution_count": 86,
   "metadata": {
    "colab": {
     "base_uri": "https://localhost:8080/",
     "height": 52
    },
    "colab_type": "code",
    "collapsed": false,
    "executionInfo": {
     "elapsed": 951,
     "status": "ok",
     "timestamp": 1542374582874,
     "user": {
      "displayName": "slanjr",
      "photoUrl": "https://lh5.googleusercontent.com/-R7DC5NrwdJk/AAAAAAAAAAI/AAAAAAAABZM/JtucoIb6TZM/s64/photo.jpg",
      "userId": "13306556798502122992"
     },
     "user_tz": -120
    },
    "id": "MwrI3k81n1eY",
    "outputId": "159f7ce8-958e-41dc-cf7a-203edbb04985"
   },
   "outputs": [
    {
     "data": {
      "text/plain": [
       "text_stripped    cloudy perspective financecloud api device cry...\n",
       "Name: 0, dtype: object"
      ]
     },
     "execution_count": 86,
     "metadata": {
      "tags": []
     },
     "output_type": "execute_result"
    }
   ],
   "source": [
    "text_chuncks = df[['text_stripped']].groupby(lambda x: x//1000).sum()\n",
    "text_chuncks.iloc[0]"
   ]
  },
  {
   "cell_type": "code",
   "execution_count": 0,
   "metadata": {
    "colab": {},
    "colab_type": "code",
    "collapsed": true,
    "id": "0XlCS9ctuYaf"
   },
   "outputs": [],
   "source": [
    "import itertools\n",
    "\n",
    "correlations = {}\n",
    "\n",
    "for pair in list(itertools.combinations(model.wv.vocab, 2)):\n",
    "  correlations[pair] = text_chuncks['text_stripped'].apply(lambda x: word_count(x, word=pair[0])).corr(text_chuncks['text_stripped'].apply(lambda x: word_count(x, word=pair[1])))\n",
    "  "
   ]
  },
  {
   "cell_type": "code",
   "execution_count": 0,
   "metadata": {
    "colab": {},
    "colab_type": "code",
    "collapsed": true,
    "id": "fU0mjJbjipYj"
   },
   "outputs": [],
   "source": [
    "sorted_correlations = sorted(correlations.items(), key=lambda x: x[1], reverse=True)"
   ]
  },
  {
   "cell_type": "code",
   "execution_count": 90,
   "metadata": {
    "colab": {
     "base_uri": "https://localhost:8080/",
     "height": 885
    },
    "colab_type": "code",
    "collapsed": false,
    "executionInfo": {
     "elapsed": 633,
     "status": "ok",
     "timestamp": 1542374944844,
     "user": {
      "displayName": "slanjr",
      "photoUrl": "https://lh5.googleusercontent.com/-R7DC5NrwdJk/AAAAAAAAAAI/AAAAAAAABZM/JtucoIb6TZM/s64/photo.jpg",
      "userId": "13306556798502122992"
     },
     "user_tz": -120
    },
    "id": "hHa-mTmdnBNN",
    "outputId": "759e0728-da46-479d-f6f1-c1551f382782"
   },
   "outputs": [
    {
     "data": {
      "text/plain": [
       "[(('romantic', 'novelty'), 1.0),\n",
       " (('ideological', 'romantic'), 0.9998730602362624),\n",
       " (('ideological', 'novelty'), 0.9998730602362624),\n",
       " (('transition', 'romantic'), 0.9997727943829751),\n",
       " (('transition', 'novelty'), 0.9997727943829751),\n",
       " (('ideological', 'transition'), 0.9996273532635618),\n",
       " (('14', 'rtit'), 0.9959493198507854),\n",
       " (('field', 'romantic'), 0.9926306707799928),\n",
       " (('field', 'novelty'), 0.9926306707799928),\n",
       " (('field', 'ideological'), 0.9922001940263625),\n",
       " (('field', 'transition'), 0.9911690363877701),\n",
       " (('major', 'romantic'), 0.9889495669397359),\n",
       " (('major', 'novelty'), 0.9889495669397359),\n",
       " (('major', 'ideological'), 0.9889422731672469),\n",
       " (('major', 'transition'), 0.9881225970024621),\n",
       " (('source', 'romantic'), 0.9871267806546083),\n",
       " (('source', 'novelty'), 0.9871267806546083),\n",
       " (('source', 'ideological'), 0.9864077291965336),\n",
       " (('source', 'transition'), 0.985859060369485),\n",
       " (('major', 'investment'), 0.9843968606011557),\n",
       " (('source', 'field'), 0.982802595519815),\n",
       " (('major', 'field'), 0.9816657673470974),\n",
       " (('source', 'major'), 0.9786666363282982),\n",
       " (('investment', 'transition'), 0.9775704756665602),\n",
       " (('investment', 'romantic'), 0.9767535790188285),\n",
       " (('investment', 'novelty'), 0.9767535790188285),\n",
       " (('best', 'course'), 0.9753511656040381),\n",
       " (('investment', 'ideological'), 0.9752974066359054),\n",
       " (('marketing', 'market'), 0.9734705245565752),\n",
       " (('artificial', 'intelligence'), 0.9729525663907538),\n",
       " (('like', 'rtit'), 0.9726984452119811),\n",
       " (('like', '14'), 0.9715721402745707),\n",
       " (('investment', 'field'), 0.9678383474741212),\n",
       " (('learning', 'learn'), 0.9640872996419683),\n",
       " (('source', 'investment'), 0.9602336886559999),\n",
       " (('advance', 'transition'), 0.9583055117009295),\n",
       " (('advance', 'ideological'), 0.9564088550083778),\n",
       " (('advance', 'romantic'), 0.955811202846821),\n",
       " (('advance', 'novelty'), 0.955811202846821),\n",
       " (('advance', 'investment'), 0.9526027298823343),\n",
       " (('major', 'advance'), 0.9484267382374083),\n",
       " (('cybersecurity', 'security'), 0.9464223986773782),\n",
       " (('advance', 'field'), 0.9420053604099156),\n",
       " (('robot', 'robotics'), 0.9395518149485709),\n",
       " (('source', 'advance'), 0.9393945968791375),\n",
       " (('learning', 'machinelearning'), 0.9371219788748189),\n",
       " (('machinelearning', 'learn'), 0.9348696490843464),\n",
       " (('machine', 'learning'), 0.9242993601191283),\n",
       " (('datascience', 'science'), 0.9078755390514456),\n",
       " (('ai', 'u'), 0.9078396202969313)]"
      ]
     },
     "execution_count": 90,
     "metadata": {
      "tags": []
     },
     "output_type": "execute_result"
    }
   ],
   "source": [
    "sorted_correlations[0:50]"
   ]
  },
  {
   "cell_type": "code",
   "execution_count": 93,
   "metadata": {
    "colab": {
     "base_uri": "https://localhost:8080/",
     "height": 868
    },
    "colab_type": "code",
    "collapsed": false,
    "executionInfo": {
     "elapsed": 967,
     "status": "ok",
     "timestamp": 1542374995806,
     "user": {
      "displayName": "slanjr",
      "photoUrl": "https://lh5.googleusercontent.com/-R7DC5NrwdJk/AAAAAAAAAAI/AAAAAAAABZM/JtucoIb6TZM/s64/photo.jpg",
      "userId": "13306556798502122992"
     },
     "user_tz": -120
    },
    "id": "1-ci2WOKpJWA",
    "outputId": "81b0e921-37e2-44e5-b29c-bee3ef08e1e2"
   },
   "outputs": [
    {
     "data": {
      "text/plain": [
       "[(('great', 'ceo'), -0.7807473587990399),\n",
       " (('iiot', 'find'), -0.7514662524891124),\n",
       " (('drone', 'need'), -0.7356631056178027),\n",
       " (('using', 'datascience'), -0.7186922985542051),\n",
       " (('job', 'iiot'), -0.7150300703646066),\n",
       " (('new', 'iiot'), -0.712372706315109),\n",
       " (('look', 'one'), -0.711182462824297),\n",
       " (('data', 'using'), -0.7058917035105765),\n",
       " (('drone', 'better'), -0.6976788732262265),\n",
       " (('news', 'iiot'), -0.6947231328715862),\n",
       " (('ha', 'network'), -0.6871763958004549),\n",
       " (('source', 'make'), -0.6802699487162069),\n",
       " (('customer', 'field'), -0.6789753556673291),\n",
       " (('customer', 'ideological'), -0.6688651627984757),\n",
       " (('source', 'startup'), -0.6657934200559932),\n",
       " (('customer', 'novelty'), -0.6655333265757579),\n",
       " (('customer', 'romantic'), -0.6655333265757579),\n",
       " (('healthcare', 'one'), -0.6653564326209424),\n",
       " (('customer', 'transition'), -0.6651106542896346),\n",
       " (('china', 'ceo'), -0.662043761115957),\n",
       " (('digitaltransformation', 'major'), -0.6539479070746079),\n",
       " (('way', 'mobile'), -0.6525013266154405),\n",
       " (('http', 'world'), -0.6494582475059953),\n",
       " (('make', 'field'), -0.6484907072951092),\n",
       " (('customer', 'investment'), -0.6483152832241874),\n",
       " (('world', 'major'), -0.6470622829745415),\n",
       " (('deep', 'field'), -0.6433768131949901),\n",
       " (('deep', 'ideological'), -0.6424803813795482),\n",
       " (('deep', 'novelty'), -0.6406500827211209),\n",
       " (('deep', 'romantic'), -0.6406500827211209),\n",
       " (('digitaltransformation', 'ideological'), -0.6382884115942181),\n",
       " (('digitaltransformation', 'novelty'), -0.6370906089453334),\n",
       " (('digitaltransformation', 'romantic'), -0.6370906089453334),\n",
       " (('startup', 'field'), -0.6360764137337003),\n",
       " (('new', 'iot'), -0.635906039420978),\n",
       " (('deep', 'transition'), -0.6357973542596277),\n",
       " (('source', 'want'), -0.6343929524973391),\n",
       " (('best', 'http'), -0.634247032620414),\n",
       " (('service', 'iiot'), -0.6325310945379974),\n",
       " (('customer', 'network'), -0.632096061459161),\n",
       " (('source', 'customer'), -0.6319554046657636),\n",
       " (('digitaltransformation', 'transition'), -0.6309765803994011),\n",
       " (('digitaltransformation', 'investment'), -0.630106325551567),\n",
       " (('startup', 'ideological'), -0.6301057840669365),\n",
       " (('want', 'ideological'), -0.62947400218015),\n",
       " (('analytics', 'http'), -0.6290968856511618),\n",
       " (('want', 'novelty'), -0.6278578027488538),\n",
       " (('want', 'romantic'), -0.6278578027488538),\n",
       " (('ha', 'field'), -0.6276191356099168)]"
      ]
     },
     "execution_count": 93,
     "metadata": {
      "tags": []
     },
     "output_type": "execute_result"
    }
   ],
   "source": [
    "sorted_correlations[:-50:-1]"
   ]
  },
  {
   "cell_type": "markdown",
   "metadata": {
    "colab_type": "text",
    "id": "6zolpNy2tw33"
   },
   "source": [
    "**Interesting conclusion**: CEO cannot be great, customer cannot be ideological, digitaltransformation cannot be romantic"
   ]
  },
  {
   "cell_type": "code",
   "execution_count": 0,
   "metadata": {
    "colab": {},
    "colab_type": "code",
    "collapsed": true,
    "id": "dzoJw9XLtjap"
   },
   "outputs": [],
   "source": []
  }
 ],
 "metadata": {
  "accelerator": "GPU",
  "colab": {
   "collapsed_sections": [],
   "name": "homework3.ipynb",
   "provenance": [],
   "version": "0.3.2"
  },
  "kernelspec": {
   "display_name": "Python 3",
   "language": "python",
   "name": "python3"
  },
  "language_info": {
   "codemirror_mode": {
    "name": "ipython",
    "version": 3
   },
   "file_extension": ".py",
   "mimetype": "text/x-python",
   "name": "python",
   "nbconvert_exporter": "python",
   "pygments_lexer": "ipython3",
   "version": "3.6.5"
  }
 },
 "nbformat": 4,
 "nbformat_minor": 0
}
