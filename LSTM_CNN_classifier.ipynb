{
 "cells": [
  {
   "cell_type": "markdown",
   "metadata": {
    "colab_type": "text",
    "id": "iywf_r42q6MM"
   },
   "source": [
    "# Research: Best model for text genre prediction"
   ]
  },
  {
   "cell_type": "markdown",
   "metadata": {
    "colab_type": "text",
    "id": "lY91t-i7rIEg"
   },
   "source": [
    "## Load text"
   ]
  },
  {
   "cell_type": "code",
   "execution_count": 0,
   "metadata": {
    "colab": {
     "base_uri": "https://localhost:8080/",
     "height": 35
    },
    "colab_type": "code",
    "collapsed": false,
    "id": "0trpxAZV5L4m",
    "outputId": "9785d22b-267d-4f48-bb3f-f4aeacb1e846"
   },
   "outputs": [
    {
     "name": "stdout",
     "output_type": "stream",
     "text": [
      "mkdir: cannot create directory ‘/content/drive’: File exists\n"
     ]
    }
   ],
   "source": [
    "!mkdir /content/drive"
   ]
  },
  {
   "cell_type": "code",
   "execution_count": 0,
   "metadata": {
    "colab": {
     "base_uri": "https://localhost:8080/",
     "height": 35
    },
    "colab_type": "code",
    "collapsed": false,
    "id": "-PTOExUpnVWj",
    "outputId": "d8f1475b-53de-4cc4-c81b-886bcb530c01"
   },
   "outputs": [
    {
     "name": "stdout",
     "output_type": "stream",
     "text": [
      "Drive already mounted at /content/drive/; to attempt to forcibly remount, call drive.mount(\"/content/drive/\", force_remount=True).\n"
     ]
    }
   ],
   "source": [
    "from google.colab import drive\n",
    "drive.mount('/content/drive/')"
   ]
  },
  {
   "cell_type": "code",
   "execution_count": 0,
   "metadata": {
    "colab": {},
    "colab_type": "code",
    "collapsed": true,
    "id": "5UiQ2wWQrSzB"
   },
   "outputs": [],
   "source": [
    "import os\n",
    "os.chdir(\"/content/drive/My Drive/AI\")"
   ]
  },
  {
   "cell_type": "code",
   "execution_count": 0,
   "metadata": {
    "colab": {},
    "colab_type": "code",
    "collapsed": true,
    "id": "gYHto6lqroqi"
   },
   "outputs": [],
   "source": [
    "import pandas as pd\n",
    "import numpy as np\n",
    "from matplotlib import pyplot as plt\n",
    "from sklearn import preprocessing"
   ]
  },
  {
   "cell_type": "code",
   "execution_count": 0,
   "metadata": {
    "colab": {},
    "colab_type": "code",
    "collapsed": true,
    "id": "-kUJKCwurrv6"
   },
   "outputs": [],
   "source": [
    "genres = ['ADVENTUR', 'DETECT', 'FANTAST', 'JOURNAL', 'TALES']"
   ]
  },
  {
   "cell_type": "code",
   "execution_count": 0,
   "metadata": {
    "colab": {},
    "colab_type": "code",
    "collapsed": true,
    "id": "jUBz1Rl0HJhR"
   },
   "outputs": [],
   "source": [
    "# !unzip ./homework4/*.zip\n",
    "# !find ./ENGLISH/. -name '*.ZIP' -execdir unzip '{}' ';'"
   ]
  },
  {
   "cell_type": "code",
   "execution_count": 0,
   "metadata": {
    "colab": {
     "base_uri": "https://localhost:8080/",
     "height": 3015
    },
    "colab_type": "code",
    "collapsed": false,
    "id": "GG3vGpyKr2-F",
    "outputId": "bc1329b8-b230-43af-a24f-1c551ce6385c"
   },
   "outputs": [
    {
     "name": "stdout",
     "output_type": "stream",
     "text": [
      "homework4/ENGLISH/ADVENTUR/CLOVIS.TXT\n",
      "homework4/ENGLISH/ADVENTUR/CALLWILD.TXT\n",
      "homework4/ENGLISH/ADVENTUR/JUSTDAV.TXT\n",
      "homework4/ENGLISH/ADVENTUR/CANSUCH.TXT\n",
      "homework4/ENGLISH/ADVENTUR/FIRE.TXT\n",
      "homework4/ENGLISH/ADVENTUR/DOUGLASS.TXT\n",
      "homework4/ENGLISH/ADVENTUR/MOBYDICK.TXT\n",
      "homework4/ENGLISH/ADVENTUR/EIGHTY_D.TXT\n",
      "homework4/ENGLISH/ADVENTUR/CAROLCHR.TXT\n",
      "homework4/ENGLISH/ADVENTUR/OPION.TXT\n",
      "homework4/ENGLISH/ADVENTUR/DOUGL2.TXT\n",
      "homework4/ENGLISH/ADVENTUR/ALEXBR.TXT\n",
      "homework4/ENGLISH/ADVENTUR/HFINN.TXT\n",
      "homework4/ENGLISH/ADVENTUR/IVANHOE.TXT\n",
      "homework4/ENGLISH/ADVENTUR/PUDDN.TXT\n",
      "homework4/ENGLISH/ADVENTUR/SAWY2.TXT\n",
      "homework4/ENGLISH/ADVENTUR/SAWY3.TXT\n",
      "homework4/ENGLISH/ADVENTUR/SAWY1.TXT\n",
      "homework4/ENGLISH/ADVENTUR/TARZ1.TXT\n",
      "homework4/ENGLISH/ADVENTUR/TARZ2.TXT\n",
      "homework4/ENGLISH/ADVENTUR/TARZ3.TXT\n",
      "homework4/ENGLISH/ADVENTUR/TARZ4.TXT\n",
      "homework4/ENGLISH/ADVENTUR/TARZ5.TXT\n",
      "homework4/ENGLISH/ADVENTUR/LORD_JIM.TXT\n",
      "homework4/ENGLISH/ADVENTUR/SHARERXT.TXT\n",
      "homework4/ENGLISH/ADVENTUR/2CITY.TXT\n",
      "homework4/ENGLISH/ADVENTUR/BADAM10.TXT\n",
      "homework4/ENGLISH/ADVENTUR/FRDAM10.TXT\n",
      "homework4/ENGLISH/ADVENTUR/GLDNA10.TXT\n",
      "homework4/ENGLISH/ADVENTUR/ISLNI10.TXT\n",
      "homework4/ENGLISH/ADVENTUR/JBARL10.TXT\n",
      "homework4/ENGLISH/ADVENTUR/LMISS11.TXT\n",
      "homework4/ENGLISH/ADVENTUR/MRMEN10.TXT\n",
      "homework4/ENGLISH/ADVENTUR/POLST10.TXT\n",
      "homework4/ENGLISH/ADVENTUR/RFENG10.TXT\n",
      "homework4/ENGLISH/ADVENTUR/STIVE10.TXT\n",
      "homework4/ENGLISH/ADVENTUR/STRKM10.TXT\n",
      "homework4/ENGLISH/ADVENTUR/TMUCK10.TXT\n",
      "homework4/ENGLISH/ADVENTUR/WARPRYER.TXT\n",
      "homework4/ENGLISH/DETECT/COCKOO.TXT\n",
      "homework4/ENGLISH/DETECT/VALLEY.TXT\n",
      "homework4/ENGLISH/DETECT/MEMOIRSX.TXT\n",
      "homework4/ENGLISH/DETECT/LASTBOWX.TXT\n",
      "homework4/ENGLISH/DETECT/HOUNDXDY.TXT\n",
      "homework4/ENGLISH/DETECT/CASEBOOK.TXT\n",
      "homework4/ENGLISH/DETECT/SIGNFOUR.TXT\n",
      "homework4/ENGLISH/DETECT/STUDYXDY.TXT\n",
      "homework4/ENGLISH/DETECT/INFRB10.TXT\n",
      "homework4/ENGLISH/DETECT/WIFRB10.TXT\n",
      "homework4/ENGLISH/DETECT/MURDER.TXT\n",
      "homework4/ENGLISH/DETECT/CONDOYLE.TXT\n",
      "homework4/ENGLISH/DETECT/Dead Mens Money.TXT\n",
      "homework4/ENGLISH/DETECT/The Mysterious Affair at Styles by Agatha Christie.TXT\n",
      "homework4/ENGLISH/DETECT/The Orange-Yellow Diamond.TXT\n",
      "homework4/ENGLISH/DETECT/The Return of Sherlock Holmes.TXT\n",
      "homework4/ENGLISH/DETECT/The Rayner-Slade Amalgamation.TXT\n",
      "homework4/ENGLISH/DETECT/The Middle of Things.TXT\n",
      "homework4/ENGLISH/DETECT/The Paradise Mystery.TXT\n",
      "homework4/ENGLISH/DETECT/The Middle Temple Murder.TXT\n",
      "homework4/ENGLISH/DETECT/The Secret Adversary by Agatha Christie.TXT\n",
      "homework4/ENGLISH/DETECT/The Works of Edgar Allan Poe — Volume 1.TXT\n",
      "homework4/ENGLISH/DETECT/The Works of Edgar Allan Poe — Volume 2.TXT\n",
      "homework4/ENGLISH/FANTAST/UNINVITE.TXT\n",
      "homework4/ENGLISH/FANTAST/TREKFILE.TXT\n",
      "homework4/ENGLISH/FANTAST/STIH-WK.TXT\n",
      "homework4/ENGLISH/FANTAST/CYBERSLA.TXT\n",
      "homework4/ENGLISH/FANTAST/BEOPROL.TXT\n",
      "homework4/ENGLISH/FANTAST/J_MNEM.TXT\n",
      "homework4/ENGLISH/FANTAST/ANDROID1.TXT\n",
      "homework4/ENGLISH/FANTAST/HITCH2.TXT\n",
      "homework4/ENGLISH/FANTAST/HITCH1.TXT\n",
      "homework4/ENGLISH/FANTAST/HITCH3.TXT\n",
      "homework4/ENGLISH/FANTAST/HITCH4.TXT\n",
      "homework4/ENGLISH/FANTAST/INVISMAN.TXT\n",
      "homework4/ENGLISH/FANTAST/JEKYLL.TXT\n",
      "homework4/ENGLISH/FANTAST/SLEEPY.TXT\n",
      "homework4/ENGLISH/FANTAST/TIMEMACH.TXT\n",
      "homework4/ENGLISH/FANTAST/BARBARIA.TXT\n",
      "homework4/ENGLISH/FANTAST/SEAGULL.TXT\n",
      "homework4/ENGLISH/FANTAST/BEOWULF.TXT\n",
      "homework4/ENGLISH/FANTAST/JASON.TXT\n",
      "homework4/ENGLISH/FANTAST/TOLERANC.TXT\n",
      "homework4/ENGLISH/FANTAST/EVIL.TXT\n",
      "homework4/ENGLISH/FANTAST/OCTOBER.TXT\n",
      "homework4/ENGLISH/FANTAST/MORGANA.TXT\n",
      "homework4/ENGLISH/FANTAST/THUNDER.TXT\n",
      "homework4/ENGLISH/FANTAST/LEAPYEAR.TXT\n",
      "homework4/ENGLISH/FANTAST/STORY74K.TXT\n",
      "homework4/ENGLISH/FANTAST/GUARD.TXT\n",
      "homework4/ENGLISH/FANTAST/BUTWORM.TXT\n",
      "homework4/ENGLISH/FANTAST/TIMEAMBE.TXT\n",
      "homework4/ENGLISH/FANTAST/MEMORIA.TXT\n",
      "homework4/ENGLISH/FANTAST/DEARDIAR.TXT\n",
      "homework4/ENGLISH/FANTAST/EUROPA.TXT\n",
      "homework4/ENGLISH/FANTAST/LONESOUL.TXT\n",
      "homework4/ENGLISH/FANTAST/AFTLIFE.TXT\n",
      "homework4/ENGLISH/FANTAST/EMPLANET.TXT\n",
      "homework4/ENGLISH/FANTAST/CHCKMATE.TXT\n",
      "homework4/ENGLISH/FANTAST/NECRFILE.TXT\n",
      "homework4/ENGLISH/FANTAST/PROGRO.TXT\n",
      "homework4/ENGLISH/FANTAST/HUNTING.TXT\n",
      "homework4/ENGLISH/FANTAST/HITCH5.TXT\n",
      "homework4/ENGLISH/FANTAST/CHOCKY.TXT\n",
      "homework4/ENGLISH/FANTAST/WARWORLD.TXT\n",
      "homework4/ENGLISH/FANTAST/ERSATZ.TXT\n",
      "homework4/ENGLISH/FANTAST/RATSNAKE.TXT\n",
      "homework4/ENGLISH/FANTAST/VAN_GOGH.TXT\n",
      "homework4/ENGLISH/FANTAST/KNOCK.TXT\n",
      "homework4/ENGLISH/FANTAST/FRANKENS.TXT\n",
      "homework4/ENGLISH/FANTAST/GMARS.TXT\n",
      "homework4/ENGLISH/FANTAST/MONSTMEN.TXT\n",
      "homework4/ENGLISH/FANTAST/MOONEAR.TXT\n",
      "homework4/ENGLISH/FANTAST/TERMC.TXT\n",
      "homework4/ENGLISH/FANTAST/WMARS.TXT\n",
      "homework4/ENGLISH/FANTAST/YANKE.TXT\n",
      "homework4/ENGLISH/FANTAST/FLATLAND.TXT\n",
      "homework4/ENGLISH/FANTAST/DRACULA.TXT\n",
      "homework4/ENGLISH/FANTAST/LOSTWORL.TXT\n",
      "homework4/ENGLISH/FANTAST/OUTSIDE.TXT\n",
      "homework4/ENGLISH/FANTAST/NEUROMAN.TXT\n",
      "homework4/ENGLISH/FANTAST/SEANCE.TXT\n",
      "homework4/ENGLISH/FANTAST/LONEWOLF.TXT\n",
      "homework4/ENGLISH/FANTAST/CRACKER.TXT\n",
      "homework4/ENGLISH/FANTAST/STARWAR5.TXT\n",
      "homework4/ENGLISH/FANTAST/STARWAR4.TXT\n",
      "homework4/ENGLISH/FANTAST/STARWAR6.TXT\n",
      "homework4/ENGLISH/FANTAST/STARWAR1.TXT\n",
      "homework4/ENGLISH/FANTAST/OLDUVAI.TXT\n",
      "homework4/ENGLISH/FANTAST/EYE.TXT\n",
      "homework4/ENGLISH/FANTAST/STARTR.TXT\n",
      "homework4/ENGLISH/FANTAST/FORGFUT.TXT\n",
      "homework4/ENGLISH/FANTAST/DRDAY10.TXT\n",
      "homework4/ENGLISH/FANTAST/MMARS.TXT\n",
      "homework4/ENGLISH/FANTAST/PMARS.TXT\n",
      "homework4/ENGLISH/FANTAST/WWILL10.TXT\n",
      "homework4/ENGLISH/FANTAST/LORDDUNS.TXT\n",
      "homework4/ENGLISH/FANTAST/STEFAN.TXT\n",
      "homework4/ENGLISH/JOURNAL/INQ-08.TXT\n",
      "homework4/ENGLISH/JOURNAL/ANSIBLE.TXT\n",
      "homework4/ENGLISH/JOURNAL/DRAGON_Z.TXT\n",
      "homework4/ENGLISH/JOURNAL/DELREY.TXT\n",
      "homework4/ENGLISH/JOURNAL/FSF1-11.TXT\n",
      "homework4/ENGLISH/JOURNAL/NTM_18.TXT\n",
      "homework4/ENGLISH/JOURNAL/PHRACK47.TXT\n",
      "homework4/ENGLISH/JOURNAL/QUANTA17.TXT\n",
      "homework4/ENGLISH/TALES/FGOOSE.TXT\n",
      "homework4/ENGLISH/TALES/EMPEROR3.TXT\n",
      "homework4/ENGLISH/TALES/SNARK.TXT\n",
      "homework4/ENGLISH/TALES/ALICE.TXT\n",
      "homework4/ENGLISH/TALES/LGLASS.TXT\n",
      "homework4/ENGLISH/TALES/ALADDIN.TXT\n",
      "homework4/ENGLISH/TALES/OZ_LAND.TXT\n",
      "homework4/ENGLISH/TALES/ANNE_GRE.TXT\n",
      "homework4/ENGLISH/TALES/ISLAND.TXT\n",
      "homework4/ENGLISH/TALES/LOTR.TXT\n",
      "homework4/ENGLISH/TALES/HOBBIT.TXT\n",
      "homework4/ENGLISH/TALES/MARTIAN.TXT\n",
      "homework4/ENGLISH/TALES/AESOP.TXT\n",
      "homework4/ENGLISH/TALES/AVONLEA.TXT\n",
      "homework4/ENGLISH/TALES/GRIMM.TXT\n",
      "homework4/ENGLISH/TALES/FBRLS10.TXT\n",
      "homework4/ENGLISH/TALES/JNGLB10.TXT\n",
      "homework4/ENGLISH/TALES/LADDI10.TXT\n",
      "homework4/ENGLISH/TALES/SIOUX10.TXT\n",
      "homework4/ENGLISH/TALES/RHINO.TXT\n"
     ]
    }
   ],
   "source": [
    "import glob\n",
    "path = 'homework4/ENGLISH/'\n",
    "texts = {}\n",
    "\n",
    "for genre in genres:\n",
    "  texts[genre] = {}\n",
    "  inpath = path + genre\n",
    "  for filename in glob.glob(os.path.join(inpath, '*.TXT')):    \n",
    "    try:\n",
    "      with open(filename, 'r', encoding='utf-8') as f:      \n",
    "        texts[genre][filename.split('/')[-1]] = ''.join(f.readlines())\n",
    "      print(filename)\n",
    "    except:      \n",
    "      with open(filename, 'r', encoding='latin-1') as f:      \n",
    "        texts[genre][filename.split('/')[-1]] = ''.join(f.readlines())\n",
    "      print(filename)"
   ]
  },
  {
   "cell_type": "code",
   "execution_count": 0,
   "metadata": {
    "colab": {
     "base_uri": "https://localhost:8080/",
     "height": 144
    },
    "colab_type": "code",
    "collapsed": false,
    "id": "GG0uvuCfsCEE",
    "outputId": "63724c72-f691-44ca-f11f-e348c640e412"
   },
   "outputs": [
    {
     "name": "stdout",
     "output_type": "stream",
     "text": [
      "ADVENTUR : 39\n",
      "DETECT : 23\n",
      "FANTAST : 75\n",
      "JOURNAL : 8\n",
      "TALES : 20\n",
      "-----\n",
      "Total : 165\n"
     ]
    }
   ],
   "source": [
    "tcount = 0\n",
    "for genre in texts:\n",
    "  print(genre + \" : \" + str(len(texts[genre])))\n",
    "  tcount += len(texts[genre])\n",
    "print('-----')\n",
    "print('Total :', str(tcount))"
   ]
  },
  {
   "cell_type": "code",
   "execution_count": 0,
   "metadata": {
    "colab": {
     "base_uri": "https://localhost:8080/",
     "height": 344
    },
    "colab_type": "code",
    "collapsed": false,
    "id": "-XR4EsUks6ET",
    "outputId": "7766301e-3dee-4e79-9591-bacf804ab8b5"
   },
   "outputs": [
    {
     "name": "stdout",
     "output_type": "stream",
     "text": [
      "Train texts:\n",
      "ADVENTUR : 31\n",
      "DETECT : 18\n",
      "FANTAST : 60\n",
      "JOURNAL : 6\n",
      "TALES : 16\n",
      "-----\n",
      "Total : 131\n",
      "\n",
      "\n",
      "Test texts:\n",
      "ADVENTUR : 8\n",
      "DETECT : 5\n",
      "FANTAST : 15\n",
      "JOURNAL : 2\n",
      "TALES : 4\n",
      "-----\n",
      "Total : 34\n"
     ]
    }
   ],
   "source": [
    "# Split texts to train and test subsets\n",
    "\n",
    "import random\n",
    "\n",
    "train_texts = {}\n",
    "test_texts = {}\n",
    "train_num = 0\n",
    "\n",
    "\n",
    "for genre in texts:\n",
    "  train_texts[genre] = {}\n",
    "  test_texts[genre] = {}\n",
    "  train_num = int(len(texts[genre])*0.8)\n",
    "  train_sample = random.sample(texts[genre].keys(), train_num)\n",
    "  for text in texts[genre]:\n",
    "    if text in train_sample:\n",
    "      train_texts[genre][text] = texts[genre][text]\n",
    "    else:\n",
    "      test_texts[genre][text] = texts[genre][text]\n",
    "\n",
    "      \n",
    "print('Train texts:')      \n",
    "tcount = 0\n",
    "for genre in train_texts:\n",
    "  print(genre + \" : \" + str(len(train_texts[genre])))\n",
    "  tcount += len(train_texts[genre])\n",
    "print('-----')\n",
    "print('Total :', str(tcount))  \n",
    "\n",
    "print('\\n')    \n",
    "\n",
    "print('Test texts:')      \n",
    "tcount = 0\n",
    "for genre in test_texts:\n",
    "  print(genre + \" : \" + str(len(test_texts[genre])))\n",
    "  tcount += len(test_texts[genre])\n",
    "print('-----')\n",
    "print('Total :', str(tcount)) "
   ]
  },
  {
   "cell_type": "code",
   "execution_count": 0,
   "metadata": {
    "colab": {},
    "colab_type": "code",
    "collapsed": true,
    "id": "sSBqFF59sNS8"
   },
   "outputs": [],
   "source": [
    "df_train = pd.DataFrame(columns=['text', 'genre'])\n",
    "df_test = pd.DataFrame(columns=['text', 'genre'])\n",
    "\n",
    "for genre in train_texts:\n",
    "  for text in train_texts[genre]:\n",
    "    df_train = df_train.append({'text': train_texts[genre][text], 'genre': genre}, ignore_index=True)\n",
    "\n",
    "for genre in test_texts:\n",
    "  for text in test_texts[genre]:\n",
    "    df_test = df_test.append({'text': test_texts[genre][text], 'genre': genre}, ignore_index=True)    "
   ]
  },
  {
   "cell_type": "code",
   "execution_count": 0,
   "metadata": {
    "colab": {
     "base_uri": "https://localhost:8080/",
     "height": 35
    },
    "colab_type": "code",
    "collapsed": false,
    "id": "Dn1eoRvRuDVf",
    "outputId": "e52a351c-53e7-4774-9ad3-25358302e6a2"
   },
   "outputs": [
    {
     "data": {
      "text/plain": [
       "(131, 2)"
      ]
     },
     "execution_count": 10,
     "metadata": {
      "tags": []
     },
     "output_type": "execute_result"
    }
   ],
   "source": [
    "df_train.shape"
   ]
  },
  {
   "cell_type": "code",
   "execution_count": 0,
   "metadata": {
    "colab": {
     "base_uri": "https://localhost:8080/",
     "height": 35
    },
    "colab_type": "code",
    "collapsed": false,
    "id": "m27HEa9QurC9",
    "outputId": "29455f1b-353e-4505-dfc5-605942becddd"
   },
   "outputs": [
    {
     "data": {
      "text/plain": [
       "(34, 2)"
      ]
     },
     "execution_count": 11,
     "metadata": {
      "tags": []
     },
     "output_type": "execute_result"
    }
   ],
   "source": [
    "df_test.shape"
   ]
  },
  {
   "cell_type": "code",
   "execution_count": 0,
   "metadata": {
    "colab": {
     "base_uri": "https://localhost:8080/",
     "height": 363
    },
    "colab_type": "code",
    "collapsed": false,
    "id": "1rBgbV4Eu-ZB",
    "outputId": "ba21b9f7-e5f7-4b58-93cb-b80cb9b8660a"
   },
   "outputs": [
    {
     "data": {
      "text/html": [
       "<div>\n",
       "<style scoped>\n",
       "    .dataframe tbody tr th:only-of-type {\n",
       "        vertical-align: middle;\n",
       "    }\n",
       "\n",
       "    .dataframe tbody tr th {\n",
       "        vertical-align: top;\n",
       "    }\n",
       "\n",
       "    .dataframe thead th {\n",
       "        text-align: right;\n",
       "    }\n",
       "</style>\n",
       "<table border=\"1\" class=\"dataframe\">\n",
       "  <thead>\n",
       "    <tr style=\"text-align: right;\">\n",
       "      <th></th>\n",
       "      <th>text</th>\n",
       "      <th>genre</th>\n",
       "    </tr>\n",
       "  </thead>\n",
       "  <tbody>\n",
       "    <tr>\n",
       "      <th>0</th>\n",
       "      <td>The Call of the Wild\\n     by Jack London...</td>\n",
       "      <td>ADVENTUR</td>\n",
       "    </tr>\n",
       "    <tr>\n",
       "      <th>1</th>\n",
       "      <td>\\nJUST DAVID, by ELEANOR H. PORTER\\n\\nDigitize...</td>\n",
       "      <td>ADVENTUR</td>\n",
       "    </tr>\n",
       "    <tr>\n",
       "      <th>2</th>\n",
       "      <td>\\n    The Internet Wiretap Electronic Edition ...</td>\n",
       "      <td>ADVENTUR</td>\n",
       "    </tr>\n",
       "    <tr>\n",
       "      <th>3</th>\n",
       "      <td>\\n                NARRATIVE OF THE LIFE OF FRE...</td>\n",
       "      <td>ADVENTUR</td>\n",
       "    </tr>\n",
       "    <tr>\n",
       "      <th>4</th>\n",
       "      <td>\\n                             Herman Melville...</td>\n",
       "      <td>ADVENTUR</td>\n",
       "    </tr>\n",
       "    <tr>\n",
       "      <th>5</th>\n",
       "      <td>\\n                                Jules VERNE\\...</td>\n",
       "      <td>ADVENTUR</td>\n",
       "    </tr>\n",
       "    <tr>\n",
       "      <th>6</th>\n",
       "      <td>\\n\\n\\n\\n\\n                        A CHRISTMAS ...</td>\n",
       "      <td>ADVENTUR</td>\n",
       "    </tr>\n",
       "    <tr>\n",
       "      <th>7</th>\n",
       "      <td>\\n\\n\\nDouglass, Frederick.  \"My Escape from Sl...</td>\n",
       "      <td>ADVENTUR</td>\n",
       "    </tr>\n",
       "    <tr>\n",
       "      <th>8</th>\n",
       "      <td>\\n\\n\\nAlexander's Bridge by Willa Cather\\n\\n\\n...</td>\n",
       "      <td>ADVENTUR</td>\n",
       "    </tr>\n",
       "    <tr>\n",
       "      <th>9</th>\n",
       "      <td>\\n         THE ADVENTURES OF HUCKLEBERRY FINN\\...</td>\n",
       "      <td>ADVENTUR</td>\n",
       "    </tr>\n",
       "  </tbody>\n",
       "</table>\n",
       "</div>"
      ],
      "text/plain": [
       "                                                text     genre\n",
       "0       The Call of the Wild\\n     by Jack London...  ADVENTUR\n",
       "1  \\nJUST DAVID, by ELEANOR H. PORTER\\n\\nDigitize...  ADVENTUR\n",
       "2  \\n    The Internet Wiretap Electronic Edition ...  ADVENTUR\n",
       "3  \\n                NARRATIVE OF THE LIFE OF FRE...  ADVENTUR\n",
       "4  \\n                             Herman Melville...  ADVENTUR\n",
       "5  \\n                                Jules VERNE\\...  ADVENTUR\n",
       "6  \\n\\n\\n\\n\\n                        A CHRISTMAS ...  ADVENTUR\n",
       "7  \\n\\n\\nDouglass, Frederick.  \"My Escape from Sl...  ADVENTUR\n",
       "8  \\n\\n\\nAlexander's Bridge by Willa Cather\\n\\n\\n...  ADVENTUR\n",
       "9  \\n         THE ADVENTURES OF HUCKLEBERRY FINN\\...  ADVENTUR"
      ]
     },
     "execution_count": 12,
     "metadata": {
      "tags": []
     },
     "output_type": "execute_result"
    }
   ],
   "source": [
    "df_train.head(10)"
   ]
  },
  {
   "cell_type": "markdown",
   "metadata": {
    "colab_type": "text",
    "id": "qWGgsk-yvenU"
   },
   "source": [
    "## Clean text"
   ]
  },
  {
   "cell_type": "code",
   "execution_count": 0,
   "metadata": {
    "colab": {
     "base_uri": "https://localhost:8080/",
     "height": 162
    },
    "colab_type": "code",
    "collapsed": false,
    "id": "a_qz_3atvPqK",
    "outputId": "1b1487c0-f7c6-4125-b582-3f229035fc89"
   },
   "outputs": [
    {
     "name": "stdout",
     "output_type": "stream",
     "text": [
      "[nltk_data] Downloading package wordnet to /root/nltk_data...\n",
      "[nltk_data]   Package wordnet is already up-to-date!\n",
      "[nltk_data] Downloading package averaged_perceptron_tagger to\n",
      "[nltk_data]     /root/nltk_data...\n",
      "[nltk_data]   Package averaged_perceptron_tagger is already up-to-\n",
      "[nltk_data]       date!\n",
      "[nltk_data] Downloading package stopwords to /root/nltk_data...\n",
      "[nltk_data]   Package stopwords is already up-to-date!\n"
     ]
    }
   ],
   "source": [
    "from bs4 import BeautifulSoup\n",
    "import nltk\n",
    "nltk.download('wordnet')\n",
    "nltk.download('averaged_perceptron_tagger')\n",
    "nltk.download('stopwords')\n",
    "from nltk.stem import WordNetLemmatizer\n",
    "import re\n",
    "from nltk.tag import pos_tag\n",
    "# from nltk.tokenize import word_tokenize\n",
    "from nltk.corpus import stopwords\n",
    "stopWords = set(stopwords.words('english'))\n",
    "\n",
    "def lemmatize_all(sentence):\n",
    "    wnl = WordNetLemmatizer()\n",
    "    for word, tag in pos_tag(sentence):\n",
    "        if tag.startswith(\"NN\"):\n",
    "            yield wnl.lemmatize(word, pos='n')\n",
    "        elif tag.startswith('VB'):\n",
    "            yield wnl.lemmatize(word, pos='v')\n",
    "        elif tag.startswith('JJ'):\n",
    "            yield wnl.lemmatize(word, pos='a')\n",
    "        else:\n",
    "            yield word\n",
    "  \n",
    "def clean_text_lemma(text, lemma=True): \n",
    "    ''' \n",
    "    Utility function to clean text by removing links, special characters \n",
    "    using simple regex statements. Also converting words to lemmas.\n",
    "    '''    \n",
    "    text = BeautifulSoup(text, 'html.parser').get_text()\n",
    "    \n",
    "    # Clean the text\n",
    "    text = re.sub(r\"can't\", \"cannot \", text)\n",
    "    text = re.sub(r\"what's\", \"what is \", text)\n",
    "    text = re.sub(r\"\\'s\", \" \", text)\n",
    "    text = re.sub(r\"\\'ve\", \" have \", text)\n",
    "    text = re.sub(r\"n't\", \" not \", text)\n",
    "    text = re.sub(r\"i'm\", \"i am \", text)\n",
    "    text = re.sub(r\"\\'re\", \" are \", text)\n",
    "    text = re.sub(r\"\\'d\", \" would \", text)\n",
    "    text = re.sub(r\"\\'ll\", \" will \", text)\n",
    "    \n",
    "    stripped_text = re.sub(\"(@[A-Za-z0-9_]+)|([^0-9A-Za-z \\t])|(\\w+:\\/\\/\\S+)|(RT\\s)\", \" \", text).lower().split()\n",
    "    lemma_text = lemmatize_all(stripped_text)\n",
    "    filtered_text = [word for word in lemma_text if word not in stopWords]    \n",
    "    join_text = ' '.join(filtered_text)\n",
    "    \n",
    "    global count\n",
    "    print('text {} cleaned'.format(count))\n",
    "    count += 1\n",
    "    \n",
    "    return join_text"
   ]
  },
  {
   "cell_type": "code",
   "execution_count": 0,
   "metadata": {
    "colab": {},
    "colab_type": "code",
    "collapsed": true,
    "id": "E5zvd0VIviw2"
   },
   "outputs": [],
   "source": [
    "count = 1\n",
    "df_train['clean_text'] = df_train['text'].apply(clean_text_lemma)"
   ]
  },
  {
   "cell_type": "code",
   "execution_count": 0,
   "metadata": {
    "colab": {
     "base_uri": "https://localhost:8080/",
     "height": 635
    },
    "colab_type": "code",
    "collapsed": false,
    "id": "_LTLSMdGEeGX",
    "outputId": "1176a09c-f81f-4551-ebb3-84790d118f9e"
   },
   "outputs": [
    {
     "name": "stdout",
     "output_type": "stream",
     "text": [
      "text 1 cleaned\n",
      "text 2 cleaned\n",
      "text 3 cleaned\n",
      "text 4 cleaned\n",
      "text 5 cleaned\n",
      "text 6 cleaned\n",
      "text 7 cleaned\n",
      "text 8 cleaned\n",
      "text 9 cleaned\n",
      "text 10 cleaned\n",
      "text 11 cleaned\n",
      "text 12 cleaned\n",
      "text 13 cleaned\n",
      "text 14 cleaned\n",
      "text 15 cleaned\n",
      "text 16 cleaned\n",
      "text 17 cleaned\n",
      "text 18 cleaned\n",
      "text 19 cleaned\n",
      "text 20 cleaned\n",
      "text 21 cleaned\n",
      "text 22 cleaned\n",
      "text 23 cleaned\n",
      "text 24 cleaned\n",
      "text 25 cleaned\n",
      "text 26 cleaned\n",
      "text 27 cleaned\n",
      "text 28 cleaned\n",
      "text 29 cleaned\n",
      "text 30 cleaned\n",
      "text 31 cleaned\n",
      "text 32 cleaned\n",
      "text 33 cleaned\n",
      "text 34 cleaned\n"
     ]
    }
   ],
   "source": [
    "count = 1\n",
    "df_test['clean_text'] = df_test['text'].apply(clean_text_lemma)"
   ]
  },
  {
   "cell_type": "code",
   "execution_count": 0,
   "metadata": {
    "colab": {},
    "colab_type": "code",
    "collapsed": true,
    "id": "pMw3tmhAxS_u"
   },
   "outputs": [],
   "source": [
    "# Save dataframe to file to use it again\n",
    "import pickle\n",
    "\n",
    "def save_obj(obj, name):\n",
    "    with open('obj/'+ name + '.pkl', 'wb') as f:\n",
    "        pickle.dump(obj, f, pickle.HIGHEST_PROTOCOL)\n",
    "\n",
    "def load_obj(name):\n",
    "    with open('obj/' + name + '.pkl', 'rb') as f:\n",
    "        return pickle.load(f)"
   ]
  },
  {
   "cell_type": "code",
   "execution_count": 0,
   "metadata": {
    "colab": {
     "base_uri": "https://localhost:8080/",
     "height": 53
    },
    "colab_type": "code",
    "collapsed": false,
    "id": "uReqfgAdHk7m",
    "outputId": "9a3a1043-14b0-4316-ba74-aba0de6078aa"
   },
   "outputs": [
    {
     "name": "stdout",
     "output_type": "stream",
     "text": [
      "131\n",
      "34\n"
     ]
    }
   ],
   "source": [
    "#save_obj(df_train, \"text_data3\")\n",
    "df_train = load_obj(\"text_data2\")\n",
    "\n",
    "#save_obj(df_test, \"text_test_data3\")\n",
    "df_test = load_obj(\"text_test_data2\")\n",
    "\n",
    "print(len(df_train))\n",
    "print(len(df_test))"
   ]
  },
  {
   "cell_type": "code",
   "execution_count": 0,
   "metadata": {
    "colab": {},
    "colab_type": "code",
    "collapsed": true,
    "id": "sudLWKwHITfT"
   },
   "outputs": [],
   "source": [
    "import gensim"
   ]
  },
  {
   "cell_type": "markdown",
   "metadata": {
    "colab_type": "text",
    "id": "93q9YgHl8xMU"
   },
   "source": [
    "## Convert words to vectors"
   ]
  },
  {
   "cell_type": "code",
   "execution_count": 0,
   "metadata": {
    "colab": {
     "base_uri": "https://localhost:8080/",
     "height": 35
    },
    "colab_type": "code",
    "collapsed": false,
    "id": "C3b0uv3QajyN",
    "outputId": "6ef60999-c7eb-460b-dcf3-336ce85f7c0e"
   },
   "outputs": [
    {
     "data": {
      "text/plain": [
       "165"
      ]
     },
     "execution_count": 9,
     "metadata": {
      "tags": []
     },
     "output_type": "execute_result"
    }
   ],
   "source": [
    "all_texts = np.concatenate((df_train['clean_text'].values, df_test['clean_text'].values))\n",
    "len(all_texts)"
   ]
  },
  {
   "cell_type": "code",
   "execution_count": 0,
   "metadata": {
    "colab": {},
    "colab_type": "code",
    "collapsed": true,
    "id": "9TDNK6OH0K-l"
   },
   "outputs": [],
   "source": [
    "word_list = []\n",
    "for value in all_texts:\n",
    "  word_list.append(value.split())"
   ]
  },
  {
   "cell_type": "code",
   "execution_count": 0,
   "metadata": {
    "colab": {},
    "colab_type": "code",
    "collapsed": true,
    "id": "e0-M3taQ1jPE"
   },
   "outputs": [],
   "source": [
    "\n",
    "# Load Google's pre-trained Word2Vec model.\n",
    "# model = gensim.models.KeyedVectors.load_word2vec_format('GoogleNews-vectors-negative300.bin.gz', binary=True)\n",
    "\n",
    "#model = gensim.models.Word2Vec(word_list, window=5, min_count=1, size=300)"
   ]
  },
  {
   "cell_type": "code",
   "execution_count": 0,
   "metadata": {
    "colab": {},
    "colab_type": "code",
    "collapsed": true,
    "id": "1_uuUAt52N6_"
   },
   "outputs": [],
   "source": [
    "#model.most_similar('work')"
   ]
  },
  {
   "cell_type": "code",
   "execution_count": 0,
   "metadata": {
    "colab": {},
    "colab_type": "code",
    "collapsed": true,
    "id": "fwc1ZMpa5ihA"
   },
   "outputs": [],
   "source": [
    "#print('Found %s word vectors of word2vec' % len(model.wv.vocab))"
   ]
  },
  {
   "cell_type": "code",
   "execution_count": 0,
   "metadata": {
    "colab": {
     "base_uri": "https://localhost:8080/",
     "height": 35
    },
    "colab_type": "code",
    "collapsed": false,
    "id": "VgO3Zm9b8XgZ",
    "outputId": "8c7a2203-5479-4b8c-b42a-42f329c3e913"
   },
   "outputs": [
    {
     "name": "stderr",
     "output_type": "stream",
     "text": [
      "Using TensorFlow backend.\n"
     ]
    }
   ],
   "source": [
    "import re\n",
    "import nltk\n",
    "import seaborn as sns\n",
    "from sklearn.preprocessing import LabelEncoder\n",
    "from gensim.models import KeyedVectors\n",
    "from sklearn.model_selection import train_test_split\n",
    "from keras.preprocessing.text import Tokenizer\n",
    "from keras.preprocessing import sequence\n",
    "from keras.preprocessing.sequence import pad_sequences\n",
    "from keras.models import Model\n",
    "from keras.layers import LSTM, SimpleRNN, Activation, Dense, Dropout, Input, Embedding, Flatten\n",
    "from keras.optimizers import RMSprop, Adam\n",
    "from keras.callbacks import EarlyStopping\n",
    "from keras.utils.np_utils import to_categorical\n",
    "from keras import backend as K\n",
    "from sklearn.metrics import confusion_matrix"
   ]
  },
  {
   "cell_type": "code",
   "execution_count": 0,
   "metadata": {
    "colab": {},
    "colab_type": "code",
    "collapsed": true,
    "id": "CfaN5KJ09Cyj"
   },
   "outputs": [],
   "source": [
    "df_train['text_len'] = df_train['clean_text'].apply(lambda x: len(x.split()))\n",
    "df_test['text_len'] = df_test['clean_text'].apply(lambda x: len(x.split()))"
   ]
  },
  {
   "cell_type": "code",
   "execution_count": 0,
   "metadata": {
    "colab": {},
    "colab_type": "code",
    "collapsed": true,
    "id": "qHsAwSfX4Ds4"
   },
   "outputs": [],
   "source": [
    "df_train['short_text'] = df_train['clean_text'].apply(lambda x: ' '.join(x.split()[0:1000]))\n",
    "df_test['short_text'] = df_train['clean_text'].apply(lambda x: ' '.join(x.split()[0:1000]))"
   ]
  },
  {
   "cell_type": "code",
   "execution_count": 0,
   "metadata": {
    "colab": {},
    "colab_type": "code",
    "collapsed": true,
    "id": "p2hgQWqV6OzP"
   },
   "outputs": [],
   "source": [
    "# split long texts into a number of short parts\n",
    "\n",
    "df_seq = pd.DataFrame(columns=['short_text', 'genre'])\n",
    "\n",
    "def make_seq(text, genre):\n",
    "  unit = 1000\n",
    "  seq = text.split()\n",
    "  k = len(seq) // unit\n",
    "  \n",
    "  global df_seq\n",
    "  \n",
    "  for i in range(0, k):\n",
    "    df_seq = df_seq.append({'short_text': ' '.join(seq[i*unit:(i+1)*unit]), 'genre': genre}, ignore_index=True)\n",
    "\n",
    "for genre in genres:\n",
    "  df_train[df_train['genre'] == genre]['clean_text'].apply(lambda x: make_seq(x, genre))"
   ]
  },
  {
   "cell_type": "code",
   "execution_count": 0,
   "metadata": {
    "colab": {},
    "colab_type": "code",
    "collapsed": true,
    "id": "DmPQuwLoUCnq"
   },
   "outputs": [],
   "source": [
    "# also split test texts\n",
    "\n",
    "df_seq_test = pd.DataFrame(columns=['short_text', 'genre'])\n",
    "\n",
    "def make_seq(text, genre):\n",
    "  unit = 1000\n",
    "  seq = text.split()\n",
    "  k = len(seq) // unit\n",
    "  \n",
    "  global df_seq_test\n",
    "  \n",
    "  for i in range(0, k):\n",
    "    df_seq_test = df_seq_test.append({'short_text': ' '.join(seq[i*unit:(i+1)*unit]), 'genre': genre}, ignore_index=True)\n",
    "\n",
    "for genre in genres:\n",
    "  df_test[df_test['genre'] == genre]['clean_text'].apply(lambda x: make_seq(x, genre))"
   ]
  },
  {
   "cell_type": "code",
   "execution_count": 0,
   "metadata": {
    "colab": {
     "base_uri": "https://localhost:8080/",
     "height": 126
    },
    "colab_type": "code",
    "collapsed": false,
    "id": "o7OmF-c_9JGz",
    "outputId": "d1ddde74-661e-49a5-9755-edc8cf270d90"
   },
   "outputs": [
    {
     "data": {
      "text/plain": [
       "FANTAST     1159\n",
       "ADVENTUR     943\n",
       "JOURNAL      935\n",
       "DETECT       694\n",
       "TALES        325\n",
       "Name: genre, dtype: int64"
      ]
     },
     "execution_count": 15,
     "metadata": {
      "tags": []
     },
     "output_type": "execute_result"
    }
   ],
   "source": [
    "df_seq['genre'].value_counts()"
   ]
  },
  {
   "cell_type": "code",
   "execution_count": 0,
   "metadata": {
    "colab": {
     "base_uri": "https://localhost:8080/",
     "height": 126
    },
    "colab_type": "code",
    "collapsed": false,
    "id": "wdXaDk22UloR",
    "outputId": "5db10b92-67a2-41bd-c1f8-b5d12faeb4d3"
   },
   "outputs": [
    {
     "data": {
      "text/plain": [
       "ADVENTUR    342\n",
       "FANTAST     284\n",
       "DETECT      195\n",
       "TALES       137\n",
       "JOURNAL      43\n",
       "Name: genre, dtype: int64"
      ]
     },
     "execution_count": 16,
     "metadata": {
      "tags": []
     },
     "output_type": "execute_result"
    }
   ],
   "source": [
    "df_seq_test['genre'].value_counts()"
   ]
  },
  {
   "cell_type": "code",
   "execution_count": 0,
   "metadata": {
    "colab": {
     "base_uri": "https://localhost:8080/",
     "height": 538
    },
    "colab_type": "code",
    "collapsed": false,
    "id": "j1GlJwJNG7IC",
    "outputId": "bfc3dab4-4026-4b5d-f8db-c7de2ce9d80f"
   },
   "outputs": [
    {
     "name": "stdout",
     "output_type": "stream",
     "text": [
      "(1925, 3)\n"
     ]
    },
    {
     "data": {
      "text/html": [
       "<div>\n",
       "<style scoped>\n",
       "    .dataframe tbody tr th:only-of-type {\n",
       "        vertical-align: middle;\n",
       "    }\n",
       "\n",
       "    .dataframe tbody tr th {\n",
       "        vertical-align: top;\n",
       "    }\n",
       "\n",
       "    .dataframe thead th {\n",
       "        text-align: right;\n",
       "    }\n",
       "</style>\n",
       "<table border=\"1\" class=\"dataframe\">\n",
       "  <thead>\n",
       "    <tr style=\"text-align: right;\">\n",
       "      <th></th>\n",
       "      <th>genre</th>\n",
       "      <th>short_text</th>\n",
       "      <th>text_len</th>\n",
       "    </tr>\n",
       "  </thead>\n",
       "  <tbody>\n",
       "    <tr>\n",
       "      <th>0</th>\n",
       "      <td>ADVENTUR</td>\n",
       "      <td>chronicle clovis saki h h munro obi h h munro ...</td>\n",
       "      <td>1000</td>\n",
       "    </tr>\n",
       "    <tr>\n",
       "      <th>1</th>\n",
       "      <td>ADVENTUR</td>\n",
       "      <td>joke thing really people know people meet thin...</td>\n",
       "      <td>1000</td>\n",
       "    </tr>\n",
       "    <tr>\n",
       "      <th>2</th>\n",
       "      <td>ADVENTUR</td>\n",
       "      <td>devonshire home major barfield plunge heavily ...</td>\n",
       "      <td>1000</td>\n",
       "    </tr>\n",
       "    <tr>\n",
       "      <th>3</th>\n",
       "      <td>ADVENTUR</td>\n",
       "      <td>memsahib shoot mother carry baby home jungle d...</td>\n",
       "      <td>1000</td>\n",
       "    </tr>\n",
       "    <tr>\n",
       "      <th>4</th>\n",
       "      <td>ADVENTUR</td>\n",
       "      <td>servant burst heel gardener still clutch sickl...</td>\n",
       "      <td>1000</td>\n",
       "    </tr>\n",
       "    <tr>\n",
       "      <th>5</th>\n",
       "      <td>ADVENTUR</td>\n",
       "      <td>find attractive prospect put ballot paper box ...</td>\n",
       "      <td>1000</td>\n",
       "    </tr>\n",
       "    <tr>\n",
       "      <th>6</th>\n",
       "      <td>ADVENTUR</td>\n",
       "      <td>stammer huddle one respected men country list ...</td>\n",
       "      <td>1000</td>\n",
       "    </tr>\n",
       "    <tr>\n",
       "      <th>7</th>\n",
       "      <td>ADVENTUR</td>\n",
       "      <td>isobel saying clever luckily bear repeat sure ...</td>\n",
       "      <td>1000</td>\n",
       "    </tr>\n",
       "    <tr>\n",
       "      <th>8</th>\n",
       "      <td>ADVENTUR</td>\n",
       "      <td>fault one discourage much history one family o...</td>\n",
       "      <td>1000</td>\n",
       "    </tr>\n",
       "    <tr>\n",
       "      <th>9</th>\n",
       "      <td>ADVENTUR</td>\n",
       "      <td>present guest dish bring pitch perfection almo...</td>\n",
       "      <td>1000</td>\n",
       "    </tr>\n",
       "    <tr>\n",
       "      <th>10</th>\n",
       "      <td>ADVENTUR</td>\n",
       "      <td>mop tow colour hair tie one temple pale blue r...</td>\n",
       "      <td>1000</td>\n",
       "    </tr>\n",
       "    <tr>\n",
       "      <th>11</th>\n",
       "      <td>ADVENTUR</td>\n",
       "      <td>year old notice day hotel wonder rather tow he...</td>\n",
       "      <td>1000</td>\n",
       "    </tr>\n",
       "    <tr>\n",
       "      <th>12</th>\n",
       "      <td>ADVENTUR</td>\n",
       "      <td>critical juncture place financial reputation b...</td>\n",
       "      <td>1000</td>\n",
       "    </tr>\n",
       "    <tr>\n",
       "      <th>13</th>\n",
       "      <td>ADVENTUR</td>\n",
       "      <td>favour sanctuary sea sylvia surprise however t...</td>\n",
       "      <td>1000</td>\n",
       "    </tr>\n",
       "    <tr>\n",
       "      <th>14</th>\n",
       "      <td>ADVENTUR</td>\n",
       "      <td>hive blush slightly embarrass displease attent...</td>\n",
       "      <td>1000</td>\n",
       "    </tr>\n",
       "  </tbody>\n",
       "</table>\n",
       "</div>"
      ],
      "text/plain": [
       "       genre                                         short_text  text_len\n",
       "0   ADVENTUR  chronicle clovis saki h h munro obi h h munro ...      1000\n",
       "1   ADVENTUR  joke thing really people know people meet thin...      1000\n",
       "2   ADVENTUR  devonshire home major barfield plunge heavily ...      1000\n",
       "3   ADVENTUR  memsahib shoot mother carry baby home jungle d...      1000\n",
       "4   ADVENTUR  servant burst heel gardener still clutch sickl...      1000\n",
       "5   ADVENTUR  find attractive prospect put ballot paper box ...      1000\n",
       "6   ADVENTUR  stammer huddle one respected men country list ...      1000\n",
       "7   ADVENTUR  isobel saying clever luckily bear repeat sure ...      1000\n",
       "8   ADVENTUR  fault one discourage much history one family o...      1000\n",
       "9   ADVENTUR  present guest dish bring pitch perfection almo...      1000\n",
       "10  ADVENTUR  mop tow colour hair tie one temple pale blue r...      1000\n",
       "11  ADVENTUR  year old notice day hotel wonder rather tow he...      1000\n",
       "12  ADVENTUR  critical juncture place financial reputation b...      1000\n",
       "13  ADVENTUR  favour sanctuary sea sylvia surprise however t...      1000\n",
       "14  ADVENTUR  hive blush slightly embarrass displease attent...      1000"
      ]
     },
     "execution_count": 17,
     "metadata": {
      "tags": []
     },
     "output_type": "execute_result"
    }
   ],
   "source": [
    "#make train dataset more balansed\n",
    "df_balanced = pd.DataFrame(columns=['genre', 'short_text'])\n",
    "df_balanced_test = pd.DataFrame(columns=['genre', 'short_text'])\n",
    "\n",
    "genres2 = ['ADVENTUR', 'DETECT', 'FANTAST', 'JOURNAL', 'TALES']\n",
    "\n",
    "for genre in genres2:\n",
    "  df_balanced = df_balanced.append(df_seq[df_seq['genre'] == genre][['short_text', 'genre']][0:400], ignore_index=True)\n",
    "  \n",
    "for genre in genres2:\n",
    "  df_balanced_test = df_balanced_test.append(df_seq_test[df_seq_test['genre'] == genre][['short_text', 'genre']][0:100], ignore_index=True)  \n",
    "\n",
    "df_balanced['text_len'] = df_balanced['short_text'].apply(lambda x: len(x.split()))  \n",
    "df_balanced_test['text_len'] = df_balanced_test['short_text'].apply(lambda x: len(x.split()))\n",
    "  \n",
    "print(df_balanced.shape)\n",
    "  \n",
    "df_balanced.head(15)"
   ]
  },
  {
   "cell_type": "code",
   "execution_count": 0,
   "metadata": {
    "colab": {
     "base_uri": "https://localhost:8080/",
     "height": 381
    },
    "colab_type": "code",
    "collapsed": false,
    "id": "c-7LLEZt9_46",
    "outputId": "d98eff21-1fd1-4fe5-9ed8-c5468253e16d"
   },
   "outputs": [
    {
     "name": "stdout",
     "output_type": "stream",
     "text": [
      "(443, 3)\n"
     ]
    },
    {
     "data": {
      "text/html": [
       "<div>\n",
       "<style scoped>\n",
       "    .dataframe tbody tr th:only-of-type {\n",
       "        vertical-align: middle;\n",
       "    }\n",
       "\n",
       "    .dataframe tbody tr th {\n",
       "        vertical-align: top;\n",
       "    }\n",
       "\n",
       "    .dataframe thead th {\n",
       "        text-align: right;\n",
       "    }\n",
       "</style>\n",
       "<table border=\"1\" class=\"dataframe\">\n",
       "  <thead>\n",
       "    <tr style=\"text-align: right;\">\n",
       "      <th></th>\n",
       "      <th>genre</th>\n",
       "      <th>short_text</th>\n",
       "      <th>text_len</th>\n",
       "    </tr>\n",
       "  </thead>\n",
       "  <tbody>\n",
       "    <tr>\n",
       "      <th>0</th>\n",
       "      <td>ADVENTUR</td>\n",
       "      <td>revise combat arm bbs p box 913 portland orego...</td>\n",
       "      <td>1000</td>\n",
       "    </tr>\n",
       "    <tr>\n",
       "      <th>1</th>\n",
       "      <td>ADVENTUR</td>\n",
       "      <td>upon several similar trap usually snow hidden ...</td>\n",
       "      <td>1000</td>\n",
       "    </tr>\n",
       "    <tr>\n",
       "      <th>2</th>\n",
       "      <td>ADVENTUR</td>\n",
       "      <td>timer sulphur creek right trail mate would dan...</td>\n",
       "      <td>1000</td>\n",
       "    </tr>\n",
       "    <tr>\n",
       "      <th>3</th>\n",
       "      <td>ADVENTUR</td>\n",
       "      <td>winged mercury wonder mercury felt felt skim e...</td>\n",
       "      <td>1000</td>\n",
       "    </tr>\n",
       "    <tr>\n",
       "      <th>4</th>\n",
       "      <td>ADVENTUR</td>\n",
       "      <td>herman melville moby dick 1 loomings call ishm...</td>\n",
       "      <td>1000</td>\n",
       "    </tr>\n",
       "    <tr>\n",
       "      <th>5</th>\n",
       "      <td>ADVENTUR</td>\n",
       "      <td>whale attend marvel thousand patagonian sight ...</td>\n",
       "      <td>1000</td>\n",
       "    </tr>\n",
       "    <tr>\n",
       "      <th>6</th>\n",
       "      <td>ADVENTUR</td>\n",
       "      <td>picture represent cape horner great hurricane ...</td>\n",
       "      <td>1000</td>\n",
       "    </tr>\n",
       "    <tr>\n",
       "      <th>7</th>\n",
       "      <td>ADVENTUR</td>\n",
       "      <td>space wall leave little interval back settle s...</td>\n",
       "      <td>1000</td>\n",
       "    </tr>\n",
       "    <tr>\n",
       "      <th>8</th>\n",
       "      <td>ADVENTUR</td>\n",
       "      <td>old chest middle room take new zealand head gh...</td>\n",
       "      <td>1000</td>\n",
       "    </tr>\n",
       "    <tr>\n",
       "      <th>9</th>\n",
       "      <td>ADVENTUR</td>\n",
       "      <td>still hug tightly though naught death part us ...</td>\n",
       "      <td>1000</td>\n",
       "    </tr>\n",
       "  </tbody>\n",
       "</table>\n",
       "</div>"
      ],
      "text/plain": [
       "      genre                                         short_text  text_len\n",
       "0  ADVENTUR  revise combat arm bbs p box 913 portland orego...      1000\n",
       "1  ADVENTUR  upon several similar trap usually snow hidden ...      1000\n",
       "2  ADVENTUR  timer sulphur creek right trail mate would dan...      1000\n",
       "3  ADVENTUR  winged mercury wonder mercury felt felt skim e...      1000\n",
       "4  ADVENTUR  herman melville moby dick 1 loomings call ishm...      1000\n",
       "5  ADVENTUR  whale attend marvel thousand patagonian sight ...      1000\n",
       "6  ADVENTUR  picture represent cape horner great hurricane ...      1000\n",
       "7  ADVENTUR  space wall leave little interval back settle s...      1000\n",
       "8  ADVENTUR  old chest middle room take new zealand head gh...      1000\n",
       "9  ADVENTUR  still hug tightly though naught death part us ...      1000"
      ]
     },
     "execution_count": 18,
     "metadata": {
      "tags": []
     },
     "output_type": "execute_result"
    }
   ],
   "source": [
    "print(df_balanced_test.shape)\n",
    "df_balanced_test.head(10)"
   ]
  },
  {
   "cell_type": "code",
   "execution_count": 0,
   "metadata": {
    "colab": {
     "base_uri": "https://localhost:8080/",
     "height": 35
    },
    "colab_type": "code",
    "collapsed": false,
    "id": "y2tM7e09-Chn",
    "outputId": "0130d08c-9f45-4323-ea34-33e244e1a68b"
   },
   "outputs": [
    {
     "data": {
      "text/plain": [
       "31448.045801526718"
      ]
     },
     "execution_count": 19,
     "metadata": {
      "tags": []
     },
     "output_type": "execute_result"
    }
   ],
   "source": [
    "df_train['text_len'].mean()"
   ]
  },
  {
   "cell_type": "code",
   "execution_count": 0,
   "metadata": {
    "colab": {},
    "colab_type": "code",
    "collapsed": true,
    "id": "d-IbBase-Wi-"
   },
   "outputs": [],
   "source": [
    "X = df_balanced.short_text\n",
    "X_test = df_balanced_test.short_text \n",
    "Y = df_balanced.genre\n",
    "Y_test = df_balanced_test.genre\n",
    "le = LabelEncoder()\n",
    "le = le.fit(Y)\n",
    "Y = le.transform(Y)\n",
    "Y_test = le.transform(Y_test)"
   ]
  },
  {
   "cell_type": "code",
   "execution_count": 0,
   "metadata": {
    "colab": {
     "base_uri": "https://localhost:8080/",
     "height": 53
    },
    "colab_type": "code",
    "collapsed": false,
    "id": "DzQa2W6N-mc6",
    "outputId": "14c29d8c-14dc-4218-d44e-4cfaede609c2"
   },
   "outputs": [
    {
     "name": "stdout",
     "output_type": "stream",
     "text": [
      "[1. 0. 0. 0. 0.]\n",
      "[1. 0. 0. 0. 0.]\n"
     ]
    }
   ],
   "source": [
    "Y_train = to_categorical(Y)\n",
    "Y_test = to_categorical(Y_test)\n",
    "print(Y_train[1])\n",
    "print(Y_test[2])"
   ]
  },
  {
   "cell_type": "code",
   "execution_count": 0,
   "metadata": {
    "colab": {
     "base_uri": "https://localhost:8080/",
     "height": 35
    },
    "colab_type": "code",
    "collapsed": false,
    "id": "SOvM7SEf-GWV",
    "outputId": "e30d8e3d-2c4d-4af2-b43f-1e1baa2d4e47"
   },
   "outputs": [
    {
     "name": "stdout",
     "output_type": "stream",
     "text": [
      "Found 97264 unique tokens\n"
     ]
    }
   ],
   "source": [
    "MAX_WORDS = 90000\n",
    "tok = Tokenizer(num_words=MAX_WORDS)\n",
    "tok.fit_on_texts(all_texts)\n",
    "sequences = tok.texts_to_sequences(X)\n",
    "sequences_test = tok.texts_to_sequences(X_test)\n",
    "word_index = tok.word_index\n",
    "print('Found %s unique tokens' % len(word_index))"
   ]
  },
  {
   "cell_type": "code",
   "execution_count": 0,
   "metadata": {
    "colab": {
     "base_uri": "https://localhost:8080/",
     "height": 162
    },
    "colab_type": "code",
    "collapsed": false,
    "id": "pi_UisZR_lyh",
    "outputId": "439ec350-ddba-4cff-812d-0762a8fbcec4"
   },
   "outputs": [
    {
     "name": "stdout",
     "output_type": "stream",
     "text": [
      "[[ 4174  4147 25242 ...   182     1   929]\n",
      " [ 1575    28   170 ...   205     4    28]\n",
      " [ 8890   146  1034 ...   480   300  3829]\n",
      " ...\n",
      " [    0    49    85 ...   701   328  2803]\n",
      " [    0     0    23 ...  1585   470 15397]\n",
      " [   85   778    38 ...  3320 20822  3028]]\n",
      "Shape of data tensor: (1925, 1000)\n"
     ]
    }
   ],
   "source": [
    "MAX_SEQUENCE_LENGTH = 1000\n",
    "sequences_matrix = pad_sequences(sequences, maxlen=MAX_SEQUENCE_LENGTH)\n",
    "print(sequences_matrix)\n",
    "print('Shape of data tensor:', sequences_matrix.shape)"
   ]
  },
  {
   "cell_type": "code",
   "execution_count": 0,
   "metadata": {
    "colab": {
     "base_uri": "https://localhost:8080/",
     "height": 35
    },
    "colab_type": "code",
    "collapsed": false,
    "id": "GhgERyEvwVRl",
    "outputId": "af9c8a9f-2fea-482c-9780-b703cfa0df3c"
   },
   "outputs": [
    {
     "name": "stdout",
     "output_type": "stream",
     "text": [
      "1000\n"
     ]
    }
   ],
   "source": [
    "print(len(sequences[2]))"
   ]
  },
  {
   "cell_type": "code",
   "execution_count": 0,
   "metadata": {
    "colab": {
     "base_uri": "https://localhost:8080/",
     "height": 162
    },
    "colab_type": "code",
    "collapsed": false,
    "id": "hg6T20uaG74X",
    "outputId": "ac03b3b9-58f9-4ced-fe5d-48d1a9c4bdcb"
   },
   "outputs": [
    {
     "name": "stdout",
     "output_type": "stream",
     "text": [
      "[[    0     0     0 ...    21   131     5]\n",
      " [    0    17   269 ...  1325   246    35]\n",
      " [10371 10329  3199 ...   293   921    11]\n",
      " ...\n",
      " [   42    48   484 ...    68   743  3321]\n",
      " [ 3996   183  1275 ... 13864  1189  2954]\n",
      " [    0   257   455 ...   768   537   407]]\n",
      "Shape of data tensor: (443, 1000)\n"
     ]
    }
   ],
   "source": [
    "sequences_matrix_test = pad_sequences(sequences_test, maxlen=MAX_SEQUENCE_LENGTH)\n",
    "print(sequences_matrix_test)\n",
    "print('Shape of data tensor:', sequences_matrix_test.shape)"
   ]
  },
  {
   "cell_type": "code",
   "execution_count": 0,
   "metadata": {
    "colab": {
     "base_uri": "https://localhost:8080/",
     "height": 35
    },
    "colab_type": "code",
    "collapsed": false,
    "id": "yGovdLIfAGWq",
    "outputId": "ef86f8e9-79ce-4d8c-c3a4-7e54dc36ae8f"
   },
   "outputs": [
    {
     "name": "stdout",
     "output_type": "stream",
     "text": [
      "90001\n"
     ]
    }
   ],
   "source": [
    "nb_words = min(MAX_WORDS, len(word_index))+1\n",
    "print(nb_words)"
   ]
  },
  {
   "cell_type": "code",
   "execution_count": 0,
   "metadata": {
    "colab": {},
    "colab_type": "code",
    "collapsed": true,
    "id": "jlAXsylDNv-H"
   },
   "outputs": [],
   "source": [
    "EMBEDDING_DIM = 200"
   ]
  },
  {
   "cell_type": "code",
   "execution_count": 0,
   "metadata": {
    "colab": {},
    "colab_type": "code",
    "collapsed": true,
    "id": "ZIPAbyyrANar"
   },
   "outputs": [],
   "source": [
    "'''\n",
    "embedding_matrix = np.zeros((nb_words, EMBEDDING_DIM))\n",
    "for word, i in word_index.items():\n",
    "    if word in model.wv.vocab:\n",
    "        embedding_matrix[i] = model.wv.word_vec(word)\n",
    "print('Null word embeddings: %d' % np.sum(np.sum(embedding_matrix, axis=1) == 0))\n",
    "'''"
   ]
  },
  {
   "cell_type": "markdown",
   "metadata": {
    "colab_type": "text",
    "id": "S_5kxTzsBN2Q"
   },
   "source": [
    "## Using model with LSTM layer"
   ]
  },
  {
   "cell_type": "code",
   "execution_count": 0,
   "metadata": {
    "colab": {
     "base_uri": "https://localhost:8080/",
     "height": 35
    },
    "colab_type": "code",
    "collapsed": false,
    "id": "97cTOI7pUrzp",
    "outputId": "b331fcc2-9f00-445d-ec36-4168cd03a506"
   },
   "outputs": [
    {
     "data": {
      "text/plain": [
       "array([1., 0., 0., 0., 0.], dtype=float32)"
      ]
     },
     "execution_count": 32,
     "metadata": {
      "tags": []
     },
     "output_type": "execute_result"
    }
   ],
   "source": [
    "#shuffle data\n",
    "\n",
    "indices = np.arange(len(sequences))\n",
    "np.random.shuffle(indices)\n",
    "sequences_matrix = sequences_matrix[indices]\n",
    "Y_train = Y_train[indices]\n",
    "Y_train[1]"
   ]
  },
  {
   "cell_type": "code",
   "execution_count": 0,
   "metadata": {
    "colab": {
     "base_uri": "https://localhost:8080/",
     "height": 362
    },
    "colab_type": "code",
    "collapsed": false,
    "id": "OBomrBJ45D-O",
    "outputId": "c0a0a90b-2b3f-4014-b360-fb4525709a21"
   },
   "outputs": [
    {
     "name": "stdout",
     "output_type": "stream",
     "text": [
      "_________________________________________________________________\n",
      "Layer (type)                 Output Shape              Param #   \n",
      "=================================================================\n",
      "input_16 (InputLayer)        (None, 1000)              0         \n",
      "_________________________________________________________________\n",
      "embedding_16 (Embedding)     (None, 1000, 200)         18000200  \n",
      "_________________________________________________________________\n",
      "lstm_16 (LSTM)               (None, 64)                67840     \n",
      "_________________________________________________________________\n",
      "dense_26 (Dense)             (None, 128)               8320      \n",
      "_________________________________________________________________\n",
      "dropout_12 (Dropout)         (None, 128)               0         \n",
      "_________________________________________________________________\n",
      "dense_27 (Dense)             (None, 5)                 645       \n",
      "=================================================================\n",
      "Total params: 18,077,005\n",
      "Trainable params: 18,077,005\n",
      "Non-trainable params: 0\n",
      "_________________________________________________________________\n"
     ]
    }
   ],
   "source": [
    "inputs = Input(shape=(MAX_SEQUENCE_LENGTH, ))\n",
    "\n",
    "# embedding_layer = Embedding(nb_words, EMBEDDING_DIM, weights=[embedding_matrix],\n",
    "#                       input_length=MAX_SEQUENCE_LENGTH, trainable=False)(inputs)\n",
    "\n",
    "embedding_layer = Embedding(nb_words,\n",
    "                            EMBEDDING_DIM,\n",
    "                            input_length=MAX_SEQUENCE_LENGTH)(inputs)\n",
    "\n",
    "x = LSTM(64)(embedding_layer)\n",
    "x = Dense(128, activation='relu')(x)\n",
    "x = Dropout(0.5)(x)\n",
    "predictions = Dense(5, activation='softmax')(x)\n",
    "model_lstm = Model(inputs=[inputs], outputs=predictions)\n",
    "model_lstm.compile(optimizer='adam',\n",
    "              loss='categorical_crossentropy',\n",
    "              metrics=['acc'])\n",
    "\n",
    "model_lstm.summary()"
   ]
  },
  {
   "cell_type": "code",
   "execution_count": 0,
   "metadata": {
    "colab": {
     "base_uri": "https://localhost:8080/",
     "height": 399
    },
    "colab_type": "code",
    "collapsed": false,
    "id": "vDMRAQSkb6P9",
    "outputId": "010d55f3-8f72-4b58-c7ec-1793dee5ddd6"
   },
   "outputs": [
    {
     "name": "stdout",
     "output_type": "stream",
     "text": [
      "Train on 1540 samples, validate on 385 samples\n",
      "Epoch 1/10\n",
      "1540/1540 [==============================] - 40s 26ms/step - loss: 1.5820 - acc: 0.2786 - val_loss: 1.5099 - val_acc: 0.4078\n",
      "Epoch 2/10\n",
      "1540/1540 [==============================] - 38s 25ms/step - loss: 1.2721 - acc: 0.4422 - val_loss: 1.2217 - val_acc: 0.3844\n",
      "Epoch 3/10\n",
      "1540/1540 [==============================] - 37s 24ms/step - loss: 1.0678 - acc: 0.5279 - val_loss: 1.0929 - val_acc: 0.5039\n",
      "Epoch 4/10\n",
      "1540/1540 [==============================] - 36s 24ms/step - loss: 0.9421 - acc: 0.6701 - val_loss: 1.2282 - val_acc: 0.5325\n",
      "Epoch 5/10\n",
      "1540/1540 [==============================] - 36s 23ms/step - loss: 0.6725 - acc: 0.8558 - val_loss: 0.8622 - val_acc: 0.6286\n",
      "Epoch 6/10\n",
      "1540/1540 [==============================] - 36s 23ms/step - loss: 0.4503 - acc: 0.8987 - val_loss: 0.8687 - val_acc: 0.6468\n",
      "Epoch 7/10\n",
      "1540/1540 [==============================] - 36s 23ms/step - loss: 0.2735 - acc: 0.9338 - val_loss: 0.8273 - val_acc: 0.6701\n",
      "Epoch 8/10\n",
      "1540/1540 [==============================] - 37s 24ms/step - loss: 0.1687 - acc: 0.9708 - val_loss: 0.7850 - val_acc: 0.6909\n",
      "Epoch 9/10\n",
      "1540/1540 [==============================] - 39s 25ms/step - loss: 0.1044 - acc: 0.9779 - val_loss: 0.7265 - val_acc: 0.7221\n",
      "Epoch 10/10\n",
      "1540/1540 [==============================] - 38s 25ms/step - loss: 0.0409 - acc: 0.9935 - val_loss: 0.7657 - val_acc: 0.7740\n"
     ]
    }
   ],
   "source": [
    "hist = model_lstm.fit([sequences_matrix], Y_train, batch_size=100, epochs=10, validation_split=0.2)"
   ]
  },
  {
   "cell_type": "code",
   "execution_count": 0,
   "metadata": {
    "colab": {},
    "colab_type": "code",
    "collapsed": true,
    "id": "BCGAzK53CeFO"
   },
   "outputs": [],
   "source": [
    "#model_lstm.save('model_lstm87.h5')"
   ]
  },
  {
   "cell_type": "code",
   "execution_count": 0,
   "metadata": {
    "colab": {
     "base_uri": "https://localhost:8080/",
     "height": 362
    },
    "colab_type": "code",
    "collapsed": false,
    "id": "Gqqjqohjj31t",
    "outputId": "1bac05d5-c8c2-4436-d532-19391e6bf1f2"
   },
   "outputs": [
    {
     "name": "stdout",
     "output_type": "stream",
     "text": [
      "_________________________________________________________________\n",
      "Layer (type)                 Output Shape              Param #   \n",
      "=================================================================\n",
      "input_56 (InputLayer)        (None, 1000)              0         \n",
      "_________________________________________________________________\n",
      "embedding_55 (Embedding)     (None, 1000, 200)         18000200  \n",
      "_________________________________________________________________\n",
      "lstm_35 (LSTM)               (None, 64)                67840     \n",
      "_________________________________________________________________\n",
      "dense_95 (Dense)             (None, 128)               8320      \n",
      "_________________________________________________________________\n",
      "dropout_41 (Dropout)         (None, 128)               0         \n",
      "_________________________________________________________________\n",
      "dense_96 (Dense)             (None, 5)                 645       \n",
      "=================================================================\n",
      "Total params: 18,077,005\n",
      "Trainable params: 18,077,005\n",
      "Non-trainable params: 0\n",
      "_________________________________________________________________\n"
     ]
    }
   ],
   "source": [
    "# load saved model with best perfomance\n",
    "\n",
    "from keras.models import load_model\n",
    "\n",
    "\n",
    "# returns a compiled model\n",
    "\n",
    "model_best = load_model('model_lstm87.h5')\n",
    "model_best.summary()"
   ]
  },
  {
   "cell_type": "code",
   "execution_count": 0,
   "metadata": {
    "colab": {},
    "colab_type": "code",
    "collapsed": true,
    "id": "p7mm2Vbckz2l"
   },
   "outputs": [],
   "source": [
    "model_lstm = model_best"
   ]
  },
  {
   "cell_type": "markdown",
   "metadata": {
    "colab_type": "text",
    "id": "beCMADz5O1Id"
   },
   "source": [
    "## Evaluate model"
   ]
  },
  {
   "cell_type": "code",
   "execution_count": 0,
   "metadata": {
    "colab": {},
    "colab_type": "code",
    "collapsed": true,
    "id": "Nn_ad7-r7sfH"
   },
   "outputs": [],
   "source": [
    "# convert model predictions to genre labels\n",
    "def to_labels(y_list):\n",
    "  Y_labels = [np.argmax(y, axis=None, out=None) for y in y_list]\n",
    "  Y_labels = le.inverse_transform(Y_labels)\n",
    "  return Y_labels"
   ]
  },
  {
   "cell_type": "code",
   "execution_count": 0,
   "metadata": {
    "colab": {},
    "colab_type": "code",
    "collapsed": true,
    "id": "j6jJKCZ4EHYa"
   },
   "outputs": [],
   "source": [
    "Y_predicted = model_lstm.predict(sequences_matrix_test)"
   ]
  },
  {
   "cell_type": "code",
   "execution_count": 0,
   "metadata": {
    "colab": {
     "base_uri": "https://localhost:8080/",
     "height": 399
    },
    "colab_type": "code",
    "collapsed": false,
    "id": "dI6vqGrXFXsN",
    "outputId": "b36e64d1-eb77-4c00-8b6c-baa33047fa2d"
   },
   "outputs": [
    {
     "data": {
      "text/plain": [
       "array(['ADVENTUR', 'ADVENTUR', 'ADVENTUR', 'ADVENTUR', 'ADVENTUR',\n",
       "       'ADVENTUR', 'ADVENTUR', 'ADVENTUR', 'ADVENTUR', 'ADVENTUR',\n",
       "       'ADVENTUR', 'ADVENTUR', 'ADVENTUR', 'ADVENTUR', 'ADVENTUR',\n",
       "       'ADVENTUR', 'ADVENTUR', 'ADVENTUR', 'ADVENTUR', 'ADVENTUR',\n",
       "       'ADVENTUR', 'ADVENTUR', 'ADVENTUR', 'ADVENTUR', 'ADVENTUR',\n",
       "       'ADVENTUR', 'ADVENTUR', 'ADVENTUR', 'ADVENTUR', 'ADVENTUR',\n",
       "       'ADVENTUR', 'ADVENTUR', 'ADVENTUR', 'ADVENTUR', 'ADVENTUR',\n",
       "       'ADVENTUR', 'FANTAST', 'ADVENTUR', 'ADVENTUR', 'ADVENTUR',\n",
       "       'ADVENTUR', 'ADVENTUR', 'FANTAST', 'FANTAST', 'ADVENTUR',\n",
       "       'ADVENTUR', 'ADVENTUR', 'ADVENTUR', 'FANTAST', 'FANTAST',\n",
       "       'ADVENTUR', 'ADVENTUR', 'ADVENTUR', 'ADVENTUR', 'ADVENTUR',\n",
       "       'ADVENTUR', 'ADVENTUR', 'ADVENTUR', 'ADVENTUR', 'ADVENTUR',\n",
       "       'ADVENTUR', 'ADVENTUR', 'ADVENTUR', 'FANTAST', 'ADVENTUR',\n",
       "       'DETECT', 'ADVENTUR', 'ADVENTUR', 'ADVENTUR', 'ADVENTUR',\n",
       "       'ADVENTUR', 'ADVENTUR', 'ADVENTUR', 'ADVENTUR', 'ADVENTUR',\n",
       "       'ADVENTUR', 'ADVENTUR', 'ADVENTUR', 'FANTAST', 'ADVENTUR',\n",
       "       'ADVENTUR', 'ADVENTUR', 'ADVENTUR', 'ADVENTUR', 'ADVENTUR',\n",
       "       'ADVENTUR', 'ADVENTUR', 'ADVENTUR', 'ADVENTUR', 'ADVENTUR',\n",
       "       'ADVENTUR', 'ADVENTUR', 'ADVENTUR', 'ADVENTUR', 'ADVENTUR',\n",
       "       'ADVENTUR', 'ADVENTUR', 'ADVENTUR', 'ADVENTUR', 'ADVENTUR'],\n",
       "      dtype=object)"
      ]
     },
     "execution_count": 167,
     "metadata": {
      "tags": []
     },
     "output_type": "execute_result"
    }
   ],
   "source": [
    "Y_plabels = to_labels(Y_predicted)\n",
    "Y_plabels[0:100]"
   ]
  },
  {
   "cell_type": "code",
   "execution_count": 0,
   "metadata": {
    "colab": {},
    "colab_type": "code",
    "collapsed": true,
    "id": "fX0WVYu56QyX"
   },
   "outputs": [],
   "source": [
    "Y_labels = df_balanced_test.genre.values"
   ]
  },
  {
   "cell_type": "code",
   "execution_count": 0,
   "metadata": {
    "colab": {
     "base_uri": "https://localhost:8080/",
     "height": 253
    },
    "colab_type": "code",
    "collapsed": false,
    "id": "udi2BmnRGd4U",
    "outputId": "d0631bc2-05b5-4741-8b70-68caae691692"
   },
   "outputs": [
    {
     "name": "stdout",
     "output_type": "stream",
     "text": [
      "Classification Report:\n",
      "              precision    recall  f1-score   support\n",
      "\n",
      "    ADVENTUR       0.42      0.92      0.57       100\n",
      "      DETECT       0.88      0.75      0.81       100\n",
      "     FANTAST       0.87      0.48      0.62       100\n",
      "     JOURNAL       0.76      0.95      0.85        43\n",
      "       TALES       0.97      0.28      0.43       100\n",
      "\n",
      "   micro avg       0.64      0.64      0.64       443\n",
      "   macro avg       0.78      0.68      0.66       443\n",
      "weighted avg       0.78      0.64      0.63       443\n",
      "\n"
     ]
    }
   ],
   "source": [
    "from sklearn.metrics import f1_score\n",
    "from sklearn.metrics import classification_report, confusion_matrix\n",
    "\n",
    "print('Classification Report:')\n",
    "print(classification_report(Y_labels, Y_plabels))"
   ]
  },
  {
   "cell_type": "code",
   "execution_count": 0,
   "metadata": {
    "colab": {
     "base_uri": "https://localhost:8080/",
     "height": 90
    },
    "colab_type": "code",
    "collapsed": false,
    "id": "KYNfz-iPGnqj",
    "outputId": "236d0cbf-1ef5-4c5c-81c9-f677ceae9c43"
   },
   "outputs": [
    {
     "name": "stdout",
     "output_type": "stream",
     "text": [
      "443/443 [==============================] - 11s 25ms/step\n",
      "Test set\n",
      "  Loss: 2.459\n",
      "  Accuracy: 0.695\n"
     ]
    }
   ],
   "source": [
    "## Evaluate model\n",
    "\n",
    "accr = model_lstm.evaluate([sequences_matrix_test], Y_test)\n",
    "print('Test set\\n  Loss: {:0.3f}\\n  Accuracy: {:0.3f}'.format(accr[0],accr[1]))"
   ]
  },
  {
   "cell_type": "code",
   "execution_count": 0,
   "metadata": {
    "colab": {},
    "colab_type": "code",
    "collapsed": true,
    "id": "4KGgic1QTELv"
   },
   "outputs": [],
   "source": [
    "import itertools\n",
    "%matplotlib inline\n",
    "from matplotlib import pyplot as plt\n",
    "\t\n",
    "def plot_confusion_matrix(cm, classes,\n",
    "                          normalize=False,\n",
    "                          title='Confusion matrix',\n",
    "                          cmap=plt.cm.Blues):\n",
    "    \"\"\"\n",
    "    This function prints and plots the confusion matrix.\n",
    "    Normalization can be applied by setting `normalize=True`.\n",
    "    \"\"\"\n",
    "    if normalize:\n",
    "        cm = cm.astype('float') / cm.sum(axis=1)[:, np.newaxis]\n",
    "        print(\"Normalized confusion matrix\")\n",
    "    else:\n",
    "        print('Confusion matrix, without normalization')    \n",
    "\n",
    "    plt.imshow(cm, interpolation='nearest', cmap=cmap)\n",
    "    plt.title(title)\n",
    "    plt.colorbar()\n",
    "    tick_marks = np.arange(len(classes))\n",
    "    plt.xticks(tick_marks, classes, rotation=45)\n",
    "    plt.yticks(tick_marks, classes)\n",
    "\n",
    "    fmt = '.2f' if normalize else 'd'\n",
    "    thresh = cm.max() / 2.\n",
    "    for i, j in itertools.product(range(cm.shape[0]), range(cm.shape[1])):\n",
    "        plt.text(j, i, format(cm[i, j], fmt),\n",
    "                 horizontalalignment=\"center\",\n",
    "                 color=\"white\" if cm[i, j] > thresh else \"black\")\n",
    "\n",
    "    plt.tight_layout()\n",
    "    plt.ylabel('True label')\n",
    "    plt.xlabel('Predicted label')"
   ]
  },
  {
   "cell_type": "code",
   "execution_count": 0,
   "metadata": {
    "colab": {
     "base_uri": "https://localhost:8080/",
     "height": 108
    },
    "colab_type": "code",
    "collapsed": false,
    "id": "NdFECPKtTNlK",
    "outputId": "93ee2c2e-6118-4f0b-bfd5-8795163275d5"
   },
   "outputs": [
    {
     "name": "stdout",
     "output_type": "stream",
     "text": [
      "[[64  7 24  0  5]\n",
      " [ 4 86  1  0  9]\n",
      " [13 14 56  3 14]\n",
      " [ 0  1 10 32  0]\n",
      " [28  2  0  0 70]]\n"
     ]
    }
   ],
   "source": [
    "cnf_matrix = confusion_matrix(Y_labels, Y_plabels, labels=genres2)\n",
    "print(cnf_matrix)"
   ]
  },
  {
   "cell_type": "code",
   "execution_count": 0,
   "metadata": {
    "colab": {
     "base_uri": "https://localhost:8080/",
     "height": 329
    },
    "colab_type": "code",
    "collapsed": false,
    "id": "dBD_mRCWBn7Q",
    "outputId": "b3273ee5-a7f0-4455-dd2c-e0a0d56bb10f"
   },
   "outputs": [
    {
     "name": "stdout",
     "output_type": "stream",
     "text": [
      "Confusion matrix, without normalization\n"
     ]
    },
    {
     "data": {
      "image/png": "[encoded data removed]",
      "text/plain": [
       "<Figure size 432x288 with 2 Axes>"
      ]
     },
     "metadata": {
      "tags": []
     },
     "output_type": "display_data"
    }
   ],
   "source": [
    "# Plot non-normalized confusion matrix\n",
    "plt.figure()\n",
    "plot_confusion_matrix(cnf_matrix, classes=genres, normalize=False,  title='Confusion matrix')"
   ]
  },
  {
   "cell_type": "code",
   "execution_count": 0,
   "metadata": {
    "colab": {
     "base_uri": "https://localhost:8080/",
     "height": 571
    },
    "colab_type": "code",
    "collapsed": false,
    "id": "JmZNl_UtH5v8",
    "outputId": "df83d67e-10dc-4846-aac5-85bea137f1af"
   },
   "outputs": [
    {
     "data": {
      "image/png": "[encoded data removed]",
      "text/plain": [
       "<Figure size 432x288 with 1 Axes>"
      ]
     },
     "metadata": {
      "tags": []
     },
     "output_type": "display_data"
    },
    {
     "data": {
      "image/png": "[encoded data removed]",
      "text/plain": [
       "<Figure size 432x288 with 1 Axes>"
      ]
     },
     "metadata": {
      "tags": []
     },
     "output_type": "display_data"
    }
   ],
   "source": [
    "# summarize history for accuracy\n",
    "plt.plot(hist.history['acc'])\n",
    "plt.plot(hist.history['val_acc'])\n",
    "plt.title('model accuracy')\n",
    "plt.ylabel('accuracy')\n",
    "plt.xlabel('epoch')\n",
    "plt.legend(['train', 'test'], loc='upper left')\n",
    "plt.show()\n",
    "\n",
    "# summarize history for loss\n",
    "plt.plot(hist.history['loss'])\n",
    "plt.plot(hist.history['val_loss'])\n",
    "plt.title('model loss')\n",
    "plt.ylabel('loss')\n",
    "plt.xlabel('epoch')\n",
    "plt.legend(['train', 'test'], loc='upper left')\n",
    "plt.show()"
   ]
  },
  {
   "cell_type": "markdown",
   "metadata": {
    "colab_type": "text",
    "id": "ftqwMJKOSP6N"
   },
   "source": [
    "## Genre Prediction Function"
   ]
  },
  {
   "cell_type": "code",
   "execution_count": 0,
   "metadata": {
    "colab": {},
    "colab_type": "code",
    "collapsed": true,
    "id": "iZ3cvYTliZwO"
   },
   "outputs": [],
   "source": [
    "def neuro_predict(clean_text, model=model_lstm, seq_len=1000):\n",
    "  '''\n",
    "  Predicts text genre with help of LSTM Network\n",
    "  Limitation: text should be at least 1000 words long\n",
    "  '''  \n",
    "  seq = clean_text.split()\n",
    "  \n",
    "  if len(seq) < 1000:\n",
    "    for i in range(1000 - len(seq)):\n",
    "      seq.append('nullword')\n",
    "  \n",
    "  parts = []\n",
    "  unit = seq_len  \n",
    "  k = len(seq) // unit\n",
    "  \n",
    "  for i in range(0, k):\n",
    "    parts.append(' '.join(seq[i*unit:(i+1)*unit]))\n",
    "  \n",
    "  sequences = tok.texts_to_sequences(parts)\n",
    "  sequences_matrix = pad_sequences(sequences, maxlen=seq_len)\n",
    "  \n",
    "  prediction = model.predict(sequences_matrix)\n",
    "  labels = to_labels(prediction)\n",
    "  \n",
    "  rating = {}\n",
    "  for label in labels:\n",
    "    if label not in rating:\n",
    "      rating[label] = 1      \n",
    "    else:\n",
    "      rating[label] += 1\n",
    "\n",
    "  sorted_rating = sorted(rating.items(), key=lambda x: x[1], reverse=True)\n",
    "  \n",
    "  return sorted_rating[0][0]"
   ]
  },
  {
   "cell_type": "code",
   "execution_count": 0,
   "metadata": {
    "colab": {
     "base_uri": "https://localhost:8080/",
     "height": 35
    },
    "colab_type": "code",
    "collapsed": false,
    "id": "IhWP_fHAUuE6",
    "outputId": "967e78ff-f74d-4156-e91e-b9c01168782c"
   },
   "outputs": [
    {
     "data": {
      "text/plain": [
       "'ADVENTUR'"
      ]
     },
     "execution_count": 117,
     "metadata": {
      "tags": []
     },
     "output_type": "execute_result"
    }
   ],
   "source": [
    "m = neuro_predict(df_test['clean_text'][4], model_lstm, 1000)\n",
    "m"
   ]
  },
  {
   "cell_type": "code",
   "execution_count": 0,
   "metadata": {
    "colab": {
     "base_uri": "https://localhost:8080/",
     "height": 35
    },
    "colab_type": "code",
    "collapsed": false,
    "id": "HWOYGO7qeI04",
    "outputId": "d0bee76a-7c16-42cf-dc70-271061e47063"
   },
   "outputs": [
    {
     "data": {
      "text/plain": [
       "'FANTAST'"
      ]
     },
     "execution_count": 119,
     "metadata": {
      "tags": []
     },
     "output_type": "execute_result"
    }
   ],
   "source": [
    "neuro_predict('Kill Bill', model_lstm, 1000)"
   ]
  },
  {
   "cell_type": "code",
   "execution_count": 0,
   "metadata": {
    "colab": {},
    "colab_type": "code",
    "collapsed": true,
    "id": "8218YOrBUxN5"
   },
   "outputs": [],
   "source": [
    "df_test['prediction'] = df_test['clean_text'].apply(lambda x: neuro_predict(x, model_lstm, 1000))"
   ]
  },
  {
   "cell_type": "code",
   "execution_count": 0,
   "metadata": {
    "colab": {
     "base_uri": "https://localhost:8080/",
     "height": 253
    },
    "colab_type": "code",
    "collapsed": false,
    "id": "zz6lvTWBa4Kc",
    "outputId": "c0bbd93c-c25e-4d7d-a505-1088f962618e"
   },
   "outputs": [
    {
     "name": "stdout",
     "output_type": "stream",
     "text": [
      "Classification Report for Genre Prediction Function:\n",
      "              precision    recall  f1-score   support\n",
      "\n",
      "    ADVENTUR       0.62      1.00      0.76         8\n",
      "      DETECT       0.83      1.00      0.91         5\n",
      "     FANTAST       0.89      0.53      0.67        15\n",
      "     JOURNAL       0.67      1.00      0.80         2\n",
      "       TALES       0.67      0.50      0.57         4\n",
      "\n",
      "   micro avg       0.74      0.74      0.74        34\n",
      "   macro avg       0.73      0.81      0.74        34\n",
      "weighted avg       0.78      0.74      0.72        34\n",
      "\n"
     ]
    }
   ],
   "source": [
    "print('Classification Report for Genre Prediction Function:')\n",
    "print(classification_report(df_test['genre'], df_test['prediction']))"
   ]
  },
  {
   "cell_type": "code",
   "execution_count": 0,
   "metadata": {
    "colab": {},
    "colab_type": "code",
    "collapsed": true,
    "id": "P6TFiD1me-Jn"
   },
   "outputs": [],
   "source": []
  },
  {
   "cell_type": "markdown",
   "metadata": {
    "colab_type": "text",
    "id": "PbUY8-q799Rq"
   },
   "source": [
    "## Using BoW Model and Dense Neural Network"
   ]
  },
  {
   "cell_type": "code",
   "execution_count": 0,
   "metadata": {
    "colab": {
     "base_uri": "https://localhost:8080/",
     "height": 126
    },
    "colab_type": "code",
    "collapsed": false,
    "id": "no3QhUg0fq9n",
    "outputId": "03b2fc75-ec8c-44a7-dae2-821e4acff84c"
   },
   "outputs": [
    {
     "data": {
      "text/plain": [
       "CountVectorizer(analyzer='word', binary=False, decode_error='strict',\n",
       "        dtype=<class 'numpy.int64'>, encoding='utf-8', input='content',\n",
       "        lowercase=True, max_df=1.0, max_features=None, min_df=1,\n",
       "        ngram_range=(1, 1), preprocessor=None, stop_words=None,\n",
       "        strip_accents=None, token_pattern='(?u)\\\\b\\\\w\\\\w+\\\\b',\n",
       "        tokenizer=None, vocabulary=None)"
      ]
     },
     "execution_count": 14,
     "metadata": {
      "tags": []
     },
     "output_type": "execute_result"
    }
   ],
   "source": [
    "from sklearn.feature_extraction.text import CountVectorizer\n",
    "\n",
    "vectorizer = CountVectorizer()\n",
    "vectorizer.fit(all_texts)"
   ]
  },
  {
   "cell_type": "code",
   "execution_count": 0,
   "metadata": {
    "colab": {
     "base_uri": "https://localhost:8080/",
     "height": 35
    },
    "colab_type": "code",
    "collapsed": false,
    "id": "uNDb0TraAsXF",
    "outputId": "9f1e5ab0-993f-4358-ae4a-82b42a62ac71"
   },
   "outputs": [
    {
     "data": {
      "text/plain": [
       "97236"
      ]
     },
     "execution_count": 15,
     "metadata": {
      "tags": []
     },
     "output_type": "execute_result"
    }
   ],
   "source": [
    "len(vectorizer.vocabulary_)"
   ]
  },
  {
   "cell_type": "code",
   "execution_count": 0,
   "metadata": {
    "colab": {},
    "colab_type": "code",
    "collapsed": true,
    "id": "mhez6jm6-v9Y"
   },
   "outputs": [],
   "source": [
    "X_bow = df_train.clean_text.values\n",
    "X_bow_test = df_test.clean_text.values \n",
    "Y_bow = df_train.genre\n",
    "Y_bow_test = df_test.genre\n",
    "le = LabelEncoder()\n",
    "le = le.fit(Y_bow)\n",
    "Y_bow = le.transform(Y_bow)\n",
    "Y_bow_test = le.transform(Y_bow_test)"
   ]
  },
  {
   "cell_type": "code",
   "execution_count": 0,
   "metadata": {
    "colab": {
     "base_uri": "https://localhost:8080/",
     "height": 35
    },
    "colab_type": "code",
    "collapsed": false,
    "id": "_HwRM1zZ_-Ot",
    "outputId": "0c88d931-5743-4d5f-836c-9ef2ff634ab3"
   },
   "outputs": [
    {
     "data": {
      "text/plain": [
       "(131,)"
      ]
     },
     "execution_count": 22,
     "metadata": {
      "tags": []
     },
     "output_type": "execute_result"
    }
   ],
   "source": [
    "X_bow.shape"
   ]
  },
  {
   "cell_type": "code",
   "execution_count": 0,
   "metadata": {
    "colab": {
     "base_uri": "https://localhost:8080/",
     "height": 53
    },
    "colab_type": "code",
    "collapsed": false,
    "id": "eSQEo1rH-NuY",
    "outputId": "18b574a9-99d3-40eb-9111-d4eaf98d1061"
   },
   "outputs": [
    {
     "data": {
      "text/plain": [
       "<131x97236 sparse matrix of type '<class 'numpy.int64'>'\n",
       "\twith 579208 stored elements in Compressed Sparse Row format>"
      ]
     },
     "execution_count": 23,
     "metadata": {
      "tags": []
     },
     "output_type": "execute_result"
    }
   ],
   "source": [
    "X_bow_train = vectorizer.transform(X_bow)\n",
    "X_bow_test  = vectorizer.transform(X_bow_test)\n",
    "X_bow_train"
   ]
  },
  {
   "cell_type": "code",
   "execution_count": 0,
   "metadata": {
    "colab": {
     "base_uri": "https://localhost:8080/",
     "height": 53
    },
    "colab_type": "code",
    "collapsed": false,
    "id": "2hRUGafE-woO",
    "outputId": "48edb4d3-12b7-4b92-e847-949db8881b04"
   },
   "outputs": [
    {
     "name": "stdout",
     "output_type": "stream",
     "text": [
      "[1. 0. 0. 0. 0.]\n",
      "[1. 0. 0. 0. 0.]\n"
     ]
    }
   ],
   "source": [
    "Y_bow_train = to_categorical(Y_bow)\n",
    "Y_bow_test = to_categorical(Y_bow_test)\n",
    "print(Y_bow_train[1])\n",
    "print(Y_bow_test[2])"
   ]
  },
  {
   "cell_type": "code",
   "execution_count": 0,
   "metadata": {
    "colab": {
     "base_uri": "https://localhost:8080/",
     "height": 290
    },
    "colab_type": "code",
    "collapsed": false,
    "id": "y7o38LwBBKpu",
    "outputId": "f7cc1a6e-cca4-45d9-9db0-d607bd713a87"
   },
   "outputs": [
    {
     "name": "stdout",
     "output_type": "stream",
     "text": [
      "_________________________________________________________________\n",
      "Layer (type)                 Output Shape              Param #   \n",
      "=================================================================\n",
      "dense_52 (Dense)             (None, 40)                3889480   \n",
      "_________________________________________________________________\n",
      "dense_53 (Dense)             (None, 30)                1230      \n",
      "_________________________________________________________________\n",
      "dense_54 (Dense)             (None, 10)                310       \n",
      "_________________________________________________________________\n",
      "dense_55 (Dense)             (None, 5)                 55        \n",
      "=================================================================\n",
      "Total params: 3,891,075\n",
      "Trainable params: 3,891,075\n",
      "Non-trainable params: 0\n",
      "_________________________________________________________________\n"
     ]
    }
   ],
   "source": [
    "#Define Dense model\n",
    "\n",
    "from keras.models import Sequential\n",
    "from keras import layers\n",
    "\n",
    "input_dim = X_bow_train.shape[1]  # Number of features\n",
    "\n",
    "model = Sequential()\n",
    "model.add(layers.Dense(40, input_dim=input_dim, activation='relu'))\n",
    "model.add(layers.Dense(30, activation='relu'))\n",
    "model.add(layers.Dense(10, activation='relu'))\n",
    "model.add(layers.Dense(5, activation='softmax'))\n",
    "\n",
    "model.compile(loss='binary_crossentropy', optimizer='adam', metrics=['accuracy'])\n",
    "model.summary()"
   ]
  },
  {
   "cell_type": "code",
   "execution_count": 0,
   "metadata": {
    "colab": {
     "base_uri": "https://localhost:8080/",
     "height": 562
    },
    "colab_type": "code",
    "collapsed": false,
    "id": "QeRy6lcYBmLM",
    "outputId": "249fb58c-e71a-476e-c90b-c0389911f22a"
   },
   "outputs": [
    {
     "name": "stdout",
     "output_type": "stream",
     "text": [
      "Epoch 1/15\n",
      "131/131 [==============================] - 1s 11ms/step - loss: 1.4345 - acc: 0.7496\n",
      "Epoch 2/15\n",
      "131/131 [==============================] - 0s 2ms/step - loss: 0.9340 - acc: 0.7893\n",
      "Epoch 3/15\n",
      "131/131 [==============================] - 0s 2ms/step - loss: 0.5827 - acc: 0.8779\n",
      "Epoch 4/15\n",
      "131/131 [==============================] - 0s 2ms/step - loss: 0.3892 - acc: 0.9084\n",
      "Epoch 5/15\n",
      "131/131 [==============================] - 0s 2ms/step - loss: 0.3789 - acc: 0.9084\n",
      "Epoch 6/15\n",
      "131/131 [==============================] - 0s 2ms/step - loss: 0.3045 - acc: 0.9160\n",
      "Epoch 7/15\n",
      "131/131 [==============================] - 0s 2ms/step - loss: 0.1220 - acc: 0.9450\n",
      "Epoch 8/15\n",
      "131/131 [==============================] - 0s 2ms/step - loss: 0.0810 - acc: 0.9695\n",
      "Epoch 9/15\n",
      "131/131 [==============================] - 0s 2ms/step - loss: 0.0711 - acc: 0.9695\n",
      "Epoch 10/15\n",
      "131/131 [==============================] - 0s 2ms/step - loss: 0.0585 - acc: 0.9710\n",
      "Epoch 11/15\n",
      "131/131 [==============================] - 0s 2ms/step - loss: 0.0450 - acc: 0.9847\n",
      "Epoch 12/15\n",
      "131/131 [==============================] - 0s 2ms/step - loss: 0.0413 - acc: 0.9847\n",
      "Epoch 13/15\n",
      "131/131 [==============================] - 0s 2ms/step - loss: 0.0377 - acc: 0.9878\n",
      "Epoch 14/15\n",
      "131/131 [==============================] - 0s 2ms/step - loss: 0.0348 - acc: 0.9893\n",
      "Epoch 15/15\n",
      "131/131 [==============================] - 0s 2ms/step - loss: 0.0317 - acc: 0.9908\n"
     ]
    }
   ],
   "source": [
    "history = model.fit(X_bow_train, Y_bow_train, epochs=15, verbose=True, batch_size=10)"
   ]
  },
  {
   "cell_type": "code",
   "execution_count": 0,
   "metadata": {
    "colab": {
     "base_uri": "https://localhost:8080/",
     "height": 35
    },
    "colab_type": "code",
    "collapsed": false,
    "id": "gBZYEujvCp0Z",
    "outputId": "013bd092-97e2-410a-9776-682e2093b082"
   },
   "outputs": [
    {
     "name": "stdout",
     "output_type": "stream",
     "text": [
      "Testing Accuracy:  0.9000\n"
     ]
    }
   ],
   "source": [
    "loss, accuracy = model.evaluate(X_bow_test, Y_bow_test, verbose=False)\n",
    "print(\"Testing Accuracy:  {:.4f}\".format(accuracy))"
   ]
  },
  {
   "cell_type": "code",
   "execution_count": 0,
   "metadata": {
    "colab": {},
    "colab_type": "code",
    "collapsed": true,
    "id": "8eEo31J1FawZ"
   },
   "outputs": [],
   "source": [
    "model.save('model_dense90.h5')"
   ]
  },
  {
   "cell_type": "code",
   "execution_count": 0,
   "metadata": {
    "colab": {
     "base_uri": "https://localhost:8080/",
     "height": 126
    },
    "colab_type": "code",
    "collapsed": false,
    "id": "M7TgVoOxDRZu",
    "outputId": "385353f8-821d-46fd-e8fe-0151bccd5a77"
   },
   "outputs": [
    {
     "data": {
      "text/plain": [
       "array(['FANTAST', 'FANTAST', 'DETECT', 'ADVENTUR', 'ADVENTUR', 'ADVENTUR',\n",
       "       'ADVENTUR', 'ADVENTUR', 'DETECT', 'DETECT', 'DETECT', 'DETECT',\n",
       "       'DETECT', 'ADVENTUR', 'FANTAST', 'FANTAST', 'ADVENTUR', 'FANTAST',\n",
       "       'FANTAST', 'FANTAST', 'DETECT', 'ADVENTUR', 'FANTAST', 'FANTAST',\n",
       "       'FANTAST', 'FANTAST', 'JOURNAL', 'FANTAST', 'JOURNAL', 'JOURNAL',\n",
       "       'ADVENTUR', 'TALES', 'TALES', 'FANTAST'], dtype=object)"
      ]
     },
     "execution_count": 73,
     "metadata": {
      "tags": []
     },
     "output_type": "execute_result"
    }
   ],
   "source": [
    "# convert model predictions to genre labels\n",
    "def to_labels(y_list):\n",
    "  Y_labels = [np.argmax(y, axis=None, out=None) for y in y_list]\n",
    "  Y_labels = le.inverse_transform(Y_labels)\n",
    "  return Y_labels\n",
    "\n",
    "Y_predicted = model.predict(X_bow_test)\n",
    "Y_plabels = to_labels(Y_predicted)\n",
    "Y_plabels\n"
   ]
  },
  {
   "cell_type": "code",
   "execution_count": 0,
   "metadata": {
    "colab": {
     "base_uri": "https://localhost:8080/",
     "height": 126
    },
    "colab_type": "code",
    "collapsed": false,
    "id": "NackL3uXFirJ",
    "outputId": "7d3e9024-f65c-4c18-ba3a-bb16845c6b60"
   },
   "outputs": [
    {
     "data": {
      "text/plain": [
       "array(['ADVENTUR', 'ADVENTUR', 'ADVENTUR', 'ADVENTUR', 'ADVENTUR',\n",
       "       'ADVENTUR', 'ADVENTUR', 'ADVENTUR', 'DETECT', 'DETECT', 'DETECT',\n",
       "       'DETECT', 'DETECT', 'FANTAST', 'FANTAST', 'FANTAST', 'FANTAST',\n",
       "       'FANTAST', 'FANTAST', 'FANTAST', 'FANTAST', 'FANTAST', 'FANTAST',\n",
       "       'FANTAST', 'FANTAST', 'FANTAST', 'FANTAST', 'FANTAST', 'JOURNAL',\n",
       "       'JOURNAL', 'TALES', 'TALES', 'TALES', 'TALES'], dtype=object)"
      ]
     },
     "execution_count": 58,
     "metadata": {
      "tags": []
     },
     "output_type": "execute_result"
    }
   ],
   "source": [
    "Y_labels = df_test.genre.values\n",
    "Y_labels"
   ]
  },
  {
   "cell_type": "code",
   "execution_count": 0,
   "metadata": {
    "colab": {
     "base_uri": "https://localhost:8080/",
     "height": 253
    },
    "colab_type": "code",
    "collapsed": false,
    "id": "3QHnGYtzExn4",
    "outputId": "f443fb1c-e0a8-4542-97d9-4f43a725d658"
   },
   "outputs": [
    {
     "name": "stdout",
     "output_type": "stream",
     "text": [
      "Classification Report:\n",
      "              precision    recall  f1-score   support\n",
      "\n",
      "    ADVENTUR       0.56      0.62      0.59         8\n",
      "      DETECT       0.71      1.00      0.83         5\n",
      "     FANTAST       0.77      0.67      0.71        15\n",
      "     JOURNAL       0.67      1.00      0.80         2\n",
      "       TALES       1.00      0.50      0.67         4\n",
      "\n",
      "   micro avg       0.71      0.71      0.71        34\n",
      "   macro avg       0.74      0.76      0.72        34\n",
      "weighted avg       0.73      0.71      0.70        34\n",
      "\n"
     ]
    }
   ],
   "source": [
    "from sklearn.metrics import f1_score\n",
    "from sklearn.metrics import classification_report, confusion_matrix\n",
    "\n",
    "print('Classification Report:')\n",
    "print(classification_report(Y_labels, Y_plabels))"
   ]
  },
  {
   "cell_type": "code",
   "execution_count": 0,
   "metadata": {
    "colab": {
     "base_uri": "https://localhost:8080/",
     "height": 108
    },
    "colab_type": "code",
    "collapsed": false,
    "id": "MCuuGphnFHKq",
    "outputId": "1c081b60-3663-410e-9c68-d4ff6680045d"
   },
   "outputs": [
    {
     "name": "stdout",
     "output_type": "stream",
     "text": [
      "[[ 5  1  2  0  0]\n",
      " [ 0  5  0  0  0]\n",
      " [ 3  1 10  1  0]\n",
      " [ 0  0  0  2  0]\n",
      " [ 1  0  1  0  2]]\n"
     ]
    }
   ],
   "source": [
    "cnf_matrix = confusion_matrix(Y_labels, Y_plabels, labels=genres)\n",
    "print(cnf_matrix)"
   ]
  },
  {
   "cell_type": "code",
   "execution_count": 0,
   "metadata": {
    "colab": {
     "base_uri": "https://localhost:8080/",
     "height": 329
    },
    "colab_type": "code",
    "collapsed": false,
    "id": "l6FUbvfNHh3k",
    "outputId": "c725797e-ccfb-4312-f0e9-0f854de5b69d"
   },
   "outputs": [
    {
     "name": "stdout",
     "output_type": "stream",
     "text": [
      "Confusion matrix, without normalization\n"
     ]
    },
    {
     "data": {
      "image/png": "[encoded data removed]",
      "text/plain": [
       "<Figure size 432x288 with 2 Axes>"
      ]
     },
     "metadata": {
      "tags": []
     },
     "output_type": "display_data"
    }
   ],
   "source": [
    "# Plot non-normalized confusion matrix\n",
    "plt.figure()\n",
    "plot_confusion_matrix(cnf_matrix, classes=genres, normalize=False,  title='Confusion matrix')"
   ]
  },
  {
   "cell_type": "markdown",
   "metadata": {
    "colab_type": "text",
    "id": "g62YPZ9DIlvE"
   },
   "source": [
    "## Using Embeddings with MaxPoling layer"
   ]
  },
  {
   "cell_type": "code",
   "execution_count": 0,
   "metadata": {
    "colab": {
     "base_uri": "https://localhost:8080/",
     "height": 53
    },
    "colab_type": "code",
    "collapsed": false,
    "id": "kIiGCYjTJkUS",
    "outputId": "b540b1f9-68b9-4c2d-c4f4-afeea85ba3e6"
   },
   "outputs": [
    {
     "name": "stdout",
     "output_type": "stream",
     "text": [
      "[1. 0. 0. 0. 0.]\n",
      "[1. 0. 0. 0. 0.]\n"
     ]
    }
   ],
   "source": [
    "X = df_balanced.short_text\n",
    "X_test = df_balanced_test.short_text \n",
    "Y = df_balanced.genre\n",
    "Y_test = df_balanced_test.genre\n",
    "le = LabelEncoder()\n",
    "le = le.fit(Y)\n",
    "Y = le.transform(Y)\n",
    "Y_test = le.transform(Y_test)\n",
    "\n",
    "Y_train = to_categorical(Y)\n",
    "Y_test = to_categorical(Y_test)\n",
    "print(Y_train[1])\n",
    "print(Y_test[2])"
   ]
  },
  {
   "cell_type": "code",
   "execution_count": 0,
   "metadata": {
    "colab": {
     "base_uri": "https://localhost:8080/",
     "height": 35
    },
    "colab_type": "code",
    "collapsed": false,
    "id": "GePURyWiJke-",
    "outputId": "9b80815a-f9cb-4bbe-d54f-e2f413dcd6f4"
   },
   "outputs": [
    {
     "name": "stdout",
     "output_type": "stream",
     "text": [
      "Found 97264 unique tokens\n"
     ]
    }
   ],
   "source": [
    "MAX_WORDS = 90000\n",
    "tok = Tokenizer(num_words=MAX_WORDS)\n",
    "tok.fit_on_texts(all_texts)\n",
    "sequences = tok.texts_to_sequences(X)\n",
    "sequences_test = tok.texts_to_sequences(X_test)\n",
    "word_index = tok.word_index\n",
    "print('Found %s unique tokens' % len(word_index))"
   ]
  },
  {
   "cell_type": "code",
   "execution_count": 0,
   "metadata": {
    "colab": {
     "base_uri": "https://localhost:8080/",
     "height": 162
    },
    "colab_type": "code",
    "collapsed": false,
    "id": "aUWnDtjdJ4GH",
    "outputId": "e8f4521c-993d-4bbf-e1e0-3666b8fc86ec"
   },
   "outputs": [
    {
     "name": "stdout",
     "output_type": "stream",
     "text": [
      "[[ 4174  4147 25242 ...   182     1   929]\n",
      " [ 1575    28   170 ...   205     4    28]\n",
      " [ 8890   146  1034 ...   480   300  3829]\n",
      " ...\n",
      " [    0    49    85 ...   701   328  2803]\n",
      " [    0     0    23 ...  1585   470 15397]\n",
      " [   85   778    38 ...  3320 20822  3028]]\n",
      "Shape of data tensor: (1925, 1000)\n"
     ]
    }
   ],
   "source": [
    "MAX_SEQUENCE_LENGTH = 1000\n",
    "sequences_matrix = pad_sequences(sequences, maxlen=MAX_SEQUENCE_LENGTH)\n",
    "print(sequences_matrix)\n",
    "print('Shape of data tensor:', sequences_matrix.shape)"
   ]
  },
  {
   "cell_type": "code",
   "execution_count": 0,
   "metadata": {
    "colab": {
     "base_uri": "https://localhost:8080/",
     "height": 162
    },
    "colab_type": "code",
    "collapsed": false,
    "id": "OuaN5J-cJ8ku",
    "outputId": "b7b6686b-d483-448c-e712-a1868f17595f"
   },
   "outputs": [
    {
     "name": "stdout",
     "output_type": "stream",
     "text": [
      "[[    0     0     0 ...    21   131     5]\n",
      " [    0    17   269 ...  1325   246    35]\n",
      " [10371 10329  3199 ...   293   921    11]\n",
      " ...\n",
      " [   42    48   484 ...    68   743  3321]\n",
      " [ 3996   183  1275 ... 13864  1189  2954]\n",
      " [    0   257   455 ...   768   537   407]]\n",
      "Shape of data tensor: (443, 1000)\n"
     ]
    }
   ],
   "source": [
    "sequences_matrix_test = pad_sequences(sequences_test, maxlen=MAX_SEQUENCE_LENGTH)\n",
    "print(sequences_matrix_test)\n",
    "print('Shape of data tensor:', sequences_matrix_test.shape)"
   ]
  },
  {
   "cell_type": "code",
   "execution_count": 0,
   "metadata": {
    "colab": {
     "base_uri": "https://localhost:8080/",
     "height": 35
    },
    "colab_type": "code",
    "collapsed": false,
    "id": "VBagefQtJ8dg",
    "outputId": "fcc1af8a-1afd-4ca0-b5c4-12b504af860f"
   },
   "outputs": [
    {
     "name": "stdout",
     "output_type": "stream",
     "text": [
      "90001\n"
     ]
    }
   ],
   "source": [
    "nb_words = min(MAX_WORDS, len(word_index))+1\n",
    "print(nb_words)"
   ]
  },
  {
   "cell_type": "code",
   "execution_count": 0,
   "metadata": {
    "colab": {},
    "colab_type": "code",
    "collapsed": true,
    "id": "P9dqnngYKHbU"
   },
   "outputs": [],
   "source": [
    "EMBEDDING_DIM = 200"
   ]
  },
  {
   "cell_type": "code",
   "execution_count": 0,
   "metadata": {
    "colab": {
     "base_uri": "https://localhost:8080/",
     "height": 399
    },
    "colab_type": "code",
    "collapsed": false,
    "id": "XBkso_8uJORT",
    "outputId": "9a08379d-9a74-4ba3-da1f-f76b45d1fa34"
   },
   "outputs": [
    {
     "name": "stdout",
     "output_type": "stream",
     "text": [
      "_________________________________________________________________\n",
      "Layer (type)                 Output Shape              Param #   \n",
      "=================================================================\n",
      "embedding_37 (Embedding)     (None, 1000, 200)         18000200  \n",
      "_________________________________________________________________\n",
      "global_max_pooling1d_30 (Glo (None, 200)               0         \n",
      "_________________________________________________________________\n",
      "dense_157 (Dense)            (None, 40)                8040      \n",
      "_________________________________________________________________\n",
      "dropout_54 (Dropout)         (None, 40)                0         \n",
      "_________________________________________________________________\n",
      "dense_158 (Dense)            (None, 30)                1230      \n",
      "_________________________________________________________________\n",
      "dropout_55 (Dropout)         (None, 30)                0         \n",
      "_________________________________________________________________\n",
      "dense_159 (Dense)            (None, 5)                 155       \n",
      "=================================================================\n",
      "Total params: 18,009,625\n",
      "Trainable params: 18,009,625\n",
      "Non-trainable params: 0\n",
      "_________________________________________________________________\n"
     ]
    }
   ],
   "source": [
    "from keras.models import Sequential\n",
    "from keras import layers\n",
    "\n",
    "\n",
    "model = Sequential()\n",
    "model.add(layers.Embedding(input_dim=nb_words, \n",
    "                           output_dim=EMBEDDING_DIM, \n",
    "                           input_length=MAX_SEQUENCE_LENGTH))\n",
    "model.add(layers.GlobalMaxPool1D())\n",
    "model.add(layers.Dense(40, activation='relu'))\n",
    "model.add(layers.Dropout(0.7))\n",
    "model.add(layers.Dense(30, activation='relu'))\n",
    "model.add(layers.Dropout(0.7))\n",
    "model.add(layers.Dense(5, activation='softmax'))\n",
    "model.compile(optimizer='adam',\n",
    "              loss='binary_crossentropy',\n",
    "              metrics=['accuracy'])\n",
    "model.summary()"
   ]
  },
  {
   "cell_type": "code",
   "execution_count": 0,
   "metadata": {
    "colab": {
     "base_uri": "https://localhost:8080/",
     "height": 580
    },
    "colab_type": "code",
    "collapsed": false,
    "id": "IIHYJjRnKmwY",
    "outputId": "7b8800cf-2f9b-4caf-f96c-874bbca8c72c"
   },
   "outputs": [
    {
     "name": "stdout",
     "output_type": "stream",
     "text": [
      "Train on 1540 samples, validate on 385 samples\n",
      "Epoch 1/15\n",
      "1540/1540 [==============================] - 6s 4ms/step - loss: 0.4948 - acc: 0.8000 - val_loss: 0.5529 - val_acc: 0.8000\n",
      "Epoch 2/15\n",
      "1540/1540 [==============================] - 1s 664us/step - loss: 0.4837 - acc: 0.8000 - val_loss: 0.6201 - val_acc: 0.8000\n",
      "Epoch 3/15\n",
      "1540/1540 [==============================] - 1s 663us/step - loss: 0.4757 - acc: 0.8004 - val_loss: 0.6624 - val_acc: 0.8000\n",
      "Epoch 4/15\n",
      "1540/1540 [==============================] - 1s 661us/step - loss: 0.4726 - acc: 0.8000 - val_loss: 0.6818 - val_acc: 0.8000\n",
      "Epoch 5/15\n",
      "1540/1540 [==============================] - 1s 661us/step - loss: 0.4651 - acc: 0.8003 - val_loss: 0.7189 - val_acc: 0.8000\n",
      "Epoch 6/15\n",
      "1540/1540 [==============================] - 1s 655us/step - loss: 0.4596 - acc: 0.8005 - val_loss: 0.7293 - val_acc: 0.8000\n",
      "Epoch 7/15\n",
      "1540/1540 [==============================] - 1s 658us/step - loss: 0.4462 - acc: 0.8005 - val_loss: 0.7980 - val_acc: 0.8000\n",
      "Epoch 8/15\n",
      "1540/1540 [==============================] - 1s 652us/step - loss: 0.4308 - acc: 0.8058 - val_loss: 0.8148 - val_acc: 0.8000\n",
      "Epoch 9/15\n",
      "1540/1540 [==============================] - 1s 661us/step - loss: 0.4084 - acc: 0.8130 - val_loss: 0.8686 - val_acc: 0.8000\n",
      "Epoch 10/15\n",
      "1540/1540 [==============================] - 1s 664us/step - loss: 0.3869 - acc: 0.8218 - val_loss: 0.8892 - val_acc: 0.8042\n",
      "Epoch 11/15\n",
      "1540/1540 [==============================] - 1s 658us/step - loss: 0.3484 - acc: 0.8422 - val_loss: 0.9324 - val_acc: 0.8099\n",
      "Epoch 12/15\n",
      "1540/1540 [==============================] - 1s 655us/step - loss: 0.3283 - acc: 0.8499 - val_loss: 0.9208 - val_acc: 0.8145\n",
      "Epoch 13/15\n",
      "1540/1540 [==============================] - 1s 656us/step - loss: 0.3008 - acc: 0.8657 - val_loss: 0.9312 - val_acc: 0.8229\n",
      "Epoch 14/15\n",
      "1540/1540 [==============================] - 1s 647us/step - loss: 0.2771 - acc: 0.8771 - val_loss: 0.9676 - val_acc: 0.8203\n",
      "Epoch 15/15\n",
      "1540/1540 [==============================] - 1s 661us/step - loss: 0.2514 - acc: 0.8878 - val_loss: 1.0187 - val_acc: 0.7844\n"
     ]
    }
   ],
   "source": [
    "hist = model.fit([sequences_matrix], Y_train, batch_size=50, epochs=15, validation_split=0.2)"
   ]
  },
  {
   "cell_type": "code",
   "execution_count": 0,
   "metadata": {
    "colab": {
     "base_uri": "https://localhost:8080/",
     "height": 35
    },
    "colab_type": "code",
    "collapsed": false,
    "id": "Bxfcyq-0MFBy",
    "outputId": "17763490-085b-4bb4-f76a-6b7090e80e07"
   },
   "outputs": [
    {
     "name": "stdout",
     "output_type": "stream",
     "text": [
      "Testing Accuracy:  0.8605\n"
     ]
    }
   ],
   "source": [
    "loss, accuracy = model.evaluate(sequences_matrix_test, Y_test, verbose=False)\n",
    "print(\"Testing Accuracy:  {:.4f}\".format(accuracy))"
   ]
  },
  {
   "cell_type": "code",
   "execution_count": 0,
   "metadata": {
    "colab": {
     "base_uri": "https://localhost:8080/",
     "height": 399
    },
    "colab_type": "code",
    "collapsed": false,
    "id": "zj69kVHPQqdH",
    "outputId": "56aeb018-95e1-41ea-adb5-1ffaa840c746"
   },
   "outputs": [
    {
     "data": {
      "text/plain": [
       "array(['JOURNAL', 'FANTAST', 'FANTAST', 'ADVENTUR', 'ADVENTUR',\n",
       "       'ADVENTUR', 'ADVENTUR', 'ADVENTUR', 'ADVENTUR', 'ADVENTUR',\n",
       "       'ADVENTUR', 'ADVENTUR', 'ADVENTUR', 'ADVENTUR', 'ADVENTUR',\n",
       "       'ADVENTUR', 'ADVENTUR', 'ADVENTUR', 'FANTAST', 'ADVENTUR',\n",
       "       'ADVENTUR', 'ADVENTUR', 'ADVENTUR', 'ADVENTUR', 'FANTAST',\n",
       "       'ADVENTUR', 'ADVENTUR', 'ADVENTUR', 'ADVENTUR', 'FANTAST',\n",
       "       'FANTAST', 'ADVENTUR', 'ADVENTUR', 'FANTAST', 'ADVENTUR',\n",
       "       'ADVENTUR', 'ADVENTUR', 'ADVENTUR', 'ADVENTUR', 'ADVENTUR',\n",
       "       'ADVENTUR', 'FANTAST', 'ADVENTUR', 'ADVENTUR', 'ADVENTUR',\n",
       "       'ADVENTUR', 'ADVENTUR', 'ADVENTUR', 'ADVENTUR', 'ADVENTUR',\n",
       "       'ADVENTUR', 'ADVENTUR', 'DETECT', 'ADVENTUR', 'ADVENTUR',\n",
       "       'ADVENTUR', 'ADVENTUR', 'ADVENTUR', 'ADVENTUR', 'ADVENTUR',\n",
       "       'ADVENTUR', 'ADVENTUR', 'ADVENTUR', 'ADVENTUR', 'ADVENTUR',\n",
       "       'ADVENTUR', 'ADVENTUR', 'FANTAST', 'ADVENTUR', 'ADVENTUR',\n",
       "       'ADVENTUR', 'ADVENTUR', 'ADVENTUR', 'ADVENTUR', 'ADVENTUR',\n",
       "       'ADVENTUR', 'FANTAST', 'ADVENTUR', 'ADVENTUR', 'DETECT',\n",
       "       'ADVENTUR', 'ADVENTUR', 'FANTAST', 'ADVENTUR', 'ADVENTUR',\n",
       "       'ADVENTUR', 'ADVENTUR', 'ADVENTUR', 'FANTAST', 'ADVENTUR',\n",
       "       'ADVENTUR', 'ADVENTUR', 'ADVENTUR', 'ADVENTUR', 'ADVENTUR',\n",
       "       'ADVENTUR', 'ADVENTUR', 'ADVENTUR', 'ADVENTUR', 'ADVENTUR'],\n",
       "      dtype=object)"
      ]
     },
     "execution_count": 177,
     "metadata": {
      "tags": []
     },
     "output_type": "execute_result"
    }
   ],
   "source": [
    "# convert model predictions to genre labels\n",
    "def to_labels(y_list):\n",
    "  Y_labels = [np.argmax(y, axis=None, out=None) for y in y_list]\n",
    "  Y_labels = le.inverse_transform(Y_labels)\n",
    "  return Y_labels\n",
    "\n",
    "Y_predicted = model.predict(sequences_matrix_test)\n",
    "Y_plabels = to_labels(Y_predicted)\n",
    "Y_plabels[0:100]"
   ]
  },
  {
   "cell_type": "code",
   "execution_count": 0,
   "metadata": {
    "colab": {},
    "colab_type": "code",
    "collapsed": true,
    "id": "es-qdWj2RLCu"
   },
   "outputs": [],
   "source": [
    "Y_labels = df_balanced_test.genre.values"
   ]
  },
  {
   "cell_type": "code",
   "execution_count": 0,
   "metadata": {
    "colab": {
     "base_uri": "https://localhost:8080/",
     "height": 310
    },
    "colab_type": "code",
    "collapsed": false,
    "id": "FPNZdkjQQ0P3",
    "outputId": "0d0341f6-f17a-4a3e-a723-78433ac34201"
   },
   "outputs": [
    {
     "name": "stdout",
     "output_type": "stream",
     "text": [
      "Classification Report:\n",
      "              precision    recall  f1-score   support\n",
      "\n",
      "    ADVENTUR       0.38      0.85      0.53       100\n",
      "      DETECT       0.88      0.84      0.86       100\n",
      "     FANTAST       0.72      0.63      0.67       100\n",
      "     JOURNAL       0.82      0.77      0.80        43\n",
      "       TALES       0.00      0.00      0.00       100\n",
      "\n",
      "   micro avg       0.60      0.60      0.60       443\n",
      "   macro avg       0.56      0.62      0.57       443\n",
      "weighted avg       0.53      0.60      0.54       443\n",
      "\n"
     ]
    },
    {
     "name": "stderr",
     "output_type": "stream",
     "text": [
      "/usr/local/lib/python3.6/dist-packages/sklearn/metrics/classification.py:1143: UndefinedMetricWarning: Precision and F-score are ill-defined and being set to 0.0 in labels with no predicted samples.\n",
      "  'precision', 'predicted', average, warn_for)\n"
     ]
    }
   ],
   "source": [
    "from sklearn.metrics import f1_score\n",
    "from sklearn.metrics import classification_report, confusion_matrix\n",
    "\n",
    "print('Classification Report:')\n",
    "print(classification_report(Y_labels, Y_plabels))"
   ]
  },
  {
   "cell_type": "markdown",
   "metadata": {
    "colab_type": "text",
    "id": "QPEvHVfrV4nD"
   },
   "source": [
    "## Using model with CNN layer"
   ]
  },
  {
   "cell_type": "code",
   "execution_count": 0,
   "metadata": {
    "colab": {},
    "colab_type": "code",
    "collapsed": true,
    "id": "qul61VRlWJ-6"
   },
   "outputs": [],
   "source": [
    "from keras.models import Sequential\n",
    "from keras import layers"
   ]
  },
  {
   "cell_type": "code",
   "execution_count": 0,
   "metadata": {
    "colab": {},
    "colab_type": "code",
    "collapsed": true,
    "id": "UNgr3eCeWJHK"
   },
   "outputs": [],
   "source": [
    "EMBEDDING_DIM = 200"
   ]
  },
  {
   "cell_type": "code",
   "execution_count": 0,
   "metadata": {
    "colab": {
     "base_uri": "https://localhost:8080/",
     "height": 471
    },
    "colab_type": "code",
    "collapsed": false,
    "id": "PNC_JAJkV3Xj",
    "outputId": "8dbd675a-0e38-4367-f3f1-6bb54a3880a3"
   },
   "outputs": [
    {
     "name": "stdout",
     "output_type": "stream",
     "text": [
      "_________________________________________________________________\n",
      "Layer (type)                 Output Shape              Param #   \n",
      "=================================================================\n",
      "embedding_12 (Embedding)     (None, 1000, 200)         18000200  \n",
      "_________________________________________________________________\n",
      "conv1d_12 (Conv1D)           (None, 996, 128)          128128    \n",
      "_________________________________________________________________\n",
      "global_max_pooling1d_12 (Glo (None, 128)               0         \n",
      "_________________________________________________________________\n",
      "dropout_19 (Dropout)         (None, 128)               0         \n",
      "_________________________________________________________________\n",
      "dense_25 (Dense)             (None, 64)                8256      \n",
      "_________________________________________________________________\n",
      "dropout_20 (Dropout)         (None, 64)                0         \n",
      "_________________________________________________________________\n",
      "dense_26 (Dense)             (None, 64)                4160      \n",
      "_________________________________________________________________\n",
      "dropout_21 (Dropout)         (None, 64)                0         \n",
      "_________________________________________________________________\n",
      "dense_27 (Dense)             (None, 5)                 325       \n",
      "=================================================================\n",
      "Total params: 18,141,069\n",
      "Trainable params: 18,141,069\n",
      "Non-trainable params: 0\n",
      "_________________________________________________________________\n"
     ]
    }
   ],
   "source": [
    "model = Sequential()\n",
    "model.add(layers.Embedding(nb_words, EMBEDDING_DIM, input_length=MAX_SEQUENCE_LENGTH))\n",
    "model.add(layers.Conv1D(128, 5, activation='relu'))\n",
    "model.add(layers.GlobalMaxPooling1D())\n",
    "model.add(layers.Dropout(0.5))\n",
    "model.add(layers.Dense(64, activation='relu'))\n",
    "model.add(layers.Dropout(0.5))\n",
    "model.add(layers.Dense(64, activation='relu'))\n",
    "model.add(layers.Dropout(0.5))\n",
    "model.add(layers.Dense(5, activation='softmax'))\n",
    "model.compile(optimizer='adam',\n",
    "              loss='binary_crossentropy',\n",
    "              metrics=['accuracy'])\n",
    "model.summary()"
   ]
  },
  {
   "cell_type": "code",
   "execution_count": 0,
   "metadata": {
    "colab": {
     "base_uri": "https://localhost:8080/",
     "height": 326
    },
    "colab_type": "code",
    "collapsed": false,
    "id": "8xPJN_anWczJ",
    "outputId": "8ea52e18-9223-43ac-f49d-a7849c696c0a"
   },
   "outputs": [
    {
     "name": "stdout",
     "output_type": "stream",
     "text": [
      "Train on 1540 samples, validate on 385 samples\n",
      "Epoch 1/8\n",
      "1540/1540 [==============================] - 7s 4ms/step - loss: 0.4788 - acc: 0.7988 - val_loss: 0.8293 - val_acc: 0.8000\n",
      "Epoch 2/8\n",
      "1540/1540 [==============================] - 5s 3ms/step - loss: 0.4266 - acc: 0.8110 - val_loss: 1.1261 - val_acc: 0.8031\n",
      "Epoch 3/8\n",
      "1540/1540 [==============================] - 5s 3ms/step - loss: 0.2853 - acc: 0.8696 - val_loss: 1.2673 - val_acc: 0.7881\n",
      "Epoch 4/8\n",
      "1540/1540 [==============================] - 5s 3ms/step - loss: 0.1906 - acc: 0.9149 - val_loss: 1.2371 - val_acc: 0.7512\n",
      "Epoch 5/8\n",
      "1540/1540 [==============================] - 5s 3ms/step - loss: 0.1010 - acc: 0.9630 - val_loss: 1.4671 - val_acc: 0.6753\n",
      "Epoch 6/8\n",
      "1540/1540 [==============================] - 5s 3ms/step - loss: 0.0575 - acc: 0.9817 - val_loss: 1.5573 - val_acc: 0.6956\n",
      "Epoch 7/8\n",
      "1540/1540 [==============================] - 5s 3ms/step - loss: 0.0409 - acc: 0.9870 - val_loss: 1.7599 - val_acc: 0.6758\n",
      "Epoch 8/8\n",
      "1540/1540 [==============================] - 5s 3ms/step - loss: 0.0283 - acc: 0.9905 - val_loss: 2.0139 - val_acc: 0.6706\n"
     ]
    }
   ],
   "source": [
    "hist = model.fit([sequences_matrix], Y_train, batch_size=10, epochs=8, validation_split=0.2)"
   ]
  },
  {
   "cell_type": "code",
   "execution_count": 0,
   "metadata": {
    "colab": {
     "base_uri": "https://localhost:8080/",
     "height": 35
    },
    "colab_type": "code",
    "collapsed": false,
    "id": "IOl59N9gW1_R",
    "outputId": "27971277-09d6-4934-a6d0-58242db2db05"
   },
   "outputs": [
    {
     "name": "stdout",
     "output_type": "stream",
     "text": [
      "Testing Accuracy:  0.8131\n"
     ]
    }
   ],
   "source": [
    "loss, accuracy = model.evaluate(sequences_matrix_test, Y_test, verbose=False)\n",
    "print(\"Testing Accuracy:  {:.4f}\".format(accuracy))"
   ]
  },
  {
   "cell_type": "code",
   "execution_count": 0,
   "metadata": {
    "colab": {},
    "colab_type": "code",
    "collapsed": true,
    "id": "8ngDoVs2cdc1"
   },
   "outputs": [],
   "source": [
    "# convert model predictions to genre labels\n",
    "def to_labels(y_list):\n",
    "  Y_labels = [np.argmax(y, axis=None, out=None) for y in y_list]\n",
    "  Y_labels = le.inverse_transform(Y_labels)\n",
    "  return Y_labels\n",
    "\n",
    "Y_predicted = model.predict(sequences_matrix_test)\n",
    "Y_plabels = to_labels(Y_predicted)\n",
    "Y_labels = df_balanced_test.genre.values"
   ]
  },
  {
   "cell_type": "code",
   "execution_count": 0,
   "metadata": {
    "colab": {
     "base_uri": "https://localhost:8080/",
     "height": 310
    },
    "colab_type": "code",
    "collapsed": false,
    "id": "ZO4Aphveckh3",
    "outputId": "84ca8b23-7107-475d-d1f2-687e444d8e76"
   },
   "outputs": [
    {
     "name": "stdout",
     "output_type": "stream",
     "text": [
      "Classification Report:\n",
      "              precision    recall  f1-score   support\n",
      "\n",
      "    ADVENTUR       0.37      0.75      0.49       100\n",
      "      DETECT       0.65      0.75      0.69       100\n",
      "     FANTAST       0.54      0.49      0.51       100\n",
      "     JOURNAL       0.91      0.67      0.77        43\n",
      "       TALES       0.00      0.00      0.00       100\n",
      "\n",
      "   micro avg       0.51      0.51      0.51       443\n",
      "   macro avg       0.49      0.53      0.49       443\n",
      "weighted avg       0.44      0.51      0.46       443\n",
      "\n"
     ]
    },
    {
     "name": "stderr",
     "output_type": "stream",
     "text": [
      "/usr/local/lib/python3.6/dist-packages/sklearn/metrics/classification.py:1143: UndefinedMetricWarning: Precision and F-score are ill-defined and being set to 0.0 in labels with no predicted samples.\n",
      "  'precision', 'predicted', average, warn_for)\n"
     ]
    }
   ],
   "source": [
    "from sklearn.metrics import classification_report, confusion_matrix\n",
    "\n",
    "print('Classification Report:')\n",
    "print(classification_report(Y_labels, Y_plabels))"
   ]
  },
  {
   "cell_type": "markdown",
   "metadata": {
    "colab_type": "text",
    "id": "GMOx-DNwICJP"
   },
   "source": [
    "## Conclusion\n",
    "\n",
    "In the case of genre prediction - simple Bag of Words Model and neural network with Dense layers works better and learns simplier than LSTM network with several word embeddings"
   ]
  },
  {
   "cell_type": "code",
   "execution_count": 0,
   "metadata": {
    "colab": {},
    "colab_type": "code",
    "collapsed": true,
    "id": "jNNAsHesIfJT"
   },
   "outputs": [],
   "source": []
  }
 ],
 "metadata": {
  "accelerator": "GPU",
  "colab": {
   "collapsed_sections": [],
   "name": "homework7(LSTM).ipynb",
   "provenance": [],
   "version": "0.3.2"
  },
  "kernelspec": {
   "display_name": "Python 3",
   "language": "python",
   "name": "python3"
  },
  "language_info": {
   "codemirror_mode": {
    "name": "ipython",
    "version": 3
   },
   "file_extension": ".py",
   "mimetype": "text/x-python",
   "name": "python",
   "nbconvert_exporter": "python",
   "pygments_lexer": "ipython3",
   "version": "3.6.5"
  }
 },
 "nbformat": 4,
 "nbformat_minor": 0
}
